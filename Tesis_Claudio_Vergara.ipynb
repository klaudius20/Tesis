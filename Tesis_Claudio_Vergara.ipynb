{
  "nbformat": 4,
  "nbformat_minor": 0,
  "metadata": {
    "colab": {
      "provenance": [],
      "collapsed_sections": [
        "vsCnSvJuz3HA",
        "3XdIn0L--AjO",
        "2ksvVe9Eyhkj",
        "P8TvuCzQ1vIj",
        "DDJqBRAqQ41H",
        "cVNjw_jPA-dc",
        "5_iGP2USBDIv",
        "q92PdC0FBHG6",
        "od_2DrnhBP1z",
        "ig7UHi2VBU5i",
        "Z0x6ABy_RdG_",
        "WIllxIe6DyDh",
        "7bkgDmCxD1TL",
        "6s3MPaZgD5kC",
        "4jm4_j0vD-G5",
        "vyIKutNEEFNC",
        "CmwKu8k9UdQY",
        "j04sMXP2Ra7b",
        "m4olU5LBSQKE",
        "XOtgVyK7SdX0",
        "VBNc_X3Z0I1y",
        "MY6AENZm1FF8",
        "SxDeQAHW2Sp9",
        "nyg15i3_2aoD"
      ],
      "include_colab_link": true
    },
    "kernelspec": {
      "name": "ir",
      "display_name": "R"
    },
    "language_info": {
      "name": "R"
    },
    "accelerator": "GPU",
    "gpuClass": "standard"
  },
  "cells": [
    {
      "cell_type": "markdown",
      "metadata": {
        "id": "view-in-github",
        "colab_type": "text"
      },
      "source": [
        "<a href=\"https://colab.research.google.com/github/klaudius20/Tesis/blob/main/Tesis_Claudio_Vergara.ipynb\" target=\"_parent\"><img src=\"https://colab.research.google.com/assets/colab-badge.svg\" alt=\"Open In Colab\"/></a>"
      ]
    },
    {
      "cell_type": "markdown",
      "source": [
        "# Librerias requeridas"
      ],
      "metadata": {
        "id": "3OYCNWJbtBvI"
      }
    },
    {
      "cell_type": "code",
      "source": [
        "#install.packages(\"leaflet\")\n",
        "#install.packages(\"plotly\")\n",
        "\n",
        "#library(leaflet)\n",
        "#library(plotly)"
      ],
      "metadata": {
        "id": "NigOdbsGtI5h"
      },
      "execution_count": null,
      "outputs": []
    },
    {
      "cell_type": "markdown",
      "source": [
        "<a id='Indice'></a>\n",
        "## Indice\n",
        "[Inicio ▲](#Indice)\n",
        "\n",
        "1. [Carga de datos](#Carga-de-datos)\n",
        "1. [Almacenamiento de inventarios](#Almacenamiento-de-inventarios)\n",
        "1. [Generación de fechas](#Generación-de-fechas)\n",
        "1. [Combinación de fechas](#Combinación-de-fechas)\n",
        "1. [Carga mensual completa](#Carga-mensual-completa)\n",
        "1. [Algoritmo Grid](#Algoritmo-Grid)\n",
        "1. [Predicciónes con los modelos](#Predicciónes-con-los-modelos)"
      ],
      "metadata": {
        "id": "55HC7DB_zTpY"
      }
    },
    {
      "cell_type": "markdown",
      "source": [
        "<a id='Carga-datos-semana-1'></a>\n",
        "### Carga de datos\n",
        "\n",
        "[Inicio ▲](#Indice)"
      ],
      "metadata": {
        "id": "vsCnSvJuz3HA"
      }
    },
    {
      "cell_type": "markdown",
      "source": [
        "Carga de datos semana 1"
      ],
      "metadata": {
        "id": "dY_CMUHt7FLE"
      }
    },
    {
      "cell_type": "code",
      "source": [
        "load(\"Datos/Lunes/Datos_lunes_01_08_2022_08_hrs.RData\")\n",
        "datos1<-data.frame(datos)\n",
        "load(\"Datos/Lunes/Datos_lunes_01_08_2022_13_hrs.RData\")\n",
        "datos2<-data.frame(datos)\n",
        "load(\"Datos/Lunes/Datos_lunes_01_08_2022_20_hrs.RData\")\n",
        "datos3<-data.frame(datos)\n",
        "load(\"Datos/Martes/Datos_martes_02_08_2022_08_hrs.RData\")\n",
        "datos4<-data.frame(datos)\n",
        "load(\"Datos/Martes/Datos_martes_02_08_2022_13_hrs.RData\")\n",
        "datos5<-data.frame(datos)\n",
        "load(\"Datos/Martes/Datos_martes_02_08_2022_20_hrs.RData\")\n",
        "datos6<-data.frame(datos)\n",
        "load(\"Datos/Miercoles/Datos_miercoles_03_02_2022_08_hrs.RData\")\n",
        "datos7<-data.frame(datos)\n",
        "load(\"Datos/Miercoles/Datos_miercoles_03_02_2022_13_hrs.RData\")\n",
        "datos8<-data.frame(datos)\n",
        "load(\"Datos/Miercoles/Datos_miercoles_03_02_2022_20_hrs.RData\")\n",
        "datos9<-data.frame(datos)\n",
        "load(\"Datos/Jueves/Datos_jueves_04_08_2022_08_hrs.RData\")\n",
        "datos10<-data.frame(datos)\n",
        "load(\"Datos/Jueves/Datos_jueves_04_08_2022_13_hrs.RData\")\n",
        "datos11<-data.frame(datos)\n",
        "load(\"Datos/Jueves/Datos_jueves_04_08_2022_20_hrs.RData\")\n",
        "datos12<-data.frame(datos)\n",
        "load(\"Datos/Viernes/Datos_viernes_05_08_2022_08_hrs.RData\")\n",
        "datos13<-data.frame(datos)\n",
        "load(\"Datos/Viernes/Datos_viernes_05_08_2022_13_hrs.RData\")\n",
        "datos14<-data.frame(datos)\n",
        "load(\"Datos/Viernes/Datos_viernes_05_08_2022_20_hrs.RData\")\n",
        "datos15<-data.frame(datos)"
      ],
      "metadata": {
        "id": "dEKPgYKL0Qnr",
        "colab": {
          "base_uri": "https://localhost:8080/"
        },
        "outputId": "c181d4fa-7d06-4dc6-9fe6-c8009fb67f4e"
      },
      "execution_count": null,
      "outputs": [
        {
          "output_type": "stream",
          "name": "stderr",
          "text": [
            "Warning message:\n",
            "“namespace ‘leaflet’ is not available and has been replaced\n",
            "by .GlobalEnv when processing object ‘m’”\n",
            "Warning message:\n",
            "“namespace ‘leaflet’ is not available and has been replaced\n",
            "by .GlobalEnv when processing object ‘m’”\n",
            "Warning message:\n",
            "“namespace ‘leaflet’ is not available and has been replaced\n",
            "by .GlobalEnv when processing object ‘m’”\n",
            "Warning message:\n",
            "“namespace ‘leaflet’ is not available and has been replaced\n",
            "by .GlobalEnv when processing object ‘m’”\n",
            "Warning message:\n",
            "“namespace ‘leaflet’ is not available and has been replaced\n",
            "by .GlobalEnv when processing object ‘m’”\n",
            "Warning message:\n",
            "“namespace ‘leaflet’ is not available and has been replaced\n",
            "by .GlobalEnv when processing object ‘m’”\n",
            "Warning message:\n",
            "“namespace ‘leaflet’ is not available and has been replaced\n",
            "by .GlobalEnv when processing object ‘m’”\n",
            "Warning message:\n",
            "“namespace ‘leaflet’ is not available and has been replaced\n",
            "by .GlobalEnv when processing object ‘m’”\n",
            "Warning message:\n",
            "“namespace ‘leaflet’ is not available and has been replaced\n",
            "by .GlobalEnv when processing object ‘m’”\n",
            "Warning message:\n",
            "“namespace ‘leaflet’ is not available and has been replaced\n",
            "by .GlobalEnv when processing object ‘m’”\n",
            "Warning message:\n",
            "“namespace ‘leaflet’ is not available and has been replaced\n",
            "by .GlobalEnv when processing object ‘m’”\n",
            "Warning message:\n",
            "“namespace ‘leaflet’ is not available and has been replaced\n",
            "by .GlobalEnv when processing object ‘m’”\n",
            "Warning message:\n",
            "“namespace ‘leaflet’ is not available and has been replaced\n",
            "by .GlobalEnv when processing object ‘m’”\n",
            "Warning message:\n",
            "“namespace ‘leaflet’ is not available and has been replaced\n",
            "by .GlobalEnv when processing object ‘m’”\n",
            "Warning message:\n",
            "“namespace ‘leaflet’ is not available and has been replaced\n",
            "by .GlobalEnv when processing object ‘m’”\n"
          ]
        }
      ]
    },
    {
      "cell_type": "markdown",
      "source": [
        "Carga de datos semana 2"
      ],
      "metadata": {
        "id": "1OtG0tmlxNLb"
      }
    },
    {
      "cell_type": "code",
      "source": [
        "load(\"Datos/Lunes/Datos_lunes_08_08_2022_08_hrs.RData\")\n",
        "datos16<-data.frame(datos)\n",
        "load(\"Datos/Lunes/Datos_lunes_08_08_2022_13_hrs.RData\")\n",
        "datos17<-data.frame(datos)\n",
        "load(\"Datos/Lunes/Datos_lunes_08_08_2022_20_hrs.RData\")\n",
        "datos18<-data.frame(datos)\n",
        "load(\"Datos/Martes/Datos_martes_09_08_2022_08_hrs.RData\")\n",
        "datos19<-data.frame(datos)\n",
        "load(\"Datos/Martes/Datos_martes_09_08_2022_13_hrs.RData\")\n",
        "datos20<-data.frame(datos)\n",
        "load(\"Datos/Martes/Datos_martes_09_08_2022_20_hrs.RData\")\n",
        "datos21<-data.frame(datos)\n",
        "load(\"Datos/Miercoles/Datos_miercoles_10_02_2022_08_hrs.RData\")\n",
        "datos22<-data.frame(datos)\n",
        "load(\"Datos/Miercoles/Datos_miercoles_10_02_2022_13_hrs.RData\")\n",
        "datos23<-data.frame(datos)\n",
        "load(\"Datos/Miercoles/Datos_miercoles_10_02_2022_20_hrs.RData\")\n",
        "datos24<-data.frame(datos)\n",
        "load(\"Datos/Jueves/Datos_jueves_11_08_2022_08_hrs.RData\")\n",
        "datos25<-data.frame(datos)\n",
        "load(\"Datos/Jueves/Datos_jueves_11_08_2022_13_hrs.RData\")\n",
        "datos26<-data.frame(datos)\n",
        "load(\"Datos/Jueves/Datos_jueves_11_08_2022_20_hrs.RData\")\n",
        "datos27<-data.frame(datos)\n",
        "load(\"Datos/Viernes/Datos_viernes_12_08_2022_08_hrs.RData\")\n",
        "datos28<-data.frame(datos)\n",
        "load(\"Datos/Viernes/Datos_viernes_12_08_2022_13_hrs.RData\")\n",
        "datos29<-data.frame(datos)\n",
        "load(\"Datos/Viernes/Datos_viernes_12_08_2022_20_hrs.RData\")\n",
        "datos30<-data.frame(datos)"
      ],
      "metadata": {
        "id": "gc9AlKupxRXb",
        "colab": {
          "base_uri": "https://localhost:8080/"
        },
        "outputId": "1802298e-c9cb-4330-f10b-f4e03ce509c7"
      },
      "execution_count": null,
      "outputs": [
        {
          "output_type": "stream",
          "name": "stderr",
          "text": [
            "Warning message:\n",
            "“namespace ‘leaflet’ is not available and has been replaced\n",
            "by .GlobalEnv when processing object ‘m’”\n",
            "Warning message:\n",
            "“namespace ‘leaflet’ is not available and has been replaced\n",
            "by .GlobalEnv when processing object ‘m’”\n",
            "Warning message:\n",
            "“namespace ‘leaflet’ is not available and has been replaced\n",
            "by .GlobalEnv when processing object ‘m’”\n",
            "Warning message:\n",
            "“namespace ‘leaflet’ is not available and has been replaced\n",
            "by .GlobalEnv when processing object ‘m’”\n",
            "Warning message:\n",
            "“namespace ‘leaflet’ is not available and has been replaced\n",
            "by .GlobalEnv when processing object ‘m’”\n",
            "Warning message:\n",
            "“namespace ‘leaflet’ is not available and has been replaced\n",
            "by .GlobalEnv when processing object ‘m’”\n",
            "Warning message:\n",
            "“namespace ‘leaflet’ is not available and has been replaced\n",
            "by .GlobalEnv when processing object ‘m’”\n",
            "Warning message:\n",
            "“namespace ‘leaflet’ is not available and has been replaced\n",
            "by .GlobalEnv when processing object ‘m’”\n",
            "Warning message:\n",
            "“namespace ‘leaflet’ is not available and has been replaced\n",
            "by .GlobalEnv when processing object ‘m’”\n",
            "Warning message:\n",
            "“namespace ‘leaflet’ is not available and has been replaced\n",
            "by .GlobalEnv when processing object ‘m’”\n",
            "Warning message:\n",
            "“namespace ‘leaflet’ is not available and has been replaced\n",
            "by .GlobalEnv when processing object ‘m’”\n",
            "Warning message:\n",
            "“namespace ‘leaflet’ is not available and has been replaced\n",
            "by .GlobalEnv when processing object ‘m’”\n",
            "Warning message:\n",
            "“namespace ‘leaflet’ is not available and has been replaced\n",
            "by .GlobalEnv when processing object ‘m’”\n",
            "Warning message:\n",
            "“namespace ‘leaflet’ is not available and has been replaced\n",
            "by .GlobalEnv when processing object ‘m’”\n",
            "Warning message:\n",
            "“namespace ‘leaflet’ is not available and has been replaced\n",
            "by .GlobalEnv when processing object ‘m’”\n"
          ]
        }
      ]
    },
    {
      "cell_type": "markdown",
      "source": [
        "Carga de datos semana 3"
      ],
      "metadata": {
        "id": "hyrtZXUl3wY4"
      }
    },
    {
      "cell_type": "code",
      "source": [
        "load(\"Datos/Lunes/Datos_lunes_15_08_2022_08_hrs.RData\")\n",
        "datos31<-data.frame(datos)\n",
        "load(\"Datos/Lunes/Datos_lunes_15_08_2022_13_hrs.RData\")\n",
        "datos32<-data.frame(datos)\n",
        "load(\"Datos/Lunes/Datos_lunes_15_08_2022_20_hrs.RData\")\n",
        "datos33<-data.frame(datos)\n",
        "load(\"Datos/Martes/Datos_martes_16_08_2022_08_hrs.RData\")\n",
        "datos34<-data.frame(datos)\n",
        "load(\"Datos/Martes/Datos_martes_16_08_2022_13_hrs.RData\")\n",
        "datos35<-data.frame(datos)\n",
        "load(\"Datos/Martes/Datos_martes_16_08_2022_20_hrs.RData\")\n",
        "datos36<-data.frame(datos)\n",
        "load(\"Datos/Miercoles/Datos_miercoles_17_02_2022_08_hrs.RData\")\n",
        "datos37<-data.frame(datos)\n",
        "load(\"Datos/Miercoles/Datos_miercoles_17_02_2022_13_hrs.RData\")\n",
        "datos38<-data.frame(datos)\n",
        "load(\"Datos/Miercoles/Datos_miercoles_17_02_2022_20_hrs.RData\")\n",
        "datos39<-data.frame(datos)\n",
        "load(\"Datos/Jueves/Datos_jueves_18_08_2022_08_hrs.RData\")\n",
        "datos40<-data.frame(datos)\n",
        "load(\"Datos/Jueves/Datos_jueves_18_08_2022_13_hrs.RData\")\n",
        "datos41<-data.frame(datos)\n",
        "load(\"Datos/Jueves/Datos_jueves_18_08_2022_20_hrs.RData\")\n",
        "datos42<-data.frame(datos)\n",
        "load(\"Datos/Viernes/Datos_viernes_19_08_2022_08_hrs.RData\")\n",
        "datos43<-data.frame(datos)\n",
        "load(\"Datos/Viernes/Datos_viernes_19_08_2022_13_hrs.RData\")\n",
        "datos44<-data.frame(datos)\n",
        "load(\"Datos/Viernes/Datos_viernes_19_08_2022_20_hrs.RData\")\n",
        "datos45<-data.frame(datos)"
      ],
      "metadata": {
        "id": "t0Yrf6dK34EV",
        "colab": {
          "base_uri": "https://localhost:8080/"
        },
        "outputId": "83f631b3-1d75-4487-b8e4-f201855ecfe2"
      },
      "execution_count": null,
      "outputs": [
        {
          "output_type": "stream",
          "name": "stderr",
          "text": [
            "Warning message:\n",
            "“namespace ‘leaflet’ is not available and has been replaced\n",
            "by .GlobalEnv when processing object ‘m’”\n",
            "Warning message:\n",
            "“namespace ‘leaflet’ is not available and has been replaced\n",
            "by .GlobalEnv when processing object ‘m’”\n",
            "Warning message:\n",
            "“namespace ‘leaflet’ is not available and has been replaced\n",
            "by .GlobalEnv when processing object ‘m’”\n",
            "Warning message:\n",
            "“namespace ‘leaflet’ is not available and has been replaced\n",
            "by .GlobalEnv when processing object ‘m’”\n",
            "Warning message:\n",
            "“namespace ‘leaflet’ is not available and has been replaced\n",
            "by .GlobalEnv when processing object ‘m’”\n",
            "Warning message:\n",
            "“namespace ‘leaflet’ is not available and has been replaced\n",
            "by .GlobalEnv when processing object ‘m’”\n",
            "Warning message:\n",
            "“namespace ‘leaflet’ is not available and has been replaced\n",
            "by .GlobalEnv when processing object ‘m’”\n",
            "Warning message:\n",
            "“namespace ‘leaflet’ is not available and has been replaced\n",
            "by .GlobalEnv when processing object ‘m’”\n",
            "Warning message:\n",
            "“namespace ‘leaflet’ is not available and has been replaced\n",
            "by .GlobalEnv when processing object ‘m’”\n",
            "Warning message:\n",
            "“namespace ‘leaflet’ is not available and has been replaced\n",
            "by .GlobalEnv when processing object ‘m’”\n",
            "Warning message:\n",
            "“namespace ‘leaflet’ is not available and has been replaced\n",
            "by .GlobalEnv when processing object ‘m’”\n",
            "Warning message:\n",
            "“namespace ‘leaflet’ is not available and has been replaced\n",
            "by .GlobalEnv when processing object ‘m’”\n",
            "Warning message:\n",
            "“namespace ‘leaflet’ is not available and has been replaced\n",
            "by .GlobalEnv when processing object ‘m’”\n",
            "Warning message:\n",
            "“namespace ‘leaflet’ is not available and has been replaced\n",
            "by .GlobalEnv when processing object ‘m’”\n",
            "Warning message:\n",
            "“namespace ‘leaflet’ is not available and has been replaced\n",
            "by .GlobalEnv when processing object ‘m’”\n"
          ]
        }
      ]
    },
    {
      "cell_type": "markdown",
      "source": [
        "Carga de datos semana 4"
      ],
      "metadata": {
        "id": "NTNsJEoA7ruD"
      }
    },
    {
      "cell_type": "code",
      "source": [
        "load(\"Datos/Lunes/Datos_lunes_22_08_2022_08_hrs.RData\")\n",
        "datos46<-data.frame(datos)\n",
        "load(\"Datos/Lunes/Datos_lunes_22_08_2022_13_hrs.RData\")\n",
        "datos47<-data.frame(datos)\n",
        "load(\"Datos/Lunes/Datos_lunes_22_08_2022_20_hrs.RData\")\n",
        "datos48<-data.frame(datos)\n",
        "load(\"Datos/Martes/Datos_martes_23_08_2022_08_hrs.RData\")\n",
        "datos49<-data.frame(datos)\n",
        "load(\"Datos/Martes/Datos_martes_23_08_2022_13_hrs.RData\")\n",
        "datos50<-data.frame(datos)\n",
        "load(\"Datos/Martes/Datos_martes_23_08_2022_20_hrs.RData\")\n",
        "datos51<-data.frame(datos)\n",
        "load(\"Datos/Miercoles/Datos_miercoles_24_02_2022_08_hrs.RData\")\n",
        "datos52<-data.frame(datos)\n",
        "load(\"Datos/Miercoles/Datos_miercoles_24_02_2022_13_hrs.RData\")\n",
        "datos53<-data.frame(datos)\n",
        "load(\"Datos/Miercoles/Datos_miercoles_24_02_2022_20_hrs.RData\")\n",
        "datos54<-data.frame(datos)\n",
        "load(\"Datos/Jueves/Datos_jueves_25_08_2022_08_hrs.RData\")\n",
        "datos55<-data.frame(datos)\n",
        "load(\"Datos/Jueves/Datos_jueves_25_08_2022_13_hrs.RData\")\n",
        "datos56<-data.frame(datos)\n",
        "load(\"Datos/Jueves/Datos_jueves_25_08_2022_20_hrs.RData\")\n",
        "datos57<-data.frame(datos)\n",
        "load(\"Datos/Viernes/Datos_viernes_26_08_2022_08_hrs.RData\")\n",
        "datos58<-data.frame(datos)\n",
        "load(\"Datos/Viernes/Datos_viernes_26_08_2022_13_hrs.RData\")\n",
        "datos59<-data.frame(datos)\n",
        "load(\"Datos/Viernes/Datos_viernes_26_08_2022_20_hrs.RData\")\n",
        "datos60<-data.frame(datos)"
      ],
      "metadata": {
        "id": "ZQ2wsrXI7wfX",
        "colab": {
          "base_uri": "https://localhost:8080/"
        },
        "outputId": "a32ad85c-0708-4611-8663-115ab1429ec2"
      },
      "execution_count": null,
      "outputs": [
        {
          "output_type": "stream",
          "name": "stderr",
          "text": [
            "Warning message:\n",
            "“namespace ‘leaflet’ is not available and has been replaced\n",
            "by .GlobalEnv when processing object ‘m’”\n",
            "Warning message:\n",
            "“namespace ‘leaflet’ is not available and has been replaced\n",
            "by .GlobalEnv when processing object ‘m’”\n",
            "Warning message:\n",
            "“namespace ‘leaflet’ is not available and has been replaced\n",
            "by .GlobalEnv when processing object ‘m’”\n",
            "Warning message:\n",
            "“namespace ‘leaflet’ is not available and has been replaced\n",
            "by .GlobalEnv when processing object ‘m’”\n",
            "Warning message:\n",
            "“namespace ‘leaflet’ is not available and has been replaced\n",
            "by .GlobalEnv when processing object ‘m’”\n",
            "Warning message:\n",
            "“namespace ‘leaflet’ is not available and has been replaced\n",
            "by .GlobalEnv when processing object ‘m’”\n",
            "Warning message:\n",
            "“namespace ‘leaflet’ is not available and has been replaced\n",
            "by .GlobalEnv when processing object ‘m’”\n",
            "Warning message:\n",
            "“namespace ‘leaflet’ is not available and has been replaced\n",
            "by .GlobalEnv when processing object ‘m’”\n",
            "Warning message:\n",
            "“namespace ‘leaflet’ is not available and has been replaced\n",
            "by .GlobalEnv when processing object ‘m’”\n",
            "Warning message:\n",
            "“namespace ‘leaflet’ is not available and has been replaced\n",
            "by .GlobalEnv when processing object ‘m’”\n",
            "Warning message:\n",
            "“namespace ‘leaflet’ is not available and has been replaced\n",
            "by .GlobalEnv when processing object ‘m’”\n",
            "Warning message:\n",
            "“namespace ‘leaflet’ is not available and has been replaced\n",
            "by .GlobalEnv when processing object ‘m’”\n",
            "Warning message:\n",
            "“namespace ‘leaflet’ is not available and has been replaced\n",
            "by .GlobalEnv when processing object ‘m’”\n",
            "Warning message:\n",
            "“namespace ‘leaflet’ is not available and has been replaced\n",
            "by .GlobalEnv when processing object ‘m’”\n",
            "Warning message:\n",
            "“namespace ‘leaflet’ is not available and has been replaced\n",
            "by .GlobalEnv when processing object ‘m’”\n"
          ]
        }
      ]
    },
    {
      "cell_type": "markdown",
      "source": [
        "<a id='Almacenamiento-de-inventarios'></a>\n",
        "### Almacenamiento de inventarios\n",
        "\n",
        "[Inicio ▲](#Indice)"
      ],
      "metadata": {
        "id": "3XdIn0L--AjO"
      }
    },
    {
      "cell_type": "markdown",
      "source": [
        "Almacenamiento de los inventarios del mes completo según las estaciónes requeridas"
      ],
      "metadata": {
        "id": "_mmzh9M462N-"
      }
    },
    {
      "cell_type": "code",
      "source": [
        "inventario_est1<-c(datos1$free[1],datos2$free[1],datos3$free[1],datos4$free[1],datos5$free[1],datos6$free[1],datos7$free[1],datos8$free[1],datos9$free[1],datos10$free[1],datos11$free[1],datos12$free[1],datos13$free[1],datos14$free[1],datos15$free[1],datos16$free[1],datos17$free[1],datos18$free[1],datos19$free[1],datos20$free[1],datos21$free[1],datos22$free[1],datos23$free[1],datos24$free[1],datos25$free[1],datos26$free[1],datos27$free[1],datos28$free[1],datos29$free[1],datos30$free[1],datos31$free[1],datos32$free[1],datos33$free[1],datos34$free[1],datos35$free[1],datos36$free[1],datos37$free[1],datos38$free[1],datos39$free[1],datos40$free[1],datos41$free[1],datos42$free[1],datos43$free[1],datos44$free[1],datos45$free[1],datos46$free[1],datos47$free[1],datos48$free[1],datos49$free[1],datos50$free[1],datos51$free[1],datos52$free[1],datos53$free[1],datos54$free[1],datos55$free[1],datos56$free[1],datos57$free[1],datos58$free[1],datos59$free[1],datos60$free[1])\n",
        "inventario_est2<-c(datos1$free[2],datos2$free[2],datos3$free[2],datos4$free[2],datos5$free[2],datos6$free[2],datos7$free[2],datos8$free[2],datos9$free[2],datos10$free[2],datos11$free[2],datos12$free[2],datos13$free[2],datos14$free[2],datos15$free[2],datos16$free[2],datos17$free[2],datos18$free[2],datos19$free[2],datos20$free[2],datos21$free[2],datos22$free[2],datos23$free[2],datos24$free[2],datos25$free[2],datos26$free[2],datos27$free[2],datos28$free[2],datos29$free[2],datos30$free[2],datos31$free[2],datos32$free[2],datos33$free[2],datos34$free[2],datos35$free[2],datos36$free[2],datos37$free[2],datos38$free[2],datos39$free[2],datos40$free[2],datos41$free[2],datos42$free[2],datos43$free[2],datos44$free[2],datos45$free[2],datos46$free[2],datos47$free[2],datos48$free[2],datos49$free[2],datos50$free[2],datos51$free[2],datos52$free[2],datos53$free[2],datos54$free[2],datos55$free[2],datos56$free[2],datos57$free[2],datos58$free[2],datos59$free[2],datos60$free[2])\n",
        "inventario_est3<-c(datos1$free[3],datos2$free[3],datos3$free[3],datos4$free[3],datos5$free[3],datos6$free[3],datos7$free[3],datos8$free[3],datos9$free[3],datos10$free[3],datos11$free[3],datos12$free[3],datos13$free[3],datos14$free[3],datos15$free[3],datos16$free[3],datos17$free[3],datos18$free[3],datos19$free[3],datos20$free[3],datos21$free[3],datos22$free[3],datos23$free[3],datos24$free[3],datos25$free[3],datos26$free[3],datos27$free[3],datos28$free[3],datos29$free[3],datos30$free[3],datos31$free[3],datos32$free[3],datos33$free[3],datos34$free[3],datos35$free[3],datos36$free[3],datos37$free[3],datos38$free[3],datos39$free[3],datos40$free[3],datos41$free[3],datos42$free[3],datos43$free[3],datos44$free[3],datos45$free[3],datos46$free[3],datos47$free[3],datos48$free[3],datos49$free[3],datos50$free[3],datos51$free[3],datos52$free[3],datos53$free[3],datos54$free[3],datos55$free[3],datos56$free[3],datos57$free[3],datos58$free[3],datos59$free[3],datos60$free[3])\n",
        "inventario_est4<-c(datos1$free[4],datos2$free[4],datos3$free[4],datos4$free[4],datos5$free[4],datos6$free[4],datos7$free[4],datos8$free[4],datos9$free[4],datos10$free[4],datos11$free[4],datos12$free[4],datos13$free[4],datos14$free[4],datos15$free[4],datos16$free[4],datos17$free[4],datos18$free[4],datos19$free[4],datos20$free[4],datos21$free[4],datos22$free[4],datos23$free[4],datos24$free[4],datos25$free[4],datos26$free[4],datos27$free[4],datos28$free[4],datos29$free[4],datos30$free[4],datos31$free[4],datos32$free[4],datos33$free[4],datos34$free[4],datos35$free[4],datos36$free[4],datos37$free[4],datos38$free[4],datos39$free[4],datos40$free[4],datos41$free[4],datos42$free[4],datos43$free[4],datos44$free[4],datos45$free[4],datos46$free[4],datos47$free[4],datos48$free[4],datos49$free[4],datos50$free[4],datos51$free[4],datos52$free[4],datos53$free[4],datos54$free[4],datos55$free[4],datos56$free[4],datos57$free[4],datos58$free[4],datos59$free[4],datos60$free[4])\n",
        "inventario_est5<-c(datos1$free[5],datos2$free[5],datos3$free[5],datos4$free[5],datos5$free[5],datos6$free[5],datos7$free[5],datos8$free[5],datos9$free[5],datos10$free[5],datos11$free[5],datos12$free[5],datos13$free[5],datos14$free[5],datos15$free[5],datos16$free[5],datos17$free[5],datos18$free[5],datos19$free[5],datos20$free[5],datos21$free[5],datos22$free[5],datos23$free[5],datos24$free[5],datos25$free[5],datos26$free[5],datos27$free[5],datos28$free[5],datos29$free[5],datos30$free[5],datos31$free[5],datos32$free[5],datos33$free[5],datos34$free[5],datos35$free[5],datos36$free[5],datos37$free[5],datos38$free[5],datos39$free[5],datos40$free[5],datos41$free[5],datos42$free[5],datos43$free[5],datos44$free[5],datos45$free[5],datos46$free[5],datos47$free[5],datos48$free[5],datos49$free[5],datos50$free[5],datos51$free[5],datos52$free[5],datos53$free[5],datos54$free[5],datos55$free[5],datos56$free[5],datos57$free[5],datos58$free[5],datos59$free[5],datos60$free[5])\n",
        "inventario_est6<-c(datos1$free[6],datos2$free[6],datos3$free[6],datos4$free[6],datos5$free[6],datos6$free[6],datos7$free[6],datos8$free[6],datos9$free[6],datos10$free[6],datos11$free[6],datos12$free[6],datos13$free[6],datos14$free[6],datos15$free[6],datos16$free[6],datos17$free[6],datos18$free[6],datos19$free[6],datos20$free[6],datos21$free[6],datos22$free[6],datos23$free[6],datos24$free[6],datos25$free[6],datos26$free[6],datos27$free[6],datos28$free[6],datos29$free[6],datos30$free[6],datos31$free[6],datos32$free[6],datos33$free[6],datos34$free[6],datos35$free[6],datos36$free[6],datos37$free[6],datos38$free[6],datos39$free[6],datos40$free[6],datos41$free[6],datos42$free[6],datos43$free[6],datos44$free[6],datos45$free[6],datos46$free[6],datos47$free[6],datos48$free[6],datos49$free[6],datos50$free[6],datos51$free[6],datos52$free[6],datos53$free[6],datos54$free[6],datos55$free[6],datos56$free[6],datos57$free[6],datos58$free[6],datos59$free[6],datos60$free[6])\n",
        "inventario_est7<-c(datos1$free[7],datos2$free[7],datos3$free[7],datos4$free[7],datos5$free[7],datos6$free[7],datos7$free[7],datos8$free[7],datos9$free[7],datos10$free[7],datos11$free[7],datos12$free[7],datos13$free[7],datos14$free[7],datos15$free[7],datos16$free[7],datos17$free[7],datos18$free[7],datos19$free[7],datos20$free[7],datos21$free[7],datos22$free[7],datos23$free[7],datos24$free[7],datos25$free[7],datos26$free[7],datos27$free[7],datos28$free[7],datos29$free[7],datos30$free[7],datos31$free[7],datos32$free[7],datos33$free[7],datos34$free[7],datos35$free[7],datos36$free[7],datos37$free[7],datos38$free[7],datos39$free[7],datos40$free[7],datos41$free[7],datos42$free[7],datos43$free[7],datos44$free[7],datos45$free[7],datos46$free[7],datos47$free[7],datos48$free[7],datos49$free[7],datos50$free[7],datos51$free[7],datos52$free[7],datos53$free[7],datos54$free[7],datos55$free[7],datos56$free[7],datos57$free[7],datos58$free[7],datos59$free[7],datos60$free[7])\n",
        "inventario_est8<-c(datos1$free[8],datos2$free[8],datos3$free[8],datos4$free[8],datos5$free[8],datos6$free[8],datos7$free[8],datos8$free[8],datos9$free[8],datos10$free[8],datos11$free[8],datos12$free[8],datos13$free[8],datos14$free[8],datos15$free[8],datos16$free[8],datos17$free[8],datos18$free[8],datos19$free[8],datos20$free[8],datos21$free[8],datos22$free[8],datos23$free[8],datos24$free[8],datos25$free[8],datos26$free[8],datos27$free[8],datos28$free[8],datos29$free[8],datos30$free[8],datos31$free[8],datos32$free[8],datos33$free[8],datos34$free[8],datos35$free[8],datos36$free[8],datos37$free[8],datos38$free[8],datos39$free[8],datos40$free[8],datos41$free[8],datos42$free[8],datos43$free[8],datos44$free[8],datos45$free[8],datos46$free[8],datos47$free[8],datos48$free[8],datos49$free[8],datos50$free[8],datos51$free[8],datos52$free[8],datos53$free[8],datos54$free[8],datos55$free[8],datos56$free[8],datos57$free[8],datos58$free[8],datos59$free[8],datos60$free[8])\n",
        "inventario_est9<-c(datos1$free[9],datos2$free[9],datos3$free[9],datos4$free[9],datos5$free[9],datos6$free[9],datos7$free[9],datos8$free[9],datos9$free[9],datos10$free[9],datos11$free[9],datos12$free[9],datos13$free[9],datos14$free[9],datos15$free[9],datos16$free[9],datos17$free[9],datos18$free[9],datos19$free[9],datos20$free[9],datos21$free[9],datos22$free[9],datos23$free[9],datos24$free[9],datos25$free[9],datos26$free[9],datos27$free[9],datos28$free[9],datos29$free[9],datos30$free[9],datos31$free[9],datos32$free[9],datos33$free[9],datos34$free[9],datos35$free[9],datos36$free[9],datos37$free[9],datos38$free[9],datos39$free[9],datos40$free[9],datos41$free[9],datos42$free[9],datos43$free[9],datos44$free[9],datos45$free[9],datos46$free[9],datos47$free[9],datos48$free[9],datos49$free[9],datos50$free[9],datos51$free[9],datos52$free[9],datos53$free[9],datos54$free[9],datos55$free[9],datos56$free[9],datos57$free[9],datos58$free[9],datos59$free[9],datos60$free[9])\n",
        "inventario_est10<-c(datos1$free[10],datos2$free[10],datos3$free[10],datos4$free[10],datos5$free[10],datos6$free[10],datos7$free[10],datos8$free[10],datos9$free[10],datos10$free[10],datos11$free[10],datos12$free[10],datos13$free[10],datos14$free[10],datos15$free[10],datos16$free[10],datos17$free[10],datos18$free[10],datos19$free[10],datos20$free[10],datos21$free[10],datos22$free[10],datos23$free[10],datos24$free[10],datos25$free[10],datos26$free[10],datos27$free[10],datos28$free[10],datos29$free[10],datos30$free[10],datos31$free[10],datos32$free[10],datos33$free[10],datos34$free[10],datos35$free[10],datos36$free[10],datos37$free[10],datos38$free[10],datos39$free[10],datos40$free[10],datos41$free[10],datos42$free[10],datos43$free[10],datos44$free[10],datos45$free[10],datos46$free[10],datos47$free[10],datos48$free[10],datos49$free[10],datos50$free[10],datos51$free[10],datos52$free[10],datos53$free[10],datos54$free[10],datos55$free[10],datos56$free[10],datos57$free[10],datos58$free[10],datos59$free[10],datos60$free[10])"
      ],
      "metadata": {
        "id": "JtCaSgTw6m2R"
      },
      "execution_count": null,
      "outputs": []
    },
    {
      "cell_type": "markdown",
      "source": [
        "<a id='Generación-de-fechas'></a>\n",
        "### Generación de fechas\n",
        "\n",
        "[Inicio ▲](#Indice)"
      ],
      "metadata": {
        "id": "2ksvVe9Eyhkj"
      }
    },
    {
      "cell_type": "markdown",
      "source": [
        "Generación de fechas semana 1"
      ],
      "metadata": {
        "id": "T51ebgo27Ou_"
      }
    },
    {
      "cell_type": "code",
      "source": [
        "lunes_inicio_sem1 <- as.POSIXct(\"2022-08-01 08:00:00\")\n",
        "lunes_termino_sem1 <- as.POSIXct(\"2022-08-01 20:00:00\")\n",
        "\n",
        "martes_inicio_sem1 <- as.POSIXct(\"2022-08-02 08:00:00\")\n",
        "martes_termino_sem1 <- as.POSIXct(\"2022-08-02 20:00:00\")\n",
        "\n",
        "miercoles_inicio_sem1 <- as.POSIXct(\"2022-08-03 08:00:00\")\n",
        "miercoles_termino_sem1 <- as.POSIXct(\"2022-08-03 20:00:00\")\n",
        "\n",
        "jueves_inicio_sem1 <- as.POSIXct(\"2022-08-04 08:00:00\")\n",
        "jueves_termino_sem1 <- as.POSIXct(\"2022-08-04 20:00:00\")\n",
        "\n",
        "viernes_inicio_sem1 <- as.POSIXct(\"2022-08-05 08:00:00\")\n",
        "viernes_termino_sem1 <- as.POSIXct(\"2022-08-05 20:00:00\")"
      ],
      "metadata": {
        "id": "XxLN9pyn7RmW"
      },
      "execution_count": null,
      "outputs": []
    },
    {
      "cell_type": "markdown",
      "source": [
        "Generación de fechas semana 2"
      ],
      "metadata": {
        "id": "YDAY7v51zHmc"
      }
    },
    {
      "cell_type": "code",
      "source": [
        "lunes_inicio_sem2 <- as.POSIXct(\"2022-08-08 08:00:00\")\n",
        "lunes_termino_sem2 <- as.POSIXct(\"2022-08-08 20:00:00\")\n",
        "\n",
        "martes_inicio_sem2 <- as.POSIXct(\"2022-08-09 08:00:00\")\n",
        "martes_termino_sem2 <- as.POSIXct(\"2022-08-09 20:00:00\")\n",
        "\n",
        "miercoles_inicio_sem2 <- as.POSIXct(\"2022-08-10 08:00:00\")\n",
        "miercoles_termino_sem2 <- as.POSIXct(\"2022-08-10 20:00:00\")\n",
        "\n",
        "jueves_inicio_sem2 <- as.POSIXct(\"2022-08-11 08:00:00\")\n",
        "jueves_termino_sem2 <- as.POSIXct(\"2022-08-11 20:00:00\")\n",
        "\n",
        "viernes_inicio_sem2 <- as.POSIXct(\"2022-08-12 08:00:00\")\n",
        "viernes_termino_sem2 <- as.POSIXct(\"2022-08-12 20:00:00\")"
      ],
      "metadata": {
        "id": "CcpmY_Ypy8k2"
      },
      "execution_count": null,
      "outputs": []
    },
    {
      "cell_type": "markdown",
      "source": [
        "Generación de fechas semana 3"
      ],
      "metadata": {
        "id": "WyTvsfmt4n0A"
      }
    },
    {
      "cell_type": "code",
      "source": [
        "lunes_inicio_sem3 <- as.POSIXct(\"2022-08-15 08:00:00\")\n",
        "lunes_termino_sem3 <- as.POSIXct(\"2022-08-15 20:00:00\")\n",
        "\n",
        "martes_inicio_sem3 <- as.POSIXct(\"2022-08-16 08:00:00\")\n",
        "martes_termino_sem3 <- as.POSIXct(\"2022-08-16 20:00:00\")\n",
        "\n",
        "miercoles_inicio_sem3 <- as.POSIXct(\"2022-08-17 08:00:00\")\n",
        "miercoles_termino_sem3 <- as.POSIXct(\"2022-08-17 20:00:00\")\n",
        "\n",
        "jueves_inicio_sem3 <- as.POSIXct(\"2022-08-18 08:00:00\")\n",
        "jueves_termino_sem3 <- as.POSIXct(\"2022-08-18 20:00:00\")\n",
        "\n",
        "viernes_inicio_sem3 <- as.POSIXct(\"2022-08-19 08:00:00\")\n",
        "viernes_termino_sem3 <- as.POSIXct(\"2022-08-19 20:00:00\")"
      ],
      "metadata": {
        "id": "sXjZIt9w4pGR"
      },
      "execution_count": null,
      "outputs": []
    },
    {
      "cell_type": "markdown",
      "source": [
        "Generación de fechas semana 4"
      ],
      "metadata": {
        "id": "oZTJNQVo8PZo"
      }
    },
    {
      "cell_type": "code",
      "source": [
        "lunes_inicio_sem4 <- as.POSIXct(\"2022-08-22 08:00:00\")\n",
        "lunes_termino_sem4 <- as.POSIXct(\"2022-08-22 20:00:00\")\n",
        "\n",
        "martes_inicio_sem4 <- as.POSIXct(\"2022-08-23 08:00:00\")\n",
        "martes_termino_sem4 <- as.POSIXct(\"2022-08-23 20:00:00\")\n",
        "\n",
        "miercoles_inicio_sem4 <- as.POSIXct(\"2022-08-24 08:00:00\")\n",
        "miercoles_termino_sem4 <- as.POSIXct(\"2022-08-24 20:00:00\")\n",
        "\n",
        "jueves_inicio_sem4 <- as.POSIXct(\"2022-08-25 08:00:00\")\n",
        "jueves_termino_sem4 <- as.POSIXct(\"2022-08-25 20:00:00\")\n",
        "\n",
        "viernes_inicio_sem4 <- as.POSIXct(\"2022-08-26 08:00:00\")\n",
        "viernes_termino_sem4 <- as.POSIXct(\"2022-08-26 20:00:00\")"
      ],
      "metadata": {
        "id": "31wl1_Q98U-4"
      },
      "execution_count": null,
      "outputs": []
    },
    {
      "cell_type": "markdown",
      "source": [
        "<a id='Combinación-de-fechas'></a>\n",
        "### Combinación de fechas\n",
        "\n",
        "[Inicio ▲](#Indice)"
      ],
      "metadata": {
        "id": "P8TvuCzQ1vIj"
      }
    },
    {
      "cell_type": "markdown",
      "source": [
        "Combinación de las fechas con los inventarios de la primera semana"
      ],
      "metadata": {
        "id": "Tu2Aocfq7YTu"
      }
    },
    {
      "cell_type": "code",
      "source": [
        "lunes_sem1<-data.frame(\"dias\"=seq(from=lunes_inicio_sem1, to=lunes_termino_sem1, by=\"360 min\"))\n",
        "martes_sem1<-data.frame(\"dias\"=seq(from=martes_inicio_sem1, to=martes_termino_sem1, by=\"360 min\"))\n",
        "miercoles_sem1<-data.frame(\"dias\"=seq(from=miercoles_inicio_sem1, to=miercoles_termino_sem1, by=\"360 min\"))\n",
        "jueves_sem1<-data.frame(\"dias\"=seq(from=jueves_inicio_sem1, to=jueves_termino_sem1, by=\"360 min\"))\n",
        "viernes_sem1<-data.frame(\"dias\"=seq(from=viernes_inicio_sem1, to=viernes_termino_sem1, by=\"360 min\"))"
      ],
      "metadata": {
        "id": "RNGwqjtZ7ftZ"
      },
      "execution_count": null,
      "outputs": []
    },
    {
      "cell_type": "markdown",
      "source": [
        "Combinación de las fechas con los inventarios de la segunda semana"
      ],
      "metadata": {
        "id": "fLDhtNjF2GXc"
      }
    },
    {
      "cell_type": "code",
      "source": [
        "lunes_sem2<-data.frame(\"dias\"=seq(from=lunes_inicio_sem2, to=lunes_termino_sem2, by=\"360 min\"))\n",
        "martes_sem2<-data.frame(\"dias\"=seq(from=martes_inicio_sem2, to=martes_termino_sem2, by=\"360 min\"))\n",
        "miercoles_sem2<-data.frame(\"dias\"=seq(from=miercoles_inicio_sem2, to=miercoles_termino_sem2, by=\"360 min\"))\n",
        "jueves_sem2<-data.frame(\"dias\"=seq(from=jueves_inicio_sem2, to=jueves_termino_sem2, by=\"360 min\"))\n",
        "viernes_sem2<-data.frame(\"dias\"=seq(from=viernes_inicio_sem2, to=viernes_termino_sem2, by=\"360 min\"))"
      ],
      "metadata": {
        "id": "ysjfB1-E2MGB"
      },
      "execution_count": null,
      "outputs": []
    },
    {
      "cell_type": "markdown",
      "source": [
        "Combinación de las fechas con los inventarios de la tercera semana"
      ],
      "metadata": {
        "id": "MWkPJ8Tg5Bu5"
      }
    },
    {
      "cell_type": "code",
      "source": [
        "lunes_sem3<-data.frame(\"dias\"=seq(from=lunes_inicio_sem3, to=lunes_termino_sem3, by=\"360 min\"))\n",
        "martes_sem3<-data.frame(\"dias\"=seq(from=martes_inicio_sem3, to=martes_termino_sem3, by=\"360 min\"))\n",
        "miercoles_sem3<-data.frame(\"dias\"=seq(from=miercoles_inicio_sem3, to=miercoles_termino_sem3, by=\"360 min\"))\n",
        "jueves_sem3<-data.frame(\"dias\"=seq(from=jueves_inicio_sem3, to=jueves_termino_sem3, by=\"360 min\"))\n",
        "viernes_sem3<-data.frame(\"dias\"=seq(from=viernes_inicio_sem3, to=viernes_termino_sem3, by=\"360 min\"))"
      ],
      "metadata": {
        "id": "Kx-LYrnW5Er_"
      },
      "execution_count": null,
      "outputs": []
    },
    {
      "cell_type": "markdown",
      "source": [
        "Combinación de las fechas con los inventarios de la cuarta semana"
      ],
      "metadata": {
        "id": "i6wgzjbN8qmQ"
      }
    },
    {
      "cell_type": "code",
      "source": [
        "lunes_sem4<-data.frame(\"dias\"=seq(from=lunes_inicio_sem4, to=lunes_termino_sem4, by=\"360 min\"))\n",
        "martes_sem4<-data.frame(\"dias\"=seq(from=martes_inicio_sem4, to=martes_termino_sem4, by=\"360 min\"))\n",
        "miercoles_sem4<-data.frame(\"dias\"=seq(from=miercoles_inicio_sem4, to=miercoles_termino_sem4, by=\"360 min\"))\n",
        "jueves_sem4<-data.frame(\"dias\"=seq(from=jueves_inicio_sem4, to=jueves_termino_sem4, by=\"360 min\"))\n",
        "viernes_sem4<-data.frame(\"dias\"=seq(from=viernes_inicio_sem4, to=viernes_termino_sem4, by=\"360 min\"))"
      ],
      "metadata": {
        "id": "gDMwvlez8tRB"
      },
      "execution_count": null,
      "outputs": []
    },
    {
      "cell_type": "markdown",
      "source": [
        "<a id='Carga-mensual-completa'></a>\n",
        "### Carga mensual completa\n",
        "\n",
        "[Inicio ▲](#Indice)"
      ],
      "metadata": {
        "id": "DTm6qnuT3PG6"
      }
    },
    {
      "cell_type": "markdown",
      "source": [
        "Carga mensual de las 4 semanas con los inventarios correspondientes"
      ],
      "metadata": {
        "id": "LWOy2Frg7o8M"
      }
    },
    {
      "cell_type": "code",
      "source": [
        "semana1<-rbind(lunes_sem1,martes_sem1,miercoles_sem1,jueves_sem1,viernes_sem1)\n",
        "semana2<-rbind(lunes_sem2,martes_sem2,miercoles_sem2,jueves_sem2,viernes_sem2)\n",
        "semana3<-rbind(lunes_sem3,martes_sem3,miercoles_sem3,jueves_sem3,viernes_sem3)\n",
        "semana4<-rbind(lunes_sem4,martes_sem4,miercoles_sem4,jueves_sem4,viernes_sem4)\n",
        "\n",
        "mes<-rbind(semana1,semana2,semana3,semana4)\n",
        "mes<-data.frame(mes,inventario_est1,inventario_est2,inventario_est3,inventario_est4,inventario_est5,inventario_est6,inventario_est7,inventario_est8,inventario_est9,inventario_est10)\n",
        "mes"
      ],
      "metadata": {
        "id": "h2rEWP2F7uJ0",
        "colab": {
          "base_uri": "https://localhost:8080/",
          "height": 1000
        },
        "outputId": "143f2c48-446e-4e74-842d-6ab509567bae"
      },
      "execution_count": null,
      "outputs": [
        {
          "output_type": "display_data",
          "data": {
            "text/html": [
              "<table class=\"dataframe\">\n",
              "<caption>A data.frame: 60 × 11</caption>\n",
              "<thead>\n",
              "\t<tr><th scope=col>dias</th><th scope=col>inventario_est1</th><th scope=col>inventario_est2</th><th scope=col>inventario_est3</th><th scope=col>inventario_est4</th><th scope=col>inventario_est5</th><th scope=col>inventario_est6</th><th scope=col>inventario_est7</th><th scope=col>inventario_est8</th><th scope=col>inventario_est9</th><th scope=col>inventario_est10</th></tr>\n",
              "\t<tr><th scope=col>&lt;dttm&gt;</th><th scope=col>&lt;dbl&gt;</th><th scope=col>&lt;dbl&gt;</th><th scope=col>&lt;dbl&gt;</th><th scope=col>&lt;dbl&gt;</th><th scope=col>&lt;dbl&gt;</th><th scope=col>&lt;dbl&gt;</th><th scope=col>&lt;dbl&gt;</th><th scope=col>&lt;dbl&gt;</th><th scope=col>&lt;dbl&gt;</th><th scope=col>&lt;dbl&gt;</th></tr>\n",
              "</thead>\n",
              "<tbody>\n",
              "\t<tr><td>2022-08-01 08:00:00</td><td>14</td><td> 8</td><td> 5</td><td>12</td><td>11</td><td> 6</td><td>2</td><td>0</td><td>12</td><td> 0</td></tr>\n",
              "\t<tr><td>2022-08-01 14:00:00</td><td>14</td><td>11</td><td> 1</td><td>11</td><td> 9</td><td> 7</td><td>4</td><td>0</td><td>12</td><td> 8</td></tr>\n",
              "\t<tr><td>2022-08-01 20:00:00</td><td> 9</td><td> 7</td><td> 9</td><td> 6</td><td> 8</td><td> 9</td><td>6</td><td>5</td><td> 3</td><td> 6</td></tr>\n",
              "\t<tr><td>2022-08-02 08:00:00</td><td> 7</td><td> 9</td><td> 9</td><td>13</td><td> 5</td><td>10</td><td>3</td><td>1</td><td> 4</td><td> 0</td></tr>\n",
              "\t<tr><td>2022-08-02 14:00:00</td><td>12</td><td> 3</td><td> 0</td><td> 7</td><td> 4</td><td> 1</td><td>1</td><td>5</td><td> 1</td><td> 6</td></tr>\n",
              "\t<tr><td>2022-08-02 20:00:00</td><td>12</td><td>11</td><td> 9</td><td> 9</td><td> 9</td><td> 6</td><td>7</td><td>4</td><td> 5</td><td> 8</td></tr>\n",
              "\t<tr><td>2022-08-03 08:00:00</td><td>11</td><td> 8</td><td> 9</td><td> 7</td><td> 9</td><td> 6</td><td>7</td><td>4</td><td> 3</td><td> 5</td></tr>\n",
              "\t<tr><td>2022-08-03 14:00:00</td><td>16</td><td> 4</td><td> 1</td><td> 7</td><td> 1</td><td> 7</td><td>0</td><td>0</td><td> 1</td><td>12</td></tr>\n",
              "\t<tr><td>2022-08-03 20:00:00</td><td>14</td><td> 6</td><td>11</td><td>10</td><td> 6</td><td> 5</td><td>1</td><td>4</td><td> 4</td><td> 2</td></tr>\n",
              "\t<tr><td>2022-08-04 08:00:00</td><td>11</td><td> 5</td><td>10</td><td> 6</td><td> 5</td><td> 7</td><td>1</td><td>3</td><td> 0</td><td> 2</td></tr>\n",
              "\t<tr><td>2022-08-04 14:00:00</td><td> 6</td><td> 4</td><td> 0</td><td> 8</td><td> 4</td><td> 7</td><td>0</td><td>0</td><td> 3</td><td> 7</td></tr>\n",
              "\t<tr><td>2022-08-04 20:00:00</td><td> 8</td><td> 9</td><td>12</td><td> 7</td><td> 7</td><td> 8</td><td>3</td><td>1</td><td> 8</td><td> 7</td></tr>\n",
              "\t<tr><td>2022-08-05 08:00:00</td><td> 6</td><td> 4</td><td> 7</td><td> 5</td><td> 6</td><td> 7</td><td>6</td><td>2</td><td> 3</td><td> 5</td></tr>\n",
              "\t<tr><td>2022-08-05 14:00:00</td><td> 6</td><td>10</td><td> 0</td><td>14</td><td> 2</td><td> 5</td><td>2</td><td>4</td><td> 0</td><td> 2</td></tr>\n",
              "\t<tr><td>2022-08-05 20:00:00</td><td>14</td><td> 4</td><td> 6</td><td> 4</td><td> 6</td><td> 6</td><td>9</td><td>5</td><td> 7</td><td> 3</td></tr>\n",
              "\t<tr><td>2022-08-08 08:00:00</td><td>11</td><td> 9</td><td> 5</td><td>10</td><td> 4</td><td> 8</td><td>4</td><td>5</td><td> 5</td><td>11</td></tr>\n",
              "\t<tr><td>2022-08-08 14:00:00</td><td> 8</td><td> 5</td><td> 2</td><td>13</td><td> 3</td><td> 2</td><td>3</td><td>5</td><td> 8</td><td>10</td></tr>\n",
              "\t<tr><td>2022-08-08 20:00:00</td><td>13</td><td> 6</td><td> 4</td><td> 5</td><td> 4</td><td>10</td><td>0</td><td>3</td><td> 5</td><td> 8</td></tr>\n",
              "\t<tr><td>2022-08-09 08:00:00</td><td> 3</td><td>11</td><td> 6</td><td>13</td><td> 2</td><td> 6</td><td>1</td><td>3</td><td> 3</td><td> 3</td></tr>\n",
              "\t<tr><td>2022-08-09 14:00:00</td><td> 6</td><td>10</td><td> 2</td><td>11</td><td> 2</td><td> 8</td><td>0</td><td>1</td><td> 2</td><td> 4</td></tr>\n",
              "\t<tr><td>2022-08-09 20:00:00</td><td>16</td><td> 2</td><td> 7</td><td>16</td><td> 1</td><td> 4</td><td>0</td><td>0</td><td> 9</td><td> 1</td></tr>\n",
              "\t<tr><td>2022-08-10 08:00:00</td><td> 6</td><td> 2</td><td> 3</td><td> 9</td><td> 6</td><td> 7</td><td>5</td><td>5</td><td> 6</td><td> 1</td></tr>\n",
              "\t<tr><td>2022-08-10 14:00:00</td><td> 7</td><td> 7</td><td> 1</td><td> 9</td><td> 3</td><td> 8</td><td>2</td><td>3</td><td> 5</td><td> 8</td></tr>\n",
              "\t<tr><td>2022-08-10 20:00:00</td><td>15</td><td> 6</td><td> 5</td><td> 3</td><td> 2</td><td> 7</td><td>2</td><td>1</td><td> 1</td><td>11</td></tr>\n",
              "\t<tr><td>2022-08-11 08:00:00</td><td> 8</td><td> 7</td><td> 8</td><td> 3</td><td> 2</td><td> 4</td><td>1</td><td>3</td><td> 0</td><td> 6</td></tr>\n",
              "\t<tr><td>2022-08-11 14:00:00</td><td> 8</td><td> 8</td><td> 3</td><td> 5</td><td> 2</td><td> 2</td><td>1</td><td>0</td><td> 2</td><td>10</td></tr>\n",
              "\t<tr><td>2022-08-11 20:00:00</td><td>13</td><td> 7</td><td> 6</td><td> 1</td><td> 2</td><td> 0</td><td>1</td><td>0</td><td> 6</td><td> 1</td></tr>\n",
              "\t<tr><td>2022-08-12 08:00:00</td><td> 9</td><td> 4</td><td> 8</td><td>10</td><td> 3</td><td> 2</td><td>3</td><td>5</td><td> 2</td><td> 0</td></tr>\n",
              "\t<tr><td>2022-08-12 14:00:00</td><td>10</td><td> 8</td><td> 2</td><td>17</td><td> 4</td><td> 1</td><td>3</td><td>2</td><td> 2</td><td> 5</td></tr>\n",
              "\t<tr><td>2022-08-12 20:00:00</td><td> 8</td><td> 5</td><td> 6</td><td>11</td><td> 3</td><td> 4</td><td>2</td><td>1</td><td>10</td><td> 8</td></tr>\n",
              "\t<tr><td>2022-08-15 08:00:00</td><td> 3</td><td> 3</td><td> 1</td><td>12</td><td> 7</td><td> 7</td><td>1</td><td>3</td><td> 3</td><td> 9</td></tr>\n",
              "\t<tr><td>2022-08-15 14:00:00</td><td> 5</td><td> 5</td><td> 1</td><td>10</td><td> 8</td><td> 4</td><td>0</td><td>2</td><td> 4</td><td> 6</td></tr>\n",
              "\t<tr><td>2022-08-15 20:00:00</td><td>11</td><td> 3</td><td> 3</td><td> 2</td><td> 5</td><td> 4</td><td>3</td><td>0</td><td> 3</td><td> 2</td></tr>\n",
              "\t<tr><td>2022-08-16 08:00:00</td><td> 6</td><td> 4</td><td> 5</td><td>19</td><td> 5</td><td> 7</td><td>3</td><td>5</td><td> 2</td><td> 7</td></tr>\n",
              "\t<tr><td>2022-08-16 14:00:00</td><td> 2</td><td> 7</td><td> 1</td><td>20</td><td> 5</td><td> 4</td><td>1</td><td>3</td><td> 4</td><td> 5</td></tr>\n",
              "\t<tr><td>2022-08-16 20:00:00</td><td> 7</td><td> 7</td><td> 5</td><td>28</td><td>11</td><td> 4</td><td>4</td><td>0</td><td> 8</td><td> 0</td></tr>\n",
              "\t<tr><td>2022-08-17 08:00:00</td><td> 6</td><td> 5</td><td> 6</td><td>21</td><td> 5</td><td> 2</td><td>2</td><td>5</td><td> 6</td><td> 3</td></tr>\n",
              "\t<tr><td>2022-08-17 14:00:00</td><td> 8</td><td> 6</td><td> 5</td><td>23</td><td> 6</td><td> 4</td><td>1</td><td>6</td><td> 5</td><td> 3</td></tr>\n",
              "\t<tr><td>2022-08-17 20:00:00</td><td> 3</td><td> 3</td><td> 4</td><td> 2</td><td> 0</td><td> 5</td><td>1</td><td>1</td><td> 2</td><td> 5</td></tr>\n",
              "\t<tr><td>2022-08-18 08:00:00</td><td> 5</td><td>11</td><td> 3</td><td> 6</td><td> 0</td><td> 2</td><td>1</td><td>1</td><td> 0</td><td> 6</td></tr>\n",
              "\t<tr><td>2022-08-18 14:00:00</td><td>10</td><td>10</td><td> 2</td><td>10</td><td> 4</td><td> 5</td><td>2</td><td>0</td><td> 4</td><td> 3</td></tr>\n",
              "\t<tr><td>2022-08-18 20:00:00</td><td> 3</td><td>10</td><td>10</td><td> 6</td><td> 3</td><td> 8</td><td>2</td><td>4</td><td> 1</td><td> 9</td></tr>\n",
              "\t<tr><td>2022-08-19 08:00:00</td><td> 3</td><td> 6</td><td> 8</td><td> 3</td><td> 2</td><td> 8</td><td>2</td><td>6</td><td> 0</td><td> 6</td></tr>\n",
              "\t<tr><td>2022-08-19 14:00:00</td><td> 6</td><td>10</td><td> 5</td><td> 2</td><td> 1</td><td> 9</td><td>0</td><td>4</td><td> 3</td><td> 5</td></tr>\n",
              "\t<tr><td>2022-08-19 20:00:00</td><td> 6</td><td> 8</td><td>14</td><td> 5</td><td> 4</td><td> 3</td><td>0</td><td>4</td><td> 5</td><td> 2</td></tr>\n",
              "\t<tr><td>2022-08-22 08:00:00</td><td>14</td><td> 4</td><td> 9</td><td> 1</td><td> 1</td><td> 4</td><td>1</td><td>3</td><td> 2</td><td> 7</td></tr>\n",
              "\t<tr><td>2022-08-22 14:00:00</td><td>12</td><td>11</td><td> 5</td><td>13</td><td> 1</td><td> 4</td><td>3</td><td>2</td><td> 5</td><td> 9</td></tr>\n",
              "\t<tr><td>2022-08-22 20:00:00</td><td> 0</td><td>11</td><td> 8</td><td> 0</td><td> 1</td><td> 3</td><td>4</td><td>4</td><td> 1</td><td> 4</td></tr>\n",
              "\t<tr><td>2022-08-23 08:00:00</td><td> 1</td><td> 6</td><td> 9</td><td> 7</td><td> 1</td><td> 3</td><td>4</td><td>2</td><td> 1</td><td> 4</td></tr>\n",
              "\t<tr><td>2022-08-23 14:00:00</td><td> 9</td><td> 7</td><td> 1</td><td> 6</td><td> 0</td><td> 6</td><td>3</td><td>1</td><td> 0</td><td> 3</td></tr>\n",
              "\t<tr><td>2022-08-23 20:00:00</td><td> 4</td><td> 7</td><td>10</td><td> 1</td><td> 1</td><td> 0</td><td>0</td><td>2</td><td> 1</td><td> 7</td></tr>\n",
              "\t<tr><td>2022-08-24 08:00:00</td><td> 1</td><td> 4</td><td> 1</td><td> 2</td><td> 1</td><td> 4</td><td>4</td><td>3</td><td> 3</td><td> 2</td></tr>\n",
              "\t<tr><td>2022-08-24 14:00:00</td><td> 0</td><td> 8</td><td> 3</td><td> 3</td><td> 5</td><td> 4</td><td>0</td><td>2</td><td> 6</td><td> 2</td></tr>\n",
              "\t<tr><td>2022-08-24 20:00:00</td><td> 5</td><td> 6</td><td> 8</td><td> 1</td><td> 3</td><td> 3</td><td>2</td><td>0</td><td> 1</td><td> 1</td></tr>\n",
              "\t<tr><td>2022-08-25 08:00:00</td><td> 5</td><td> 8</td><td> 3</td><td> 2</td><td> 2</td><td> 3</td><td>1</td><td>3</td><td> 1</td><td> 3</td></tr>\n",
              "\t<tr><td>2022-08-25 14:00:00</td><td> 4</td><td>10</td><td> 0</td><td>20</td><td> 2</td><td> 5</td><td>2</td><td>1</td><td> 3</td><td> 4</td></tr>\n",
              "\t<tr><td>2022-08-25 20:00:00</td><td> 5</td><td> 4</td><td> 9</td><td> 0</td><td> 1</td><td> 8</td><td>1</td><td>2</td><td> 5</td><td> 2</td></tr>\n",
              "\t<tr><td>2022-08-26 08:00:00</td><td> 5</td><td> 4</td><td>14</td><td> 8</td><td> 1</td><td> 7</td><td>1</td><td>3</td><td> 3</td><td> 5</td></tr>\n",
              "\t<tr><td>2022-08-26 14:00:00</td><td> 5</td><td> 9</td><td> 5</td><td> 0</td><td> 2</td><td> 5</td><td>0</td><td>3</td><td> 5</td><td> 2</td></tr>\n",
              "\t<tr><td>2022-08-26 20:00:00</td><td> 5</td><td> 2</td><td> 5</td><td> 9</td><td> 1</td><td> 4</td><td>0</td><td>0</td><td> 2</td><td> 7</td></tr>\n",
              "</tbody>\n",
              "</table>\n"
            ],
            "text/markdown": "\nA data.frame: 60 × 11\n\n| dias &lt;dttm&gt; | inventario_est1 &lt;dbl&gt; | inventario_est2 &lt;dbl&gt; | inventario_est3 &lt;dbl&gt; | inventario_est4 &lt;dbl&gt; | inventario_est5 &lt;dbl&gt; | inventario_est6 &lt;dbl&gt; | inventario_est7 &lt;dbl&gt; | inventario_est8 &lt;dbl&gt; | inventario_est9 &lt;dbl&gt; | inventario_est10 &lt;dbl&gt; |\n|---|---|---|---|---|---|---|---|---|---|---|\n| 2022-08-01 08:00:00 | 14 |  8 |  5 | 12 | 11 |  6 | 2 | 0 | 12 |  0 |\n| 2022-08-01 14:00:00 | 14 | 11 |  1 | 11 |  9 |  7 | 4 | 0 | 12 |  8 |\n| 2022-08-01 20:00:00 |  9 |  7 |  9 |  6 |  8 |  9 | 6 | 5 |  3 |  6 |\n| 2022-08-02 08:00:00 |  7 |  9 |  9 | 13 |  5 | 10 | 3 | 1 |  4 |  0 |\n| 2022-08-02 14:00:00 | 12 |  3 |  0 |  7 |  4 |  1 | 1 | 5 |  1 |  6 |\n| 2022-08-02 20:00:00 | 12 | 11 |  9 |  9 |  9 |  6 | 7 | 4 |  5 |  8 |\n| 2022-08-03 08:00:00 | 11 |  8 |  9 |  7 |  9 |  6 | 7 | 4 |  3 |  5 |\n| 2022-08-03 14:00:00 | 16 |  4 |  1 |  7 |  1 |  7 | 0 | 0 |  1 | 12 |\n| 2022-08-03 20:00:00 | 14 |  6 | 11 | 10 |  6 |  5 | 1 | 4 |  4 |  2 |\n| 2022-08-04 08:00:00 | 11 |  5 | 10 |  6 |  5 |  7 | 1 | 3 |  0 |  2 |\n| 2022-08-04 14:00:00 |  6 |  4 |  0 |  8 |  4 |  7 | 0 | 0 |  3 |  7 |\n| 2022-08-04 20:00:00 |  8 |  9 | 12 |  7 |  7 |  8 | 3 | 1 |  8 |  7 |\n| 2022-08-05 08:00:00 |  6 |  4 |  7 |  5 |  6 |  7 | 6 | 2 |  3 |  5 |\n| 2022-08-05 14:00:00 |  6 | 10 |  0 | 14 |  2 |  5 | 2 | 4 |  0 |  2 |\n| 2022-08-05 20:00:00 | 14 |  4 |  6 |  4 |  6 |  6 | 9 | 5 |  7 |  3 |\n| 2022-08-08 08:00:00 | 11 |  9 |  5 | 10 |  4 |  8 | 4 | 5 |  5 | 11 |\n| 2022-08-08 14:00:00 |  8 |  5 |  2 | 13 |  3 |  2 | 3 | 5 |  8 | 10 |\n| 2022-08-08 20:00:00 | 13 |  6 |  4 |  5 |  4 | 10 | 0 | 3 |  5 |  8 |\n| 2022-08-09 08:00:00 |  3 | 11 |  6 | 13 |  2 |  6 | 1 | 3 |  3 |  3 |\n| 2022-08-09 14:00:00 |  6 | 10 |  2 | 11 |  2 |  8 | 0 | 1 |  2 |  4 |\n| 2022-08-09 20:00:00 | 16 |  2 |  7 | 16 |  1 |  4 | 0 | 0 |  9 |  1 |\n| 2022-08-10 08:00:00 |  6 |  2 |  3 |  9 |  6 |  7 | 5 | 5 |  6 |  1 |\n| 2022-08-10 14:00:00 |  7 |  7 |  1 |  9 |  3 |  8 | 2 | 3 |  5 |  8 |\n| 2022-08-10 20:00:00 | 15 |  6 |  5 |  3 |  2 |  7 | 2 | 1 |  1 | 11 |\n| 2022-08-11 08:00:00 |  8 |  7 |  8 |  3 |  2 |  4 | 1 | 3 |  0 |  6 |\n| 2022-08-11 14:00:00 |  8 |  8 |  3 |  5 |  2 |  2 | 1 | 0 |  2 | 10 |\n| 2022-08-11 20:00:00 | 13 |  7 |  6 |  1 |  2 |  0 | 1 | 0 |  6 |  1 |\n| 2022-08-12 08:00:00 |  9 |  4 |  8 | 10 |  3 |  2 | 3 | 5 |  2 |  0 |\n| 2022-08-12 14:00:00 | 10 |  8 |  2 | 17 |  4 |  1 | 3 | 2 |  2 |  5 |\n| 2022-08-12 20:00:00 |  8 |  5 |  6 | 11 |  3 |  4 | 2 | 1 | 10 |  8 |\n| 2022-08-15 08:00:00 |  3 |  3 |  1 | 12 |  7 |  7 | 1 | 3 |  3 |  9 |\n| 2022-08-15 14:00:00 |  5 |  5 |  1 | 10 |  8 |  4 | 0 | 2 |  4 |  6 |\n| 2022-08-15 20:00:00 | 11 |  3 |  3 |  2 |  5 |  4 | 3 | 0 |  3 |  2 |\n| 2022-08-16 08:00:00 |  6 |  4 |  5 | 19 |  5 |  7 | 3 | 5 |  2 |  7 |\n| 2022-08-16 14:00:00 |  2 |  7 |  1 | 20 |  5 |  4 | 1 | 3 |  4 |  5 |\n| 2022-08-16 20:00:00 |  7 |  7 |  5 | 28 | 11 |  4 | 4 | 0 |  8 |  0 |\n| 2022-08-17 08:00:00 |  6 |  5 |  6 | 21 |  5 |  2 | 2 | 5 |  6 |  3 |\n| 2022-08-17 14:00:00 |  8 |  6 |  5 | 23 |  6 |  4 | 1 | 6 |  5 |  3 |\n| 2022-08-17 20:00:00 |  3 |  3 |  4 |  2 |  0 |  5 | 1 | 1 |  2 |  5 |\n| 2022-08-18 08:00:00 |  5 | 11 |  3 |  6 |  0 |  2 | 1 | 1 |  0 |  6 |\n| 2022-08-18 14:00:00 | 10 | 10 |  2 | 10 |  4 |  5 | 2 | 0 |  4 |  3 |\n| 2022-08-18 20:00:00 |  3 | 10 | 10 |  6 |  3 |  8 | 2 | 4 |  1 |  9 |\n| 2022-08-19 08:00:00 |  3 |  6 |  8 |  3 |  2 |  8 | 2 | 6 |  0 |  6 |\n| 2022-08-19 14:00:00 |  6 | 10 |  5 |  2 |  1 |  9 | 0 | 4 |  3 |  5 |\n| 2022-08-19 20:00:00 |  6 |  8 | 14 |  5 |  4 |  3 | 0 | 4 |  5 |  2 |\n| 2022-08-22 08:00:00 | 14 |  4 |  9 |  1 |  1 |  4 | 1 | 3 |  2 |  7 |\n| 2022-08-22 14:00:00 | 12 | 11 |  5 | 13 |  1 |  4 | 3 | 2 |  5 |  9 |\n| 2022-08-22 20:00:00 |  0 | 11 |  8 |  0 |  1 |  3 | 4 | 4 |  1 |  4 |\n| 2022-08-23 08:00:00 |  1 |  6 |  9 |  7 |  1 |  3 | 4 | 2 |  1 |  4 |\n| 2022-08-23 14:00:00 |  9 |  7 |  1 |  6 |  0 |  6 | 3 | 1 |  0 |  3 |\n| 2022-08-23 20:00:00 |  4 |  7 | 10 |  1 |  1 |  0 | 0 | 2 |  1 |  7 |\n| 2022-08-24 08:00:00 |  1 |  4 |  1 |  2 |  1 |  4 | 4 | 3 |  3 |  2 |\n| 2022-08-24 14:00:00 |  0 |  8 |  3 |  3 |  5 |  4 | 0 | 2 |  6 |  2 |\n| 2022-08-24 20:00:00 |  5 |  6 |  8 |  1 |  3 |  3 | 2 | 0 |  1 |  1 |\n| 2022-08-25 08:00:00 |  5 |  8 |  3 |  2 |  2 |  3 | 1 | 3 |  1 |  3 |\n| 2022-08-25 14:00:00 |  4 | 10 |  0 | 20 |  2 |  5 | 2 | 1 |  3 |  4 |\n| 2022-08-25 20:00:00 |  5 |  4 |  9 |  0 |  1 |  8 | 1 | 2 |  5 |  2 |\n| 2022-08-26 08:00:00 |  5 |  4 | 14 |  8 |  1 |  7 | 1 | 3 |  3 |  5 |\n| 2022-08-26 14:00:00 |  5 |  9 |  5 |  0 |  2 |  5 | 0 | 3 |  5 |  2 |\n| 2022-08-26 20:00:00 |  5 |  2 |  5 |  9 |  1 |  4 | 0 | 0 |  2 |  7 |\n\n",
            "text/latex": "A data.frame: 60 × 11\n\\begin{tabular}{lllllllllll}\n dias & inventario\\_est1 & inventario\\_est2 & inventario\\_est3 & inventario\\_est4 & inventario\\_est5 & inventario\\_est6 & inventario\\_est7 & inventario\\_est8 & inventario\\_est9 & inventario\\_est10\\\\\n <dttm> & <dbl> & <dbl> & <dbl> & <dbl> & <dbl> & <dbl> & <dbl> & <dbl> & <dbl> & <dbl>\\\\\n\\hline\n\t 2022-08-01 08:00:00 & 14 &  8 &  5 & 12 & 11 &  6 & 2 & 0 & 12 &  0\\\\\n\t 2022-08-01 14:00:00 & 14 & 11 &  1 & 11 &  9 &  7 & 4 & 0 & 12 &  8\\\\\n\t 2022-08-01 20:00:00 &  9 &  7 &  9 &  6 &  8 &  9 & 6 & 5 &  3 &  6\\\\\n\t 2022-08-02 08:00:00 &  7 &  9 &  9 & 13 &  5 & 10 & 3 & 1 &  4 &  0\\\\\n\t 2022-08-02 14:00:00 & 12 &  3 &  0 &  7 &  4 &  1 & 1 & 5 &  1 &  6\\\\\n\t 2022-08-02 20:00:00 & 12 & 11 &  9 &  9 &  9 &  6 & 7 & 4 &  5 &  8\\\\\n\t 2022-08-03 08:00:00 & 11 &  8 &  9 &  7 &  9 &  6 & 7 & 4 &  3 &  5\\\\\n\t 2022-08-03 14:00:00 & 16 &  4 &  1 &  7 &  1 &  7 & 0 & 0 &  1 & 12\\\\\n\t 2022-08-03 20:00:00 & 14 &  6 & 11 & 10 &  6 &  5 & 1 & 4 &  4 &  2\\\\\n\t 2022-08-04 08:00:00 & 11 &  5 & 10 &  6 &  5 &  7 & 1 & 3 &  0 &  2\\\\\n\t 2022-08-04 14:00:00 &  6 &  4 &  0 &  8 &  4 &  7 & 0 & 0 &  3 &  7\\\\\n\t 2022-08-04 20:00:00 &  8 &  9 & 12 &  7 &  7 &  8 & 3 & 1 &  8 &  7\\\\\n\t 2022-08-05 08:00:00 &  6 &  4 &  7 &  5 &  6 &  7 & 6 & 2 &  3 &  5\\\\\n\t 2022-08-05 14:00:00 &  6 & 10 &  0 & 14 &  2 &  5 & 2 & 4 &  0 &  2\\\\\n\t 2022-08-05 20:00:00 & 14 &  4 &  6 &  4 &  6 &  6 & 9 & 5 &  7 &  3\\\\\n\t 2022-08-08 08:00:00 & 11 &  9 &  5 & 10 &  4 &  8 & 4 & 5 &  5 & 11\\\\\n\t 2022-08-08 14:00:00 &  8 &  5 &  2 & 13 &  3 &  2 & 3 & 5 &  8 & 10\\\\\n\t 2022-08-08 20:00:00 & 13 &  6 &  4 &  5 &  4 & 10 & 0 & 3 &  5 &  8\\\\\n\t 2022-08-09 08:00:00 &  3 & 11 &  6 & 13 &  2 &  6 & 1 & 3 &  3 &  3\\\\\n\t 2022-08-09 14:00:00 &  6 & 10 &  2 & 11 &  2 &  8 & 0 & 1 &  2 &  4\\\\\n\t 2022-08-09 20:00:00 & 16 &  2 &  7 & 16 &  1 &  4 & 0 & 0 &  9 &  1\\\\\n\t 2022-08-10 08:00:00 &  6 &  2 &  3 &  9 &  6 &  7 & 5 & 5 &  6 &  1\\\\\n\t 2022-08-10 14:00:00 &  7 &  7 &  1 &  9 &  3 &  8 & 2 & 3 &  5 &  8\\\\\n\t 2022-08-10 20:00:00 & 15 &  6 &  5 &  3 &  2 &  7 & 2 & 1 &  1 & 11\\\\\n\t 2022-08-11 08:00:00 &  8 &  7 &  8 &  3 &  2 &  4 & 1 & 3 &  0 &  6\\\\\n\t 2022-08-11 14:00:00 &  8 &  8 &  3 &  5 &  2 &  2 & 1 & 0 &  2 & 10\\\\\n\t 2022-08-11 20:00:00 & 13 &  7 &  6 &  1 &  2 &  0 & 1 & 0 &  6 &  1\\\\\n\t 2022-08-12 08:00:00 &  9 &  4 &  8 & 10 &  3 &  2 & 3 & 5 &  2 &  0\\\\\n\t 2022-08-12 14:00:00 & 10 &  8 &  2 & 17 &  4 &  1 & 3 & 2 &  2 &  5\\\\\n\t 2022-08-12 20:00:00 &  8 &  5 &  6 & 11 &  3 &  4 & 2 & 1 & 10 &  8\\\\\n\t 2022-08-15 08:00:00 &  3 &  3 &  1 & 12 &  7 &  7 & 1 & 3 &  3 &  9\\\\\n\t 2022-08-15 14:00:00 &  5 &  5 &  1 & 10 &  8 &  4 & 0 & 2 &  4 &  6\\\\\n\t 2022-08-15 20:00:00 & 11 &  3 &  3 &  2 &  5 &  4 & 3 & 0 &  3 &  2\\\\\n\t 2022-08-16 08:00:00 &  6 &  4 &  5 & 19 &  5 &  7 & 3 & 5 &  2 &  7\\\\\n\t 2022-08-16 14:00:00 &  2 &  7 &  1 & 20 &  5 &  4 & 1 & 3 &  4 &  5\\\\\n\t 2022-08-16 20:00:00 &  7 &  7 &  5 & 28 & 11 &  4 & 4 & 0 &  8 &  0\\\\\n\t 2022-08-17 08:00:00 &  6 &  5 &  6 & 21 &  5 &  2 & 2 & 5 &  6 &  3\\\\\n\t 2022-08-17 14:00:00 &  8 &  6 &  5 & 23 &  6 &  4 & 1 & 6 &  5 &  3\\\\\n\t 2022-08-17 20:00:00 &  3 &  3 &  4 &  2 &  0 &  5 & 1 & 1 &  2 &  5\\\\\n\t 2022-08-18 08:00:00 &  5 & 11 &  3 &  6 &  0 &  2 & 1 & 1 &  0 &  6\\\\\n\t 2022-08-18 14:00:00 & 10 & 10 &  2 & 10 &  4 &  5 & 2 & 0 &  4 &  3\\\\\n\t 2022-08-18 20:00:00 &  3 & 10 & 10 &  6 &  3 &  8 & 2 & 4 &  1 &  9\\\\\n\t 2022-08-19 08:00:00 &  3 &  6 &  8 &  3 &  2 &  8 & 2 & 6 &  0 &  6\\\\\n\t 2022-08-19 14:00:00 &  6 & 10 &  5 &  2 &  1 &  9 & 0 & 4 &  3 &  5\\\\\n\t 2022-08-19 20:00:00 &  6 &  8 & 14 &  5 &  4 &  3 & 0 & 4 &  5 &  2\\\\\n\t 2022-08-22 08:00:00 & 14 &  4 &  9 &  1 &  1 &  4 & 1 & 3 &  2 &  7\\\\\n\t 2022-08-22 14:00:00 & 12 & 11 &  5 & 13 &  1 &  4 & 3 & 2 &  5 &  9\\\\\n\t 2022-08-22 20:00:00 &  0 & 11 &  8 &  0 &  1 &  3 & 4 & 4 &  1 &  4\\\\\n\t 2022-08-23 08:00:00 &  1 &  6 &  9 &  7 &  1 &  3 & 4 & 2 &  1 &  4\\\\\n\t 2022-08-23 14:00:00 &  9 &  7 &  1 &  6 &  0 &  6 & 3 & 1 &  0 &  3\\\\\n\t 2022-08-23 20:00:00 &  4 &  7 & 10 &  1 &  1 &  0 & 0 & 2 &  1 &  7\\\\\n\t 2022-08-24 08:00:00 &  1 &  4 &  1 &  2 &  1 &  4 & 4 & 3 &  3 &  2\\\\\n\t 2022-08-24 14:00:00 &  0 &  8 &  3 &  3 &  5 &  4 & 0 & 2 &  6 &  2\\\\\n\t 2022-08-24 20:00:00 &  5 &  6 &  8 &  1 &  3 &  3 & 2 & 0 &  1 &  1\\\\\n\t 2022-08-25 08:00:00 &  5 &  8 &  3 &  2 &  2 &  3 & 1 & 3 &  1 &  3\\\\\n\t 2022-08-25 14:00:00 &  4 & 10 &  0 & 20 &  2 &  5 & 2 & 1 &  3 &  4\\\\\n\t 2022-08-25 20:00:00 &  5 &  4 &  9 &  0 &  1 &  8 & 1 & 2 &  5 &  2\\\\\n\t 2022-08-26 08:00:00 &  5 &  4 & 14 &  8 &  1 &  7 & 1 & 3 &  3 &  5\\\\\n\t 2022-08-26 14:00:00 &  5 &  9 &  5 &  0 &  2 &  5 & 0 & 3 &  5 &  2\\\\\n\t 2022-08-26 20:00:00 &  5 &  2 &  5 &  9 &  1 &  4 & 0 & 0 &  2 &  7\\\\\n\\end{tabular}\n",
            "text/plain": [
              "   dias                inventario_est1 inventario_est2 inventario_est3\n",
              "1  2022-08-01 08:00:00 14               8               5             \n",
              "2  2022-08-01 14:00:00 14              11               1             \n",
              "3  2022-08-01 20:00:00  9               7               9             \n",
              "4  2022-08-02 08:00:00  7               9               9             \n",
              "5  2022-08-02 14:00:00 12               3               0             \n",
              "6  2022-08-02 20:00:00 12              11               9             \n",
              "7  2022-08-03 08:00:00 11               8               9             \n",
              "8  2022-08-03 14:00:00 16               4               1             \n",
              "9  2022-08-03 20:00:00 14               6              11             \n",
              "10 2022-08-04 08:00:00 11               5              10             \n",
              "11 2022-08-04 14:00:00  6               4               0             \n",
              "12 2022-08-04 20:00:00  8               9              12             \n",
              "13 2022-08-05 08:00:00  6               4               7             \n",
              "14 2022-08-05 14:00:00  6              10               0             \n",
              "15 2022-08-05 20:00:00 14               4               6             \n",
              "16 2022-08-08 08:00:00 11               9               5             \n",
              "17 2022-08-08 14:00:00  8               5               2             \n",
              "18 2022-08-08 20:00:00 13               6               4             \n",
              "19 2022-08-09 08:00:00  3              11               6             \n",
              "20 2022-08-09 14:00:00  6              10               2             \n",
              "21 2022-08-09 20:00:00 16               2               7             \n",
              "22 2022-08-10 08:00:00  6               2               3             \n",
              "23 2022-08-10 14:00:00  7               7               1             \n",
              "24 2022-08-10 20:00:00 15               6               5             \n",
              "25 2022-08-11 08:00:00  8               7               8             \n",
              "26 2022-08-11 14:00:00  8               8               3             \n",
              "27 2022-08-11 20:00:00 13               7               6             \n",
              "28 2022-08-12 08:00:00  9               4               8             \n",
              "29 2022-08-12 14:00:00 10               8               2             \n",
              "30 2022-08-12 20:00:00  8               5               6             \n",
              "31 2022-08-15 08:00:00  3               3               1             \n",
              "32 2022-08-15 14:00:00  5               5               1             \n",
              "33 2022-08-15 20:00:00 11               3               3             \n",
              "34 2022-08-16 08:00:00  6               4               5             \n",
              "35 2022-08-16 14:00:00  2               7               1             \n",
              "36 2022-08-16 20:00:00  7               7               5             \n",
              "37 2022-08-17 08:00:00  6               5               6             \n",
              "38 2022-08-17 14:00:00  8               6               5             \n",
              "39 2022-08-17 20:00:00  3               3               4             \n",
              "40 2022-08-18 08:00:00  5              11               3             \n",
              "41 2022-08-18 14:00:00 10              10               2             \n",
              "42 2022-08-18 20:00:00  3              10              10             \n",
              "43 2022-08-19 08:00:00  3               6               8             \n",
              "44 2022-08-19 14:00:00  6              10               5             \n",
              "45 2022-08-19 20:00:00  6               8              14             \n",
              "46 2022-08-22 08:00:00 14               4               9             \n",
              "47 2022-08-22 14:00:00 12              11               5             \n",
              "48 2022-08-22 20:00:00  0              11               8             \n",
              "49 2022-08-23 08:00:00  1               6               9             \n",
              "50 2022-08-23 14:00:00  9               7               1             \n",
              "51 2022-08-23 20:00:00  4               7              10             \n",
              "52 2022-08-24 08:00:00  1               4               1             \n",
              "53 2022-08-24 14:00:00  0               8               3             \n",
              "54 2022-08-24 20:00:00  5               6               8             \n",
              "55 2022-08-25 08:00:00  5               8               3             \n",
              "56 2022-08-25 14:00:00  4              10               0             \n",
              "57 2022-08-25 20:00:00  5               4               9             \n",
              "58 2022-08-26 08:00:00  5               4              14             \n",
              "59 2022-08-26 14:00:00  5               9               5             \n",
              "60 2022-08-26 20:00:00  5               2               5             \n",
              "   inventario_est4 inventario_est5 inventario_est6 inventario_est7\n",
              "1  12              11               6              2              \n",
              "2  11               9               7              4              \n",
              "3   6               8               9              6              \n",
              "4  13               5              10              3              \n",
              "5   7               4               1              1              \n",
              "6   9               9               6              7              \n",
              "7   7               9               6              7              \n",
              "8   7               1               7              0              \n",
              "9  10               6               5              1              \n",
              "10  6               5               7              1              \n",
              "11  8               4               7              0              \n",
              "12  7               7               8              3              \n",
              "13  5               6               7              6              \n",
              "14 14               2               5              2              \n",
              "15  4               6               6              9              \n",
              "16 10               4               8              4              \n",
              "17 13               3               2              3              \n",
              "18  5               4              10              0              \n",
              "19 13               2               6              1              \n",
              "20 11               2               8              0              \n",
              "21 16               1               4              0              \n",
              "22  9               6               7              5              \n",
              "23  9               3               8              2              \n",
              "24  3               2               7              2              \n",
              "25  3               2               4              1              \n",
              "26  5               2               2              1              \n",
              "27  1               2               0              1              \n",
              "28 10               3               2              3              \n",
              "29 17               4               1              3              \n",
              "30 11               3               4              2              \n",
              "31 12               7               7              1              \n",
              "32 10               8               4              0              \n",
              "33  2               5               4              3              \n",
              "34 19               5               7              3              \n",
              "35 20               5               4              1              \n",
              "36 28              11               4              4              \n",
              "37 21               5               2              2              \n",
              "38 23               6               4              1              \n",
              "39  2               0               5              1              \n",
              "40  6               0               2              1              \n",
              "41 10               4               5              2              \n",
              "42  6               3               8              2              \n",
              "43  3               2               8              2              \n",
              "44  2               1               9              0              \n",
              "45  5               4               3              0              \n",
              "46  1               1               4              1              \n",
              "47 13               1               4              3              \n",
              "48  0               1               3              4              \n",
              "49  7               1               3              4              \n",
              "50  6               0               6              3              \n",
              "51  1               1               0              0              \n",
              "52  2               1               4              4              \n",
              "53  3               5               4              0              \n",
              "54  1               3               3              2              \n",
              "55  2               2               3              1              \n",
              "56 20               2               5              2              \n",
              "57  0               1               8              1              \n",
              "58  8               1               7              1              \n",
              "59  0               2               5              0              \n",
              "60  9               1               4              0              \n",
              "   inventario_est8 inventario_est9 inventario_est10\n",
              "1  0               12               0              \n",
              "2  0               12               8              \n",
              "3  5                3               6              \n",
              "4  1                4               0              \n",
              "5  5                1               6              \n",
              "6  4                5               8              \n",
              "7  4                3               5              \n",
              "8  0                1              12              \n",
              "9  4                4               2              \n",
              "10 3                0               2              \n",
              "11 0                3               7              \n",
              "12 1                8               7              \n",
              "13 2                3               5              \n",
              "14 4                0               2              \n",
              "15 5                7               3              \n",
              "16 5                5              11              \n",
              "17 5                8              10              \n",
              "18 3                5               8              \n",
              "19 3                3               3              \n",
              "20 1                2               4              \n",
              "21 0                9               1              \n",
              "22 5                6               1              \n",
              "23 3                5               8              \n",
              "24 1                1              11              \n",
              "25 3                0               6              \n",
              "26 0                2              10              \n",
              "27 0                6               1              \n",
              "28 5                2               0              \n",
              "29 2                2               5              \n",
              "30 1               10               8              \n",
              "31 3                3               9              \n",
              "32 2                4               6              \n",
              "33 0                3               2              \n",
              "34 5                2               7              \n",
              "35 3                4               5              \n",
              "36 0                8               0              \n",
              "37 5                6               3              \n",
              "38 6                5               3              \n",
              "39 1                2               5              \n",
              "40 1                0               6              \n",
              "41 0                4               3              \n",
              "42 4                1               9              \n",
              "43 6                0               6              \n",
              "44 4                3               5              \n",
              "45 4                5               2              \n",
              "46 3                2               7              \n",
              "47 2                5               9              \n",
              "48 4                1               4              \n",
              "49 2                1               4              \n",
              "50 1                0               3              \n",
              "51 2                1               7              \n",
              "52 3                3               2              \n",
              "53 2                6               2              \n",
              "54 0                1               1              \n",
              "55 3                1               3              \n",
              "56 1                3               4              \n",
              "57 2                5               2              \n",
              "58 3                3               5              \n",
              "59 3                5               2              \n",
              "60 0                2               7              "
            ]
          },
          "metadata": {}
        }
      ]
    },
    {
      "cell_type": "markdown",
      "source": [
        "<a id='Algortimo-Grid'></a>\n",
        "### Algoritmo Grid\n",
        "\n",
        "[Inicio ▲](#Indice)"
      ],
      "metadata": {
        "id": "5dnzilblvl9I"
      }
    },
    {
      "cell_type": "markdown",
      "source": [
        "Carga de las librerias requeridas"
      ],
      "metadata": {
        "id": "gpc2P7ikOdLw"
      }
    },
    {
      "cell_type": "code",
      "source": [
        "install.packages(\"h2o\")\n",
        "install.packages(\"timetk\")\n",
        "install.packages(\"dplyr\")\n",
        "\n",
        "library(h2o)\n",
        "library(timetk)\n",
        "library(dplyr)"
      ],
      "metadata": {
        "id": "4f5U1SgbPmWb"
      },
      "execution_count": null,
      "outputs": []
    },
    {
      "cell_type": "markdown",
      "source": [
        "Preprocesamiento de los datos"
      ],
      "metadata": {
        "id": "8luW-Uy0P-m5"
      }
    },
    {
      "cell_type": "code",
      "source": [
        "#transformacion del mes segun el timetk\n",
        "mes<-mes%>%tk_augment_timeseries_signature()\n",
        "\n",
        "#limpiar los NA\n",
        "mes<-mes%>%\n",
        "  select_if(~!any(is.na(.)))%>%\n",
        "  mutate_if(is.ordered,~as.character(.)%>%as.factor)\n",
        "\n",
        "#generacion del set de datos train y valid\n",
        "train<-mes[1:46,]\n",
        "valid<-mes[46:60,]"
      ],
      "metadata": {
        "id": "kE7j6VHAO-P_"
      },
      "execution_count": null,
      "outputs": []
    },
    {
      "cell_type": "markdown",
      "source": [
        "Inicialización de h2o"
      ],
      "metadata": {
        "id": "VGxtw_W-PceP"
      }
    },
    {
      "cell_type": "code",
      "source": [
        "h2o.init(max_mem_size =  \"10g\",min_mem_size = \"1g\")"
      ],
      "metadata": {
        "id": "FY-Klv-RPg9i"
      },
      "execution_count": null,
      "outputs": []
    },
    {
      "cell_type": "code",
      "source": [
        "h2o.shutdown()"
      ],
      "metadata": {
        "id": "cQPwVoB1PnRQ"
      },
      "execution_count": null,
      "outputs": []
    },
    {
      "cell_type": "code",
      "source": [
        "#transformar el data.frame en un formato h2o\n",
        "train_h2o<-as.h2o(train)\n",
        "valid_h2o<-as.h2o(valid)"
      ],
      "metadata": {
        "id": "MUH8XxNzQuD5"
      },
      "execution_count": null,
      "outputs": []
    },
    {
      "cell_type": "markdown",
      "source": [
        "## Grid de la estación con GBM"
      ],
      "metadata": {
        "id": "DDJqBRAqQ41H"
      }
    },
    {
      "cell_type": "markdown",
      "source": [
        "### Criterios de las estaciones"
      ],
      "metadata": {
        "id": "cVNjw_jPA-dc"
      }
    },
    {
      "cell_type": "code",
      "source": [
        "criterio_gbm_est1<-list(strategy=\"RandomDiscrete\",max_models=700,seed=1)"
      ],
      "metadata": {
        "id": "J8pYZKegQ_vn"
      },
      "execution_count": null,
      "outputs": []
    },
    {
      "cell_type": "code",
      "source": [
        "criterio_gbm_est2<-list(strategy=\"RandomDiscrete\",max_models=700,seed=1)"
      ],
      "metadata": {
        "id": "SNgVVoUHESSU"
      },
      "execution_count": null,
      "outputs": []
    },
    {
      "cell_type": "code",
      "source": [
        "criterio_gbm_est3<-list(strategy=\"RandomDiscrete\",max_models=700,seed=1)"
      ],
      "metadata": {
        "id": "Qv4kYRz-EUoZ"
      },
      "execution_count": null,
      "outputs": []
    },
    {
      "cell_type": "code",
      "source": [
        "criterio_gbm_est4<-list(strategy=\"RandomDiscrete\",max_models=700,seed=1)"
      ],
      "metadata": {
        "id": "fUfJpeCnEW0p"
      },
      "execution_count": null,
      "outputs": []
    },
    {
      "cell_type": "code",
      "source": [
        "criterio_gbm_est5<-list(strategy=\"RandomDiscrete\",max_models=700,seed=1)"
      ],
      "metadata": {
        "id": "agrgAIqREYdT"
      },
      "execution_count": null,
      "outputs": []
    },
    {
      "cell_type": "code",
      "source": [
        "criterio_gbm_est6<-list(strategy=\"RandomDiscrete\",max_models=700,seed=1)"
      ],
      "metadata": {
        "id": "ooHwzSvNEaBB"
      },
      "execution_count": null,
      "outputs": []
    },
    {
      "cell_type": "code",
      "source": [
        "criterio_gbm_est7<-list(strategy=\"RandomDiscrete\",max_models=700,seed=1)"
      ],
      "metadata": {
        "id": "C3ICL9pAEbRR"
      },
      "execution_count": null,
      "outputs": []
    },
    {
      "cell_type": "code",
      "source": [
        "criterio_gbm_est8<-list(strategy=\"RandomDiscrete\",max_models=700,seed=1)"
      ],
      "metadata": {
        "id": "d4_v5V_rEct6"
      },
      "execution_count": null,
      "outputs": []
    },
    {
      "cell_type": "code",
      "source": [
        "criterio_gbm_est9<-list(strategy=\"RandomDiscrete\",max_models=700,seed=1)"
      ],
      "metadata": {
        "id": "0c6-sivaEd5x"
      },
      "execution_count": null,
      "outputs": []
    },
    {
      "cell_type": "code",
      "source": [
        "criterio_gbm_est10<-list(strategy=\"RandomDiscrete\",max_models=700,seed=1)"
      ],
      "metadata": {
        "id": "tF-CWSofEfA5"
      },
      "execution_count": null,
      "outputs": []
    },
    {
      "cell_type": "markdown",
      "source": [
        "### Parámetros de las estaciones"
      ],
      "metadata": {
        "id": "5_iGP2USBDIv"
      }
    },
    {
      "cell_type": "code",
      "source": [
        "gbm_params_est1<-list(learn_rate=c(0.001,0.005,0.007,0.01,0.05,0.07,0.1,0.5,0.7),\n",
        "                      sample_rate = c(0.7, 0.8, 1),\n",
        "                      col_sample_rate = c(0.3, 0.7, 0.8, 1),\n",
        "                      ntrees=c(30,40,50,60,70,100,150,200,250,500,550,600,650,700,1000),\n",
        "                      max_depth=c(5,10,15,20,50,55,60,65,70,100,150,200,250,300,500,550,600,650,700,1000),\n",
        "                      min_rows=c(1,5,10,15,20),\n",
        "                      seed=c(1,10,50,100,200,500,700,1000,3000,5000,7000,10000),\n",
        "                      learn_rate_annealing=c(0.99,0.989,0.985,0.983,0.98,0.94,0.92,0.89))"
      ],
      "metadata": {
        "id": "d3ooztCwRFk3"
      },
      "execution_count": null,
      "outputs": []
    },
    {
      "cell_type": "code",
      "source": [
        "gbm_params_est2<-list(learn_rate=c(0.001,0.005,0.007,0.01,0.05,0.07,0.1,0.5,0.7),\n",
        "                      sample_rate = c(0.7, 0.8, 1),\n",
        "                      col_sample_rate = c(0.3, 0.7, 0.8, 1),\n",
        "                      ntrees=c(30,40,50,60,70,100,150,200,250,500,550,600,650,700,1000),\n",
        "                      max_depth=c(5,10,15,20,50,55,60,65,70,100,150,200,250,300,500,550,600,650,700,1000),\n",
        "                      min_rows=c(1,5,10,15,20),\n",
        "                      seed=c(1,10,50,100,200,500,700,1000,3000,5000,7000,10000),\n",
        "                      learn_rate_annealing=c(0.99,0.989,0.985,0.983,0.98,0.94,0.92,0.89))"
      ],
      "metadata": {
        "id": "YVZeX1OwEjVJ"
      },
      "execution_count": null,
      "outputs": []
    },
    {
      "cell_type": "code",
      "source": [
        "gbm_params_est3<-list(learn_rate=c(0.001,0.005,0.007,0.01,0.05,0.07,0.1,0.5,0.7),\n",
        "                      sample_rate = c(0.7, 0.8, 1),\n",
        "                      col_sample_rate = c(0.3, 0.7, 0.8, 1),\n",
        "                      ntrees=c(30,40,50,60,70,100,150,200,250,500,550,600,650,700,1000),\n",
        "                      max_depth=c(5,10,15,20,50,55,60,65,70,100,150,200,250,300,500,550,600,650,700,1000),\n",
        "                      min_rows=c(1,5,10,15,20),\n",
        "                      seed=c(1,10,50,100,200,500,700,1000,3000,5000,7000,10000),\n",
        "                      learn_rate_annealing=c(0.99,0.989,0.985,0.983,0.98,0.94,0.92,0.89))"
      ],
      "metadata": {
        "id": "wAZkFOICEmVJ"
      },
      "execution_count": null,
      "outputs": []
    },
    {
      "cell_type": "code",
      "source": [
        "gbm_params_est4<-list(learn_rate=c(0.001,0.005,0.007,0.01,0.05,0.07,0.1,0.5,0.7),\n",
        "                      sample_rate = c(0.7, 0.8, 1),\n",
        "                      col_sample_rate = c(0.3, 0.7, 0.8, 1),\n",
        "                      ntrees=c(30,40,50,60,70,100,150,200,250,500,550,600,650,700,1000),\n",
        "                      max_depth=c(5,10,15,20,50,55,60,65,70,100,150,200,250,300,500,550,600,650,700,1000),\n",
        "                      min_rows=c(1,5,10,15,20),\n",
        "                      seed=c(1,10,50,100,200,500,700,1000,3000,5000,7000,10000),\n",
        "                      learn_rate_annealing=c(0.99,0.989,0.985,0.983,0.98,0.94,0.92,0.89))"
      ],
      "metadata": {
        "id": "f8JMRtdEEnng"
      },
      "execution_count": null,
      "outputs": []
    },
    {
      "cell_type": "code",
      "source": [
        "gbm_params_est5<-list(learn_rate=c(0.001,0.005,0.007,0.01,0.05,0.07,0.1,0.5,0.7),\n",
        "                      sample_rate = c(0.7, 0.8, 1),\n",
        "                      col_sample_rate = c(0.3, 0.7, 0.8, 1),\n",
        "                      ntrees=c(30,40,50,60,70,100,150,200,250,500,550,600,650,700,1000),\n",
        "                      max_depth=c(5,10,15,20,50,55,60,65,70,100,150,200,250,300,500,550,600,650,700,1000),\n",
        "                      min_rows=c(1,5,10,15,20),\n",
        "                      seed=c(1,10,50,100,200,500,700,1000,3000,5000,7000,10000),\n",
        "                      learn_rate_annealing=c(0.99,0.989,0.985,0.983,0.98,0.94,0.92,0.89))"
      ],
      "metadata": {
        "id": "SdFZkuGiEozA"
      },
      "execution_count": null,
      "outputs": []
    },
    {
      "cell_type": "code",
      "source": [
        "gbm_params_est6<-list(learn_rate=c(0.001,0.005,0.007,0.01,0.05,0.07,0.1,0.5,0.7),\n",
        "                      sample_rate = c(0.7, 0.8, 1),\n",
        "                      col_sample_rate = c(0.3, 0.7, 0.8, 1),\n",
        "                      ntrees=c(30,40,50,60,70,100,150,200,250,500,550,600,650,700,1000),\n",
        "                      max_depth=c(5,10,15,20,50,55,60,65,70,100,150,200,250,300,500,550,600,650,700,1000),\n",
        "                      min_rows=c(1,5,10,15,20),\n",
        "                      seed=c(1,10,50,100,200,500,700,1000,3000,5000,7000,10000),\n",
        "                      learn_rate_annealing=c(0.99,0.989,0.985,0.983,0.98,0.94,0.92,0.89))"
      ],
      "metadata": {
        "id": "YXD_VkDyEqnx"
      },
      "execution_count": null,
      "outputs": []
    },
    {
      "cell_type": "code",
      "source": [
        "gbm_params_est7<-list(learn_rate=c(0.001,0.005,0.007,0.01,0.05,0.07,0.1,0.5,0.7),\n",
        "                      sample_rate = c(0.7, 0.8, 1),\n",
        "                      col_sample_rate = c(0.3, 0.7, 0.8, 1),\n",
        "                      ntrees=c(30,40,50,60,70,100,150,200,250,500,550,600,650,700,1000),\n",
        "                      max_depth=c(5,10,15,20,50,55,60,65,70,100,150,200,250,300,500,550,600,650,700,1000),\n",
        "                      min_rows=c(1,5,10,15,20),\n",
        "                      seed=c(1,10,50,100,200,500,700,1000,3000,5000,7000,10000),\n",
        "                      learn_rate_annealing=c(0.99,0.989,0.985,0.983,0.98,0.94,0.92,0.89))"
      ],
      "metadata": {
        "id": "Og3v32fwEsTq"
      },
      "execution_count": null,
      "outputs": []
    },
    {
      "cell_type": "code",
      "source": [
        "gbm_params_est8<-list(learn_rate=c(0.001,0.005,0.007,0.01,0.05,0.07,0.1,0.5,0.7),\n",
        "                      sample_rate = c(0.7, 0.8, 1),\n",
        "                      col_sample_rate = c(0.3, 0.7, 0.8, 1),\n",
        "                      ntrees=c(30,40,50,60,70,100,150,200,250,500,550,600,650,700,1000),\n",
        "                      max_depth=c(5,10,15,20,50,55,60,65,70,100,150,200,250,300,500,550,600,650,700,1000),\n",
        "                      min_rows=c(1,5,10,15,20),\n",
        "                      seed=c(1,10,50,100,200,500,700,1000,3000,5000,7000,10000),\n",
        "                      learn_rate_annealing=c(0.99,0.989,0.985,0.983,0.98,0.94,0.92,0.89))"
      ],
      "metadata": {
        "id": "3kgzg8krEtpY"
      },
      "execution_count": null,
      "outputs": []
    },
    {
      "cell_type": "code",
      "source": [
        "gbm_params_est9<-list(learn_rate=c(0.001,0.005,0.007,0.01,0.05,0.07,0.1,0.5,0.7),\n",
        "                      sample_rate = c(0.7, 0.8, 1),\n",
        "                      col_sample_rate = c(0.3, 0.7, 0.8, 1),\n",
        "                      ntrees=c(30,40,50,60,70,100,150,200,250,500,550,600,650,700,1000),\n",
        "                      max_depth=c(5,10,15,20,50,55,60,65,70,100,150,200,250,300,500,550,600,650,700,1000),\n",
        "                      min_rows=c(1,5,10,15,20),\n",
        "                      seed=c(1,10,50,100,200,500,700,1000,3000,5000,7000,10000),\n",
        "                      learn_rate_annealing=c(0.99,0.989,0.985,0.983,0.98,0.94,0.92,0.89))"
      ],
      "metadata": {
        "id": "aOSg72aVEvBo"
      },
      "execution_count": null,
      "outputs": []
    },
    {
      "cell_type": "code",
      "source": [
        "gbm_params_est10<-list(learn_rate=c(0.001,0.005,0.007,0.01,0.05,0.07,0.1,0.5,0.7),\n",
        "                      sample_rate = c(0.7, 0.8, 1),\n",
        "                      col_sample_rate = c(0.3, 0.7, 0.8, 1),\n",
        "                      ntrees=c(30,40,50,60,70,100,150,200,250,500,550,600,650,700,1000),\n",
        "                      max_depth=c(5,10,15,20,50,55,60,65,70,100,150,200,250,300,500,550,600,650,700,1000),\n",
        "                      min_rows=c(1,5,10,15,20),\n",
        "                      seed=c(1,10,50,100,200,500,700,1000,3000,5000,7000,10000),\n",
        "                      learn_rate_annealing=c(0.99,0.989,0.985,0.983,0.98,0.94,0.92,0.89))"
      ],
      "metadata": {
        "id": "26eBCoY0Ew94"
      },
      "execution_count": null,
      "outputs": []
    },
    {
      "cell_type": "markdown",
      "source": [
        "### Ejecución del grid GBM"
      ],
      "metadata": {
        "id": "q92PdC0FBHG6"
      }
    },
    {
      "cell_type": "code",
      "source": [
        "gbm_grid_est1<-h2o.grid(\"gbm\",x = names(train_h2o[,12:38]),y = names(train_h2o[2]),\n",
        "                        grid_id = \"gbm_est1\",\n",
        "                        training_frame = train_h2o,\n",
        "                        validation_frame=valid_h2o,\n",
        "                        seed=1,\n",
        "                        hyper_params = gbm_params_est1,\n",
        "                        search_criteria = criterio_gbm_est1)"
      ],
      "metadata": {
        "id": "zfxJbRIqSEYn",
        "colab": {
          "base_uri": "https://localhost:8080/"
        },
        "outputId": "83b87d5d-4f90-493a-dcb3-876ff51c089f"
      },
      "execution_count": null,
      "outputs": [
        {
          "output_type": "stream",
          "name": "stdout",
          "text": [
            "  |======================================================================| 100%\n"
          ]
        }
      ]
    },
    {
      "cell_type": "code",
      "source": [
        "gbm_grid_est2<-h2o.grid(\"gbm\",x = names(train_h2o[,12:38]),y = names(train_h2o[3]),\n",
        "                        grid_id = \"gbm_est2\",\n",
        "                        training_frame = train_h2o,\n",
        "                        validation_frame=valid_h2o,\n",
        "                        seed=1,\n",
        "                        hyper_params = gbm_params_est2,\n",
        "                        search_criteria = criterio_gbm_est2)"
      ],
      "metadata": {
        "id": "pyaOpKGoGwAo",
        "colab": {
          "base_uri": "https://localhost:8080/"
        },
        "outputId": "e03e398e-1892-45be-e6ab-afd0f69c243e"
      },
      "execution_count": null,
      "outputs": [
        {
          "output_type": "stream",
          "name": "stdout",
          "text": [
            "  |======================================================================| 100%\n"
          ]
        }
      ]
    },
    {
      "cell_type": "code",
      "source": [
        "gbm_grid_est3<-h2o.grid(\"gbm\",x = names(train_h2o[,12:38]),y = names(train_h2o[4]),\n",
        "                        grid_id = \"gbm_est3\",\n",
        "                        training_frame = train_h2o,\n",
        "                        validation_frame=valid_h2o,\n",
        "                        seed=1,\n",
        "                        hyper_params = gbm_params_est3,\n",
        "                        search_criteria = criterio_gbm_est3)"
      ],
      "metadata": {
        "id": "wvQkpTkvG5CI",
        "colab": {
          "base_uri": "https://localhost:8080/"
        },
        "outputId": "1cd2bfd7-960f-4369-c81b-9dc3cf452d9d"
      },
      "execution_count": null,
      "outputs": [
        {
          "output_type": "stream",
          "name": "stdout",
          "text": [
            "  |======================================================================| 100%\n"
          ]
        }
      ]
    },
    {
      "cell_type": "code",
      "source": [
        "gbm_grid_est4<-h2o.grid(\"gbm\",x = names(train_h2o[,12:38]),y = names(train_h2o[5]),\n",
        "                        grid_id = \"gbm_est4\",\n",
        "                        training_frame = train_h2o,\n",
        "                        validation_frame=valid_h2o,\n",
        "                        seed=1,\n",
        "                        hyper_params = gbm_params_est4,\n",
        "                        search_criteria = criterio_gbm_est4)"
      ],
      "metadata": {
        "id": "dsUz1H_6G8ro",
        "colab": {
          "base_uri": "https://localhost:8080/"
        },
        "outputId": "bad6d589-89eb-497a-d0e7-1e3ef0d38f0b"
      },
      "execution_count": null,
      "outputs": [
        {
          "output_type": "stream",
          "name": "stdout",
          "text": [
            "  |======================================================================| 100%\n"
          ]
        }
      ]
    },
    {
      "cell_type": "code",
      "source": [
        "gbm_grid_est5<-h2o.grid(\"gbm\",x = names(train_h2o[,12:38]),y = names(train_h2o[6]),\n",
        "                        grid_id = \"gbm_est5\",\n",
        "                        training_frame = train_h2o,\n",
        "                        validation_frame=valid_h2o,\n",
        "                        seed=1,\n",
        "                        hyper_params = gbm_params_est5,\n",
        "                        search_criteria = criterio_gbm_est5)"
      ],
      "metadata": {
        "id": "sQ3GGhnxG_95",
        "colab": {
          "base_uri": "https://localhost:8080/"
        },
        "outputId": "55656d6c-0278-405f-d1b4-ff5422a1d0d9"
      },
      "execution_count": null,
      "outputs": [
        {
          "output_type": "stream",
          "name": "stdout",
          "text": [
            "  |======================================================================| 100%\n"
          ]
        }
      ]
    },
    {
      "cell_type": "code",
      "source": [
        "gbm_grid_est6<-h2o.grid(\"gbm\",x = names(train_h2o[,12:38]),y = names(train_h2o[7]),\n",
        "                        grid_id = \"gbm_est6\",\n",
        "                        training_frame = train_h2o,\n",
        "                        validation_frame=valid_h2o,\n",
        "                        seed=1,\n",
        "                        hyper_params = gbm_params_est6,\n",
        "                        search_criteria = criterio_gbm_est6)"
      ],
      "metadata": {
        "id": "BM8-hrqyHLc_",
        "colab": {
          "base_uri": "https://localhost:8080/"
        },
        "outputId": "fcb27d3e-0464-46c6-f62e-6b74ffae3de3"
      },
      "execution_count": null,
      "outputs": [
        {
          "output_type": "stream",
          "name": "stdout",
          "text": [
            "  |======================================================================| 100%\n"
          ]
        }
      ]
    },
    {
      "cell_type": "code",
      "source": [
        "gbm_grid_est7<-h2o.grid(\"gbm\",x = names(train_h2o[,12:38]),y = names(train_h2o[8]),\n",
        "                        grid_id = \"gbm_est7\",\n",
        "                        training_frame = train_h2o,\n",
        "                        validation_frame=valid_h2o,\n",
        "                        seed=1,\n",
        "                        hyper_params = gbm_params_est7,\n",
        "                        search_criteria = criterio_gbm_est7)"
      ],
      "metadata": {
        "id": "GbxW5ygwHROv",
        "colab": {
          "base_uri": "https://localhost:8080/"
        },
        "outputId": "dde81d99-38d0-44b9-a212-1872efbb1eb8"
      },
      "execution_count": null,
      "outputs": [
        {
          "output_type": "stream",
          "name": "stdout",
          "text": [
            "  |======================================================================| 100%\n"
          ]
        }
      ]
    },
    {
      "cell_type": "code",
      "source": [
        "gbm_grid_est8<-h2o.grid(\"gbm\",x = names(train_h2o[,12:38]),y = names(train_h2o[9]),\n",
        "                        grid_id = \"gbm_est8\",\n",
        "                        training_frame = train_h2o,\n",
        "                        validation_frame=valid_h2o,\n",
        "                        seed=1,\n",
        "                        hyper_params = gbm_params_est8,\n",
        "                        search_criteria = criterio_gbm_est8)"
      ],
      "metadata": {
        "id": "-HfNguZQHVi_",
        "colab": {
          "base_uri": "https://localhost:8080/"
        },
        "outputId": "2d135b4f-a071-4815-a696-6c961d8a4941"
      },
      "execution_count": null,
      "outputs": [
        {
          "output_type": "stream",
          "name": "stdout",
          "text": [
            "  |======================================================================| 100%\n"
          ]
        }
      ]
    },
    {
      "cell_type": "code",
      "source": [
        "gbm_grid_est9<-h2o.grid(\"gbm\",x = names(train_h2o[,12:38]),y = names(train_h2o[10]),\n",
        "                        grid_id = \"gbm_est9\",\n",
        "                        training_frame = train_h2o,\n",
        "                        validation_frame=valid_h2o,\n",
        "                        seed=1,\n",
        "                        hyper_params = gbm_params_est9,\n",
        "                        search_criteria = criterio_gbm_est9)"
      ],
      "metadata": {
        "id": "P1vFbM7AHe_I",
        "colab": {
          "base_uri": "https://localhost:8080/"
        },
        "outputId": "50765ab3-4fde-49cb-a12b-fc54a235ca10"
      },
      "execution_count": null,
      "outputs": [
        {
          "output_type": "stream",
          "name": "stdout",
          "text": [
            "  |======================================================================| 100%\n"
          ]
        }
      ]
    },
    {
      "cell_type": "code",
      "source": [
        "gbm_grid_est10<-h2o.grid(\"gbm\",x = names(train_h2o[,12:38]),y = names(train_h2o[11]),\n",
        "                        grid_id = \"gbm_est10\",\n",
        "                        training_frame = train_h2o,\n",
        "                        validation_frame=valid_h2o,\n",
        "                        seed=1,\n",
        "                        hyper_params = gbm_params_est10,\n",
        "                        search_criteria = criterio_gbm_est10)"
      ],
      "metadata": {
        "id": "zvrrzcbvHnOz",
        "colab": {
          "base_uri": "https://localhost:8080/"
        },
        "outputId": "6924d8b9-18da-4888-cef8-fcf85d8ab6ee"
      },
      "execution_count": null,
      "outputs": [
        {
          "output_type": "stream",
          "name": "stdout",
          "text": [
            "  |======================================================================| 100%\n"
          ]
        }
      ]
    },
    {
      "cell_type": "markdown",
      "source": [
        "### Selección del mejor modelo GBM"
      ],
      "metadata": {
        "id": "od_2DrnhBP1z"
      }
    },
    {
      "cell_type": "code",
      "source": [
        "gbm_gridperf_est1<-h2o.getGrid(grid_id = \"gbm_est1\",\n",
        "                               sort_by = \"MSE\",\n",
        "                               decreasing = FALSE)\n",
        "gbm_gridperf_est1"
      ],
      "metadata": {
        "id": "l7I4tTTvSPGH",
        "colab": {
          "base_uri": "https://localhost:8080/",
          "height": 798
        },
        "outputId": "deb3f5c7-230d-490c-c5da-1154084e7603"
      },
      "execution_count": null,
      "outputs": [
        {
          "output_type": "display_data",
          "data": {
            "text/plain": [
              "H2O Grid Details\n",
              "================\n",
              "\n",
              "Grid ID: gbm_est1 \n",
              "Used hyper parameters: \n",
              "  -  col_sample_rate \n",
              "  -  learn_rate \n",
              "  -  learn_rate_annealing \n",
              "  -  max_depth \n",
              "  -  min_rows \n",
              "  -  ntrees \n",
              "  -  sample_rate \n",
              "  -  seed \n",
              "Number of models: 700 \n",
              "Number of failed models: 0 \n",
              "\n",
              "Hyper-Parameter Search Summary: ordered by increasing MSE\n",
              "  col_sample_rate learn_rate learn_rate_annealing max_depth min_rows    ntrees\n",
              "1         1.00000    0.70000              0.98500  65.00000 20.00000 100.00000\n",
              "2         1.00000    0.70000              0.98300 650.00000 20.00000  50.00000\n",
              "3         0.70000    0.70000              0.98900  55.00000 20.00000 200.00000\n",
              "4         0.70000    0.70000              0.98300 100.00000 20.00000 500.00000\n",
              "5         0.70000    0.70000              0.98500  70.00000 20.00000 150.00000\n",
              "  sample_rate       seed          model_ids      mse\n",
              "1     0.80000  200.00000 gbm_est1_model_555 18.24188\n",
              "2     0.70000  500.00000 gbm_est1_model_473 18.33275\n",
              "3     0.80000  100.00000 gbm_est1_model_533 18.83441\n",
              "4     0.70000 1000.00000 gbm_est1_model_255 18.96804\n",
              "5     0.80000 3000.00000 gbm_est1_model_401 18.99012\n",
              "\n",
              "---\n",
              "    col_sample_rate learn_rate learn_rate_annealing max_depth min_rows\n",
              "695         0.70000    0.50000              0.98900  20.00000  1.00000\n",
              "696         0.70000    0.70000              0.89000 150.00000  1.00000\n",
              "697         0.30000    0.70000              0.98000 100.00000  1.00000\n",
              "698         0.70000    0.70000              0.98900  20.00000  1.00000\n",
              "699         1.00000    0.70000              0.89000 550.00000  1.00000\n",
              "700         0.70000    0.70000              0.92000 300.00000  1.00000\n",
              "       ntrees sample_rate        seed          model_ids       mse\n",
              "695  70.00000     0.80000   700.00000 gbm_est1_model_144  94.26374\n",
              "696 500.00000     0.80000  7000.00000 gbm_est1_model_523  96.88920\n",
              "697  30.00000     0.70000    50.00000 gbm_est1_model_400 115.51406\n",
              "698  30.00000     0.70000 10000.00000 gbm_est1_model_103 128.91251\n",
              "699  50.00000     0.70000   200.00000 gbm_est1_model_617 147.73157\n",
              "700  50.00000     0.70000   200.00000 gbm_est1_model_364 157.61083"
            ]
          },
          "metadata": {}
        }
      ]
    },
    {
      "cell_type": "code",
      "source": [
        "gbm_gridperf_est2<-h2o.getGrid(grid_id = \"gbm_est2\",\n",
        "                               sort_by = \"MSE\",\n",
        "                               decreasing = FALSE)\n",
        "gbm_gridperf_est2"
      ],
      "metadata": {
        "id": "b0p_nGxOIFoH",
        "colab": {
          "base_uri": "https://localhost:8080/",
          "height": 798
        },
        "outputId": "c1164afe-5bd1-431a-f334-804cb6c92b5b"
      },
      "execution_count": null,
      "outputs": [
        {
          "output_type": "display_data",
          "data": {
            "text/plain": [
              "H2O Grid Details\n",
              "================\n",
              "\n",
              "Grid ID: gbm_est2 \n",
              "Used hyper parameters: \n",
              "  -  col_sample_rate \n",
              "  -  learn_rate \n",
              "  -  learn_rate_annealing \n",
              "  -  max_depth \n",
              "  -  min_rows \n",
              "  -  ntrees \n",
              "  -  sample_rate \n",
              "  -  seed \n",
              "Number of models: 700 \n",
              "Number of failed models: 0 \n",
              "\n",
              "Hyper-Parameter Search Summary: ordered by increasing MSE\n",
              "  col_sample_rate learn_rate learn_rate_annealing max_depth min_rows    ntrees\n",
              "1         0.80000    0.50000              0.98000  50.00000  1.00000 200.00000\n",
              "2         1.00000    0.70000              0.89000  70.00000  1.00000  70.00000\n",
              "3         1.00000    0.50000              0.94000 700.00000 10.00000 600.00000\n",
              "4         0.70000    0.07000              0.92000  20.00000  1.00000 100.00000\n",
              "5         0.30000    0.10000              0.89000 300.00000  1.00000 100.00000\n",
              "  sample_rate       seed          model_ids     mse\n",
              "1     0.70000  500.00000 gbm_est2_model_599 5.26494\n",
              "2     0.70000   50.00000 gbm_est2_model_495 6.09620\n",
              "3     0.80000  200.00000  gbm_est2_model_66 6.23580\n",
              "4     0.70000 1000.00000 gbm_est2_model_653 6.36279\n",
              "5     0.70000   10.00000 gbm_est2_model_352 6.39760\n",
              "\n",
              "---\n",
              "    col_sample_rate learn_rate learn_rate_annealing max_depth min_rows\n",
              "695         0.80000    0.50000              0.98500  60.00000  1.00000\n",
              "696         1.00000    0.50000              0.94000  15.00000  1.00000\n",
              "697         1.00000    0.70000              0.92000  65.00000  1.00000\n",
              "698         1.00000    0.50000              0.99000  60.00000  1.00000\n",
              "699         0.70000    0.70000              0.98500 650.00000  1.00000\n",
              "700         0.70000    0.70000              0.92000 300.00000  1.00000\n",
              "       ntrees sample_rate        seed          model_ids      mse\n",
              "695 500.00000     1.00000  1000.00000 gbm_est2_model_276 14.72806\n",
              "696 550.00000     1.00000    10.00000 gbm_est2_model_630 14.73296\n",
              "697  60.00000     1.00000   700.00000 gbm_est2_model_372 14.73326\n",
              "698  60.00000     1.00000 10000.00000  gbm_est2_model_73 14.73329\n",
              "699 150.00000     0.80000  1000.00000 gbm_est2_model_351 15.78803\n",
              "700  50.00000     0.70000   200.00000 gbm_est2_model_364 18.44235"
            ]
          },
          "metadata": {}
        }
      ]
    },
    {
      "cell_type": "code",
      "source": [
        "gbm_gridperf_est3<-h2o.getGrid(grid_id = \"gbm_est3\",\n",
        "                               sort_by = \"MSE\",\n",
        "                               decreasing = FALSE)\n",
        "gbm_gridperf_est3"
      ],
      "metadata": {
        "id": "KxyYn86_IJh4",
        "colab": {
          "base_uri": "https://localhost:8080/",
          "height": 798
        },
        "outputId": "fcc8e3e4-d5c3-43f9-e934-7b89914d6961"
      },
      "execution_count": null,
      "outputs": [
        {
          "output_type": "display_data",
          "data": {
            "text/plain": [
              "H2O Grid Details\n",
              "================\n",
              "\n",
              "Grid ID: gbm_est3 \n",
              "Used hyper parameters: \n",
              "  -  col_sample_rate \n",
              "  -  learn_rate \n",
              "  -  learn_rate_annealing \n",
              "  -  max_depth \n",
              "  -  min_rows \n",
              "  -  ntrees \n",
              "  -  sample_rate \n",
              "  -  seed \n",
              "Number of models: 700 \n",
              "Number of failed models: 0 \n",
              "\n",
              "Hyper-Parameter Search Summary: ordered by increasing MSE\n",
              "  col_sample_rate learn_rate learn_rate_annealing  max_depth min_rows\n",
              "1         0.80000    0.70000              0.89000 1000.00000 10.00000\n",
              "2         1.00000    0.07000              0.98000    5.00000 10.00000\n",
              "3         1.00000    0.50000              0.94000  700.00000 10.00000\n",
              "4         0.70000    0.07000              0.99000   55.00000 10.00000\n",
              "5         0.70000    0.05000              0.98000  300.00000 10.00000\n",
              "      ntrees sample_rate        seed          model_ids     mse\n",
              "1   60.00000     0.70000 10000.00000 gbm_est3_model_204 9.27285\n",
              "2 1000.00000     0.80000     1.00000 gbm_est3_model_428 9.42139\n",
              "3  600.00000     0.80000   200.00000  gbm_est3_model_66 9.49220\n",
              "4  500.00000     0.70000  7000.00000 gbm_est3_model_398 9.55780\n",
              "5  200.00000     1.00000  5000.00000 gbm_est3_model_682 9.65843\n",
              "\n",
              "---\n",
              "    col_sample_rate learn_rate learn_rate_annealing max_depth min_rows\n",
              "695         0.70000    0.70000              0.92000  20.00000  5.00000\n",
              "696         0.70000    0.50000              0.98900  20.00000  1.00000\n",
              "697         0.70000    0.70000              0.89000  60.00000  1.00000\n",
              "698         0.70000    0.70000              0.92000 300.00000  1.00000\n",
              "699         1.00000    0.70000              0.89000  55.00000  1.00000\n",
              "700         0.30000    0.50000              0.98500 650.00000  1.00000\n",
              "       ntrees sample_rate        seed          model_ids      mse\n",
              "695  40.00000     0.70000  3000.00000 gbm_est3_model_265 24.55622\n",
              "696  70.00000     0.80000   700.00000 gbm_est3_model_144 26.87158\n",
              "697 500.00000     0.70000     1.00000 gbm_est3_model_626 30.96583\n",
              "698  50.00000     0.70000   200.00000 gbm_est3_model_364 35.15352\n",
              "699 100.00000     0.70000     1.00000  gbm_est3_model_91 40.31395\n",
              "700 200.00000     0.70000 10000.00000 gbm_est3_model_142 53.66652"
            ]
          },
          "metadata": {}
        }
      ]
    },
    {
      "cell_type": "code",
      "source": [
        "gbm_gridperf_est4<-h2o.getGrid(grid_id = \"gbm_est4\",\n",
        "                               sort_by = \"MSE\",\n",
        "                               decreasing = FALSE)\n",
        "gbm_gridperf_est4"
      ],
      "metadata": {
        "id": "bPSFls45IM2_",
        "colab": {
          "base_uri": "https://localhost:8080/",
          "height": 798
        },
        "outputId": "844d6a39-a5a3-4bb1-887e-417a4ce42ca7"
      },
      "execution_count": null,
      "outputs": [
        {
          "output_type": "display_data",
          "data": {
            "text/plain": [
              "H2O Grid Details\n",
              "================\n",
              "\n",
              "Grid ID: gbm_est4 \n",
              "Used hyper parameters: \n",
              "  -  col_sample_rate \n",
              "  -  learn_rate \n",
              "  -  learn_rate_annealing \n",
              "  -  max_depth \n",
              "  -  min_rows \n",
              "  -  ntrees \n",
              "  -  sample_rate \n",
              "  -  seed \n",
              "Number of models: 700 \n",
              "Number of failed models: 0 \n",
              "\n",
              "Hyper-Parameter Search Summary: ordered by increasing MSE\n",
              "  col_sample_rate learn_rate learn_rate_annealing max_depth min_rows     ntrees\n",
              "1         0.80000    0.70000              0.98300  70.00000  1.00000  500.00000\n",
              "2         0.70000    0.50000              0.98900  55.00000  1.00000   60.00000\n",
              "3         0.30000    0.50000              0.89000 550.00000  5.00000   30.00000\n",
              "4         0.30000    0.05000              0.98300  70.00000  1.00000   50.00000\n",
              "5         0.30000    0.70000              0.98500 150.00000  5.00000 1000.00000\n",
              "  sample_rate        seed          model_ids      mse\n",
              "1     0.80000  3000.00000 gbm_est4_model_621 30.05590\n",
              "2     1.00000 10000.00000 gbm_est4_model_556 30.75929\n",
              "3     0.70000   100.00000 gbm_est4_model_563 30.97251\n",
              "4     0.70000  3000.00000 gbm_est4_model_360 32.04418\n",
              "5     1.00000  5000.00000 gbm_est4_model_625 32.11465\n",
              "\n",
              "---\n",
              "    col_sample_rate learn_rate learn_rate_annealing max_depth min_rows\n",
              "695         0.80000    0.50000              0.94000  65.00000  1.00000\n",
              "696         1.00000    0.50000              0.89000 200.00000  1.00000\n",
              "697         1.00000    0.50000              0.99000  60.00000  1.00000\n",
              "698         1.00000    0.50000              0.94000  15.00000  1.00000\n",
              "699         1.00000    0.70000              0.92000  65.00000  1.00000\n",
              "700         0.80000    0.50000              0.98000  50.00000  1.00000\n",
              "       ntrees sample_rate        seed          model_ids       mse\n",
              "695  30.00000     1.00000  7000.00000  gbm_est4_model_84 148.19072\n",
              "696 700.00000     1.00000  1000.00000 gbm_est4_model_216 153.72188\n",
              "697  60.00000     1.00000 10000.00000  gbm_est4_model_73 154.29861\n",
              "698 550.00000     1.00000    10.00000 gbm_est4_model_630 154.38973\n",
              "699  60.00000     1.00000   700.00000 gbm_est4_model_372 154.39887\n",
              "700 200.00000     0.70000   500.00000 gbm_est4_model_599 169.57698"
            ]
          },
          "metadata": {}
        }
      ]
    },
    {
      "cell_type": "code",
      "source": [
        "gbm_gridperf_est5<-h2o.getGrid(grid_id = \"gbm_est5\",\n",
        "                               sort_by = \"MSE\",\n",
        "                               decreasing = FALSE)\n",
        "gbm_gridperf_est5"
      ],
      "metadata": {
        "id": "yQnqXLUMIPIX",
        "colab": {
          "base_uri": "https://localhost:8080/",
          "height": 798
        },
        "outputId": "7d2690a5-62d0-4976-d896-67777c5067ec"
      },
      "execution_count": null,
      "outputs": [
        {
          "output_type": "display_data",
          "data": {
            "text/plain": [
              "H2O Grid Details\n",
              "================\n",
              "\n",
              "Grid ID: gbm_est5 \n",
              "Used hyper parameters: \n",
              "  -  col_sample_rate \n",
              "  -  learn_rate \n",
              "  -  learn_rate_annealing \n",
              "  -  max_depth \n",
              "  -  min_rows \n",
              "  -  ntrees \n",
              "  -  sample_rate \n",
              "  -  seed \n",
              "Number of models: 700 \n",
              "Number of failed models: 0 \n",
              "\n",
              "Hyper-Parameter Search Summary: ordered by increasing MSE\n",
              "  col_sample_rate learn_rate learn_rate_annealing max_depth min_rows    ntrees\n",
              "1         0.70000    0.50000              0.92000  70.00000  1.00000 100.00000\n",
              "2         0.30000    0.70000              0.98300 200.00000 10.00000  50.00000\n",
              "3         0.30000    0.10000              0.98300 650.00000  5.00000 550.00000\n",
              "4         0.30000    0.10000              0.98000 550.00000  5.00000 550.00000\n",
              "5         0.30000    0.10000              0.98300 600.00000  5.00000 650.00000\n",
              "  sample_rate        seed          model_ids     mse\n",
              "1     1.00000   200.00000 gbm_est5_model_536 1.30792\n",
              "2     0.80000    10.00000  gbm_est5_model_46 1.32748\n",
              "3     0.80000   100.00000 gbm_est5_model_470 1.40298\n",
              "4     0.80000   500.00000 gbm_est5_model_353 1.41748\n",
              "5     0.80000 10000.00000 gbm_est5_model_154 1.43449\n",
              "\n",
              "---\n",
              "    col_sample_rate learn_rate learn_rate_annealing max_depth min_rows\n",
              "695         0.80000    0.00100              0.89000 200.00000 20.00000\n",
              "696         0.80000    0.00100              0.89000  70.00000 10.00000\n",
              "697         0.70000    0.00100              0.89000  70.00000 20.00000\n",
              "698         0.30000    0.00100              0.89000 500.00000 20.00000\n",
              "699         1.00000    0.70000              0.89000  55.00000  1.00000\n",
              "700         0.70000    0.70000              0.98900  20.00000  1.00000\n",
              "       ntrees sample_rate        seed          model_ids      mse\n",
              "695 200.00000     0.80000    10.00000 gbm_est5_model_491  9.44596\n",
              "696 600.00000     0.70000   500.00000 gbm_est5_model_387  9.44682\n",
              "697 100.00000     0.80000   100.00000 gbm_est5_model_487  9.44919\n",
              "698  30.00000     0.80000   700.00000 gbm_est5_model_250  9.45429\n",
              "699 100.00000     0.70000     1.00000  gbm_est5_model_91  9.64974\n",
              "700  30.00000     0.70000 10000.00000 gbm_est5_model_103 16.84870"
            ]
          },
          "metadata": {}
        }
      ]
    },
    {
      "cell_type": "code",
      "source": [
        "gbm_gridperf_est6<-h2o.getGrid(grid_id = \"gbm_est6\",\n",
        "                               sort_by = \"MSE\",\n",
        "                               decreasing = FALSE)\n",
        "gbm_gridperf_est6"
      ],
      "metadata": {
        "id": "R_uGg3R8IRvn",
        "colab": {
          "base_uri": "https://localhost:8080/",
          "height": 798
        },
        "outputId": "ffecc3f0-1e07-4162-b19f-4be0183b246c"
      },
      "execution_count": null,
      "outputs": [
        {
          "output_type": "display_data",
          "data": {
            "text/plain": [
              "H2O Grid Details\n",
              "================\n",
              "\n",
              "Grid ID: gbm_est6 \n",
              "Used hyper parameters: \n",
              "  -  col_sample_rate \n",
              "  -  learn_rate \n",
              "  -  learn_rate_annealing \n",
              "  -  max_depth \n",
              "  -  min_rows \n",
              "  -  ntrees \n",
              "  -  sample_rate \n",
              "  -  seed \n",
              "Number of models: 700 \n",
              "Number of failed models: 0 \n",
              "\n",
              "Hyper-Parameter Search Summary: ordered by increasing MSE\n",
              "  col_sample_rate learn_rate learn_rate_annealing max_depth min_rows     ntrees\n",
              "1         0.30000    0.05000              0.98000 600.00000  1.00000  150.00000\n",
              "2         1.00000    0.70000              0.89000  55.00000  1.00000  100.00000\n",
              "3         0.70000    0.10000              0.98000  20.00000  1.00000  200.00000\n",
              "4         0.30000    0.10000              0.98900  20.00000  1.00000  100.00000\n",
              "5         0.30000    0.07000              0.98300 550.00000  1.00000 1000.00000\n",
              "  sample_rate       seed          model_ids     mse\n",
              "1     0.70000    1.00000 gbm_est6_model_582 2.57041\n",
              "2     0.70000    1.00000  gbm_est6_model_91 2.57933\n",
              "3     0.80000 1000.00000 gbm_est6_model_436 2.59720\n",
              "4     1.00000 7000.00000 gbm_est6_model_538 2.69355\n",
              "5     0.70000 5000.00000 gbm_est6_model_240 2.69835\n",
              "\n",
              "---\n",
              "    col_sample_rate learn_rate learn_rate_annealing max_depth min_rows\n",
              "695         0.30000    0.70000              0.99000 550.00000  5.00000\n",
              "696         0.70000    0.70000              0.92000 300.00000  1.00000\n",
              "697         0.30000    0.70000              0.98000 100.00000  1.00000\n",
              "698         1.00000    0.70000              0.89000  70.00000  1.00000\n",
              "699         0.80000    0.70000              0.98900 250.00000  5.00000\n",
              "700         0.70000    0.70000              0.98900  20.00000  1.00000\n",
              "       ntrees sample_rate        seed          model_ids      mse\n",
              "695 600.00000     1.00000     1.00000 gbm_est6_model_231  7.97962\n",
              "696  50.00000     0.70000   200.00000 gbm_est6_model_364  8.43401\n",
              "697  30.00000     0.70000    50.00000 gbm_est6_model_400  8.66557\n",
              "698  70.00000     0.70000    50.00000 gbm_est6_model_495  8.73374\n",
              "699 100.00000     0.80000 10000.00000 gbm_est6_model_239  8.75062\n",
              "700  30.00000     0.70000 10000.00000 gbm_est6_model_103 11.71411"
            ]
          },
          "metadata": {}
        }
      ]
    },
    {
      "cell_type": "code",
      "source": [
        "gbm_gridperf_est7<-h2o.getGrid(grid_id = \"gbm_est7\",\n",
        "                               sort_by = \"MSE\",\n",
        "                               decreasing = FALSE)\n",
        "gbm_gridperf_est7"
      ],
      "metadata": {
        "id": "XsDWl-DYIT9P",
        "colab": {
          "base_uri": "https://localhost:8080/",
          "height": 798
        },
        "outputId": "54b1ddd3-1ebb-462c-906d-7419db21d8e7"
      },
      "execution_count": null,
      "outputs": [
        {
          "output_type": "display_data",
          "data": {
            "text/plain": [
              "H2O Grid Details\n",
              "================\n",
              "\n",
              "Grid ID: gbm_est7 \n",
              "Used hyper parameters: \n",
              "  -  col_sample_rate \n",
              "  -  learn_rate \n",
              "  -  learn_rate_annealing \n",
              "  -  max_depth \n",
              "  -  min_rows \n",
              "  -  ntrees \n",
              "  -  sample_rate \n",
              "  -  seed \n",
              "Number of models: 700 \n",
              "Number of failed models: 0 \n",
              "\n",
              "Hyper-Parameter Search Summary: ordered by increasing MSE\n",
              "  col_sample_rate learn_rate learn_rate_annealing  max_depth min_rows\n",
              "1         0.70000    0.70000              0.98900   60.00000 10.00000\n",
              "2         1.00000    0.70000              0.98500   10.00000  1.00000\n",
              "3         0.70000    0.50000              0.92000  150.00000  1.00000\n",
              "4         0.70000    0.10000              0.92000 1000.00000  1.00000\n",
              "5         1.00000    0.07000              0.89000  600.00000  1.00000\n",
              "      ntrees sample_rate       seed          model_ids     mse\n",
              "1  150.00000     1.00000  200.00000 gbm_est7_model_922 1.88581\n",
              "2  550.00000     0.70000 3000.00000 gbm_est7_model_106 1.89332\n",
              "3 1000.00000     0.70000  500.00000 gbm_est7_model_215 1.94416\n",
              "4  650.00000     0.80000    1.00000 gbm_est7_model_697 1.98863\n",
              "5  150.00000     0.70000  500.00000 gbm_est7_model_712 2.01265\n",
              "\n",
              "---\n",
              "    col_sample_rate learn_rate learn_rate_annealing max_depth min_rows\n",
              "695         0.70000    0.50000              0.98900  20.00000  1.00000\n",
              "696         0.30000    0.70000              0.98300 200.00000 10.00000\n",
              "697         0.70000    0.70000              0.89000  60.00000  1.00000\n",
              "698         0.30000    0.50000              0.98500 650.00000  1.00000\n",
              "699         0.70000    0.70000              0.89000 150.00000  1.00000\n",
              "700         0.70000    0.70000              0.92000 300.00000  1.00000\n",
              "       ntrees sample_rate        seed          model_ids     mse\n",
              "695  70.00000     0.80000   700.00000 gbm_est7_model_144 4.29106\n",
              "696  50.00000     0.80000    10.00000  gbm_est7_model_46 4.41022\n",
              "697 500.00000     0.70000     1.00000 gbm_est7_model_856 4.53894\n",
              "698 200.00000     0.70000 10000.00000 gbm_est7_model_142 4.64597\n",
              "699 500.00000     0.80000  7000.00000 gbm_est7_model_753 5.84318\n",
              "700  50.00000     0.70000   200.00000 gbm_est7_model_594 7.90410"
            ]
          },
          "metadata": {}
        }
      ]
    },
    {
      "cell_type": "code",
      "source": [
        "gbm_gridperf_est8<-h2o.getGrid(grid_id = \"gbm_est8\",\n",
        "                               sort_by = \"MSE\",\n",
        "                               decreasing = FALSE)\n",
        "gbm_gridperf_est8"
      ],
      "metadata": {
        "id": "p6MGQmf4IWpo",
        "colab": {
          "base_uri": "https://localhost:8080/",
          "height": 798
        },
        "outputId": "7999d940-3eee-4034-87a9-a40c070910d8"
      },
      "execution_count": null,
      "outputs": [
        {
          "output_type": "display_data",
          "data": {
            "text/plain": [
              "H2O Grid Details\n",
              "================\n",
              "\n",
              "Grid ID: gbm_est8 \n",
              "Used hyper parameters: \n",
              "  -  col_sample_rate \n",
              "  -  learn_rate \n",
              "  -  learn_rate_annealing \n",
              "  -  max_depth \n",
              "  -  min_rows \n",
              "  -  ntrees \n",
              "  -  sample_rate \n",
              "  -  seed \n",
              "Number of models: 700 \n",
              "Number of failed models: 0 \n",
              "\n",
              "Hyper-Parameter Search Summary: ordered by increasing MSE\n",
              "  col_sample_rate learn_rate learn_rate_annealing max_depth min_rows    ntrees\n",
              "1         0.30000    0.07000              0.89000 200.00000 10.00000 650.00000\n",
              "2         1.00000    0.07000              0.94000   5.00000 15.00000 150.00000\n",
              "3         1.00000    0.10000              0.89000 150.00000 15.00000  50.00000\n",
              "4         0.80000    0.07000              0.89000 500.00000 10.00000 650.00000\n",
              "5         0.30000    0.05000              0.89000  50.00000 10.00000  60.00000\n",
              "  sample_rate       seed          model_ids     mse\n",
              "1     0.70000  200.00000 gbm_est8_model_439 1.46412\n",
              "2     1.00000 7000.00000 gbm_est8_model_253 1.47176\n",
              "3     1.00000  100.00000 gbm_est8_model_332 1.47591\n",
              "4     0.70000 1000.00000 gbm_est8_model_683 1.47787\n",
              "5     0.70000  200.00000 gbm_est8_model_243 1.48853\n",
              "\n",
              "---\n",
              "    col_sample_rate learn_rate learn_rate_annealing max_depth min_rows\n",
              "695         0.30000    0.70000              0.98000 100.00000  1.00000\n",
              "696         0.70000    0.50000              0.98300 650.00000  5.00000\n",
              "697         0.80000    0.50000              0.98300 700.00000  5.00000\n",
              "698         0.30000    0.50000              0.98500 650.00000  1.00000\n",
              "699         1.00000    0.70000              0.89000  70.00000  1.00000\n",
              "700         0.70000    0.50000              0.98500 300.00000  5.00000\n",
              "       ntrees sample_rate        seed          model_ids     mse\n",
              "695  30.00000     0.70000    50.00000 gbm_est8_model_405 6.60049\n",
              "696 200.00000     1.00000   700.00000 gbm_est8_model_446 6.61220\n",
              "697  50.00000     0.80000    10.00000 gbm_est8_model_268 7.04795\n",
              "698 200.00000     0.70000 10000.00000 gbm_est8_model_147 7.50275\n",
              "699  70.00000     0.70000    50.00000 gbm_est8_model_500 8.75018\n",
              "700 600.00000     0.70000     1.00000 gbm_est8_model_632 9.07126"
            ]
          },
          "metadata": {}
        }
      ]
    },
    {
      "cell_type": "code",
      "source": [
        "gbm_gridperf_est9<-h2o.getGrid(grid_id = \"gbm_est9\",\n",
        "                               sort_by = \"MSE\",\n",
        "                               decreasing = FALSE)\n",
        "gbm_gridperf_est9"
      ],
      "metadata": {
        "id": "UeGmJs82IZHx",
        "colab": {
          "base_uri": "https://localhost:8080/",
          "height": 798
        },
        "outputId": "1bd65fa5-82cd-4ce5-9bcd-a02c811e7f4b"
      },
      "execution_count": null,
      "outputs": [
        {
          "output_type": "display_data",
          "data": {
            "text/plain": [
              "H2O Grid Details\n",
              "================\n",
              "\n",
              "Grid ID: gbm_est9 \n",
              "Used hyper parameters: \n",
              "  -  col_sample_rate \n",
              "  -  learn_rate \n",
              "  -  learn_rate_annealing \n",
              "  -  max_depth \n",
              "  -  min_rows \n",
              "  -  ntrees \n",
              "  -  sample_rate \n",
              "  -  seed \n",
              "Number of models: 700 \n",
              "Number of failed models: 0 \n",
              "\n",
              "Hyper-Parameter Search Summary: ordered by increasing MSE\n",
              "  col_sample_rate learn_rate learn_rate_annealing max_depth min_rows    ntrees\n",
              "1         0.70000    0.07000              0.98500 100.00000  5.00000  60.00000\n",
              "2         0.30000    0.70000              0.98500 650.00000  5.00000 150.00000\n",
              "3         1.00000    0.70000              0.99000 600.00000  5.00000  60.00000\n",
              "4         0.30000    0.07000              0.99000  15.00000  1.00000  30.00000\n",
              "5         0.30000    0.70000              0.99000 550.00000  5.00000 600.00000\n",
              "  sample_rate      seed          model_ids     mse\n",
              "1     0.80000   1.00000 gbm_est9_model_601 3.36587\n",
              "2     0.70000   1.00000 gbm_est9_model_415 3.39664\n",
              "3     0.80000 100.00000 gbm_est9_model_315 3.42283\n",
              "4     0.70000 100.00000 gbm_est9_model_523 3.45868\n",
              "5     1.00000   1.00000 gbm_est9_model_234 3.46737\n",
              "\n",
              "---\n",
              "    col_sample_rate learn_rate learn_rate_annealing max_depth min_rows\n",
              "695         1.00000    0.70000              0.92000 150.00000  1.00000\n",
              "696         0.30000    0.70000              0.99000 100.00000  1.00000\n",
              "697         1.00000    0.50000              0.99000  60.00000  1.00000\n",
              "698         1.00000    0.50000              0.94000  15.00000  1.00000\n",
              "699         1.00000    0.50000              0.89000 200.00000  1.00000\n",
              "700         1.00000    0.70000              0.92000  65.00000  1.00000\n",
              "       ntrees sample_rate        seed          model_ids      mse\n",
              "695  50.00000     0.80000    10.00000 gbm_est9_model_395 11.64634\n",
              "696 600.00000     1.00000   200.00000 gbm_est9_model_263 11.78449\n",
              "697  60.00000     1.00000 10000.00000  gbm_est9_model_76 15.33579\n",
              "698 550.00000     1.00000    10.00000 gbm_est9_model_633 15.38475\n",
              "699 700.00000     1.00000  1000.00000 gbm_est9_model_219 15.87991\n",
              "700  60.00000     1.00000   700.00000 gbm_est9_model_375 15.96302"
            ]
          },
          "metadata": {}
        }
      ]
    },
    {
      "cell_type": "code",
      "source": [
        "gbm_gridperf_est10<-h2o.getGrid(grid_id = \"gbm_est10\",\n",
        "                               sort_by = \"MSE\",\n",
        "                               decreasing = FALSE)\n",
        "gbm_gridperf_est10"
      ],
      "metadata": {
        "id": "ioYwS3HOIbbP",
        "colab": {
          "base_uri": "https://localhost:8080/",
          "height": 798
        },
        "outputId": "904a6ebe-5be5-42a1-b425-868599315716"
      },
      "execution_count": null,
      "outputs": [
        {
          "output_type": "display_data",
          "data": {
            "text/plain": [
              "H2O Grid Details\n",
              "================\n",
              "\n",
              "Grid ID: gbm_est10 \n",
              "Used hyper parameters: \n",
              "  -  col_sample_rate \n",
              "  -  learn_rate \n",
              "  -  learn_rate_annealing \n",
              "  -  max_depth \n",
              "  -  min_rows \n",
              "  -  ntrees \n",
              "  -  sample_rate \n",
              "  -  seed \n",
              "Number of models: 700 \n",
              "Number of failed models: 0 \n",
              "\n",
              "Hyper-Parameter Search Summary: ordered by increasing MSE\n",
              "  col_sample_rate learn_rate learn_rate_annealing max_depth min_rows    ntrees\n",
              "1         0.80000    0.50000              0.98900  50.00000  1.00000  40.00000\n",
              "2         0.70000    0.70000              0.99000   5.00000 20.00000 250.00000\n",
              "3         0.70000    0.50000              0.92000 250.00000 10.00000 150.00000\n",
              "4         0.70000    0.70000              0.98900  55.00000 20.00000 200.00000\n",
              "5         0.80000    0.70000              0.98300   5.00000 20.00000 500.00000\n",
              "  sample_rate       seed           model_ids     mse\n",
              "1     0.80000  100.00000   gbm_est10_model_9 5.29491\n",
              "2     0.70000  700.00000 gbm_est10_model_351 5.49781\n",
              "3     1.00000    1.00000  gbm_est10_model_65 5.51349\n",
              "4     0.80000  100.00000 gbm_est10_model_534 5.55216\n",
              "5     0.70000 3000.00000  gbm_est10_model_29 5.56500\n",
              "\n",
              "---\n",
              "    col_sample_rate learn_rate learn_rate_annealing max_depth min_rows\n",
              "695         0.30000    0.50000              0.98500 650.00000  1.00000\n",
              "696         0.30000    0.70000              0.98900 100.00000  5.00000\n",
              "697         0.70000    0.50000              0.98900  20.00000  1.00000\n",
              "698         1.00000    0.70000              0.98500  10.00000  1.00000\n",
              "699         0.30000    0.70000              0.98000 100.00000  1.00000\n",
              "700         0.70000    0.70000              0.92000 300.00000  1.00000\n",
              "       ntrees sample_rate        seed           model_ids      mse\n",
              "695 200.00000     0.70000 10000.00000 gbm_est10_model_143 23.46989\n",
              "696 500.00000     0.70000 10000.00000 gbm_est10_model_638 24.50655\n",
              "697  70.00000     0.80000   700.00000 gbm_est10_model_145 27.34649\n",
              "698 550.00000     0.70000  3000.00000 gbm_est10_model_107 28.59093\n",
              "699  30.00000     0.70000    50.00000 gbm_est10_model_401 35.29420\n",
              "700  50.00000     0.70000   200.00000 gbm_est10_model_365 58.28746"
            ]
          },
          "metadata": {}
        }
      ]
    },
    {
      "cell_type": "markdown",
      "source": [
        "### Guardado del mejor modelo GBM"
      ],
      "metadata": {
        "id": "ig7UHi2VBU5i"
      }
    },
    {
      "cell_type": "code",
      "source": [
        "best_gbm_train_est1<-h2o.getModel(gbm_gridperf_est1@model_ids[[1]])\n",
        "best_gbm_train_est1"
      ],
      "metadata": {
        "id": "wYQQysdrSYGw",
        "colab": {
          "base_uri": "https://localhost:8080/",
          "height": 573
        },
        "outputId": "ae6f9471-c791-405b-9945-7e774f054c18"
      },
      "execution_count": null,
      "outputs": [
        {
          "output_type": "display_data",
          "data": {
            "text/plain": [
              "Model Details:\n",
              "==============\n",
              "\n",
              "H2ORegressionModel: gbm\n",
              "Model ID:  gbm_est1_model_555 \n",
              "Model Summary: \n",
              "  number_of_trees number_of_internal_trees model_size_in_bytes min_depth\n",
              "1             100                      100                8378         1\n",
              "  max_depth mean_depth min_leaves max_leaves mean_leaves\n",
              "1         1    1.00000          2          2     2.00000\n",
              "\n",
              "\n",
              "H2ORegressionMetrics: gbm\n",
              "** Reported on training data. **\n",
              "\n",
              "MSE:  10.95003\n",
              "RMSE:  3.309083\n",
              "MAE:  2.785767\n",
              "RMSLE:  0.390747\n",
              "Mean Residual Deviance :  10.95003\n",
              "\n",
              "\n",
              "H2ORegressionMetrics: gbm\n",
              "** Reported on validation data. **\n",
              "\n",
              "MSE:  18.24188\n",
              "RMSE:  4.271052\n",
              "MAE:  3.689935\n",
              "RMSLE:  0.9491106\n",
              "Mean Residual Deviance :  18.24188\n",
              "\n",
              "\n"
            ]
          },
          "metadata": {}
        }
      ]
    },
    {
      "cell_type": "code",
      "source": [
        "best_gbm_train_est2<-h2o.getModel(gbm_gridperf_est2@model_ids[[1]])\n",
        "best_gbm_train_est2"
      ],
      "metadata": {
        "id": "RPE3Fa63gbTd",
        "colab": {
          "base_uri": "https://localhost:8080/",
          "height": 573
        },
        "outputId": "eed4c57a-9a45-491f-dcb8-51d9ae9c89fd"
      },
      "execution_count": null,
      "outputs": [
        {
          "output_type": "display_data",
          "data": {
            "text/plain": [
              "Model Details:\n",
              "==============\n",
              "\n",
              "H2ORegressionModel: gbm\n",
              "Model ID:  gbm_est2_model_599 \n",
              "Model Summary: \n",
              "  number_of_trees number_of_internal_trees model_size_in_bytes min_depth\n",
              "1             200                      200               90627         7\n",
              "  max_depth mean_depth min_leaves max_leaves mean_leaves\n",
              "1        16   10.85000         22         41    31.43500\n",
              "\n",
              "\n",
              "H2ORegressionMetrics: gbm\n",
              "** Reported on training data. **\n",
              "\n",
              "MSE:  1.879664e-11\n",
              "RMSE:  4.335509e-06\n",
              "MAE:  3.76805e-06\n",
              "RMSLE:  5.744958e-07\n",
              "Mean Residual Deviance :  1.879664e-11\n",
              "\n",
              "\n",
              "H2ORegressionMetrics: gbm\n",
              "** Reported on validation data. **\n",
              "\n",
              "MSE:  5.264935\n",
              "RMSE:  2.294545\n",
              "MAE:  1.764448\n",
              "RMSLE:  0.3426502\n",
              "Mean Residual Deviance :  5.264935\n",
              "\n",
              "\n"
            ]
          },
          "metadata": {}
        }
      ]
    },
    {
      "cell_type": "code",
      "source": [
        "best_gbm_train_est3<-h2o.getModel(gbm_gridperf_est3@model_ids[[1]])\n",
        "best_gbm_train_est3"
      ],
      "metadata": {
        "id": "1Men34lGgff-",
        "colab": {
          "base_uri": "https://localhost:8080/",
          "height": 573
        },
        "outputId": "9173cac3-2c12-470d-d221-edbce724966a"
      },
      "execution_count": null,
      "outputs": [
        {
          "output_type": "display_data",
          "data": {
            "text/plain": [
              "Model Details:\n",
              "==============\n",
              "\n",
              "H2ORegressionModel: gbm\n",
              "Model ID:  gbm_est3_model_204 \n",
              "Model Summary: \n",
              "  number_of_trees number_of_internal_trees model_size_in_bytes min_depth\n",
              "1              60                       60                5698         1\n",
              "  max_depth mean_depth min_leaves max_leaves mean_leaves\n",
              "1         3    1.91667          2          4     2.91667\n",
              "\n",
              "\n",
              "H2ORegressionMetrics: gbm\n",
              "** Reported on training data. **\n",
              "\n",
              "MSE:  2.889648\n",
              "RMSE:  1.699896\n",
              "MAE:  1.366311\n",
              "RMSLE:  0.4795288\n",
              "Mean Residual Deviance :  2.889648\n",
              "\n",
              "\n",
              "H2ORegressionMetrics: gbm\n",
              "** Reported on validation data. **\n",
              "\n",
              "MSE:  9.272847\n",
              "RMSE:  3.045135\n",
              "MAE:  2.325565\n",
              "RMSLE:  0.6640762\n",
              "Mean Residual Deviance :  9.272847\n",
              "\n",
              "\n"
            ]
          },
          "metadata": {}
        }
      ]
    },
    {
      "cell_type": "code",
      "source": [
        "best_gbm_train_est4<-h2o.getModel(gbm_gridperf_est4@model_ids[[1]])\n",
        "best_gbm_train_est4"
      ],
      "metadata": {
        "id": "JwTSjd88ghr8",
        "colab": {
          "base_uri": "https://localhost:8080/",
          "height": 573
        },
        "outputId": "0d82a75e-f543-48d6-e39f-9b78b4885a4b"
      },
      "execution_count": null,
      "outputs": [
        {
          "output_type": "display_data",
          "data": {
            "text/plain": [
              "Model Details:\n",
              "==============\n",
              "\n",
              "H2ORegressionModel: gbm\n",
              "Model ID:  gbm_est4_model_621 \n",
              "Model Summary: \n",
              "  number_of_trees number_of_internal_trees model_size_in_bytes min_depth\n",
              "1             500                      500              219517         6\n",
              "  max_depth mean_depth min_leaves max_leaves mean_leaves\n",
              "1        15   10.35200         20         41    30.05600\n",
              "\n",
              "\n",
              "H2ORegressionMetrics: gbm\n",
              "** Reported on training data. **\n",
              "\n",
              "MSE:  1.123584e-12\n",
              "RMSE:  1.059993e-06\n",
              "MAE:  8.940697e-07\n",
              "RMSLE:  1.37302e-07\n",
              "Mean Residual Deviance :  1.123584e-12\n",
              "\n",
              "\n",
              "H2ORegressionMetrics: gbm\n",
              "** Reported on validation data. **\n",
              "\n",
              "MSE:  30.0559\n",
              "RMSE:  5.482326\n",
              "MAE:  4.094749\n",
              "RMSLE:  0.9995107\n",
              "Mean Residual Deviance :  30.0559\n",
              "\n",
              "\n"
            ]
          },
          "metadata": {}
        }
      ]
    },
    {
      "cell_type": "code",
      "source": [
        "best_gbm_train_est5<-h2o.getModel(gbm_gridperf_est5@model_ids[[1]])\n",
        "best_gbm_train_est5"
      ],
      "metadata": {
        "id": "FdFH1T9Ngjsf",
        "colab": {
          "base_uri": "https://localhost:8080/",
          "height": 573
        },
        "outputId": "b2cea0ab-cc08-4db0-a9c5-9ee75cf10c19"
      },
      "execution_count": null,
      "outputs": [
        {
          "output_type": "display_data",
          "data": {
            "text/plain": [
              "Model Details:\n",
              "==============\n",
              "\n",
              "H2ORegressionModel: gbm\n",
              "Model ID:  gbm_est5_model_536 \n",
              "Model Summary: \n",
              "  number_of_trees number_of_internal_trees model_size_in_bytes min_depth\n",
              "1             100                      100               55491         8\n",
              "  max_depth mean_depth min_leaves max_leaves mean_leaves\n",
              "1        10    9.09000         36         43    39.53000\n",
              "\n",
              "\n",
              "H2ORegressionMetrics: gbm\n",
              "** Reported on training data. **\n",
              "\n",
              "MSE:  6.908702e-07\n",
              "RMSE:  0.000831186\n",
              "MAE:  0.0006732818\n",
              "RMSLE:  0.0003348916\n",
              "Mean Residual Deviance :  6.908702e-07\n",
              "\n",
              "\n",
              "H2ORegressionMetrics: gbm\n",
              "** Reported on validation data. **\n",
              "\n",
              "MSE:  1.307922\n",
              "RMSE:  1.143644\n",
              "MAE:  0.8112872\n",
              "RMSLE:  0.4208997\n",
              "Mean Residual Deviance :  1.307922\n",
              "\n",
              "\n"
            ]
          },
          "metadata": {}
        }
      ]
    },
    {
      "cell_type": "code",
      "source": [
        "best_gbm_train_est6<-h2o.getModel(gbm_gridperf_est6@model_ids[[1]])\n",
        "best_gbm_train_est6"
      ],
      "metadata": {
        "id": "m03TGp61gl3D",
        "colab": {
          "base_uri": "https://localhost:8080/",
          "height": 573
        },
        "outputId": "b60e1e36-e130-486e-811f-c962f2029340"
      },
      "execution_count": null,
      "outputs": [
        {
          "output_type": "display_data",
          "data": {
            "text/plain": [
              "Model Details:\n",
              "==============\n",
              "\n",
              "H2ORegressionModel: gbm\n",
              "Model ID:  gbm_est6_model_582 \n",
              "Model Summary: \n",
              "  number_of_trees number_of_internal_trees model_size_in_bytes min_depth\n",
              "1             150                      150               66110         7\n",
              "  max_depth mean_depth min_leaves max_leaves mean_leaves\n",
              "1        12    8.66667         18         38    30.36000\n",
              "\n",
              "\n",
              "H2ORegressionMetrics: gbm\n",
              "** Reported on training data. **\n",
              "\n",
              "MSE:  0.3383266\n",
              "RMSE:  0.5816585\n",
              "MAE:  0.461968\n",
              "RMSLE:  0.1643583\n",
              "Mean Residual Deviance :  0.3383266\n",
              "\n",
              "\n",
              "H2ORegressionMetrics: gbm\n",
              "** Reported on validation data. **\n",
              "\n",
              "MSE:  2.570411\n",
              "RMSE:  1.60325\n",
              "MAE:  1.101329\n",
              "RMSLE:  0.453487\n",
              "Mean Residual Deviance :  2.570411\n",
              "\n",
              "\n"
            ]
          },
          "metadata": {}
        }
      ]
    },
    {
      "cell_type": "code",
      "source": [
        "best_gbm_train_est7<-h2o.getModel(gbm_gridperf_est7@model_ids[[1]])\n",
        "best_gbm_train_est7"
      ],
      "metadata": {
        "id": "WEC5yx52gn5G",
        "colab": {
          "base_uri": "https://localhost:8080/",
          "height": 573
        },
        "outputId": "edf24600-efff-415e-a2e6-5001a1448d5d"
      },
      "execution_count": null,
      "outputs": [
        {
          "output_type": "display_data",
          "data": {
            "text/plain": [
              "Model Details:\n",
              "==============\n",
              "\n",
              "H2ORegressionModel: gbm\n",
              "Model ID:  gbm_est7_model_922 \n",
              "Model Summary: \n",
              "  number_of_trees number_of_internal_trees model_size_in_bytes min_depth\n",
              "1             150                      150               15029         2\n",
              "  max_depth mean_depth min_leaves max_leaves mean_leaves\n",
              "1         3    2.27333          3          4     3.29333\n",
              "\n",
              "\n",
              "H2ORegressionMetrics: gbm\n",
              "** Reported on training data. **\n",
              "\n",
              "MSE:  0.532246\n",
              "RMSE:  0.7295519\n",
              "MAE:  0.4968513\n",
              "RMSLE:  0.2408381\n",
              "Mean Residual Deviance :  0.532246\n",
              "\n",
              "\n",
              "H2ORegressionMetrics: gbm\n",
              "** Reported on validation data. **\n",
              "\n",
              "MSE:  1.885809\n",
              "RMSE:  1.373248\n",
              "MAE:  1.103121\n",
              "RMSLE:  0.5068589\n",
              "Mean Residual Deviance :  1.885809\n",
              "\n",
              "\n"
            ]
          },
          "metadata": {}
        }
      ]
    },
    {
      "cell_type": "code",
      "source": [
        "best_gbm_train_est8<-h2o.getModel(gbm_gridperf_est8@model_ids[[1]])\n",
        "best_gbm_train_est8"
      ],
      "metadata": {
        "id": "dOW3cunMgprt",
        "colab": {
          "base_uri": "https://localhost:8080/",
          "height": 573
        },
        "outputId": "b3d95032-17ee-4104-d137-a5e087815334"
      },
      "execution_count": null,
      "outputs": [
        {
          "output_type": "display_data",
          "data": {
            "text/plain": [
              "Model Details:\n",
              "==============\n",
              "\n",
              "H2ORegressionModel: gbm\n",
              "Model ID:  gbm_est8_model_439 \n",
              "Model Summary: \n",
              "  number_of_trees number_of_internal_trees model_size_in_bytes min_depth\n",
              "1              97                       97                8928         1\n",
              "  max_depth mean_depth min_leaves max_leaves mean_leaves\n",
              "1         2    1.64948          2          3     2.64948\n",
              "\n",
              "\n",
              "H2ORegressionMetrics: gbm\n",
              "** Reported on training data. **\n",
              "\n",
              "MSE:  3.421192\n",
              "RMSE:  1.849647\n",
              "MAE:  1.660137\n",
              "RMSLE:  0.6766969\n",
              "Mean Residual Deviance :  3.421192\n",
              "\n",
              "\n",
              "H2ORegressionMetrics: gbm\n",
              "** Reported on validation data. **\n",
              "\n",
              "MSE:  1.464117\n",
              "RMSE:  1.210007\n",
              "MAE:  0.8590896\n",
              "RMSLE:  0.5279907\n",
              "Mean Residual Deviance :  1.464117\n",
              "\n",
              "\n"
            ]
          },
          "metadata": {}
        }
      ]
    },
    {
      "cell_type": "code",
      "source": [
        "best_gbm_train_est9<-h2o.getModel(gbm_gridperf_est9@model_ids[[1]])\n",
        "best_gbm_train_est9"
      ],
      "metadata": {
        "id": "uCESWLQ9grgc",
        "colab": {
          "base_uri": "https://localhost:8080/",
          "height": 573
        },
        "outputId": "b067eba5-cf41-494a-c40d-2df4b4edc37f"
      },
      "execution_count": null,
      "outputs": [
        {
          "output_type": "display_data",
          "data": {
            "text/plain": [
              "Model Details:\n",
              "==============\n",
              "\n",
              "H2ORegressionModel: gbm\n",
              "Model ID:  gbm_est9_model_601 \n",
              "Model Summary: \n",
              "  number_of_trees number_of_internal_trees model_size_in_bytes min_depth\n",
              "1              60                       60                7931         2\n",
              "  max_depth mean_depth min_leaves max_leaves mean_leaves\n",
              "1         6    3.96667          4          8     5.86667\n",
              "\n",
              "\n",
              "H2ORegressionMetrics: gbm\n",
              "** Reported on training data. **\n",
              "\n",
              "MSE:  3.498891\n",
              "RMSE:  1.870532\n",
              "MAE:  1.450486\n",
              "RMSLE:  0.4709301\n",
              "Mean Residual Deviance :  3.498891\n",
              "\n",
              "\n",
              "H2ORegressionMetrics: gbm\n",
              "** Reported on validation data. **\n",
              "\n",
              "MSE:  3.365871\n",
              "RMSE:  1.834631\n",
              "MAE:  1.615394\n",
              "RMSLE:  0.5664225\n",
              "Mean Residual Deviance :  3.365871\n",
              "\n",
              "\n"
            ]
          },
          "metadata": {}
        }
      ]
    },
    {
      "cell_type": "code",
      "source": [
        "best_gbm_train_est10<-h2o.getModel(gbm_gridperf_est10@model_ids[[1]])\n",
        "best_gbm_train_est10"
      ],
      "metadata": {
        "id": "llPssrKKgtUu",
        "colab": {
          "base_uri": "https://localhost:8080/",
          "height": 573
        },
        "outputId": "ba41da34-7364-4269-f779-140547b83c99"
      },
      "execution_count": null,
      "outputs": [
        {
          "output_type": "display_data",
          "data": {
            "text/plain": [
              "Model Details:\n",
              "==============\n",
              "\n",
              "H2ORegressionModel: gbm\n",
              "Model ID:  gbm_est10_model_9 \n",
              "Model Summary: \n",
              "  number_of_trees number_of_internal_trees model_size_in_bytes min_depth\n",
              "1              40                       40               20786         7\n",
              "  max_depth mean_depth min_leaves max_leaves mean_leaves\n",
              "1        14    9.95000         29         43    36.57500\n",
              "\n",
              "\n",
              "H2ORegressionMetrics: gbm\n",
              "** Reported on training data. **\n",
              "\n",
              "MSE:  4.987056e-10\n",
              "RMSE:  2.233172e-05\n",
              "MAE:  1.315611e-05\n",
              "RMSLE:  5.653408e-06\n",
              "Mean Residual Deviance :  4.987056e-10\n",
              "\n",
              "\n",
              "H2ORegressionMetrics: gbm\n",
              "** Reported on validation data. **\n",
              "\n",
              "MSE:  5.294907\n",
              "RMSE:  2.301066\n",
              "MAE:  1.617912\n",
              "RMSLE:  0.4740606\n",
              "Mean Residual Deviance :  5.294907\n",
              "\n",
              "\n"
            ]
          },
          "metadata": {}
        }
      ]
    },
    {
      "cell_type": "markdown",
      "source": [
        "### Contador de modelos maximos a aplicar"
      ],
      "metadata": {
        "id": "Z0x6ABy_RdG_"
      }
    },
    {
      "cell_type": "code",
      "source": [
        "gbm_est1_l1<-length(gbm_params_tot$learn_rate)\n",
        "gbm_est1_l2<-length(gbm_params_tot$ntrees)\n",
        "gbm_est1_l3<-length(gbm_params_tot$max_depth)\n",
        "gbm_est1_l4<-length(gbm_params_tot$seed)\n",
        "gbm_est1_l5<-length(gbm_params_tot$learn_rate_annealing)\n",
        "(gbm_est1_l1*gbm_est1_l2*gbm_est1_l3*gbm_est1_l4*gbm_est1_l5)"
      ],
      "metadata": {
        "id": "oD-ocgj8Rh04"
      },
      "execution_count": null,
      "outputs": []
    },
    {
      "cell_type": "code",
      "source": [
        "gbm_est2_l1<-length(gbm_params_tot$learn_rate)\n",
        "gbm_est2_l2<-length(gbm_params_tot$ntrees)\n",
        "gbm_est2_l3<-length(gbm_params_tot$max_depth)\n",
        "gbm_est2_l4<-length(gbm_params_tot$seed)\n",
        "gbm_est2_l5<-length(gbm_params_tot$learn_rate_annealing)\n",
        "(gbm_est2_l1*gbm_est2_l2*gbm_est2_l3*gbm_est2_l4*gbm_est2_l5)"
      ],
      "metadata": {
        "id": "8CmcC5zJg8cM"
      },
      "execution_count": null,
      "outputs": []
    },
    {
      "cell_type": "code",
      "source": [
        "gbm_est3_l1<-length(gbm_params_tot$learn_rate)\n",
        "gbm_est3_l2<-length(gbm_params_tot$ntrees)\n",
        "gbm_est3_l3<-length(gbm_params_tot$max_depth)\n",
        "gbm_est3_l4<-length(gbm_params_tot$seed)\n",
        "gbm_est3_l5<-length(gbm_params_tot$learn_rate_annealing)\n",
        "(gbm_est3_l1*gbm_est3_l2*gbm_est3_l3*gbm_est3_l4*gbm_est3_l5)"
      ],
      "metadata": {
        "id": "c4a8w1jOhvaU"
      },
      "execution_count": null,
      "outputs": []
    },
    {
      "cell_type": "code",
      "source": [
        "gbm_est4_l1<-length(gbm_params_tot$learn_rate)\n",
        "gbm_est4_l2<-length(gbm_params_tot$ntrees)\n",
        "gbm_est4_l3<-length(gbm_params_tot$max_depth)\n",
        "gbm_est4_l4<-length(gbm_params_tot$seed)\n",
        "gbm_est4_l5<-length(gbm_params_tot$learn_rate_annealing)\n",
        "(gbm_est4_l1*gbm_est4_l2*gbm_est4_l3*gbm_est4_l4*gbm_est4_l5)"
      ],
      "metadata": {
        "id": "bN9xPEuAh6ac"
      },
      "execution_count": null,
      "outputs": []
    },
    {
      "cell_type": "code",
      "source": [
        "gbm_est5_l1<-length(gbm_params_tot$learn_rate)\n",
        "gbm_est5_l2<-length(gbm_params_tot$ntrees)\n",
        "gbm_est5_l3<-length(gbm_params_tot$max_depth)\n",
        "gbm_est5_l4<-length(gbm_params_tot$seed)\n",
        "gbm_est5_l5<-length(gbm_params_tot$learn_rate_annealing)\n",
        "(gbm_est5_l1*gbm_est5_l2*gbm_est5_l3*gbm_est5_l4*gbm_est5_l5)"
      ],
      "metadata": {
        "id": "XcINr7nTiLgj"
      },
      "execution_count": null,
      "outputs": []
    },
    {
      "cell_type": "code",
      "source": [
        "gbm_est6_l1<-length(gbm_params_tot$learn_rate)\n",
        "gbm_est6_l2<-length(gbm_params_tot$ntrees)\n",
        "gbm_est6_l3<-length(gbm_params_tot$max_depth)\n",
        "gbm_est6_l4<-length(gbm_params_tot$seed)\n",
        "gbm_est6_l5<-length(gbm_params_tot$learn_rate_annealing)\n",
        "(gbm_est6_l1*gbm_est6_l2*gbm_est6_l3*gbm_est6_l4*gbm_est6_l5)"
      ],
      "metadata": {
        "id": "dsQNQv7WiPhb"
      },
      "execution_count": null,
      "outputs": []
    },
    {
      "cell_type": "code",
      "source": [
        "gbm_est7_l1<-length(gbm_params_tot$learn_rate)\n",
        "gbm_est7_l2<-length(gbm_params_tot$ntrees)\n",
        "gbm_est7_l3<-length(gbm_params_tot$max_depth)\n",
        "gbm_est7_l4<-length(gbm_params_tot$seed)\n",
        "gbm_est7_l5<-length(gbm_params_tot$learn_rate_annealing)\n",
        "(gbm_est7_l1*gbm_est7_l2*gbm_est7_l3*gbm_est7_l4*gbm_est7_l5)"
      ],
      "metadata": {
        "id": "DScC4CuUiTw0"
      },
      "execution_count": null,
      "outputs": []
    },
    {
      "cell_type": "code",
      "source": [
        "gbm_est8_l1<-length(gbm_params_tot$learn_rate)\n",
        "gbm_est8_l2<-length(gbm_params_tot$ntrees)\n",
        "gbm_est8_l3<-length(gbm_params_tot$max_depth)\n",
        "gbm_est8_l4<-length(gbm_params_tot$seed)\n",
        "gbm_est8_l5<-length(gbm_params_tot$learn_rate_annealing)\n",
        "(gbm_est8_l1*gbm_est8_l2*gbm_est8_l3*gbm_est8_l4*gbm_est8_l5)"
      ],
      "metadata": {
        "id": "Xh73rflciYqT"
      },
      "execution_count": null,
      "outputs": []
    },
    {
      "cell_type": "code",
      "source": [
        "gbm_est9_l1<-length(gbm_params_tot$learn_rate)\n",
        "gbm_est9_l2<-length(gbm_params_tot$ntrees)\n",
        "gbm_est9_l3<-length(gbm_params_tot$max_depth)\n",
        "gbm_est9_l4<-length(gbm_params_tot$seed)\n",
        "gbm_est9_l5<-length(gbm_params_tot$learn_rate_annealing)\n",
        "(gbm_est9_l1*gbm_est9_l2*gbm_est9_l3*gbm_est9_l4*gbm_est9_l5)"
      ],
      "metadata": {
        "id": "Grv1KhSqihSc"
      },
      "execution_count": null,
      "outputs": []
    },
    {
      "cell_type": "code",
      "source": [
        "gbm_est10_l1<-length(gbm_params_tot$learn_rate)\n",
        "gbm_est10_l2<-length(gbm_params_tot$ntrees)\n",
        "gbm_est10_l3<-length(gbm_params_tot$max_depth)\n",
        "gbm_est10_l4<-length(gbm_params_tot$seed)\n",
        "gbm_est10_l5<-length(gbm_params_tot$learn_rate_annealing)\n",
        "(gbm_est10_l1*gbm_est10_l2*gbm_est10_l3*gbm_est10_l4*gbm_est10_l5)"
      ],
      "metadata": {
        "id": "hIfv6H4CilF-"
      },
      "execution_count": null,
      "outputs": []
    },
    {
      "cell_type": "markdown",
      "source": [
        "# Grid de la estación con red neuronal"
      ],
      "metadata": {
        "id": "5TcGbBvUTLa5"
      }
    },
    {
      "cell_type": "markdown",
      "source": [
        "## Criterios de las estaciones"
      ],
      "metadata": {
        "id": "WIllxIe6DyDh"
      }
    },
    {
      "cell_type": "code",
      "source": [
        "criterio_rn_est1<-list(strategy=\"RandomDiscrete\",max_models=700,seed=1)"
      ],
      "metadata": {
        "id": "d5PLNTMITT9L"
      },
      "execution_count": null,
      "outputs": []
    },
    {
      "cell_type": "code",
      "source": [
        "criterio_rn_est2<-list(strategy=\"RandomDiscrete\",max_models=700,seed=1)"
      ],
      "metadata": {
        "id": "3AmiSbRWjSC7"
      },
      "execution_count": null,
      "outputs": []
    },
    {
      "cell_type": "code",
      "source": [
        "criterio_rn_est3<-list(strategy=\"RandomDiscrete\",max_models=700,seed=1)"
      ],
      "metadata": {
        "id": "swr-tpNrjUyT"
      },
      "execution_count": null,
      "outputs": []
    },
    {
      "cell_type": "code",
      "source": [
        "criterio_rn_est4<-list(strategy=\"RandomDiscrete\",max_models=700,seed=1)"
      ],
      "metadata": {
        "id": "MGf54xuGjV0T"
      },
      "execution_count": null,
      "outputs": []
    },
    {
      "cell_type": "code",
      "source": [
        "criterio_rn_est5<-list(strategy=\"RandomDiscrete\",max_models=700,seed=1)"
      ],
      "metadata": {
        "id": "jZ4tAkTVjXFq"
      },
      "execution_count": null,
      "outputs": []
    },
    {
      "cell_type": "code",
      "source": [
        "criterio_rn_est6<-list(strategy=\"RandomDiscrete\",max_models=700,seed=1)"
      ],
      "metadata": {
        "id": "3U-9d4KXjYdz"
      },
      "execution_count": null,
      "outputs": []
    },
    {
      "cell_type": "code",
      "source": [
        "criterio_rn_est7<-list(strategy=\"RandomDiscrete\",max_models=700,seed=1)"
      ],
      "metadata": {
        "id": "bBQlziRijatL"
      },
      "execution_count": null,
      "outputs": []
    },
    {
      "cell_type": "code",
      "source": [
        "criterio_rn_est8<-list(strategy=\"RandomDiscrete\",max_models=700,seed=1)"
      ],
      "metadata": {
        "id": "zjDI1OORjbxa"
      },
      "execution_count": null,
      "outputs": []
    },
    {
      "cell_type": "code",
      "source": [
        "criterio_rn_est9<-list(strategy=\"RandomDiscrete\",max_models=700,seed=1)"
      ],
      "metadata": {
        "id": "uvXBziINjdCK"
      },
      "execution_count": null,
      "outputs": []
    },
    {
      "cell_type": "code",
      "source": [
        "criterio_rn_est10<-list(strategy=\"RandomDiscrete\",max_models=700,seed=1)"
      ],
      "metadata": {
        "id": "9pVyjbT3jeUC"
      },
      "execution_count": null,
      "outputs": []
    },
    {
      "cell_type": "markdown",
      "source": [
        "## Parámetros de las estaciones"
      ],
      "metadata": {
        "id": "7bkgDmCxD1TL"
      }
    },
    {
      "cell_type": "code",
      "source": [
        "rn_params_est1<-list(hidden=c(30,40,50,60,70,100,150,200,250,500,550,600,650,700,1000),\n",
        "                     activation=c(\"Rectifier\", \"Maxout\", \"Tanh\", \"RectifierWithDropout\", \"MaxoutWithDropout\", \"TanhWithDropout\"),\n",
        "                     epochs=c(5,10,15,20,50,55,60,65,70,100,150,200),\n",
        "                     rate=c(0.001,0.005,0.007,0.01,0.05,0.07,0.1,0.5,0.7),\n",
        "                     rate_annealing=c(0.000001,0.000005,0.000007,0.0001,0.0005,0.0007),\n",
        "                     rate_decay=c(0.99,0.989,0.985,0.983,0.98))"
      ],
      "metadata": {
        "id": "8fAv-2GaTXJu"
      },
      "execution_count": null,
      "outputs": []
    },
    {
      "cell_type": "code",
      "source": [
        "rn_params_est2<-list(hidden=c(30,40,50,60,70,100,150,200,250,500,550,600,650,700,1000),\n",
        "                     activation=c(\"Rectifier\", \"Maxout\", \"Tanh\", \"RectifierWithDropout\", \"MaxoutWithDropout\", \"TanhWithDropout\"),\n",
        "                     epochs=c(5,10,15,20,50,55,60,65,70,100,150,200),\n",
        "                     rate=c(0.001,0.005,0.007,0.01,0.05,0.07,0.1,0.5,0.7),\n",
        "                     rate_annealing=c(0.000001,0.000005,0.000007,0.0001,0.0005,0.0007),\n",
        "                     rate_decay=c(0.99,0.989,0.985,0.983,0.98))"
      ],
      "metadata": {
        "id": "MuLxqABxjocc"
      },
      "execution_count": null,
      "outputs": []
    },
    {
      "cell_type": "code",
      "source": [
        "rn_params_est3<-list(hidden=c(30,40,50,60,70,100,150,200,250,500,550,600,650,700,1000),\n",
        "                     activation=c(\"Rectifier\", \"Maxout\", \"Tanh\", \"RectifierWithDropout\", \"MaxoutWithDropout\", \"TanhWithDropout\"),\n",
        "                     epochs=c(5,10,15,20,50,55,60,65,70,100,150,200),\n",
        "                     rate=c(0.001,0.005,0.007,0.01,0.05,0.07,0.1,0.5,0.7),\n",
        "                     rate_annealing=c(0.000001,0.000005,0.000007,0.0001,0.0005,0.0007),\n",
        "                     rate_decay=c(0.99,0.989,0.985,0.983,0.98))"
      ],
      "metadata": {
        "id": "_-tw06N-jp56"
      },
      "execution_count": null,
      "outputs": []
    },
    {
      "cell_type": "code",
      "source": [
        "rn_params_est4<-list(hidden=c(30,40,50,60,70,100,150,200,250,500,550,600,650,700,1000),\n",
        "                     activation=c(\"Rectifier\", \"Maxout\", \"Tanh\", \"RectifierWithDropout\", \"MaxoutWithDropout\", \"TanhWithDropout\"),\n",
        "                     epochs=c(5,10,15,20,50,55,60,65,70,100,150,200),\n",
        "                     rate=c(0.001,0.005,0.007,0.01,0.05,0.07,0.1,0.5,0.7),\n",
        "                     rate_annealing=c(0.000001,0.000005,0.000007,0.0001,0.0005,0.0007),\n",
        "                     rate_decay=c(0.99,0.989,0.985,0.983,0.98))"
      ],
      "metadata": {
        "id": "XveOh4emjrQ6"
      },
      "execution_count": null,
      "outputs": []
    },
    {
      "cell_type": "code",
      "source": [
        "rn_params_est5<-list(hidden=c(30,40,50,60,70,100,150,200,250,500,550,600,650,700,1000),\n",
        "                     activation=c(\"Rectifier\", \"Maxout\", \"Tanh\", \"RectifierWithDropout\", \"MaxoutWithDropout\", \"TanhWithDropout\"),\n",
        "                     epochs=c(5,10,15,20,50,55,60,65,70,100,150,200),\n",
        "                     rate=c(0.001,0.005,0.007,0.01,0.05,0.07,0.1,0.5,0.7),\n",
        "                     rate_annealing=c(0.000001,0.000005,0.000007,0.0001,0.0005,0.0007),\n",
        "                     rate_decay=c(0.99,0.989,0.985,0.983,0.98))"
      ],
      "metadata": {
        "id": "4fLW-OAXjstr"
      },
      "execution_count": null,
      "outputs": []
    },
    {
      "cell_type": "code",
      "source": [
        "rn_params_est6<-list(hidden=c(30,40,50,60,70,100,150,200,250,500,550,600,650,700,1000),\n",
        "                     activation=c(\"Rectifier\", \"Maxout\", \"Tanh\", \"RectifierWithDropout\", \"MaxoutWithDropout\", \"TanhWithDropout\"),\n",
        "                     epochs=c(5,10,15,20,50,55,60,65,70,100,150,200),\n",
        "                     rate=c(0.001,0.005,0.007,0.01,0.05,0.07,0.1,0.5,0.7),\n",
        "                     rate_annealing=c(0.000001,0.000005,0.000007,0.0001,0.0005,0.0007),\n",
        "                     rate_decay=c(0.99,0.989,0.985,0.983,0.98))"
      ],
      "metadata": {
        "id": "CgWmw0RxjuJL"
      },
      "execution_count": null,
      "outputs": []
    },
    {
      "cell_type": "code",
      "source": [
        "rn_params_est7<-list(hidden=c(30,40,50,60,70,100,150,200,250,500,550,600,650,700,1000),\n",
        "                     activation=c(\"Rectifier\", \"Maxout\", \"Tanh\", \"RectifierWithDropout\", \"MaxoutWithDropout\", \"TanhWithDropout\"),\n",
        "                     epochs=c(5,10,15,20,50,55,60,65,70,100,150,200),\n",
        "                     rate=c(0.001,0.005,0.007,0.01,0.05,0.07,0.1,0.5,0.7),\n",
        "                     rate_annealing=c(0.000001,0.000005,0.000007,0.0001,0.0005,0.0007),\n",
        "                     rate_decay=c(0.99,0.989,0.985,0.983,0.98))"
      ],
      "metadata": {
        "id": "goj0Qdh-jvXl"
      },
      "execution_count": null,
      "outputs": []
    },
    {
      "cell_type": "code",
      "source": [
        "rn_params_est8<-list(hidden=c(30,40,50,60,70,100,150,200,250,500,550,600,650,700,1000),\n",
        "                     activation=c(\"Rectifier\", \"Maxout\", \"Tanh\", \"RectifierWithDropout\", \"MaxoutWithDropout\", \"TanhWithDropout\"),\n",
        "                     epochs=c(5,10,15,20,50,55,60,65,70,100,150,200),\n",
        "                     rate=c(0.001,0.005,0.007,0.01,0.05,0.07,0.1,0.5,0.7),\n",
        "                     rate_annealing=c(0.000001,0.000005,0.000007,0.0001,0.0005,0.0007),\n",
        "                     rate_decay=c(0.99,0.989,0.985,0.983,0.98))"
      ],
      "metadata": {
        "id": "wjpCQnlajwkH"
      },
      "execution_count": null,
      "outputs": []
    },
    {
      "cell_type": "code",
      "source": [
        "rn_params_est9<-list(hidden=c(30,40,50,60,70,100,150,200,250,500,550,600,650,700,1000),\n",
        "                     activation=c(\"Rectifier\", \"Maxout\", \"Tanh\", \"RectifierWithDropout\", \"MaxoutWithDropout\", \"TanhWithDropout\"),\n",
        "                     epochs=c(5,10,15,20,50,55,60,65,70,100,150,200),\n",
        "                     rate=c(0.001,0.005,0.007,0.01,0.05,0.07,0.1,0.5,0.7),\n",
        "                     rate_annealing=c(0.000001,0.000005,0.000007,0.0001,0.0005,0.0007),\n",
        "                     rate_decay=c(0.99,0.989,0.985,0.983,0.98))"
      ],
      "metadata": {
        "id": "BPvaXROPjxs8"
      },
      "execution_count": null,
      "outputs": []
    },
    {
      "cell_type": "code",
      "source": [
        "rn_params_est10<-list(hidden=c(30,40,50,60,70,100,150,200,250,500,550,600,650,700,1000),\n",
        "                     activation=c(\"Rectifier\", \"Maxout\", \"Tanh\", \"RectifierWithDropout\", \"MaxoutWithDropout\", \"TanhWithDropout\"),\n",
        "                     epochs=c(5,10,15,20,50,55,60,65,70,100,150,200),\n",
        "                     rate=c(0.001,0.005,0.007,0.01,0.05,0.07,0.1,0.5,0.7),\n",
        "                     rate_annealing=c(0.000001,0.000005,0.000007,0.0001,0.0005,0.0007),\n",
        "                     rate_decay=c(0.99,0.989,0.985,0.983,0.98))"
      ],
      "metadata": {
        "id": "vGOZu4VIjy8j"
      },
      "execution_count": null,
      "outputs": []
    },
    {
      "cell_type": "markdown",
      "source": [
        "## Ejecución del grid Red Neuronal"
      ],
      "metadata": {
        "id": "6s3MPaZgD5kC"
      }
    },
    {
      "cell_type": "code",
      "source": [
        "rn_grid_est1<-h2o.grid(\"deeplearning\",x = names(train_h2o[,12:38]),y = names(train_h2o[2]),\n",
        "                       grid_id = \"rn_est1\",\n",
        "                       training_frame = train_h2o,\n",
        "                       validation_frame=valid_h2o,\n",
        "                       seed=1,\n",
        "                       hyper_params = rn_params_est1,\n",
        "                       search_criteria = criterio_rn_est1)"
      ],
      "metadata": {
        "id": "FQ5DLBsfTeC-",
        "colab": {
          "base_uri": "https://localhost:8080/"
        },
        "outputId": "0acd30db-8a67-4163-a70f-903e6dfe3cad"
      },
      "execution_count": null,
      "outputs": [
        {
          "output_type": "stream",
          "name": "stdout",
          "text": [
            "  |======================================================================| 100%\n"
          ]
        }
      ]
    },
    {
      "cell_type": "code",
      "source": [
        "rn_grid_est2<-h2o.grid(\"deeplearning\",x = names(train_h2o[,12:38]),y = names(train_h2o[3]),\n",
        "                       grid_id = \"rn_est2\",\n",
        "                       training_frame = train_h2o,\n",
        "                       validation_frame=valid_h2o,\n",
        "                       seed=1,\n",
        "                       hyper_params = rn_params_est2,\n",
        "                       search_criteria = criterio_rn_est2)"
      ],
      "metadata": {
        "id": "nwVb7zUxkbcT",
        "colab": {
          "base_uri": "https://localhost:8080/"
        },
        "outputId": "db4f7bab-7e63-4593-8113-bae759efd890"
      },
      "execution_count": null,
      "outputs": [
        {
          "output_type": "stream",
          "name": "stdout",
          "text": [
            "  |======================================================================| 100%\n"
          ]
        }
      ]
    },
    {
      "cell_type": "code",
      "source": [
        "rn_grid_est3<-h2o.grid(\"deeplearning\",x = names(train_h2o[,12:38]),y = names(train_h2o[4]),\n",
        "                       grid_id = \"rn_est3\",\n",
        "                       training_frame = train_h2o,\n",
        "                       validation_frame=valid_h2o,\n",
        "                       seed=1,\n",
        "                       hyper_params = rn_params_est3,\n",
        "                       search_criteria = criterio_rn_est3)"
      ],
      "metadata": {
        "id": "ChNeXhn6kkOz",
        "colab": {
          "base_uri": "https://localhost:8080/"
        },
        "outputId": "f3356485-cbfc-4f95-d439-abedd757b9ce"
      },
      "execution_count": null,
      "outputs": [
        {
          "output_type": "stream",
          "name": "stdout",
          "text": [
            "  |======================================================================| 100%\n"
          ]
        }
      ]
    },
    {
      "cell_type": "code",
      "source": [
        "rn_grid_est4<-h2o.grid(\"deeplearning\",x = names(train_h2o[,12:38]),y = names(train_h2o[5]),\n",
        "                       grid_id = \"rn_est4\",\n",
        "                       training_frame = train_h2o,\n",
        "                       validation_frame=valid_h2o,\n",
        "                       seed=1,\n",
        "                       hyper_params = rn_params_est4,\n",
        "                       search_criteria = criterio_rn_est4)"
      ],
      "metadata": {
        "id": "jGqnflVFlLDl",
        "colab": {
          "base_uri": "https://localhost:8080/"
        },
        "outputId": "54308d78-bf9f-461c-fdb6-af45269500fd"
      },
      "execution_count": null,
      "outputs": [
        {
          "output_type": "stream",
          "name": "stdout",
          "text": [
            "  |======================================================================| 100%\n"
          ]
        }
      ]
    },
    {
      "cell_type": "code",
      "source": [
        "rn_grid_est5<-h2o.grid(\"deeplearning\",x = names(train_h2o[,12:38]),y = names(train_h2o[6]),\n",
        "                       grid_id = \"rn_est5\",\n",
        "                       training_frame = train_h2o,\n",
        "                       validation_frame=valid_h2o,\n",
        "                       seed=1,\n",
        "                       hyper_params = rn_params_est5,\n",
        "                       search_criteria = criterio_rn_est5)"
      ],
      "metadata": {
        "id": "d3HMowUdknnS",
        "colab": {
          "base_uri": "https://localhost:8080/"
        },
        "outputId": "42bd5a70-a3b5-43ab-e284-1f0c5261106f"
      },
      "execution_count": null,
      "outputs": [
        {
          "output_type": "stream",
          "name": "stdout",
          "text": [
            "  |======================================================================| 100%\n"
          ]
        }
      ]
    },
    {
      "cell_type": "code",
      "source": [
        "rn_grid_est6<-h2o.grid(\"deeplearning\",x = names(train_h2o[,12:38]),y = names(train_h2o[7]),\n",
        "                       grid_id = \"rn_est6\",\n",
        "                       training_frame = train_h2o,\n",
        "                       validation_frame=valid_h2o,\n",
        "                       seed=1,\n",
        "                       hyper_params = rn_params_est6,\n",
        "                       search_criteria = criterio_rn_est6)"
      ],
      "metadata": {
        "id": "LM0x4Ktwksk7",
        "colab": {
          "base_uri": "https://localhost:8080/"
        },
        "outputId": "dd4fbb3a-5733-4093-e46b-56619a40dfc3"
      },
      "execution_count": null,
      "outputs": [
        {
          "output_type": "stream",
          "name": "stdout",
          "text": [
            "  |======================================================================| 100%\n"
          ]
        }
      ]
    },
    {
      "cell_type": "code",
      "source": [
        "rn_grid_est7<-h2o.grid(\"deeplearning\",x = names(train_h2o[,12:38]),y = names(train_h2o[8]),\n",
        "                       grid_id = \"rn_est7\",\n",
        "                       training_frame = train_h2o,\n",
        "                       validation_frame=valid_h2o,\n",
        "                       seed=1,\n",
        "                       hyper_params = rn_params_est7,\n",
        "                       search_criteria = criterio_rn_est7)"
      ],
      "metadata": {
        "id": "TZKm1S0ukweb",
        "colab": {
          "base_uri": "https://localhost:8080/"
        },
        "outputId": "5d0f25a6-2b14-46b3-bdc1-f9d29f1075d8"
      },
      "execution_count": null,
      "outputs": [
        {
          "output_type": "stream",
          "name": "stdout",
          "text": [
            "  |======================================================================| 100%\n"
          ]
        }
      ]
    },
    {
      "cell_type": "code",
      "source": [
        "rn_grid_est8<-h2o.grid(\"deeplearning\",x = names(train_h2o[,12:38]),y = names(train_h2o[9]),\n",
        "                       grid_id = \"rn_est8\",\n",
        "                       training_frame = train_h2o,\n",
        "                       validation_frame=valid_h2o,\n",
        "                       seed=1,\n",
        "                       hyper_params = rn_params_est8,\n",
        "                       search_criteria = criterio_rn_est8)"
      ],
      "metadata": {
        "id": "tUxHhYJbk0A0",
        "colab": {
          "base_uri": "https://localhost:8080/"
        },
        "outputId": "fe706304-f480-4409-ad71-fb6b31a6c7ad"
      },
      "execution_count": null,
      "outputs": [
        {
          "output_type": "stream",
          "name": "stdout",
          "text": [
            "  |======================================================================| 100%\n"
          ]
        }
      ]
    },
    {
      "cell_type": "code",
      "source": [
        "rn_grid_est9<-h2o.grid(\"deeplearning\",x = names(train_h2o[,12:38]),y = names(train_h2o[10]),\n",
        "                       grid_id = \"rn_est9\",\n",
        "                       training_frame = train_h2o,\n",
        "                       validation_frame=valid_h2o,\n",
        "                       seed=1,\n",
        "                       hyper_params = rn_params_est9,\n",
        "                       search_criteria = criterio_rn_est9)"
      ],
      "metadata": {
        "id": "1LPsENuRk4tl",
        "colab": {
          "base_uri": "https://localhost:8080/"
        },
        "outputId": "8105b787-7588-4eec-92e7-6ed6bdd57438"
      },
      "execution_count": null,
      "outputs": [
        {
          "output_type": "stream",
          "name": "stdout",
          "text": [
            "  |======================================================================| 100%\n"
          ]
        }
      ]
    },
    {
      "cell_type": "code",
      "source": [
        "rn_grid_est10<-h2o.grid(\"deeplearning\",x = names(train_h2o[,12:38]),y = names(train_h2o[11]),\n",
        "                       grid_id = \"rn_est10\",\n",
        "                       training_frame = train_h2o,\n",
        "                       validation_frame=valid_h2o,\n",
        "                       seed=1,\n",
        "                       hyper_params = rn_params_est10,\n",
        "                       search_criteria = criterio_rn_est10)"
      ],
      "metadata": {
        "id": "Bv400_dQk9L9",
        "colab": {
          "base_uri": "https://localhost:8080/"
        },
        "outputId": "2a051237-7da0-46f9-999b-d964ab21f9ab"
      },
      "execution_count": null,
      "outputs": [
        {
          "output_type": "stream",
          "name": "stdout",
          "text": [
            "  |======================================================================| 100%\n"
          ]
        }
      ]
    },
    {
      "cell_type": "markdown",
      "source": [
        "## Selección del mejor modelo Red Neuronal"
      ],
      "metadata": {
        "id": "4jm4_j0vD-G5"
      }
    },
    {
      "cell_type": "code",
      "source": [
        "rn_gridperf_est1<-h2o.getGrid(grid_id = \"rn_est1\",\n",
        "                              sort_by = \"MSE\",\n",
        "                              decreasing = FALSE)\n",
        "rn_gridperf_est1"
      ],
      "metadata": {
        "id": "3irLvt48TnWe",
        "colab": {
          "base_uri": "https://localhost:8080/",
          "height": 763
        },
        "outputId": "38e659f2-b2b1-4018-eae9-ad7b64ce053d"
      },
      "execution_count": null,
      "outputs": [
        {
          "output_type": "display_data",
          "data": {
            "text/plain": [
              "H2O Grid Details\n",
              "================\n",
              "\n",
              "Grid ID: rn_est1 \n",
              "Used hyper parameters: \n",
              "  -  activation \n",
              "  -  epochs \n",
              "  -  hidden \n",
              "  -  rate \n",
              "  -  rate_annealing \n",
              "  -  rate_decay \n",
              "Number of models: 700 \n",
              "Number of failed models: 0 \n",
              "\n",
              "Hyper-Parameter Search Summary: ordered by increasing MSE\n",
              "            activation   epochs hidden    rate rate_annealing rate_decay\n",
              "1 RectifierWithDropout 15.00000    250 0.05000        0.00070    0.98900\n",
              "2    MaxoutWithDropout 20.00000    250 0.05000        0.00010    0.98000\n",
              "3      TanhWithDropout 15.00000    250 0.00100        0.00000    0.98500\n",
              "4    MaxoutWithDropout 10.00000   1000 0.05000        0.00050    0.98900\n",
              "5    MaxoutWithDropout  5.00000    700 0.07000        0.00001    0.98900\n",
              "          model_ids      mse\n",
              "1 rn_est1_model_313 14.37973\n",
              "2 rn_est1_model_215 14.84138\n",
              "3 rn_est1_model_303 14.96474\n",
              "4  rn_est1_model_67 15.03600\n",
              "5 rn_est1_model_193 15.07909\n",
              "\n",
              "---\n",
              "    activation    epochs hidden    rate rate_annealing rate_decay\n",
              "695  Rectifier  70.00000    500 0.05000        0.00070    0.98500\n",
              "696  Rectifier 200.00000    550 0.70000        0.00050    0.98300\n",
              "697     Maxout  10.00000    550 0.00100        0.00050    0.98300\n",
              "698  Rectifier 200.00000    650 0.50000        0.00001    0.98900\n",
              "699  Rectifier  60.00000     30 0.00100        0.00070    0.98300\n",
              "700  Rectifier 200.00000   1000 0.05000        0.00000    0.99000\n",
              "            model_ids      mse\n",
              "695 rn_est1_model_452 47.07256\n",
              "696 rn_est1_model_190 47.22052\n",
              "697 rn_est1_model_468 47.49651\n",
              "698 rn_est1_model_279 48.15143\n",
              "699 rn_est1_model_368 55.96059\n",
              "700 rn_est1_model_329 71.56245"
            ]
          },
          "metadata": {}
        }
      ]
    },
    {
      "cell_type": "code",
      "source": [
        "rn_gridperf_est2<-h2o.getGrid(grid_id = \"rn_est2\",\n",
        "                              sort_by = \"MSE\",\n",
        "                              decreasing = FALSE)\n",
        "rn_gridperf_est2"
      ],
      "metadata": {
        "id": "WwofH8B8lV8y",
        "colab": {
          "base_uri": "https://localhost:8080/",
          "height": 763
        },
        "outputId": "5d2487fb-c7e5-4918-f6c9-6720744470e5"
      },
      "execution_count": null,
      "outputs": [
        {
          "output_type": "display_data",
          "data": {
            "text/plain": [
              "H2O Grid Details\n",
              "================\n",
              "\n",
              "Grid ID: rn_est2 \n",
              "Used hyper parameters: \n",
              "  -  activation \n",
              "  -  epochs \n",
              "  -  hidden \n",
              "  -  rate \n",
              "  -  rate_annealing \n",
              "  -  rate_decay \n",
              "Number of models: 700 \n",
              "Number of failed models: 0 \n",
              "\n",
              "Hyper-Parameter Search Summary: ordered by increasing MSE\n",
              "  activation   epochs hidden    rate rate_annealing rate_decay\n",
              "1  Rectifier 65.00000     40 0.00700        0.00000    0.98900\n",
              "2  Rectifier 65.00000     40 0.10000        0.00050    0.98900\n",
              "3  Rectifier  5.00000    500 0.05000        0.00070    0.98900\n",
              "4  Rectifier 50.00000     30 0.00500        0.00070    0.98500\n",
              "5  Rectifier 70.00000     40 0.10000        0.00000    0.98300\n",
              "          model_ids     mse\n",
              "1 rn_est2_model_157 5.40173\n",
              "2  rn_est2_model_11 5.43440\n",
              "3 rn_est2_model_177 5.51149\n",
              "4  rn_est2_model_57 5.51323\n",
              "5 rn_est2_model_105 5.54861\n",
              "\n",
              "---\n",
              "    activation    epochs hidden    rate rate_annealing rate_decay\n",
              "695  Rectifier 200.00000    500 0.00500        0.00050    0.99000\n",
              "696  Rectifier  50.00000    700 0.00500        0.00070    0.98000\n",
              "697       Tanh  15.00000    550 0.00500        0.00070    0.98300\n",
              "698       Tanh  15.00000    600 0.00500        0.00050    0.98500\n",
              "699  Rectifier  65.00000   1000 0.00100        0.00050    0.98300\n",
              "700       Tanh  15.00000    650 0.70000        0.00000    0.98000\n",
              "            model_ids      mse\n",
              "695 rn_est2_model_455 26.23867\n",
              "696 rn_est2_model_527 26.68340\n",
              "697 rn_est2_model_337 27.77763\n",
              "698 rn_est2_model_230 29.40042\n",
              "699 rn_est2_model_690 31.26843\n",
              "700  rn_est2_model_87 32.31582"
            ]
          },
          "metadata": {}
        }
      ]
    },
    {
      "cell_type": "code",
      "source": [
        "rn_gridperf_est3<-h2o.getGrid(grid_id = \"rn_est3\",\n",
        "                              sort_by = \"MSE\",\n",
        "                              decreasing = FALSE)\n",
        "rn_gridperf_est3"
      ],
      "metadata": {
        "id": "dtlysVGElYvC",
        "colab": {
          "base_uri": "https://localhost:8080/",
          "height": 763
        },
        "outputId": "fe0a2818-e6e1-4939-8efd-eb18c6479066"
      },
      "execution_count": null,
      "outputs": [
        {
          "output_type": "display_data",
          "data": {
            "text/plain": [
              "H2O Grid Details\n",
              "================\n",
              "\n",
              "Grid ID: rn_est3 \n",
              "Used hyper parameters: \n",
              "  -  activation \n",
              "  -  epochs \n",
              "  -  hidden \n",
              "  -  rate \n",
              "  -  rate_annealing \n",
              "  -  rate_decay \n",
              "Number of models: 700 \n",
              "Number of failed models: 0 \n",
              "\n",
              "Hyper-Parameter Search Summary: ordered by increasing MSE\n",
              "            activation    epochs hidden    rate rate_annealing rate_decay\n",
              "1                 Tanh 100.00000    200 0.07000        0.00010    0.99000\n",
              "2                 Tanh 200.00000    700 0.70000        0.00010    0.98500\n",
              "3                 Tanh  70.00000    150 0.70000        0.00001    0.98000\n",
              "4            Rectifier  10.00000    200 0.07000        0.00050    0.98300\n",
              "5 RectifierWithDropout  70.00000    700 0.10000        0.00000    0.98000\n",
              "          model_ids     mse\n",
              "1 rn_est3_model_521 9.28458\n",
              "2   rn_est3_model_5 9.53522\n",
              "3 rn_est3_model_543 9.59512\n",
              "4 rn_est3_model_275 9.63117\n",
              "5 rn_est3_model_158 9.69401\n",
              "\n",
              "---\n",
              "           activation   epochs hidden    rate rate_annealing rate_decay\n",
              "695 MaxoutWithDropout 20.00000    150 0.01000        0.00050    0.98300\n",
              "696            Maxout  5.00000     40 0.00500        0.00001    0.98500\n",
              "697            Maxout 20.00000   1000 0.00700        0.00010    0.99000\n",
              "698            Maxout  5.00000    700 0.05000        0.00070    0.98500\n",
              "699         Rectifier 10.00000   1000 0.70000        0.00070    0.98900\n",
              "700         Rectifier 20.00000   1000 0.00700        0.00000    0.99000\n",
              "            model_ids      mse\n",
              "695  rn_est3_model_36 18.82199\n",
              "696 rn_est3_model_464 19.60402\n",
              "697 rn_est3_model_657 20.07958\n",
              "698  rn_est3_model_83 21.15315\n",
              "699 rn_est3_model_540 22.12662\n",
              "700 rn_est3_model_596 22.32527"
            ]
          },
          "metadata": {}
        }
      ]
    },
    {
      "cell_type": "code",
      "source": [
        "rn_gridperf_est4<-h2o.getGrid(grid_id = \"rn_est4\",\n",
        "                              sort_by = \"MSE\",\n",
        "                              decreasing = FALSE)\n",
        "rn_gridperf_est4"
      ],
      "metadata": {
        "id": "CqlgX2urlaqq",
        "colab": {
          "base_uri": "https://localhost:8080/",
          "height": 763
        },
        "outputId": "169829a0-f8bc-4715-d342-4f460045dac2"
      },
      "execution_count": null,
      "outputs": [
        {
          "output_type": "display_data",
          "data": {
            "text/plain": [
              "H2O Grid Details\n",
              "================\n",
              "\n",
              "Grid ID: rn_est4 \n",
              "Used hyper parameters: \n",
              "  -  activation \n",
              "  -  epochs \n",
              "  -  hidden \n",
              "  -  rate \n",
              "  -  rate_annealing \n",
              "  -  rate_decay \n",
              "Number of models: 700 \n",
              "Number of failed models: 0 \n",
              "\n",
              "Hyper-Parameter Search Summary: ordered by increasing MSE\n",
              "         activation  epochs hidden    rate rate_annealing rate_decay\n",
              "1 MaxoutWithDropout 5.00000    600 0.05000        0.00010    0.98500\n",
              "2 MaxoutWithDropout 5.00000    200 0.00700        0.00001    0.98900\n",
              "3            Maxout 5.00000    500 0.70000        0.00001    0.98300\n",
              "4            Maxout 5.00000    550 0.00100        0.00010    0.99000\n",
              "5   TanhWithDropout 5.00000    550 0.00500        0.00001    0.98900\n",
              "          model_ids      mse\n",
              "1 rn_est4_model_408 29.89319\n",
              "2 rn_est4_model_297 30.48646\n",
              "3 rn_est4_model_538 31.21449\n",
              "4 rn_est4_model_565 31.28078\n",
              "5 rn_est4_model_641 31.49477\n",
              "\n",
              "---\n",
              "              activation    epochs hidden    rate rate_annealing rate_decay\n",
              "695 RectifierWithDropout 100.00000   1000 0.00100        0.00000    0.98900\n",
              "696 RectifierWithDropout 100.00000    250 0.00700        0.00001    0.98900\n",
              "697            Rectifier  60.00000    650 0.10000        0.00001    0.98900\n",
              "698            Rectifier  70.00000    550 0.05000        0.00070    0.98500\n",
              "699            Rectifier  10.00000    650 0.00500        0.00001    0.98500\n",
              "700            Rectifier  10.00000    550 0.05000        0.00000    0.98000\n",
              "            model_ids       mse\n",
              "695 rn_est4_model_349 163.05169\n",
              "696 rn_est4_model_553 169.72147\n",
              "697 rn_est4_model_363 174.77843\n",
              "698 rn_est4_model_526 175.18265\n",
              "699 rn_est4_model_345 180.55219\n",
              "700 rn_est4_model_242 241.10262"
            ]
          },
          "metadata": {}
        }
      ]
    },
    {
      "cell_type": "code",
      "source": [
        "rn_gridperf_est5<-h2o.getGrid(grid_id = \"rn_est5\",\n",
        "                              sort_by = \"MSE\",\n",
        "                              decreasing = FALSE)\n",
        "rn_gridperf_est5"
      ],
      "metadata": {
        "id": "F-sH472aldO8",
        "colab": {
          "base_uri": "https://localhost:8080/",
          "height": 763
        },
        "outputId": "0e749c63-ba89-4ce6-f8f9-44753365b1d7"
      },
      "execution_count": null,
      "outputs": [
        {
          "output_type": "display_data",
          "data": {
            "text/plain": [
              "H2O Grid Details\n",
              "================\n",
              "\n",
              "Grid ID: rn_est5 \n",
              "Used hyper parameters: \n",
              "  -  activation \n",
              "  -  epochs \n",
              "  -  hidden \n",
              "  -  rate \n",
              "  -  rate_annealing \n",
              "  -  rate_decay \n",
              "Number of models: 700 \n",
              "Number of failed models: 0 \n",
              "\n",
              "Hyper-Parameter Search Summary: ordered by increasing MSE\n",
              "         activation   epochs hidden    rate rate_annealing rate_decay\n",
              "1 MaxoutWithDropout  5.00000    600 0.00500        0.00070    0.98000\n",
              "2 MaxoutWithDropout  5.00000    600 0.05000        0.00010    0.98500\n",
              "3         Rectifier  5.00000    500 0.05000        0.00070    0.98900\n",
              "4         Rectifier 70.00000    500 0.07000        0.00000    0.99000\n",
              "5         Rectifier 70.00000    550 0.05000        0.00070    0.98500\n",
              "          model_ids     mse\n",
              "1 rn_est5_model_269 1.56196\n",
              "2 rn_est5_model_408 1.56198\n",
              "3 rn_est5_model_177 1.63090\n",
              "4 rn_est5_model_384 1.65572\n",
              "5 rn_est5_model_526 1.73799\n",
              "\n",
              "---\n",
              "              activation    epochs hidden    rate rate_annealing rate_decay\n",
              "695            Rectifier  55.00000    650 0.50000        0.00050    0.98500\n",
              "696            Rectifier  10.00000    650 0.07000        0.00000    0.98900\n",
              "697 RectifierWithDropout  50.00000   1000 0.05000        0.00001    0.99000\n",
              "698            Rectifier  20.00000    550 0.00100        0.00050    0.99000\n",
              "699               Maxout 200.00000     30 0.05000        0.00010    0.99000\n",
              "700               Maxout 200.00000     50 0.70000        0.00001    0.98900\n",
              "            model_ids      mse\n",
              "695 rn_est5_model_461 11.90910\n",
              "696 rn_est5_model_578 12.08388\n",
              "697 rn_est5_model_491 12.46641\n",
              "698 rn_est5_model_254 12.62728\n",
              "699 rn_est5_model_674 13.97115\n",
              "700 rn_est5_model_569 17.57774"
            ]
          },
          "metadata": {}
        }
      ]
    },
    {
      "cell_type": "code",
      "source": [
        "rn_gridperf_est6<-h2o.getGrid(grid_id = \"rn_est6\",\n",
        "                              sort_by = \"MSE\",\n",
        "                              decreasing = FALSE)\n",
        "rn_gridperf_est6"
      ],
      "metadata": {
        "id": "3LrnemqqlfDD",
        "colab": {
          "base_uri": "https://localhost:8080/",
          "height": 763
        },
        "outputId": "e99feec9-88bd-4aee-db03-0ab4c93abb5b"
      },
      "execution_count": null,
      "outputs": [
        {
          "output_type": "display_data",
          "data": {
            "text/plain": [
              "H2O Grid Details\n",
              "================\n",
              "\n",
              "Grid ID: rn_est6 \n",
              "Used hyper parameters: \n",
              "  -  activation \n",
              "  -  epochs \n",
              "  -  hidden \n",
              "  -  rate \n",
              "  -  rate_annealing \n",
              "  -  rate_decay \n",
              "Number of models: 700 \n",
              "Number of failed models: 0 \n",
              "\n",
              "Hyper-Parameter Search Summary: ordered by increasing MSE\n",
              "         activation   epochs hidden    rate rate_annealing rate_decay\n",
              "1 MaxoutWithDropout 15.00000    200 0.07000        0.00010    0.98900\n",
              "2            Maxout  5.00000    250 0.00100        0.00000    0.98000\n",
              "3 MaxoutWithDropout  5.00000    200 0.00700        0.00001    0.98900\n",
              "4              Tanh 20.00000     40 0.05000        0.00010    0.98900\n",
              "5 MaxoutWithDropout  5.00000    600 0.01000        0.00001    0.98300\n",
              "          model_ids     mse\n",
              "1 rn_est6_model_159 3.11452\n",
              "2 rn_est6_model_372 3.14414\n",
              "3 rn_est6_model_297 3.16077\n",
              "4  rn_est6_model_50 3.25388\n",
              "5 rn_est6_model_102 3.28722\n",
              "\n",
              "---\n",
              "    activation    epochs hidden    rate rate_annealing rate_decay\n",
              "695     Maxout 100.00000    600 0.07000        0.00001    0.98900\n",
              "696     Maxout  50.00000   1000 0.50000        0.00000    0.99000\n",
              "697  Rectifier  65.00000    700 0.50000        0.00070    0.98500\n",
              "698  Rectifier  65.00000   1000 0.00100        0.00050    0.98300\n",
              "699     Maxout  50.00000    700 0.01000        0.00001    0.98300\n",
              "700  Rectifier 200.00000    700 0.70000        0.00050    0.98000\n",
              "            model_ids      mse\n",
              "695 rn_est6_model_227 39.71956\n",
              "696 rn_est6_model_286 41.72944\n",
              "697 rn_est6_model_235 42.36961\n",
              "698 rn_est6_model_690 43.38360\n",
              "699 rn_est6_model_580 44.80937\n",
              "700 rn_est6_model_312 51.33714"
            ]
          },
          "metadata": {}
        }
      ]
    },
    {
      "cell_type": "code",
      "source": [
        "rn_gridperf_est7<-h2o.getGrid(grid_id = \"rn_est7\",\n",
        "                              sort_by = \"MSE\",\n",
        "                              decreasing = FALSE)\n",
        "rn_gridperf_est7"
      ],
      "metadata": {
        "id": "0qxhk4GtlieU",
        "colab": {
          "base_uri": "https://localhost:8080/",
          "height": 763
        },
        "outputId": "866abdc1-a02c-4628-e02b-7a7bebf149b3"
      },
      "execution_count": null,
      "outputs": [
        {
          "output_type": "display_data",
          "data": {
            "text/plain": [
              "H2O Grid Details\n",
              "================\n",
              "\n",
              "Grid ID: rn_est7 \n",
              "Used hyper parameters: \n",
              "  -  activation \n",
              "  -  epochs \n",
              "  -  hidden \n",
              "  -  rate \n",
              "  -  rate_annealing \n",
              "  -  rate_decay \n",
              "Number of models: 700 \n",
              "Number of failed models: 0 \n",
              "\n",
              "Hyper-Parameter Search Summary: ordered by increasing MSE\n",
              "  activation    epochs hidden    rate rate_annealing rate_decay\n",
              "1  Rectifier  55.00000     70 0.07000        0.00010    0.98300\n",
              "2  Rectifier  15.00000     30 0.00100        0.00050    0.98000\n",
              "3  Rectifier  10.00000     40 0.07000        0.00001    0.98900\n",
              "4  Rectifier  20.00000     30 0.05000        0.00070    0.98000\n",
              "5  Rectifier 100.00000     70 0.05000        0.00050    0.98000\n",
              "          model_ids     mse\n",
              "1 rn_est7_model_376 1.61395\n",
              "2 rn_est7_model_414 1.64728\n",
              "3 rn_est7_model_457 1.65477\n",
              "4 rn_est7_model_601 1.66329\n",
              "5 rn_est7_model_263 1.66869\n",
              "\n",
              "---\n",
              "    activation    epochs hidden    rate rate_annealing rate_decay\n",
              "695  Rectifier 150.00000    700 0.00100        0.00000    0.98500\n",
              "696       Tanh 200.00000    700 0.07000        0.00001    0.99000\n",
              "697  Rectifier 150.00000    600 0.01000        0.00050    0.98300\n",
              "698  Rectifier 200.00000    650 0.00100        0.00001    0.99000\n",
              "699  Rectifier  70.00000    550 0.05000        0.00070    0.98500\n",
              "700  Rectifier  10.00000    550 0.05000        0.00000    0.98000\n",
              "            model_ids     mse\n",
              "695 rn_est7_model_222 6.78643\n",
              "696 rn_est7_model_117 6.89211\n",
              "697  rn_est7_model_49 7.41603\n",
              "698 rn_est7_model_548 7.64907\n",
              "699 rn_est7_model_526 7.88853\n",
              "700 rn_est7_model_242 9.07372"
            ]
          },
          "metadata": {}
        }
      ]
    },
    {
      "cell_type": "code",
      "source": [
        "rn_gridperf_est8<-h2o.getGrid(grid_id = \"rn_est8\",\n",
        "                              sort_by = \"MSE\",\n",
        "                              decreasing = FALSE)\n",
        "rn_gridperf_est8"
      ],
      "metadata": {
        "id": "HY5UDKkxlkR6",
        "colab": {
          "base_uri": "https://localhost:8080/",
          "height": 763
        },
        "outputId": "7e6932d9-6673-4c64-e577-8d184c9b4dbc"
      },
      "execution_count": null,
      "outputs": [
        {
          "output_type": "display_data",
          "data": {
            "text/plain": [
              "H2O Grid Details\n",
              "================\n",
              "\n",
              "Grid ID: rn_est8 \n",
              "Used hyper parameters: \n",
              "  -  activation \n",
              "  -  epochs \n",
              "  -  hidden \n",
              "  -  rate \n",
              "  -  rate_annealing \n",
              "  -  rate_decay \n",
              "Number of models: 700 \n",
              "Number of failed models: 0 \n",
              "\n",
              "Hyper-Parameter Search Summary: ordered by increasing MSE\n",
              "            activation   epochs hidden    rate rate_annealing rate_decay\n",
              "1    MaxoutWithDropout 20.00000    500 0.05000        0.00000    0.98000\n",
              "2      TanhWithDropout 20.00000    250 0.05000        0.00001    0.98300\n",
              "3    MaxoutWithDropout 10.00000    550 0.05000        0.00001    0.99000\n",
              "4 RectifierWithDropout 55.00000    250 0.00100        0.00070    0.98300\n",
              "5 RectifierWithDropout  5.00000    700 0.70000        0.00070    0.99000\n",
              "          model_ids     mse\n",
              "1 rn_est8_model_650 0.96960\n",
              "2 rn_est8_model_547 1.00444\n",
              "3 rn_est8_model_359 1.01825\n",
              "4  rn_est8_model_14 1.02622\n",
              "5 rn_est8_model_255 1.02921\n",
              "\n",
              "---\n",
              "    activation    epochs hidden    rate rate_annealing rate_decay\n",
              "695     Maxout  55.00000   1000 0.50000        0.00050    0.98300\n",
              "696     Maxout 100.00000    600 0.10000        0.00001    0.98000\n",
              "697  Rectifier  65.00000    700 0.50000        0.00010    0.98000\n",
              "698  Rectifier  10.00000   1000 0.70000        0.00070    0.98900\n",
              "699     Maxout  10.00000   1000 0.70000        0.00001    0.98500\n",
              "700  Rectifier  55.00000   1000 0.05000        0.00001    0.98300\n",
              "            model_ids      mse\n",
              "695 rn_est8_model_672  8.98118\n",
              "696 rn_est8_model_381  9.15149\n",
              "697  rn_est8_model_56  9.22591\n",
              "698 rn_est8_model_540  9.62901\n",
              "699 rn_est8_model_413 10.65591\n",
              "700 rn_est8_model_395 12.84733"
            ]
          },
          "metadata": {}
        }
      ]
    },
    {
      "cell_type": "code",
      "source": [
        "rn_gridperf_est9<-h2o.getGrid(grid_id = \"rn_est9\",\n",
        "                              sort_by = \"MSE\",\n",
        "                              decreasing = FALSE)\n",
        "rn_gridperf_est9"
      ],
      "metadata": {
        "id": "iwPXEBcdll5S",
        "colab": {
          "base_uri": "https://localhost:8080/",
          "height": 763
        },
        "outputId": "141f1c16-cb4a-46e0-a66c-2a6a2315609a"
      },
      "execution_count": null,
      "outputs": [
        {
          "output_type": "display_data",
          "data": {
            "text/plain": [
              "H2O Grid Details\n",
              "================\n",
              "\n",
              "Grid ID: rn_est9 \n",
              "Used hyper parameters: \n",
              "  -  activation \n",
              "  -  epochs \n",
              "  -  hidden \n",
              "  -  rate \n",
              "  -  rate_annealing \n",
              "  -  rate_decay \n",
              "Number of models: 700 \n",
              "Number of failed models: 0 \n",
              "\n",
              "Hyper-Parameter Search Summary: ordered by increasing MSE\n",
              "            activation   epochs hidden    rate rate_annealing rate_decay\n",
              "1            Rectifier 65.00000     30 0.05000        0.00001    0.99000\n",
              "2            Rectifier 60.00000     30 0.00100        0.00070    0.98300\n",
              "3            Rectifier 50.00000     70 0.01000        0.00070    0.98900\n",
              "4    MaxoutWithDropout 55.00000    200 0.10000        0.00001    0.99000\n",
              "5 RectifierWithDropout 10.00000    150 0.00500        0.00000    0.99000\n",
              "          model_ids     mse\n",
              "1 rn_est9_model_192 3.55474\n",
              "2 rn_est9_model_368 3.56711\n",
              "3  rn_est9_model_79 3.63162\n",
              "4   rn_est9_model_9 3.67507\n",
              "5 rn_est9_model_685 3.68506\n",
              "\n",
              "---\n",
              "           activation    epochs hidden    rate rate_annealing rate_decay\n",
              "695            Maxout  65.00000    550 0.05000        0.00050    0.99000\n",
              "696            Maxout 200.00000     30 0.05000        0.00010    0.99000\n",
              "697 MaxoutWithDropout 200.00000   1000 0.10000        0.00001    0.98000\n",
              "698            Maxout  55.00000   1000 0.50000        0.00050    0.98300\n",
              "699         Rectifier 200.00000     70 0.50000        0.00001    0.98300\n",
              "700            Maxout   5.00000    550 0.00100        0.00010    0.99000\n",
              "            model_ids      mse\n",
              "695 rn_est9_model_473 13.74195\n",
              "696 rn_est9_model_674 13.74444\n",
              "697 rn_est9_model_622 14.34054\n",
              "698 rn_est9_model_672 14.61020\n",
              "699 rn_est9_model_292 17.84383\n",
              "700 rn_est9_model_565 18.48412"
            ]
          },
          "metadata": {}
        }
      ]
    },
    {
      "cell_type": "code",
      "source": [
        "rn_gridperf_est10<-h2o.getGrid(grid_id = \"rn_est10\",\n",
        "                              sort_by = \"MSE\",\n",
        "                              decreasing = FALSE)\n",
        "rn_gridperf_est10"
      ],
      "metadata": {
        "id": "zSutmkvKlnxl",
        "colab": {
          "base_uri": "https://localhost:8080/",
          "height": 763
        },
        "outputId": "68747cf5-9dcb-44b7-af0f-054610bfcf02"
      },
      "execution_count": null,
      "outputs": [
        {
          "output_type": "display_data",
          "data": {
            "text/plain": [
              "H2O Grid Details\n",
              "================\n",
              "\n",
              "Grid ID: rn_est10 \n",
              "Used hyper parameters: \n",
              "  -  activation \n",
              "  -  epochs \n",
              "  -  hidden \n",
              "  -  rate \n",
              "  -  rate_annealing \n",
              "  -  rate_decay \n",
              "Number of models: 700 \n",
              "Number of failed models: 0 \n",
              "\n",
              "Hyper-Parameter Search Summary: ordered by increasing MSE\n",
              "            activation   epochs hidden    rate rate_annealing rate_decay\n",
              "1    MaxoutWithDropout 60.00000     30 0.00500        0.00001    0.99000\n",
              "2               Maxout 15.00000     70 0.10000        0.00001    0.98300\n",
              "3 RectifierWithDropout  5.00000    200 0.00100        0.00050    0.98300\n",
              "4               Maxout  5.00000    150 0.07000        0.00001    0.98900\n",
              "5 RectifierWithDropout  5.00000    200 0.10000        0.00070    0.98500\n",
              "           model_ids     mse\n",
              "1 rn_est10_model_446 4.56935\n",
              "2 rn_est10_model_111 4.64935\n",
              "3 rn_est10_model_600 4.67321\n",
              "4 rn_est10_model_146 4.70594\n",
              "5 rn_est10_model_199 4.75422\n",
              "\n",
              "---\n",
              "           activation    epochs hidden    rate rate_annealing rate_decay\n",
              "695   TanhWithDropout  65.00000   1000 0.10000        0.00070    0.98000\n",
              "696              Tanh  65.00000   1000 0.00700        0.00010    0.98500\n",
              "697 MaxoutWithDropout 150.00000   1000 0.70000        0.00050    0.99000\n",
              "698              Tanh  60.00000   1000 0.50000        0.00001    0.99000\n",
              "699              Tanh 100.00000   1000 0.10000        0.00010    0.98000\n",
              "700 MaxoutWithDropout 200.00000   1000 0.10000        0.00001    0.98000\n",
              "             model_ids      mse\n",
              "695 rn_est10_model_637 21.86834\n",
              "696 rn_est10_model_403 22.67294\n",
              "697 rn_est10_model_542 24.15283\n",
              "698 rn_est10_model_355 24.42561\n",
              "699  rn_est10_model_95 24.87685\n",
              "700 rn_est10_model_622 27.15216"
            ]
          },
          "metadata": {}
        }
      ]
    },
    {
      "cell_type": "markdown",
      "source": [
        "## Guardado del mejor modelo Red Neuronal"
      ],
      "metadata": {
        "id": "vyIKutNEEFNC"
      }
    },
    {
      "cell_type": "code",
      "source": [
        "best_rn_train_est1<-h2o.getModel(rn_gridperf_est1@model_ids[[1]])\n",
        "best_rn_train_est1"
      ],
      "metadata": {
        "id": "P87-Rxp5Tui-",
        "colab": {
          "base_uri": "https://localhost:8080/",
          "height": 694
        },
        "outputId": "d9b85ed0-6d9d-4dfa-c80f-4ed2797e5b6a"
      },
      "execution_count": null,
      "outputs": [
        {
          "output_type": "display_data",
          "data": {
            "text/plain": [
              "Model Details:\n",
              "==============\n",
              "\n",
              "H2ORegressionModel: deeplearning\n",
              "Model ID:  rn_est1_model_313 \n",
              "Status of Neuron Layers: predicting inventario_est1, regression, gaussian distribution, Quadratic loss, 6,251 weights/biases, 82.0 KB, 701 training samples, mini-batch size 1\n",
              "  layer units             type dropout       l1       l2 mean_rate rate_rms\n",
              "1     1    23            Input  0.00 %       NA       NA        NA       NA\n",
              "2     2   250 RectifierDropout 50.00 % 0.000000 0.000000  0.064109 0.206035\n",
              "3     3     1           Linear      NA 0.000000 0.000000  0.000726 0.000211\n",
              "  momentum mean_weight weight_rms mean_bias bias_rms\n",
              "1       NA          NA         NA        NA       NA\n",
              "2 0.000000   -0.001290   0.088437  0.499392 0.005432\n",
              "3 0.000000   -0.001049   0.081592  0.008836 0.000000\n",
              "\n",
              "\n",
              "H2ORegressionMetrics: deeplearning\n",
              "** Reported on training data. **\n",
              "** Metrics reported on full training frame **\n",
              "\n",
              "MSE:  10.65703\n",
              "RMSE:  3.264511\n",
              "MAE:  2.659553\n",
              "RMSLE:  0.3725865\n",
              "Mean Residual Deviance :  10.65703\n",
              "\n",
              "\n",
              "H2ORegressionMetrics: deeplearning\n",
              "** Reported on validation data. **\n",
              "** Metrics reported on full validation frame **\n",
              "\n",
              "MSE:  14.37973\n",
              "RMSE:  3.792061\n",
              "MAE:  2.998098\n",
              "RMSLE:  0.8475492\n",
              "Mean Residual Deviance :  14.37973\n",
              "\n",
              "\n"
            ]
          },
          "metadata": {}
        }
      ]
    },
    {
      "cell_type": "code",
      "source": [
        "best_rn_train_est2<-h2o.getModel(rn_gridperf_est2@model_ids[[1]])\n",
        "best_rn_train_est2"
      ],
      "metadata": {
        "id": "KjexK-rJl6RB",
        "colab": {
          "base_uri": "https://localhost:8080/",
          "height": 694
        },
        "outputId": "1c8e5f1c-4e60-434d-b26e-0307358bafa1"
      },
      "execution_count": null,
      "outputs": [
        {
          "output_type": "display_data",
          "data": {
            "text/plain": [
              "Model Details:\n",
              "==============\n",
              "\n",
              "H2ORegressionModel: deeplearning\n",
              "Model ID:  rn_est2_model_157 \n",
              "Status of Neuron Layers: predicting inventario_est2, regression, gaussian distribution, Quadratic loss, 1,001 weights/biases, 18.0 KB, 3,005 training samples, mini-batch size 1\n",
              "  layer units      type dropout       l1       l2 mean_rate rate_rms momentum\n",
              "1     1    23     Input  0.00 %       NA       NA        NA       NA       NA\n",
              "2     2    40 Rectifier  0.00 % 0.000000 0.000000  0.048558 0.204504 0.000000\n",
              "3     3     1    Linear      NA 0.000000 0.000000  0.000625 0.000546 0.000000\n",
              "  mean_weight weight_rms mean_bias bias_rms\n",
              "1          NA         NA        NA       NA\n",
              "2    0.005885   0.187131  0.496124 0.012751\n",
              "3    0.007214   0.200578  0.007329 0.000000\n",
              "\n",
              "\n",
              "H2ORegressionMetrics: deeplearning\n",
              "** Reported on training data. **\n",
              "** Metrics reported on full training frame **\n",
              "\n",
              "MSE:  6.50237\n",
              "RMSE:  2.549974\n",
              "MAE:  2.028916\n",
              "RMSLE:  0.3803346\n",
              "Mean Residual Deviance :  6.50237\n",
              "\n",
              "\n",
              "H2ORegressionMetrics: deeplearning\n",
              "** Reported on validation data. **\n",
              "** Metrics reported on full validation frame **\n",
              "\n",
              "MSE:  5.401727\n",
              "RMSE:  2.324162\n",
              "MAE:  1.890537\n",
              "RMSLE:  0.3229785\n",
              "Mean Residual Deviance :  5.401727\n",
              "\n",
              "\n"
            ]
          },
          "metadata": {}
        }
      ]
    },
    {
      "cell_type": "code",
      "source": [
        "best_rn_train_est3<-h2o.getModel(rn_gridperf_est3@model_ids[[1]])\n",
        "best_rn_train_est3"
      ],
      "metadata": {
        "id": "zftogMF3mB4y",
        "colab": {
          "base_uri": "https://localhost:8080/",
          "height": 694
        },
        "outputId": "3c743394-344e-4504-ac44-7fe5f2c7fbd6"
      },
      "execution_count": null,
      "outputs": [
        {
          "output_type": "display_data",
          "data": {
            "text/plain": [
              "Model Details:\n",
              "==============\n",
              "\n",
              "H2ORegressionModel: deeplearning\n",
              "Model ID:  rn_est3_model_521 \n",
              "Status of Neuron Layers: predicting inventario_est3, regression, gaussian distribution, Quadratic loss, 5,001 weights/biases, 66.7 KB, 4,600 training samples, mini-batch size 1\n",
              "  layer units   type dropout       l1       l2 mean_rate rate_rms momentum\n",
              "1     1    23  Input  0.00 %       NA       NA        NA       NA       NA\n",
              "2     2   200   Tanh  0.00 % 0.000000 0.000000  0.076211 0.206254 0.000000\n",
              "3     3     1 Linear      NA 0.000000 0.000000  0.002251 0.000989 0.000000\n",
              "  mean_weight weight_rms mean_bias bias_rms\n",
              "1          NA         NA        NA       NA\n",
              "2   -0.001815   0.108181  0.002649 0.054706\n",
              "3   -0.009876   0.101575  0.003505 0.000000\n",
              "\n",
              "\n",
              "H2ORegressionMetrics: deeplearning\n",
              "** Reported on training data. **\n",
              "** Metrics reported on full training frame **\n",
              "\n",
              "MSE:  4.745376\n",
              "RMSE:  2.178388\n",
              "MAE:  1.458458\n",
              "RMSLE:  0.4450029\n",
              "Mean Residual Deviance :  4.745376\n",
              "\n",
              "\n",
              "H2ORegressionMetrics: deeplearning\n",
              "** Reported on validation data. **\n",
              "** Metrics reported on full validation frame **\n",
              "\n",
              "MSE:  9.284576\n",
              "RMSE:  3.04706\n",
              "MAE:  2.582258\n",
              "RMSLE:  0.5956346\n",
              "Mean Residual Deviance :  9.284576\n",
              "\n",
              "\n"
            ]
          },
          "metadata": {}
        }
      ]
    },
    {
      "cell_type": "code",
      "source": [
        "best_rn_train_est4<-h2o.getModel(rn_gridperf_est4@model_ids[[1]])\n",
        "best_rn_train_est4"
      ],
      "metadata": {
        "id": "lnlubu9-mEF6",
        "colab": {
          "base_uri": "https://localhost:8080/",
          "height": 694
        },
        "outputId": "b93b1939-e7ce-4c36-dbb8-6844da3e0167"
      },
      "execution_count": null,
      "outputs": [
        {
          "output_type": "display_data",
          "data": {
            "text/plain": [
              "Model Details:\n",
              "==============\n",
              "\n",
              "H2ORegressionModel: deeplearning\n",
              "Model ID:  rn_est4_model_408 \n",
              "Status of Neuron Layers: predicting inventario_est4, regression, gaussian distribution, Quadratic loss, 29,401 weights/biases, 364.4 KB, 230 training samples, mini-batch size 1\n",
              "  layer units          type dropout       l1       l2 mean_rate rate_rms\n",
              "1     1    23         Input  0.00 %       NA       NA        NA       NA\n",
              "2     2   600 MaxoutDropout 50.00 % 0.000000 0.000000  0.067119 0.204151\n",
              "3     3     1        Linear      NA 0.000000 0.000000  0.000630 0.000144\n",
              "  momentum mean_weight weight_rms mean_bias bias_rms\n",
              "1       NA          NA         NA        NA       NA\n",
              "2 0.000000   -0.000343   0.056482  0.498751 0.007918\n",
              "3 0.000000    0.000492   0.053365  0.008161 0.000000\n",
              "\n",
              "\n",
              "H2ORegressionMetrics: deeplearning\n",
              "** Reported on training data. **\n",
              "** Metrics reported on full training frame **\n",
              "\n",
              "MSE:  23.80212\n",
              "RMSE:  4.878742\n",
              "MAE:  3.852354\n",
              "RMSLE:  0.5548831\n",
              "Mean Residual Deviance :  23.80212\n",
              "\n",
              "\n",
              "H2ORegressionMetrics: deeplearning\n",
              "** Reported on validation data. **\n",
              "** Metrics reported on full validation frame **\n",
              "\n",
              "MSE:  29.89319\n",
              "RMSE:  5.467466\n",
              "MAE:  4.77649\n",
              "RMSLE:  1.081308\n",
              "Mean Residual Deviance :  29.89319\n",
              "\n",
              "\n"
            ]
          },
          "metadata": {}
        }
      ]
    },
    {
      "cell_type": "code",
      "source": [
        "best_rn_train_est5<-h2o.getModel(rn_gridperf_est5@model_ids[[1]])\n",
        "best_rn_train_est5"
      ],
      "metadata": {
        "id": "SCcnzk_3mGHR",
        "colab": {
          "base_uri": "https://localhost:8080/",
          "height": 694
        },
        "outputId": "a28eb4f2-b7f2-4105-d58d-cc3a0ce6a7d7"
      },
      "execution_count": null,
      "outputs": [
        {
          "output_type": "display_data",
          "data": {
            "text/plain": [
              "Model Details:\n",
              "==============\n",
              "\n",
              "H2ORegressionModel: deeplearning\n",
              "Model ID:  rn_est5_model_269 \n",
              "Status of Neuron Layers: predicting inventario_est5, regression, gaussian distribution, Quadratic loss, 29,401 weights/biases, 364.4 KB, 230 training samples, mini-batch size 1\n",
              "  layer units          type dropout       l1       l2 mean_rate rate_rms\n",
              "1     1    23         Input  0.00 %       NA       NA        NA       NA\n",
              "2     2   600 MaxoutDropout 50.00 % 0.000000 0.000000  0.067710 0.204194\n",
              "3     3     1        Linear      NA 0.000000 0.000000  0.000861 0.000254\n",
              "  momentum mean_weight weight_rms mean_bias bias_rms\n",
              "1       NA          NA         NA        NA       NA\n",
              "2 0.000000   -0.000191   0.056476  0.498469 0.007747\n",
              "3 0.000000    0.000260   0.052679  0.006737 0.000000\n",
              "\n",
              "\n",
              "H2ORegressionMetrics: deeplearning\n",
              "** Reported on training data. **\n",
              "** Metrics reported on full training frame **\n",
              "\n",
              "MSE:  3.438608\n",
              "RMSE:  1.854348\n",
              "MAE:  1.420184\n",
              "RMSLE:  0.4786027\n",
              "Mean Residual Deviance :  3.438608\n",
              "\n",
              "\n",
              "H2ORegressionMetrics: deeplearning\n",
              "** Reported on validation data. **\n",
              "** Metrics reported on full validation frame **\n",
              "\n",
              "MSE:  1.561962\n",
              "RMSE:  1.249785\n",
              "MAE:  0.9558673\n",
              "RMSLE:  0.4713083\n",
              "Mean Residual Deviance :  1.561962\n",
              "\n",
              "\n"
            ]
          },
          "metadata": {}
        }
      ]
    },
    {
      "cell_type": "code",
      "source": [
        "best_rn_train_est6<-h2o.getModel(rn_gridperf_est6@model_ids[[1]])\n",
        "best_rn_train_est6"
      ],
      "metadata": {
        "id": "1dbtefQbmHhy",
        "colab": {
          "base_uri": "https://localhost:8080/",
          "height": 694
        },
        "outputId": "764c789f-407e-4d89-901e-ff370fe46a09"
      },
      "execution_count": null,
      "outputs": [
        {
          "output_type": "display_data",
          "data": {
            "text/plain": [
              "Model Details:\n",
              "==============\n",
              "\n",
              "H2ORegressionModel: deeplearning\n",
              "Model ID:  rn_est6_model_159 \n",
              "Status of Neuron Layers: predicting inventario_est6, regression, gaussian distribution, Quadratic loss, 9,801 weights/biases, 125.3 KB, 701 training samples, mini-batch size 1\n",
              "  layer units          type dropout       l1       l2 mean_rate rate_rms\n",
              "1     1    23         Input  0.00 %       NA       NA        NA       NA\n",
              "2     2   200 MaxoutDropout 50.00 % 0.000000 0.000000  0.062381 0.208498\n",
              "3     3     1        Linear      NA 0.000000 0.000000  0.000616 0.000291\n",
              "  momentum mean_weight weight_rms mean_bias bias_rms\n",
              "1       NA          NA         NA        NA       NA\n",
              "2 0.000000   -0.000766   0.096686  0.499999 0.005813\n",
              "3 0.000000   -0.002492   0.093228 -0.000195 0.000000\n",
              "\n",
              "\n",
              "H2ORegressionMetrics: deeplearning\n",
              "** Reported on training data. **\n",
              "** Metrics reported on full training frame **\n",
              "\n",
              "MSE:  5.384832\n",
              "RMSE:  2.320524\n",
              "MAE:  1.848668\n",
              "RMSLE:  0.4792181\n",
              "Mean Residual Deviance :  5.384832\n",
              "\n",
              "\n",
              "H2ORegressionMetrics: deeplearning\n",
              "** Reported on validation data. **\n",
              "** Metrics reported on full validation frame **\n",
              "\n",
              "MSE:  3.114522\n",
              "RMSE:  1.764801\n",
              "MAE:  1.297108\n",
              "RMSLE:  0.4825335\n",
              "Mean Residual Deviance :  3.114522\n",
              "\n",
              "\n"
            ]
          },
          "metadata": {}
        }
      ]
    },
    {
      "cell_type": "code",
      "source": [
        "best_rn_train_est7<-h2o.getModel(rn_gridperf_est7@model_ids[[1]])\n",
        "best_rn_train_est7"
      ],
      "metadata": {
        "id": "v-slLVYOmJLi",
        "colab": {
          "base_uri": "https://localhost:8080/",
          "height": 694
        },
        "outputId": "4fef079b-bb62-4a5a-912f-f6b32806353d"
      },
      "execution_count": null,
      "outputs": [
        {
          "output_type": "display_data",
          "data": {
            "text/plain": [
              "Model Details:\n",
              "==============\n",
              "\n",
              "H2ORegressionModel: deeplearning\n",
              "Model ID:  rn_est7_model_376 \n",
              "Status of Neuron Layers: predicting inventario_est7, regression, gaussian distribution, Quadratic loss, 1,751 weights/biases, 27.1 KB, 2,776 training samples, mini-batch size 1\n",
              "  layer units      type dropout       l1       l2 mean_rate rate_rms momentum\n",
              "1     1    23     Input  0.00 %       NA       NA        NA       NA       NA\n",
              "2     2    70 Rectifier  0.00 % 0.000000 0.000000  0.057069 0.203487 0.000000\n",
              "3     3     1    Linear      NA 0.000000 0.000000  0.001604 0.000862 0.000000\n",
              "  mean_weight weight_rms mean_bias bias_rms\n",
              "1          NA         NA        NA       NA\n",
              "2   -0.004586   0.164011  0.455696 0.060241\n",
              "3    0.000624   0.191095  0.005464 0.000000\n",
              "\n",
              "\n",
              "H2ORegressionMetrics: deeplearning\n",
              "** Reported on training data. **\n",
              "** Metrics reported on full training frame **\n",
              "\n",
              "MSE:  0.99891\n",
              "RMSE:  0.9994548\n",
              "MAE:  0.7019161\n",
              "RMSLE:  0.3204937\n",
              "Mean Residual Deviance :  0.99891\n",
              "\n",
              "\n",
              "H2ORegressionMetrics: deeplearning\n",
              "** Reported on validation data. **\n",
              "** Metrics reported on full validation frame **\n",
              "\n",
              "MSE:  1.61395\n",
              "RMSE:  1.270413\n",
              "MAE:  0.9557886\n",
              "RMSLE:  0.5401547\n",
              "Mean Residual Deviance :  1.61395\n",
              "\n",
              "\n"
            ]
          },
          "metadata": {}
        }
      ]
    },
    {
      "cell_type": "code",
      "source": [
        "best_rn_train_est8<-h2o.getModel(rn_gridperf_est8@model_ids[[1]])\n",
        "best_rn_train_est8"
      ],
      "metadata": {
        "id": "YlfthHi_mNBZ",
        "colab": {
          "base_uri": "https://localhost:8080/",
          "height": 694
        },
        "outputId": "5ea28a24-b190-4f82-b46f-8468192680ec"
      },
      "execution_count": null,
      "outputs": [
        {
          "output_type": "display_data",
          "data": {
            "text/plain": [
              "Model Details:\n",
              "==============\n",
              "\n",
              "H2ORegressionModel: deeplearning\n",
              "Model ID:  rn_est8_model_650 \n",
              "Status of Neuron Layers: predicting inventario_est8, regression, gaussian distribution, Quadratic loss, 24,501 weights/biases, 304.6 KB, 920 training samples, mini-batch size 1\n",
              "  layer units          type dropout       l1       l2 mean_rate rate_rms\n",
              "1     1    23         Input  0.00 %       NA       NA        NA       NA\n",
              "2     2   500 MaxoutDropout 50.00 % 0.000000 0.000000  0.067340 0.207554\n",
              "3     3     1        Linear      NA 0.000000 0.000000  0.000679 0.000222\n",
              "  momentum mean_weight weight_rms mean_bias bias_rms\n",
              "1       NA          NA         NA        NA       NA\n",
              "2 0.000000    0.000124   0.060969  0.499533 0.005004\n",
              "3 0.000000   -0.001134   0.058317 -0.001825 0.000000\n",
              "\n",
              "\n",
              "H2ORegressionMetrics: deeplearning\n",
              "** Reported on training data. **\n",
              "** Metrics reported on full training frame **\n",
              "\n",
              "MSE:  3.468559\n",
              "RMSE:  1.862407\n",
              "MAE:  1.610811\n",
              "RMSLE:  0.643978\n",
              "Mean Residual Deviance :  3.468559\n",
              "\n",
              "\n",
              "H2ORegressionMetrics: deeplearning\n",
              "** Reported on validation data. **\n",
              "** Metrics reported on full validation frame **\n",
              "\n",
              "MSE:  0.9695993\n",
              "RMSE:  0.9846823\n",
              "MAE:  0.7595893\n",
              "RMSLE:  0.4196973\n",
              "Mean Residual Deviance :  0.9695993\n",
              "\n",
              "\n"
            ]
          },
          "metadata": {}
        }
      ]
    },
    {
      "cell_type": "code",
      "source": [
        "best_rn_train_est9<-h2o.getModel(rn_gridperf_est9@model_ids[[1]])\n",
        "best_rn_train_est9"
      ],
      "metadata": {
        "id": "_0b5zusomP4a",
        "colab": {
          "base_uri": "https://localhost:8080/",
          "height": 694
        },
        "outputId": "833890e3-be2e-40a1-fd7a-1640cc5e5204"
      },
      "execution_count": null,
      "outputs": [
        {
          "output_type": "display_data",
          "data": {
            "text/plain": [
              "Model Details:\n",
              "==============\n",
              "\n",
              "H2ORegressionModel: deeplearning\n",
              "Model ID:  rn_est9_model_192 \n",
              "Status of Neuron Layers: predicting inventario_est9, regression, gaussian distribution, Quadratic loss, 751 weights/biases, 14.9 KB, 3,005 training samples, mini-batch size 1\n",
              "  layer units      type dropout       l1       l2 mean_rate rate_rms momentum\n",
              "1     1    23     Input  0.00 %       NA       NA        NA       NA       NA\n",
              "2     2    30 Rectifier  0.00 % 0.000000 0.000000  0.048847 0.207289 0.000000\n",
              "3     3     1    Linear      NA 0.000000 0.000000  0.000623 0.000306 0.000000\n",
              "  mean_weight weight_rms mean_bias bias_rms\n",
              "1          NA         NA        NA       NA\n",
              "2    0.004911   0.207318  0.480258 0.049072\n",
              "3   -0.002011   0.271517  0.030769 0.000000\n",
              "\n",
              "\n",
              "H2ORegressionMetrics: deeplearning\n",
              "** Reported on training data. **\n",
              "** Metrics reported on full training frame **\n",
              "\n",
              "MSE:  3.382992\n",
              "RMSE:  1.839291\n",
              "MAE:  1.38661\n",
              "RMSLE:  0.4489912\n",
              "Mean Residual Deviance :  3.382992\n",
              "\n",
              "\n",
              "H2ORegressionMetrics: deeplearning\n",
              "** Reported on validation data. **\n",
              "** Metrics reported on full validation frame **\n",
              "\n",
              "MSE:  3.554742\n",
              "RMSE:  1.885402\n",
              "MAE:  1.38029\n",
              "RMSLE:  0.6143858\n",
              "Mean Residual Deviance :  3.554742\n",
              "\n",
              "\n"
            ]
          },
          "metadata": {}
        }
      ]
    },
    {
      "cell_type": "code",
      "source": [
        "best_rn_train_est10<-h2o.getModel(rn_gridperf_est10@model_ids[[1]])\n",
        "best_rn_train_est10"
      ],
      "metadata": {
        "id": "nHE5OU2-mReb",
        "colab": {
          "base_uri": "https://localhost:8080/",
          "height": 694
        },
        "outputId": "ed6cddec-b079-4c2e-8556-4642356b687b"
      },
      "execution_count": null,
      "outputs": [
        {
          "output_type": "display_data",
          "data": {
            "text/plain": [
              "Model Details:\n",
              "==============\n",
              "\n",
              "H2ORegressionModel: deeplearning\n",
              "Model ID:  rn_est10_model_446 \n",
              "Status of Neuron Layers: predicting inventario_est10, regression, gaussian distribution, Quadratic loss, 1,471 weights/biases, 23.7 KB, 2,760 training samples, mini-batch size 1\n",
              "  layer units          type dropout       l1       l2 mean_rate rate_rms\n",
              "1     1    23         Input  0.00 %       NA       NA        NA       NA\n",
              "2     2    30 MaxoutDropout 50.00 % 0.000000 0.000000  0.046619 0.204770\n",
              "3     3     1        Linear      NA 0.000000 0.000000  0.000234 0.000092\n",
              "  momentum mean_weight weight_rms mean_bias bias_rms\n",
              "1       NA          NA         NA        NA       NA\n",
              "2 0.000000    0.000586   0.199232  0.499190 0.039829\n",
              "3 0.000000    0.004259   0.186698 -0.006751 0.000000\n",
              "\n",
              "\n",
              "H2ORegressionMetrics: deeplearning\n",
              "** Reported on training data. **\n",
              "** Metrics reported on full training frame **\n",
              "\n",
              "MSE:  6.753498\n",
              "RMSE:  2.598749\n",
              "MAE:  2.212195\n",
              "RMSLE:  0.6253129\n",
              "Mean Residual Deviance :  6.753498\n",
              "\n",
              "\n",
              "H2ORegressionMetrics: deeplearning\n",
              "** Reported on validation data. **\n",
              "** Metrics reported on full validation frame **\n",
              "\n",
              "MSE:  4.569352\n",
              "RMSE:  2.137604\n",
              "MAE:  1.84728\n",
              "RMSLE:  0.4368333\n",
              "Mean Residual Deviance :  4.569352\n",
              "\n",
              "\n"
            ]
          },
          "metadata": {}
        }
      ]
    },
    {
      "cell_type": "markdown",
      "source": [
        "## Contador de modelos maximos a aplicar"
      ],
      "metadata": {
        "id": "CmwKu8k9UdQY"
      }
    },
    {
      "cell_type": "code",
      "source": [
        "rn_est1_l1<-length(rn_params_est1$hidden)\n",
        "rn_est1_l2<-length(rn_params_est1$epochs)\n",
        "rn_est1_l3<-length(rn_params_est1$rate)\n",
        "rn_est1_l4<-length(rn_params_est1$rate_annealing)\n",
        "rn_est1_l5<-length(rn_params_est1$rate_decay)\n",
        "(rn_est1_l1*rn_est1_l2*rn_est1_l3*rn_est1_l4*rn_est1_l5)"
      ],
      "metadata": {
        "id": "wvfcM6ayUgpv"
      },
      "execution_count": null,
      "outputs": []
    },
    {
      "cell_type": "code",
      "source": [
        "rn_est2_l1<-length(rn_params_est2$hidden)\n",
        "rn_est2_l2<-length(rn_params_est2$epochs)\n",
        "rn_est2_l3<-length(rn_params_est2$rate)\n",
        "rn_est2_l4<-length(rn_params_est2$rate_annealing)\n",
        "rn_est2_l5<-length(rn_params_est2$rate_decay)\n",
        "(rn_est2_l1*rn_est2_l2*rn_est2_l3*rn_est2_l4*rn_est2_l5)"
      ],
      "metadata": {
        "id": "rXcA6FQfmW8E"
      },
      "execution_count": null,
      "outputs": []
    },
    {
      "cell_type": "code",
      "source": [
        "rn_est3_l1<-length(rn_params_est3$hidden)\n",
        "rn_est3_l2<-length(rn_params_est3$epochs)\n",
        "rn_est3_l3<-length(rn_params_est3$rate)\n",
        "rn_est3_l4<-length(rn_params_est3$rate_annealing)\n",
        "rn_est3_l5<-length(rn_params_est3$rate_decay)\n",
        "(rn_est3_l1*rn_est3_l2*rn_est3_l3*rn_est3_l4*rn_est3_l5)"
      ],
      "metadata": {
        "id": "GyLWSI9Ema-Z"
      },
      "execution_count": null,
      "outputs": []
    },
    {
      "cell_type": "code",
      "source": [
        "rn_est4_l1<-length(rn_params_est4$hidden)\n",
        "rn_est4_l2<-length(rn_params_est4$epochs)\n",
        "rn_est4_l3<-length(rn_params_est4$rate)\n",
        "rn_est4_l4<-length(rn_params_est4$rate_annealing)\n",
        "rn_est4_l5<-length(rn_params_est4$rate_decay)\n",
        "(rn_est4_l1*rn_est4_l2*rn_est4_l3*rn_est4_l4*rn_est4_l5)"
      ],
      "metadata": {
        "id": "7PcQYt-lmhES"
      },
      "execution_count": null,
      "outputs": []
    },
    {
      "cell_type": "code",
      "source": [
        "rn_est5_l1<-length(rn_params_est5$hidden)\n",
        "rn_est5_l2<-length(rn_params_est5$epochs)\n",
        "rn_est5_l3<-length(rn_params_est5$rate)\n",
        "rn_est5_l4<-length(rn_params_est5$rate_annealing)\n",
        "rn_est5_l5<-length(rn_params_est5$rate_decay)\n",
        "(rn_est5_l1*rn_est5_l2*rn_est5_l3*rn_est5_l4*rn_est5_l5)"
      ],
      "metadata": {
        "id": "qLWFGRcLmkkT"
      },
      "execution_count": null,
      "outputs": []
    },
    {
      "cell_type": "code",
      "source": [
        "rn_est6_l1<-length(rn_params_est6$hidden)\n",
        "rn_est6_l2<-length(rn_params_est6$epochs)\n",
        "rn_est6_l3<-length(rn_params_est6$rate)\n",
        "rn_est6_l4<-length(rn_params_est6$rate_annealing)\n",
        "rn_est6_l5<-length(rn_params_est6$rate_decay)\n",
        "(rn_est6_l1*rn_est6_l2*rn_est6_l3*rn_est6_l4*rn_est6_l5)"
      ],
      "metadata": {
        "id": "4Fv2uNLNmpsK"
      },
      "execution_count": null,
      "outputs": []
    },
    {
      "cell_type": "code",
      "source": [
        "rn_est7_l1<-length(rn_params_est7$hidden)\n",
        "rn_est7_l2<-length(rn_params_est7$epochs)\n",
        "rn_est7_l3<-length(rn_params_est7$rate)\n",
        "rn_est7_l4<-length(rn_params_est7$rate_annealing)\n",
        "rn_est7_l5<-length(rn_params_est7$rate_decay)\n",
        "(rn_est7_l1*rn_est7_l2*rn_est7_l3*rn_est7_l4*rn_est7_l5)"
      ],
      "metadata": {
        "id": "Tgiw9o87mtyj"
      },
      "execution_count": null,
      "outputs": []
    },
    {
      "cell_type": "code",
      "source": [
        "rn_est8_l1<-length(rn_params_est8$hidden)\n",
        "rn_est8_l2<-length(rn_params_est8$epochs)\n",
        "rn_est8_l3<-length(rn_params_est8$rate)\n",
        "rn_est8_l4<-length(rn_params_est8$rate_annealing)\n",
        "rn_est8_l5<-length(rn_params_est8$rate_decay)\n",
        "(rn_est8_l1*rn_est8_l2*rn_est8_l3*rn_est8_l4*rn_est8_l5)"
      ],
      "metadata": {
        "id": "2weXsF7fmxOy"
      },
      "execution_count": null,
      "outputs": []
    },
    {
      "cell_type": "code",
      "source": [
        "rn_est9_l1<-length(rn_params_est9$hidden)\n",
        "rn_est9_l2<-length(rn_params_est9$epochs)\n",
        "rn_est9_l3<-length(rn_params_est9$rate)\n",
        "rn_est9_l4<-length(rn_params_est9$rate_annealing)\n",
        "rn_est9_l5<-length(rn_params_est9$rate_decay)\n",
        "(rn_est9_l1*rn_est9_l2*rn_est9_l3*rn_est9_l4*rn_est9_l5)"
      ],
      "metadata": {
        "id": "j77Ks9p_m00h"
      },
      "execution_count": null,
      "outputs": []
    },
    {
      "cell_type": "code",
      "source": [
        "rn_est10_l1<-length(rn_params_est10$hidden)\n",
        "rn_est10_l2<-length(rn_params_est10$epochs)\n",
        "rn_est10_l3<-length(rn_params_est10$rate)\n",
        "rn_est10_l4<-length(rn_params_est10$rate_annealing)\n",
        "rn_est10_l5<-length(rn_params_est10$rate_decay)\n",
        "(rn_est10_l1*rn_est10_l2*rn_est10_l3*rn_est10_l4*rn_est10_l5)"
      ],
      "metadata": {
        "id": "4aQ9fRBym4Lj"
      },
      "execution_count": null,
      "outputs": []
    },
    {
      "cell_type": "markdown",
      "source": [
        "# Archivo del mejor modelo guardado"
      ],
      "metadata": {
        "id": "j04sMXP2Ra7b"
      }
    },
    {
      "cell_type": "code",
      "source": [
        "dir<-getwd()"
      ],
      "metadata": {
        "id": "o4FlGt4TRkzE"
      },
      "execution_count": null,
      "outputs": []
    },
    {
      "cell_type": "markdown",
      "source": [
        "## Archivos de los modelos GBM de las estaciones"
      ],
      "metadata": {
        "id": "m4olU5LBSQKE"
      }
    },
    {
      "cell_type": "code",
      "source": [
        "h2o.saveModel(best_gbm_train_est1,dir,filename=\"train2_gbm_bike_est1\")"
      ],
      "metadata": {
        "id": "W2j-zX21R_vV",
        "colab": {
          "base_uri": "https://localhost:8080/",
          "height": 34
        },
        "outputId": "55e34d13-b4c7-4bb1-d408-7d1ed743fdfa"
      },
      "execution_count": null,
      "outputs": [
        {
          "output_type": "display_data",
          "data": {
            "text/html": [
              "'/content/train2_gbm_bike_est1'"
            ],
            "text/markdown": "'/content/train2_gbm_bike_est1'",
            "text/latex": "'/content/train2\\_gbm\\_bike\\_est1'",
            "text/plain": [
              "[1] \"/content/train2_gbm_bike_est1\""
            ]
          },
          "metadata": {}
        }
      ]
    },
    {
      "cell_type": "code",
      "source": [
        "h2o.saveModel(best_gbm_train_est2,dir,filename=\"train2_gbm_bike_est2\")"
      ],
      "metadata": {
        "id": "MepGER20SaU1",
        "colab": {
          "base_uri": "https://localhost:8080/",
          "height": 34
        },
        "outputId": "2349f47c-268a-4743-8201-4dba33570ff1"
      },
      "execution_count": null,
      "outputs": [
        {
          "output_type": "display_data",
          "data": {
            "text/html": [
              "'/content/train2_gbm_bike_est2'"
            ],
            "text/markdown": "'/content/train2_gbm_bike_est2'",
            "text/latex": "'/content/train2\\_gbm\\_bike\\_est2'",
            "text/plain": [
              "[1] \"/content/train2_gbm_bike_est2\""
            ]
          },
          "metadata": {}
        }
      ]
    },
    {
      "cell_type": "code",
      "source": [
        "h2o.saveModel(best_gbm_train_est3,dir,filename=\"train2_gbm_bike_est3\")"
      ],
      "metadata": {
        "id": "WCkgpxSlSs30",
        "colab": {
          "base_uri": "https://localhost:8080/",
          "height": 34
        },
        "outputId": "8b812628-d866-450a-fa34-d22299a3546c"
      },
      "execution_count": null,
      "outputs": [
        {
          "output_type": "display_data",
          "data": {
            "text/html": [
              "'/content/train2_gbm_bike_est3'"
            ],
            "text/markdown": "'/content/train2_gbm_bike_est3'",
            "text/latex": "'/content/train2\\_gbm\\_bike\\_est3'",
            "text/plain": [
              "[1] \"/content/train2_gbm_bike_est3\""
            ]
          },
          "metadata": {}
        }
      ]
    },
    {
      "cell_type": "code",
      "source": [
        "h2o.saveModel(best_gbm_train_est4,dir,filename=\"train2_gbm_bike_est4\")"
      ],
      "metadata": {
        "id": "HSefu-djSuV8",
        "colab": {
          "base_uri": "https://localhost:8080/",
          "height": 34
        },
        "outputId": "24a93e46-bd7b-4bc8-9d85-0016867c0f51"
      },
      "execution_count": null,
      "outputs": [
        {
          "output_type": "display_data",
          "data": {
            "text/html": [
              "'/content/train2_gbm_bike_est4'"
            ],
            "text/markdown": "'/content/train2_gbm_bike_est4'",
            "text/latex": "'/content/train2\\_gbm\\_bike\\_est4'",
            "text/plain": [
              "[1] \"/content/train2_gbm_bike_est4\""
            ]
          },
          "metadata": {}
        }
      ]
    },
    {
      "cell_type": "code",
      "source": [
        "h2o.saveModel(best_gbm_train_est5,dir,filename=\"train2_gbm_bike_est5\")"
      ],
      "metadata": {
        "id": "g8RzXKhJSu1d",
        "colab": {
          "base_uri": "https://localhost:8080/",
          "height": 34
        },
        "outputId": "46d9b300-8169-44a6-b4bf-23c1509b44aa"
      },
      "execution_count": null,
      "outputs": [
        {
          "output_type": "display_data",
          "data": {
            "text/html": [
              "'/content/train2_gbm_bike_est5'"
            ],
            "text/markdown": "'/content/train2_gbm_bike_est5'",
            "text/latex": "'/content/train2\\_gbm\\_bike\\_est5'",
            "text/plain": [
              "[1] \"/content/train2_gbm_bike_est5\""
            ]
          },
          "metadata": {}
        }
      ]
    },
    {
      "cell_type": "code",
      "source": [
        "h2o.saveModel(best_gbm_train_est6,dir,filename=\"train2_gbm_bike_est6\")"
      ],
      "metadata": {
        "id": "rcWv54YzSvj8",
        "colab": {
          "base_uri": "https://localhost:8080/",
          "height": 34
        },
        "outputId": "4e45a37c-8c7c-450b-c3ad-69ed1abc3419"
      },
      "execution_count": null,
      "outputs": [
        {
          "output_type": "display_data",
          "data": {
            "text/html": [
              "'/content/train2_gbm_bike_est6'"
            ],
            "text/markdown": "'/content/train2_gbm_bike_est6'",
            "text/latex": "'/content/train2\\_gbm\\_bike\\_est6'",
            "text/plain": [
              "[1] \"/content/train2_gbm_bike_est6\""
            ]
          },
          "metadata": {}
        }
      ]
    },
    {
      "cell_type": "code",
      "source": [
        "h2o.saveModel(best_gbm_train_est7,dir,filename=\"train2_gbm_bike_est7\")"
      ],
      "metadata": {
        "id": "Zf6ihhozSv-s",
        "colab": {
          "base_uri": "https://localhost:8080/",
          "height": 34
        },
        "outputId": "c7cd4cd6-5079-4268-e5c7-6e054ad48e12"
      },
      "execution_count": null,
      "outputs": [
        {
          "output_type": "display_data",
          "data": {
            "text/html": [
              "'/content/train2_gbm_bike_est7'"
            ],
            "text/markdown": "'/content/train2_gbm_bike_est7'",
            "text/latex": "'/content/train2\\_gbm\\_bike\\_est7'",
            "text/plain": [
              "[1] \"/content/train2_gbm_bike_est7\""
            ]
          },
          "metadata": {}
        }
      ]
    },
    {
      "cell_type": "code",
      "source": [
        "h2o.saveModel(best_gbm_train_est8,dir,filename=\"train2_gbm_bike_est8\")"
      ],
      "metadata": {
        "id": "nWZf3mO2Swr9",
        "colab": {
          "base_uri": "https://localhost:8080/",
          "height": 34
        },
        "outputId": "035b5be6-64a7-4665-ede5-48584ef5e3c5"
      },
      "execution_count": null,
      "outputs": [
        {
          "output_type": "display_data",
          "data": {
            "text/html": [
              "'/content/train2_gbm_bike_est8'"
            ],
            "text/markdown": "'/content/train2_gbm_bike_est8'",
            "text/latex": "'/content/train2\\_gbm\\_bike\\_est8'",
            "text/plain": [
              "[1] \"/content/train2_gbm_bike_est8\""
            ]
          },
          "metadata": {}
        }
      ]
    },
    {
      "cell_type": "code",
      "source": [
        "h2o.saveModel(best_gbm_train_est9,dir,filename=\"train2_gbm_bike_est9\")"
      ],
      "metadata": {
        "id": "oYEgwv0QSxEN",
        "colab": {
          "base_uri": "https://localhost:8080/",
          "height": 34
        },
        "outputId": "8701d9e0-64b8-4fff-bd17-422c5bf84d77"
      },
      "execution_count": null,
      "outputs": [
        {
          "output_type": "display_data",
          "data": {
            "text/html": [
              "'/content/train2_gbm_bike_est9'"
            ],
            "text/markdown": "'/content/train2_gbm_bike_est9'",
            "text/latex": "'/content/train2\\_gbm\\_bike\\_est9'",
            "text/plain": [
              "[1] \"/content/train2_gbm_bike_est9\""
            ]
          },
          "metadata": {}
        }
      ]
    },
    {
      "cell_type": "code",
      "source": [
        "h2o.saveModel(best_gbm_train_est10,dir,filename=\"train2_gbm_bike_est10\")"
      ],
      "metadata": {
        "id": "Xf3TbuOfSxlr",
        "colab": {
          "base_uri": "https://localhost:8080/",
          "height": 34
        },
        "outputId": "4daef8b4-1c05-4d68-85ba-1c1d8414b546"
      },
      "execution_count": null,
      "outputs": [
        {
          "output_type": "display_data",
          "data": {
            "text/html": [
              "'/content/train2_gbm_bike_est10'"
            ],
            "text/markdown": "'/content/train2_gbm_bike_est10'",
            "text/latex": "'/content/train2\\_gbm\\_bike\\_est10'",
            "text/plain": [
              "[1] \"/content/train2_gbm_bike_est10\""
            ]
          },
          "metadata": {}
        }
      ]
    },
    {
      "cell_type": "markdown",
      "source": [
        "## Archivos de los modelos Red Neuronal de las estaciones"
      ],
      "metadata": {
        "id": "XOtgVyK7SdX0"
      }
    },
    {
      "cell_type": "code",
      "source": [
        "h2o.saveModel(best_rn_train_est1,dir,filename=\"train2_rn_bike_est1\")"
      ],
      "metadata": {
        "id": "LDjTQDfMShXL",
        "colab": {
          "base_uri": "https://localhost:8080/",
          "height": 34
        },
        "outputId": "733a8b65-1771-41f1-fe2f-3869f7bb8fa1"
      },
      "execution_count": null,
      "outputs": [
        {
          "output_type": "display_data",
          "data": {
            "text/html": [
              "'/content/train2_rn_bike_est1'"
            ],
            "text/markdown": "'/content/train2_rn_bike_est1'",
            "text/latex": "'/content/train2\\_rn\\_bike\\_est1'",
            "text/plain": [
              "[1] \"/content/train2_rn_bike_est1\""
            ]
          },
          "metadata": {}
        }
      ]
    },
    {
      "cell_type": "code",
      "source": [
        "h2o.saveModel(best_rn_train_est2,dir,filename=\"train2_rn_bike_est2\")"
      ],
      "metadata": {
        "id": "YVgM0FlqTLBF",
        "colab": {
          "base_uri": "https://localhost:8080/",
          "height": 34
        },
        "outputId": "61ad8748-04aa-4ba5-f625-5101b86c0083"
      },
      "execution_count": null,
      "outputs": [
        {
          "output_type": "display_data",
          "data": {
            "text/html": [
              "'/content/train2_rn_bike_est2'"
            ],
            "text/markdown": "'/content/train2_rn_bike_est2'",
            "text/latex": "'/content/train2\\_rn\\_bike\\_est2'",
            "text/plain": [
              "[1] \"/content/train2_rn_bike_est2\""
            ]
          },
          "metadata": {}
        }
      ]
    },
    {
      "cell_type": "code",
      "source": [
        "h2o.saveModel(best_rn_train_est3,dir,filename=\"train2_rn_bike_est3\")"
      ],
      "metadata": {
        "id": "udV9q_NeTMa0",
        "colab": {
          "base_uri": "https://localhost:8080/",
          "height": 34
        },
        "outputId": "6595f02a-a53c-4514-b804-9d954c837727"
      },
      "execution_count": null,
      "outputs": [
        {
          "output_type": "display_data",
          "data": {
            "text/html": [
              "'/content/train2_rn_bike_est3'"
            ],
            "text/markdown": "'/content/train2_rn_bike_est3'",
            "text/latex": "'/content/train2\\_rn\\_bike\\_est3'",
            "text/plain": [
              "[1] \"/content/train2_rn_bike_est3\""
            ]
          },
          "metadata": {}
        }
      ]
    },
    {
      "cell_type": "code",
      "source": [
        "h2o.saveModel(best_rn_train_est4,dir,filename=\"train2_rn_bike_est4\")"
      ],
      "metadata": {
        "id": "EIOobsPgTM32",
        "colab": {
          "base_uri": "https://localhost:8080/",
          "height": 34
        },
        "outputId": "b7f99b22-0047-4ae6-e823-50a256d0070e"
      },
      "execution_count": null,
      "outputs": [
        {
          "output_type": "display_data",
          "data": {
            "text/html": [
              "'/content/train2_rn_bike_est4'"
            ],
            "text/markdown": "'/content/train2_rn_bike_est4'",
            "text/latex": "'/content/train2\\_rn\\_bike\\_est4'",
            "text/plain": [
              "[1] \"/content/train2_rn_bike_est4\""
            ]
          },
          "metadata": {}
        }
      ]
    },
    {
      "cell_type": "code",
      "source": [
        "h2o.saveModel(best_rn_train_est5,dir,filename=\"train2_rn_bike_est5\")"
      ],
      "metadata": {
        "id": "C8IutpEXTNTF",
        "colab": {
          "base_uri": "https://localhost:8080/",
          "height": 34
        },
        "outputId": "8e24e082-f218-40d0-816a-a8ca3e5449f8"
      },
      "execution_count": null,
      "outputs": [
        {
          "output_type": "display_data",
          "data": {
            "text/html": [
              "'/content/train2_rn_bike_est5'"
            ],
            "text/markdown": "'/content/train2_rn_bike_est5'",
            "text/latex": "'/content/train2\\_rn\\_bike\\_est5'",
            "text/plain": [
              "[1] \"/content/train2_rn_bike_est5\""
            ]
          },
          "metadata": {}
        }
      ]
    },
    {
      "cell_type": "code",
      "source": [
        "h2o.saveModel(best_rn_train_est6,dir,filename=\"train2_rn_bike_est6\")"
      ],
      "metadata": {
        "id": "OTBVgf7STNwE",
        "colab": {
          "base_uri": "https://localhost:8080/",
          "height": 34
        },
        "outputId": "95e3399f-0ba8-4f5c-bb3b-0492187b843d"
      },
      "execution_count": null,
      "outputs": [
        {
          "output_type": "display_data",
          "data": {
            "text/html": [
              "'/content/train2_rn_bike_est6'"
            ],
            "text/markdown": "'/content/train2_rn_bike_est6'",
            "text/latex": "'/content/train2\\_rn\\_bike\\_est6'",
            "text/plain": [
              "[1] \"/content/train2_rn_bike_est6\""
            ]
          },
          "metadata": {}
        }
      ]
    },
    {
      "cell_type": "code",
      "source": [
        "h2o.saveModel(best_rn_train_est7,dir,filename=\"train2_rn_bike_est7\")"
      ],
      "metadata": {
        "id": "klpLFHN2TOGN",
        "colab": {
          "base_uri": "https://localhost:8080/",
          "height": 34
        },
        "outputId": "be6acbd1-6a16-4b6c-c192-94d7fce54d0a"
      },
      "execution_count": null,
      "outputs": [
        {
          "output_type": "display_data",
          "data": {
            "text/html": [
              "'/content/train2_rn_bike_est7'"
            ],
            "text/markdown": "'/content/train2_rn_bike_est7'",
            "text/latex": "'/content/train2\\_rn\\_bike\\_est7'",
            "text/plain": [
              "[1] \"/content/train2_rn_bike_est7\""
            ]
          },
          "metadata": {}
        }
      ]
    },
    {
      "cell_type": "code",
      "source": [
        "h2o.saveModel(best_rn_train_est8,dir,filename=\"train2_rn_bike_est8\")"
      ],
      "metadata": {
        "id": "Ic86McocTOZ8",
        "colab": {
          "base_uri": "https://localhost:8080/",
          "height": 34
        },
        "outputId": "24a90873-d8a8-4a26-cbbc-e5b6d776755c"
      },
      "execution_count": null,
      "outputs": [
        {
          "output_type": "display_data",
          "data": {
            "text/html": [
              "'/content/train2_rn_bike_est8'"
            ],
            "text/markdown": "'/content/train2_rn_bike_est8'",
            "text/latex": "'/content/train2\\_rn\\_bike\\_est8'",
            "text/plain": [
              "[1] \"/content/train2_rn_bike_est8\""
            ]
          },
          "metadata": {}
        }
      ]
    },
    {
      "cell_type": "code",
      "source": [
        "h2o.saveModel(best_rn_train_est9,dir,filename=\"train2_rn_bike_est9\")"
      ],
      "metadata": {
        "id": "2JBS7dEOTOzM",
        "colab": {
          "base_uri": "https://localhost:8080/",
          "height": 34
        },
        "outputId": "38db498c-1bda-4c6b-f672-265867eaefd0"
      },
      "execution_count": null,
      "outputs": [
        {
          "output_type": "display_data",
          "data": {
            "text/html": [
              "'/content/train2_rn_bike_est9'"
            ],
            "text/markdown": "'/content/train2_rn_bike_est9'",
            "text/latex": "'/content/train2\\_rn\\_bike\\_est9'",
            "text/plain": [
              "[1] \"/content/train2_rn_bike_est9\""
            ]
          },
          "metadata": {}
        }
      ]
    },
    {
      "cell_type": "code",
      "source": [
        "h2o.saveModel(best_rn_train_est10,dir,filename=\"train2_rn_bike_est10\")"
      ],
      "metadata": {
        "id": "ssV67tieTPH8",
        "colab": {
          "base_uri": "https://localhost:8080/",
          "height": 34
        },
        "outputId": "ab4eac3c-7b1e-45ad-f9dd-7335ab8e82cd"
      },
      "execution_count": null,
      "outputs": [
        {
          "output_type": "display_data",
          "data": {
            "text/html": [
              "'/content/train2_rn_bike_est10'"
            ],
            "text/markdown": "'/content/train2_rn_bike_est10'",
            "text/latex": "'/content/train2\\_rn\\_bike\\_est10'",
            "text/plain": [
              "[1] \"/content/train2_rn_bike_est10\""
            ]
          },
          "metadata": {}
        }
      ]
    },
    {
      "cell_type": "markdown",
      "source": [
        "# Predicciónes con los modelos"
      ],
      "metadata": {
        "id": "RTbnfttbz48X"
      }
    },
    {
      "cell_type": "markdown",
      "source": [
        "## Carga de los modelos generados por estaciones"
      ],
      "metadata": {
        "id": "M5sINoTo0EVU"
      }
    },
    {
      "cell_type": "markdown",
      "source": [
        "### Carga de los modelos generados por GBM"
      ],
      "metadata": {
        "id": "VBNc_X3Z0I1y"
      }
    },
    {
      "cell_type": "code",
      "source": [
        "train_gbm_model_bike_est1<-h2o.loadModel(\"/content/train2_gbm_bike_est1\")"
      ],
      "metadata": {
        "id": "YcHJCdA10OVs"
      },
      "execution_count": null,
      "outputs": []
    },
    {
      "cell_type": "code",
      "source": [
        "train_gbm_model_bike_est2<-h2o.loadModel(\"/content/train2_gbm_bike_est2\")"
      ],
      "metadata": {
        "id": "1NaXBjy80a70"
      },
      "execution_count": null,
      "outputs": []
    },
    {
      "cell_type": "code",
      "source": [
        "train_gbm_model_bike_est3<-h2o.loadModel(\"/content/train2_gbm_bike_est3\")"
      ],
      "metadata": {
        "id": "mN_FpJxZ0hBc"
      },
      "execution_count": null,
      "outputs": []
    },
    {
      "cell_type": "code",
      "source": [
        "train_gbm_model_bike_est4<-h2o.loadModel(\"/content/train2_gbm_bike_est4\")"
      ],
      "metadata": {
        "id": "nK3ODX-H0hlU"
      },
      "execution_count": null,
      "outputs": []
    },
    {
      "cell_type": "code",
      "source": [
        "train_gbm_model_bike_est5<-h2o.loadModel(\"/content/train2_gbm_bike_est5\")"
      ],
      "metadata": {
        "id": "utvaw-Zc0iNs"
      },
      "execution_count": null,
      "outputs": []
    },
    {
      "cell_type": "code",
      "source": [
        "train_gbm_model_bike_est6<-h2o.loadModel(\"/content/train2_gbm_bike_est6\")"
      ],
      "metadata": {
        "id": "CduqywUc0i5d"
      },
      "execution_count": null,
      "outputs": []
    },
    {
      "cell_type": "code",
      "source": [
        "train_gbm_model_bike_est7<-h2o.loadModel(\"/content/train2_gbm_bike_est7\")"
      ],
      "metadata": {
        "id": "XgX28zhS0jmb"
      },
      "execution_count": null,
      "outputs": []
    },
    {
      "cell_type": "code",
      "source": [
        "train_gbm_model_bike_est8<-h2o.loadModel(\"/content/train2_gbm_bike_est8\")"
      ],
      "metadata": {
        "id": "h6or8z4J0kBE"
      },
      "execution_count": null,
      "outputs": []
    },
    {
      "cell_type": "code",
      "source": [
        "train_gbm_model_bike_est9<-h2o.loadModel(\"/content/train2_gbm_bike_est9\")"
      ],
      "metadata": {
        "id": "NbjfEiuM0kaE"
      },
      "execution_count": null,
      "outputs": []
    },
    {
      "cell_type": "code",
      "source": [
        "train_gbm_model_bike_est10<-h2o.loadModel(\"/content/train2_gbm_bike_est10\")"
      ],
      "metadata": {
        "id": "QjYUxI0v0k09"
      },
      "execution_count": null,
      "outputs": []
    },
    {
      "cell_type": "markdown",
      "source": [
        "### Carga de modelos generados por Red Neuronal"
      ],
      "metadata": {
        "id": "MY6AENZm1FF8"
      }
    },
    {
      "cell_type": "code",
      "source": [
        "train_rn_model_bike_est1<-h2o.loadModel(\"/content/train2_rn_bike_est1\")"
      ],
      "metadata": {
        "id": "KlQjc2BM1KG-"
      },
      "execution_count": null,
      "outputs": []
    },
    {
      "cell_type": "code",
      "source": [
        "train_rn_model_bike_est2<-h2o.loadModel(\"/content/train2_rn_bike_est2\")"
      ],
      "metadata": {
        "id": "Hxjl7iJH1eRk"
      },
      "execution_count": null,
      "outputs": []
    },
    {
      "cell_type": "code",
      "source": [
        "train_rn_model_bike_est3<-h2o.loadModel(\"/content/train2_rn_bike_est3\")"
      ],
      "metadata": {
        "id": "3GZbZMSH1fsD"
      },
      "execution_count": null,
      "outputs": []
    },
    {
      "cell_type": "code",
      "source": [
        "train_rn_model_bike_est4<-h2o.loadModel(\"/content/train2_rn_bike_est4\")"
      ],
      "metadata": {
        "id": "lR5PExmx1gRj"
      },
      "execution_count": null,
      "outputs": []
    },
    {
      "cell_type": "code",
      "source": [
        "train_rn_model_bike_est5<-h2o.loadModel(\"/content/train2_rn_bike_est5\")"
      ],
      "metadata": {
        "id": "IqcwVCMW1g3z"
      },
      "execution_count": null,
      "outputs": []
    },
    {
      "cell_type": "code",
      "source": [
        "train_rn_model_bike_est6<-h2o.loadModel(\"/content/train2_rn_bike_est6\")"
      ],
      "metadata": {
        "id": "fFe8hcib1hbM"
      },
      "execution_count": null,
      "outputs": []
    },
    {
      "cell_type": "code",
      "source": [
        "train_rn_model_bike_est7<-h2o.loadModel(\"/content/train2_rn_bike_est7\")"
      ],
      "metadata": {
        "id": "OTSJ-7Rm1h5b"
      },
      "execution_count": null,
      "outputs": []
    },
    {
      "cell_type": "code",
      "source": [
        "train_rn_model_bike_est8<-h2o.loadModel(\"/content/train2_rn_bike_est8\")"
      ],
      "metadata": {
        "id": "BSL-rw6N1ia8"
      },
      "execution_count": null,
      "outputs": []
    },
    {
      "cell_type": "code",
      "source": [
        "train_rn_model_bike_est9<-h2o.loadModel(\"/content/train2_rn_bike_est9\")"
      ],
      "metadata": {
        "id": "jiy5JHmT1izs"
      },
      "execution_count": null,
      "outputs": []
    },
    {
      "cell_type": "code",
      "source": [
        "train_rn_model_bike_est10<-h2o.loadModel(\"/content/train2_rn_bike_est10\")"
      ],
      "metadata": {
        "id": "nWzTCYWJ1jXz"
      },
      "execution_count": null,
      "outputs": []
    },
    {
      "cell_type": "markdown",
      "source": [
        "## Predicciónes usando train hasta la 3era semana"
      ],
      "metadata": {
        "id": "f2-jfLib2Kku"
      }
    },
    {
      "cell_type": "markdown",
      "source": [
        "### Predicciónes usando GBM"
      ],
      "metadata": {
        "id": "SxDeQAHW2Sp9"
      }
    },
    {
      "cell_type": "code",
      "source": [
        "predic_train_bike_gbm_est1<-h2o.predict(train_gbm_model_bike_est1,valid_h2o)\n",
        "predic_train_bike_gbm_est1<-as.data.frame(predic_train_bike_gbm_est1)\n",
        "vec_gbm_est1<-vector(mode = \"numeric\",length = 45)+0\n",
        "vec_gbm_est1<-as.data.frame(vec_gbm_est1)\n",
        "data_vec_gbm_est1<-vec_gbm_est1\n",
        "colnames(data_vec_gbm_est1)<-colnames(predic_train_bike_gbm_est1)\n",
        "predic_bike_gbm_est1<-rbind(data_vec_gbm_est1,predic_train_bike_gbm_est1)\n",
        "predic_bike_gbm_est1<-round(predic_bike_gbm_est1,2)"
      ],
      "metadata": {
        "colab": {
          "base_uri": "https://localhost:8080/"
        },
        "id": "tW_aZCwH2h1j",
        "outputId": "db30ea35-a938-4ba2-ac5c-8d7ec5a25f73"
      },
      "execution_count": null,
      "outputs": [
        {
          "output_type": "stream",
          "name": "stdout",
          "text": [
            "  |======================================================================| 100%\n"
          ]
        }
      ]
    },
    {
      "cell_type": "code",
      "source": [
        "predic_train_bike_gbm_est2<-h2o.predict(train_gbm_model_bike_est2,valid_h2o)\n",
        "predic_train_bike_gbm_est2<-as.data.frame(predic_train_bike_gbm_est2)\n",
        "vec_gbm_est2<-vector(mode = \"numeric\",length = 45)+0\n",
        "vec_gbm_est2<-as.data.frame(vec_gbm_est2)\n",
        "data_vec_gbm_est2<-vec_gbm_est2\n",
        "colnames(data_vec_gbm_est2)<-colnames(predic_train_bike_gbm_est2)\n",
        "predic_bike_gbm_est2<-rbind(data_vec_gbm_est2,predic_train_bike_gbm_est2)\n",
        "predic_bike_gbm_est2<-round(predic_bike_gbm_est2,2)"
      ],
      "metadata": {
        "colab": {
          "base_uri": "https://localhost:8080/"
        },
        "id": "KxwihFd12mI0",
        "outputId": "021c3634-0e43-4cab-c69d-99f67cb89720"
      },
      "execution_count": null,
      "outputs": [
        {
          "output_type": "stream",
          "name": "stdout",
          "text": [
            "  |======================================================================| 100%\n"
          ]
        }
      ]
    },
    {
      "cell_type": "code",
      "source": [
        "predic_train_bike_gbm_est3<-h2o.predict(train_gbm_model_bike_est3,valid_h2o)\n",
        "predic_train_bike_gbm_est3<-as.data.frame(predic_train_bike_gbm_est3)\n",
        "vec_gbm_est3<-vector(mode = \"numeric\",length = 45)+0\n",
        "vec_gbm_est3<-as.data.frame(vec_gbm_est3)\n",
        "data_vec_gbm_est3<-vec_gbm_est3\n",
        "colnames(data_vec_gbm_est3)<-colnames(predic_train_bike_gbm_est3)\n",
        "predic_bike_gbm_est3<-rbind(data_vec_gbm_est3,predic_train_bike_gbm_est3)\n",
        "predic_bike_gbm_est3<-round(predic_bike_gbm_est3,2)"
      ],
      "metadata": {
        "colab": {
          "base_uri": "https://localhost:8080/"
        },
        "id": "Jrd55dJY2pxz",
        "outputId": "1f4d3044-9121-4fbb-a088-3e878fdab563"
      },
      "execution_count": null,
      "outputs": [
        {
          "output_type": "stream",
          "name": "stdout",
          "text": [
            "  |======================================================================| 100%\n"
          ]
        }
      ]
    },
    {
      "cell_type": "code",
      "source": [
        "predic_train_bike_gbm_est4<-h2o.predict(train_gbm_model_bike_est4,valid_h2o)\n",
        "predic_train_bike_gbm_est4<-as.data.frame(predic_train_bike_gbm_est4)\n",
        "vec_gbm_est4<-vector(mode = \"numeric\",length = 45)+0\n",
        "vec_gbm_est4<-as.data.frame(vec_gbm_est4)\n",
        "data_vec_gbm_est4<-vec_gbm_est4\n",
        "colnames(data_vec_gbm_est4)<-colnames(predic_train_bike_gbm_est4)\n",
        "predic_bike_gbm_est4<-rbind(data_vec_gbm_est4,predic_train_bike_gbm_est4)\n",
        "predic_bike_gbm_est4<-round(predic_bike_gbm_est4,2)"
      ],
      "metadata": {
        "colab": {
          "base_uri": "https://localhost:8080/"
        },
        "id": "Eq3KZwCY2tF7",
        "outputId": "f742117e-1394-4761-911b-05766c912b8f"
      },
      "execution_count": null,
      "outputs": [
        {
          "output_type": "stream",
          "name": "stdout",
          "text": [
            "  |======================================================================| 100%\n"
          ]
        }
      ]
    },
    {
      "cell_type": "code",
      "source": [
        "predic_train_bike_gbm_est5<-h2o.predict(train_gbm_model_bike_est5,valid_h2o)\n",
        "predic_train_bike_gbm_est5<-as.data.frame(predic_train_bike_gbm_est5)\n",
        "vec_gbm_est5<-vector(mode = \"numeric\",length = 45)+0\n",
        "vec_gbm_est5<-as.data.frame(vec_gbm_est5)\n",
        "data_vec_gbm_est5<-vec_gbm_est5\n",
        "colnames(data_vec_gbm_est5)<-colnames(predic_train_bike_gbm_est5)\n",
        "predic_bike_gbm_est5<-rbind(data_vec_gbm_est5,predic_train_bike_gbm_est5)\n",
        "predic_bike_gbm_est5<-round(predic_bike_gbm_est5,2)"
      ],
      "metadata": {
        "colab": {
          "base_uri": "https://localhost:8080/"
        },
        "id": "24mSsrhd2vrE",
        "outputId": "8bd20e92-e697-4e0d-8da0-5e3a0b8271d3"
      },
      "execution_count": null,
      "outputs": [
        {
          "output_type": "stream",
          "name": "stdout",
          "text": [
            "  |======================================================================| 100%\n"
          ]
        }
      ]
    },
    {
      "cell_type": "code",
      "source": [
        "predic_train_bike_gbm_est6<-h2o.predict(train_gbm_model_bike_est6,valid_h2o)\n",
        "predic_train_bike_gbm_est6<-as.data.frame(predic_train_bike_gbm_est6)\n",
        "vec_gbm_est6<-vector(mode = \"numeric\",length = 45)+0\n",
        "vec_gbm_est6<-as.data.frame(vec_gbm_est6)\n",
        "data_vec_gbm_est6<-vec_gbm_est6\n",
        "colnames(data_vec_gbm_est6)<-colnames(predic_train_bike_gbm_est6)\n",
        "predic_bike_gbm_est6<-rbind(data_vec_gbm_est6,predic_train_bike_gbm_est6)\n",
        "predic_bike_gbm_est6<-round(predic_bike_gbm_est6,2)"
      ],
      "metadata": {
        "id": "yhW_RK9A26_G",
        "colab": {
          "base_uri": "https://localhost:8080/"
        },
        "outputId": "bd0c0e84-c6fc-4e3f-e598-fbcdd6c6c472"
      },
      "execution_count": null,
      "outputs": [
        {
          "output_type": "stream",
          "name": "stdout",
          "text": [
            "  |======================================================================| 100%\n"
          ]
        }
      ]
    },
    {
      "cell_type": "code",
      "source": [
        "predic_train_bike_gbm_est7<-h2o.predict(train_gbm_model_bike_est7,valid_h2o)\n",
        "predic_train_bike_gbm_est7<-as.data.frame(predic_train_bike_gbm_est7)\n",
        "vec_gbm_est7<-vector(mode = \"numeric\",length = 45)+0\n",
        "vec_gbm_est7<-as.data.frame(vec_gbm_est7)\n",
        "data_vec_gbm_est7<-vec_gbm_est7\n",
        "colnames(data_vec_gbm_est7)<-colnames(predic_train_bike_gbm_est7)\n",
        "predic_bike_gbm_est7<-rbind(data_vec_gbm_est7,predic_train_bike_gbm_est7)\n",
        "predic_bike_gbm_est7<-round(predic_bike_gbm_est7,2)"
      ],
      "metadata": {
        "id": "EJaQRvra2987",
        "colab": {
          "base_uri": "https://localhost:8080/"
        },
        "outputId": "3e0ba5b2-58c1-43b1-8023-93cfd45d2002"
      },
      "execution_count": null,
      "outputs": [
        {
          "output_type": "stream",
          "name": "stdout",
          "text": [
            "  |======================================================================| 100%\n"
          ]
        }
      ]
    },
    {
      "cell_type": "code",
      "source": [
        "predic_train_bike_gbm_est8<-h2o.predict(train_gbm_model_bike_est8,valid_h2o)\n",
        "predic_train_bike_gbm_est8<-as.data.frame(predic_train_bike_gbm_est8)\n",
        "vec_gbm_est8<-vector(mode = \"numeric\",length = 45)+0\n",
        "vec_gbm_est8<-as.data.frame(vec_gbm_est8)\n",
        "data_vec_gbm_est8<-vec_gbm_est8\n",
        "colnames(data_vec_gbm_est8)<-colnames(predic_train_bike_gbm_est8)\n",
        "predic_bike_gbm_est8<-rbind(data_vec_gbm_est8,predic_train_bike_gbm_est8)\n",
        "predic_bike_gbm_est8<-round(predic_bike_gbm_est8,2)"
      ],
      "metadata": {
        "id": "suJqJms23A0j",
        "colab": {
          "base_uri": "https://localhost:8080/"
        },
        "outputId": "9d0a173b-388e-483d-b4bd-8e054355ccc8"
      },
      "execution_count": null,
      "outputs": [
        {
          "output_type": "stream",
          "name": "stdout",
          "text": [
            "  |======================================================================| 100%\n"
          ]
        }
      ]
    },
    {
      "cell_type": "code",
      "source": [
        "predic_train_bike_gbm_est9<-h2o.predict(train_gbm_model_bike_est9,valid_h2o)\n",
        "predic_train_bike_gbm_est9<-as.data.frame(predic_train_bike_gbm_est9)\n",
        "vec_gbm_est9<-vector(mode = \"numeric\",length = 45)+0\n",
        "vec_gbm_est9<-as.data.frame(vec_gbm_est9)\n",
        "data_vec_gbm_est9<-vec_gbm_est9\n",
        "colnames(data_vec_gbm_est9)<-colnames(predic_train_bike_gbm_est9)\n",
        "predic_bike_gbm_est9<-rbind(data_vec_gbm_est9,predic_train_bike_gbm_est9)\n",
        "predic_bike_gbm_est9<-round(predic_bike_gbm_est9,2)"
      ],
      "metadata": {
        "id": "5bCSnXcs3DV7",
        "colab": {
          "base_uri": "https://localhost:8080/"
        },
        "outputId": "0f0150ac-0ecd-4e13-af4c-7d813576e2a4"
      },
      "execution_count": null,
      "outputs": [
        {
          "output_type": "stream",
          "name": "stdout",
          "text": [
            "  |======================================================================| 100%\n"
          ]
        }
      ]
    },
    {
      "cell_type": "code",
      "source": [
        "predic_train_bike_gbm_est10<-h2o.predict(train_gbm_model_bike_est10,valid_h2o)\n",
        "predic_train_bike_gbm_est10<-as.data.frame(predic_train_bike_gbm_est10)\n",
        "vec_gbm_est10<-vector(mode = \"numeric\",length = 45)+0\n",
        "vec_gbm_est10<-as.data.frame(vec_gbm_est10)\n",
        "data_vec_gbm_est10<-vec_gbm_est10\n",
        "colnames(data_vec_gbm_est10)<-colnames(predic_train_bike_gbm_est10)\n",
        "predic_bike_gbm_est10<-rbind(data_vec_gbm_est10,predic_train_bike_gbm_est10)\n",
        "predic_bike_gbm_est10<-round(predic_bike_gbm_est10,2)"
      ],
      "metadata": {
        "id": "MXED2ypy3H8U",
        "colab": {
          "base_uri": "https://localhost:8080/"
        },
        "outputId": "8991a3b4-5724-4ccc-ccd8-fdcd7ce8f7d5"
      },
      "execution_count": null,
      "outputs": [
        {
          "output_type": "stream",
          "name": "stdout",
          "text": [
            "  |======================================================================| 100%\n"
          ]
        }
      ]
    },
    {
      "cell_type": "markdown",
      "source": [
        "### Predicciónes usando Red Neuronal"
      ],
      "metadata": {
        "id": "nyg15i3_2aoD"
      }
    },
    {
      "cell_type": "code",
      "source": [
        "predic_train_bike_rn_est1<-h2o.predict(train_rn_model_bike_est1,valid_h2o)\n",
        "predic_train_bike_rn_est1<-as.data.frame(predic_train_bike_rn_est1)\n",
        "vec_rn_est1<-vector(mode = \"numeric\",length = 45)+0\n",
        "vec_rn_est1<-as.data.frame(vec_rn_est1)\n",
        "data_vec_rn_est1<-vec_rn_est1\n",
        "colnames(data_vec_rn_est1)<-colnames(predic_train_bike_rn_est1)\n",
        "predic_bike_rn_est1<-rbind(data_vec_rn_est1,predic_train_bike_rn_est1)\n",
        "predic_bike_rn_est1<-round(predic_bike_rn_est1,2)"
      ],
      "metadata": {
        "colab": {
          "base_uri": "https://localhost:8080/"
        },
        "id": "Ahdekamd3N3t",
        "outputId": "3e0d6f34-ece4-4761-8f15-430d15393803"
      },
      "execution_count": null,
      "outputs": [
        {
          "output_type": "stream",
          "name": "stdout",
          "text": [
            "  |======================================================================| 100%\n"
          ]
        }
      ]
    },
    {
      "cell_type": "code",
      "source": [
        "predic_train_bike_rn_est2<-h2o.predict(train_rn_model_bike_est2,valid_h2o)\n",
        "predic_train_bike_rn_est2<-as.data.frame(predic_train_bike_rn_est2)\n",
        "vec_rn_est2<-vector(mode = \"numeric\",length = 45)+0\n",
        "vec_rn_est2<-as.data.frame(vec_rn_est2)\n",
        "data_vec_rn_est2<-vec_rn_est2\n",
        "colnames(data_vec_rn_est2)<-colnames(predic_train_bike_rn_est2)\n",
        "predic_bike_rn_est2<-rbind(data_vec_rn_est2,predic_train_bike_rn_est2)\n",
        "predic_bike_rn_est2<-round(predic_bike_rn_est2,2)"
      ],
      "metadata": {
        "colab": {
          "base_uri": "https://localhost:8080/"
        },
        "id": "KQmDkODQ3SOD",
        "outputId": "2b25563b-945e-4cc5-e0cf-cf36ee248cf8"
      },
      "execution_count": null,
      "outputs": [
        {
          "output_type": "stream",
          "name": "stdout",
          "text": [
            "  |======================================================================| 100%\n"
          ]
        }
      ]
    },
    {
      "cell_type": "code",
      "source": [
        "predic_train_bike_rn_est3<-h2o.predict(train_rn_model_bike_est3,valid_h2o)\n",
        "predic_train_bike_rn_est3<-as.data.frame(predic_train_bike_rn_est3)\n",
        "vec_rn_est3<-vector(mode = \"numeric\",length = 45)+0\n",
        "vec_rn_est3<-as.data.frame(vec_rn_est3)\n",
        "data_vec_rn_est3<-vec_rn_est3\n",
        "colnames(data_vec_rn_est3)<-colnames(predic_train_bike_rn_est3)\n",
        "predic_bike_rn_est3<-rbind(data_vec_rn_est3,predic_train_bike_rn_est3)\n",
        "predic_bike_rn_est3<-round(predic_bike_rn_est3,2)"
      ],
      "metadata": {
        "colab": {
          "base_uri": "https://localhost:8080/"
        },
        "id": "ejgjGqPb3Utr",
        "outputId": "ac1dae38-fa48-40ac-8329-0e8529e055a6"
      },
      "execution_count": null,
      "outputs": [
        {
          "output_type": "stream",
          "name": "stdout",
          "text": [
            "  |======================================================================| 100%\n"
          ]
        }
      ]
    },
    {
      "cell_type": "code",
      "source": [
        "predic_train_bike_rn_est4<-h2o.predict(train_rn_model_bike_est4,valid_h2o)\n",
        "predic_train_bike_rn_est4<-as.data.frame(predic_train_bike_rn_est4)\n",
        "vec_rn_est4<-vector(mode = \"numeric\",length = 45)+0\n",
        "vec_rn_est4<-as.data.frame(vec_rn_est4)\n",
        "data_vec_rn_est4<-vec_rn_est4\n",
        "colnames(data_vec_rn_est4)<-colnames(predic_train_bike_rn_est4)\n",
        "predic_bike_rn_est4<-rbind(data_vec_rn_est4,predic_train_bike_rn_est4)\n",
        "predic_bike_rn_est4<-round(predic_bike_rn_est4,2)"
      ],
      "metadata": {
        "colab": {
          "base_uri": "https://localhost:8080/"
        },
        "id": "fjQekdKb3XpT",
        "outputId": "b70bd209-b327-423b-9eb2-75881a6a8974"
      },
      "execution_count": null,
      "outputs": [
        {
          "output_type": "stream",
          "name": "stdout",
          "text": [
            "  |======================================================================| 100%\n"
          ]
        }
      ]
    },
    {
      "cell_type": "code",
      "source": [
        "predic_train_bike_rn_est5<-h2o.predict(train_rn_model_bike_est5,valid_h2o)\n",
        "predic_train_bike_rn_est5<-as.data.frame(predic_train_bike_rn_est5)\n",
        "vec_rn_est5<-vector(mode = \"numeric\",length = 45)+0\n",
        "vec_rn_est5<-as.data.frame(vec_rn_est5)\n",
        "data_vec_rn_est5<-vec_rn_est5\n",
        "colnames(data_vec_rn_est5)<-colnames(predic_train_bike_rn_est5)\n",
        "predic_bike_rn_est5<-rbind(data_vec_rn_est5,predic_train_bike_rn_est5)\n",
        "predic_bike_rn_est5<-round(predic_bike_rn_est5,2)"
      ],
      "metadata": {
        "colab": {
          "base_uri": "https://localhost:8080/"
        },
        "id": "vwf9cZ7u3ae1",
        "outputId": "fc4fdbde-9e1f-46fa-8104-bda64c7f4cfc"
      },
      "execution_count": null,
      "outputs": [
        {
          "output_type": "stream",
          "name": "stdout",
          "text": [
            "  |======================================================================| 100%\n"
          ]
        }
      ]
    },
    {
      "cell_type": "code",
      "source": [
        "predic_train_bike_rn_est6<-h2o.predict(train_rn_model_bike_est6,valid_h2o)\n",
        "predic_train_bike_rn_est6<-as.data.frame(predic_train_bike_rn_est6)\n",
        "vec_rn_est6<-vector(mode = \"numeric\",length = 45)+0\n",
        "vec_rn_est6<-as.data.frame(vec_rn_est6)\n",
        "data_vec_rn_est6<-vec_rn_est6\n",
        "colnames(data_vec_rn_est6)<-colnames(predic_train_bike_rn_est6)\n",
        "predic_bike_rn_est6<-rbind(data_vec_rn_est6,predic_train_bike_rn_est6)\n",
        "predic_bike_rn_est6<-round(predic_bike_rn_est6,2)"
      ],
      "metadata": {
        "id": "6W90ny--3dSb",
        "colab": {
          "base_uri": "https://localhost:8080/"
        },
        "outputId": "6b8fa667-8de4-42cd-8602-eb4b181e623a"
      },
      "execution_count": null,
      "outputs": [
        {
          "output_type": "stream",
          "name": "stdout",
          "text": [
            "  |======================================================================| 100%\n"
          ]
        }
      ]
    },
    {
      "cell_type": "code",
      "source": [
        "predic_train_bike_rn_est7<-h2o.predict(train_rn_model_bike_est7,valid_h2o)\n",
        "predic_train_bike_rn_est7<-as.data.frame(predic_train_bike_rn_est7)\n",
        "vec_rn_est7<-vector(mode = \"numeric\",length = 45)+0\n",
        "vec_rn_est7<-as.data.frame(vec_rn_est7)\n",
        "data_vec_rn_est7<-vec_rn_est7\n",
        "colnames(data_vec_rn_est7)<-colnames(predic_train_bike_rn_est7)\n",
        "predic_bike_rn_est7<-rbind(data_vec_rn_est7,predic_train_bike_rn_est7)\n",
        "predic_bike_rn_est7<-round(predic_bike_rn_est7,2)"
      ],
      "metadata": {
        "id": "2Vf0kqCJ3fy7",
        "colab": {
          "base_uri": "https://localhost:8080/"
        },
        "outputId": "9932587f-109c-4b98-b87e-c30c65e071e3"
      },
      "execution_count": null,
      "outputs": [
        {
          "output_type": "stream",
          "name": "stdout",
          "text": [
            "  |======================================================================| 100%\n"
          ]
        }
      ]
    },
    {
      "cell_type": "code",
      "source": [
        "predic_train_bike_rn_est8<-h2o.predict(train_rn_model_bike_est8,valid_h2o)\n",
        "predic_train_bike_rn_est8<-as.data.frame(predic_train_bike_rn_est8)\n",
        "vec_rn_est8<-vector(mode = \"numeric\",length = 45)+0\n",
        "vec_rn_est8<-as.data.frame(vec_rn_est8)\n",
        "data_vec_rn_est8<-vec_rn_est8\n",
        "colnames(data_vec_rn_est8)<-colnames(predic_train_bike_rn_est8)\n",
        "predic_bike_rn_est8<-rbind(data_vec_rn_est8,predic_train_bike_rn_est8)\n",
        "predic_bike_rn_est8<-round(predic_bike_rn_est8,2)"
      ],
      "metadata": {
        "id": "mvx27zMf3iN8",
        "colab": {
          "base_uri": "https://localhost:8080/"
        },
        "outputId": "202ce7d3-6f08-4743-ace0-e7dc5285cc1e"
      },
      "execution_count": null,
      "outputs": [
        {
          "output_type": "stream",
          "name": "stdout",
          "text": [
            "  |======================================================================| 100%\n"
          ]
        }
      ]
    },
    {
      "cell_type": "code",
      "source": [
        "predic_train_bike_rn_est9<-h2o.predict(train_rn_model_bike_est9,valid_h2o)\n",
        "predic_train_bike_rn_est9<-as.data.frame(predic_train_bike_rn_est9)\n",
        "vec_rn_est9<-vector(mode = \"numeric\",length = 45)+0\n",
        "vec_rn_est9<-as.data.frame(vec_rn_est9)\n",
        "data_vec_rn_est9<-vec_rn_est9\n",
        "colnames(data_vec_rn_est9)<-colnames(predic_train_bike_rn_est9)\n",
        "predic_bike_rn_est9<-rbind(data_vec_rn_est9,predic_train_bike_rn_est9)\n",
        "predic_bike_rn_est9<-round(predic_bike_rn_est9,2)"
      ],
      "metadata": {
        "id": "vBqYfAHU3kvz",
        "colab": {
          "base_uri": "https://localhost:8080/"
        },
        "outputId": "3f81ce1a-a5d0-4e5e-ca07-66f7f1035dec"
      },
      "execution_count": null,
      "outputs": [
        {
          "output_type": "stream",
          "name": "stdout",
          "text": [
            "  |======================================================================| 100%\n"
          ]
        }
      ]
    },
    {
      "cell_type": "code",
      "source": [
        "predic_train_bike_rn_est10<-h2o.predict(train_rn_model_bike_est10,valid_h2o)\n",
        "predic_train_bike_rn_est10<-as.data.frame(predic_train_bike_rn_est10)\n",
        "vec_rn_est10<-vector(mode = \"numeric\",length = 45)+0\n",
        "vec_rn_est10<-as.data.frame(vec_rn_est10)\n",
        "data_vec_rn_est10<-vec_rn_est10\n",
        "colnames(data_vec_rn_est10)<-colnames(predic_train_bike_rn_est10)\n",
        "predic_bike_rn_est10<-rbind(data_vec_rn_est10,predic_train_bike_rn_est10)\n",
        "predic_bike_rn_est10<-round(predic_bike_rn_est10,2)"
      ],
      "metadata": {
        "id": "McAVJ9MP3nT0",
        "colab": {
          "base_uri": "https://localhost:8080/"
        },
        "outputId": "b84847ff-ee3a-4f10-e17b-93193db49175"
      },
      "execution_count": null,
      "outputs": [
        {
          "output_type": "stream",
          "name": "stdout",
          "text": [
            "  |======================================================================| 100%\n"
          ]
        }
      ]
    },
    {
      "cell_type": "markdown",
      "source": [
        "## Elaboración de predicciónes y exporte"
      ],
      "metadata": {
        "id": "tjXuUWef3-Cu"
      }
    },
    {
      "cell_type": "markdown",
      "source": [
        "Data train de las predicciónes elaboradas"
      ],
      "metadata": {
        "id": "JIF24_Nl4VOT"
      }
    },
    {
      "cell_type": "code",
      "source": [
        "data_train_GBM<-data.frame(mes[1],predic_bike_gbm_est1,predic_bike_gbm_est2,predic_bike_gbm_est3,predic_bike_gbm_est4,predic_bike_gbm_est5,predic_bike_gbm_est6,predic_bike_gbm_est7,predic_bike_gbm_est8,predic_bike_gbm_est9,predic_bike_gbm_est10)\n",
        "data_train_GBM"
      ],
      "metadata": {
        "colab": {
          "base_uri": "https://localhost:8080/",
          "height": 1000
        },
        "id": "n2gQSQuk4EqT",
        "outputId": "06bd53cc-2f25-4b6d-f37e-7e034f5ecd57"
      },
      "execution_count": null,
      "outputs": [
        {
          "output_type": "display_data",
          "data": {
            "text/html": [
              "<table class=\"dataframe\">\n",
              "<caption>A data.frame: 60 × 11</caption>\n",
              "<thead>\n",
              "\t<tr><th scope=col>dias</th><th scope=col>predict</th><th scope=col>predict.1</th><th scope=col>predict.2</th><th scope=col>predict.3</th><th scope=col>predict.4</th><th scope=col>predict.5</th><th scope=col>predict.6</th><th scope=col>predict.7</th><th scope=col>predict.8</th><th scope=col>predict.9</th></tr>\n",
              "\t<tr><th scope=col>&lt;dttm&gt;</th><th scope=col>&lt;dbl&gt;</th><th scope=col>&lt;dbl&gt;</th><th scope=col>&lt;dbl&gt;</th><th scope=col>&lt;dbl&gt;</th><th scope=col>&lt;dbl&gt;</th><th scope=col>&lt;dbl&gt;</th><th scope=col>&lt;dbl&gt;</th><th scope=col>&lt;dbl&gt;</th><th scope=col>&lt;dbl&gt;</th><th scope=col>&lt;dbl&gt;</th></tr>\n",
              "</thead>\n",
              "<tbody>\n",
              "\t<tr><td>2022-08-01 08:00:00</td><td>0.00</td><td>0.00</td><td>0.00</td><td>0.00</td><td>0.00</td><td>0.00</td><td> 0.00</td><td>0.00</td><td>0.00</td><td>0.00</td></tr>\n",
              "\t<tr><td>2022-08-01 14:00:00</td><td>0.00</td><td>0.00</td><td>0.00</td><td>0.00</td><td>0.00</td><td>0.00</td><td> 0.00</td><td>0.00</td><td>0.00</td><td>0.00</td></tr>\n",
              "\t<tr><td>2022-08-01 20:00:00</td><td>0.00</td><td>0.00</td><td>0.00</td><td>0.00</td><td>0.00</td><td>0.00</td><td> 0.00</td><td>0.00</td><td>0.00</td><td>0.00</td></tr>\n",
              "\t<tr><td>2022-08-02 08:00:00</td><td>0.00</td><td>0.00</td><td>0.00</td><td>0.00</td><td>0.00</td><td>0.00</td><td> 0.00</td><td>0.00</td><td>0.00</td><td>0.00</td></tr>\n",
              "\t<tr><td>2022-08-02 14:00:00</td><td>0.00</td><td>0.00</td><td>0.00</td><td>0.00</td><td>0.00</td><td>0.00</td><td> 0.00</td><td>0.00</td><td>0.00</td><td>0.00</td></tr>\n",
              "\t<tr><td>2022-08-02 20:00:00</td><td>0.00</td><td>0.00</td><td>0.00</td><td>0.00</td><td>0.00</td><td>0.00</td><td> 0.00</td><td>0.00</td><td>0.00</td><td>0.00</td></tr>\n",
              "\t<tr><td>2022-08-03 08:00:00</td><td>0.00</td><td>0.00</td><td>0.00</td><td>0.00</td><td>0.00</td><td>0.00</td><td> 0.00</td><td>0.00</td><td>0.00</td><td>0.00</td></tr>\n",
              "\t<tr><td>2022-08-03 14:00:00</td><td>0.00</td><td>0.00</td><td>0.00</td><td>0.00</td><td>0.00</td><td>0.00</td><td> 0.00</td><td>0.00</td><td>0.00</td><td>0.00</td></tr>\n",
              "\t<tr><td>2022-08-03 20:00:00</td><td>0.00</td><td>0.00</td><td>0.00</td><td>0.00</td><td>0.00</td><td>0.00</td><td> 0.00</td><td>0.00</td><td>0.00</td><td>0.00</td></tr>\n",
              "\t<tr><td>2022-08-04 08:00:00</td><td>0.00</td><td>0.00</td><td>0.00</td><td>0.00</td><td>0.00</td><td>0.00</td><td> 0.00</td><td>0.00</td><td>0.00</td><td>0.00</td></tr>\n",
              "\t<tr><td>2022-08-04 14:00:00</td><td>0.00</td><td>0.00</td><td>0.00</td><td>0.00</td><td>0.00</td><td>0.00</td><td> 0.00</td><td>0.00</td><td>0.00</td><td>0.00</td></tr>\n",
              "\t<tr><td>2022-08-04 20:00:00</td><td>0.00</td><td>0.00</td><td>0.00</td><td>0.00</td><td>0.00</td><td>0.00</td><td> 0.00</td><td>0.00</td><td>0.00</td><td>0.00</td></tr>\n",
              "\t<tr><td>2022-08-05 08:00:00</td><td>0.00</td><td>0.00</td><td>0.00</td><td>0.00</td><td>0.00</td><td>0.00</td><td> 0.00</td><td>0.00</td><td>0.00</td><td>0.00</td></tr>\n",
              "\t<tr><td>2022-08-05 14:00:00</td><td>0.00</td><td>0.00</td><td>0.00</td><td>0.00</td><td>0.00</td><td>0.00</td><td> 0.00</td><td>0.00</td><td>0.00</td><td>0.00</td></tr>\n",
              "\t<tr><td>2022-08-05 20:00:00</td><td>0.00</td><td>0.00</td><td>0.00</td><td>0.00</td><td>0.00</td><td>0.00</td><td> 0.00</td><td>0.00</td><td>0.00</td><td>0.00</td></tr>\n",
              "\t<tr><td>2022-08-08 08:00:00</td><td>0.00</td><td>0.00</td><td>0.00</td><td>0.00</td><td>0.00</td><td>0.00</td><td> 0.00</td><td>0.00</td><td>0.00</td><td>0.00</td></tr>\n",
              "\t<tr><td>2022-08-08 14:00:00</td><td>0.00</td><td>0.00</td><td>0.00</td><td>0.00</td><td>0.00</td><td>0.00</td><td> 0.00</td><td>0.00</td><td>0.00</td><td>0.00</td></tr>\n",
              "\t<tr><td>2022-08-08 20:00:00</td><td>0.00</td><td>0.00</td><td>0.00</td><td>0.00</td><td>0.00</td><td>0.00</td><td> 0.00</td><td>0.00</td><td>0.00</td><td>0.00</td></tr>\n",
              "\t<tr><td>2022-08-09 08:00:00</td><td>0.00</td><td>0.00</td><td>0.00</td><td>0.00</td><td>0.00</td><td>0.00</td><td> 0.00</td><td>0.00</td><td>0.00</td><td>0.00</td></tr>\n",
              "\t<tr><td>2022-08-09 14:00:00</td><td>0.00</td><td>0.00</td><td>0.00</td><td>0.00</td><td>0.00</td><td>0.00</td><td> 0.00</td><td>0.00</td><td>0.00</td><td>0.00</td></tr>\n",
              "\t<tr><td>2022-08-09 20:00:00</td><td>0.00</td><td>0.00</td><td>0.00</td><td>0.00</td><td>0.00</td><td>0.00</td><td> 0.00</td><td>0.00</td><td>0.00</td><td>0.00</td></tr>\n",
              "\t<tr><td>2022-08-10 08:00:00</td><td>0.00</td><td>0.00</td><td>0.00</td><td>0.00</td><td>0.00</td><td>0.00</td><td> 0.00</td><td>0.00</td><td>0.00</td><td>0.00</td></tr>\n",
              "\t<tr><td>2022-08-10 14:00:00</td><td>0.00</td><td>0.00</td><td>0.00</td><td>0.00</td><td>0.00</td><td>0.00</td><td> 0.00</td><td>0.00</td><td>0.00</td><td>0.00</td></tr>\n",
              "\t<tr><td>2022-08-10 20:00:00</td><td>0.00</td><td>0.00</td><td>0.00</td><td>0.00</td><td>0.00</td><td>0.00</td><td> 0.00</td><td>0.00</td><td>0.00</td><td>0.00</td></tr>\n",
              "\t<tr><td>2022-08-11 08:00:00</td><td>0.00</td><td>0.00</td><td>0.00</td><td>0.00</td><td>0.00</td><td>0.00</td><td> 0.00</td><td>0.00</td><td>0.00</td><td>0.00</td></tr>\n",
              "\t<tr><td>2022-08-11 14:00:00</td><td>0.00</td><td>0.00</td><td>0.00</td><td>0.00</td><td>0.00</td><td>0.00</td><td> 0.00</td><td>0.00</td><td>0.00</td><td>0.00</td></tr>\n",
              "\t<tr><td>2022-08-11 20:00:00</td><td>0.00</td><td>0.00</td><td>0.00</td><td>0.00</td><td>0.00</td><td>0.00</td><td> 0.00</td><td>0.00</td><td>0.00</td><td>0.00</td></tr>\n",
              "\t<tr><td>2022-08-12 08:00:00</td><td>0.00</td><td>0.00</td><td>0.00</td><td>0.00</td><td>0.00</td><td>0.00</td><td> 0.00</td><td>0.00</td><td>0.00</td><td>0.00</td></tr>\n",
              "\t<tr><td>2022-08-12 14:00:00</td><td>0.00</td><td>0.00</td><td>0.00</td><td>0.00</td><td>0.00</td><td>0.00</td><td> 0.00</td><td>0.00</td><td>0.00</td><td>0.00</td></tr>\n",
              "\t<tr><td>2022-08-12 20:00:00</td><td>0.00</td><td>0.00</td><td>0.00</td><td>0.00</td><td>0.00</td><td>0.00</td><td> 0.00</td><td>0.00</td><td>0.00</td><td>0.00</td></tr>\n",
              "\t<tr><td>2022-08-15 08:00:00</td><td>0.00</td><td>0.00</td><td>0.00</td><td>0.00</td><td>0.00</td><td>0.00</td><td> 0.00</td><td>0.00</td><td>0.00</td><td>0.00</td></tr>\n",
              "\t<tr><td>2022-08-15 14:00:00</td><td>0.00</td><td>0.00</td><td>0.00</td><td>0.00</td><td>0.00</td><td>0.00</td><td> 0.00</td><td>0.00</td><td>0.00</td><td>0.00</td></tr>\n",
              "\t<tr><td>2022-08-15 20:00:00</td><td>0.00</td><td>0.00</td><td>0.00</td><td>0.00</td><td>0.00</td><td>0.00</td><td> 0.00</td><td>0.00</td><td>0.00</td><td>0.00</td></tr>\n",
              "\t<tr><td>2022-08-16 08:00:00</td><td>0.00</td><td>0.00</td><td>0.00</td><td>0.00</td><td>0.00</td><td>0.00</td><td> 0.00</td><td>0.00</td><td>0.00</td><td>0.00</td></tr>\n",
              "\t<tr><td>2022-08-16 14:00:00</td><td>0.00</td><td>0.00</td><td>0.00</td><td>0.00</td><td>0.00</td><td>0.00</td><td> 0.00</td><td>0.00</td><td>0.00</td><td>0.00</td></tr>\n",
              "\t<tr><td>2022-08-16 20:00:00</td><td>0.00</td><td>0.00</td><td>0.00</td><td>0.00</td><td>0.00</td><td>0.00</td><td> 0.00</td><td>0.00</td><td>0.00</td><td>0.00</td></tr>\n",
              "\t<tr><td>2022-08-17 08:00:00</td><td>0.00</td><td>0.00</td><td>0.00</td><td>0.00</td><td>0.00</td><td>0.00</td><td> 0.00</td><td>0.00</td><td>0.00</td><td>0.00</td></tr>\n",
              "\t<tr><td>2022-08-17 14:00:00</td><td>0.00</td><td>0.00</td><td>0.00</td><td>0.00</td><td>0.00</td><td>0.00</td><td> 0.00</td><td>0.00</td><td>0.00</td><td>0.00</td></tr>\n",
              "\t<tr><td>2022-08-17 20:00:00</td><td>0.00</td><td>0.00</td><td>0.00</td><td>0.00</td><td>0.00</td><td>0.00</td><td> 0.00</td><td>0.00</td><td>0.00</td><td>0.00</td></tr>\n",
              "\t<tr><td>2022-08-18 08:00:00</td><td>0.00</td><td>0.00</td><td>0.00</td><td>0.00</td><td>0.00</td><td>0.00</td><td> 0.00</td><td>0.00</td><td>0.00</td><td>0.00</td></tr>\n",
              "\t<tr><td>2022-08-18 14:00:00</td><td>0.00</td><td>0.00</td><td>0.00</td><td>0.00</td><td>0.00</td><td>0.00</td><td> 0.00</td><td>0.00</td><td>0.00</td><td>0.00</td></tr>\n",
              "\t<tr><td>2022-08-18 20:00:00</td><td>0.00</td><td>0.00</td><td>0.00</td><td>0.00</td><td>0.00</td><td>0.00</td><td> 0.00</td><td>0.00</td><td>0.00</td><td>0.00</td></tr>\n",
              "\t<tr><td>2022-08-19 08:00:00</td><td>0.00</td><td>0.00</td><td>0.00</td><td>0.00</td><td>0.00</td><td>0.00</td><td> 0.00</td><td>0.00</td><td>0.00</td><td>0.00</td></tr>\n",
              "\t<tr><td>2022-08-19 14:00:00</td><td>0.00</td><td>0.00</td><td>0.00</td><td>0.00</td><td>0.00</td><td>0.00</td><td> 0.00</td><td>0.00</td><td>0.00</td><td>0.00</td></tr>\n",
              "\t<tr><td>2022-08-19 20:00:00</td><td>0.00</td><td>0.00</td><td>0.00</td><td>0.00</td><td>0.00</td><td>0.00</td><td> 0.00</td><td>0.00</td><td>0.00</td><td>0.00</td></tr>\n",
              "\t<tr><td>2022-08-22 08:00:00</td><td>6.71</td><td>4.00</td><td>6.73</td><td>1.00</td><td>1.00</td><td>4.43</td><td> 0.70</td><td>2.64</td><td>2.46</td><td>7.00</td></tr>\n",
              "\t<tr><td>2022-08-22 14:00:00</td><td>6.71</td><td>7.82</td><td>2.88</td><td>0.85</td><td>1.30</td><td>4.21</td><td> 1.04</td><td>2.33</td><td>2.98</td><td>5.87</td></tr>\n",
              "\t<tr><td>2022-08-22 20:00:00</td><td>6.71</td><td>6.11</td><td>7.68</td><td>1.71</td><td>1.31</td><td>3.77</td><td> 1.86</td><td>2.32</td><td>2.78</td><td>5.06</td></tr>\n",
              "\t<tr><td>2022-08-23 08:00:00</td><td>6.71</td><td>3.24</td><td>8.35</td><td>2.52</td><td>1.77</td><td>4.04</td><td> 1.44</td><td>2.64</td><td>2.02</td><td>3.67</td></tr>\n",
              "\t<tr><td>2022-08-23 14:00:00</td><td>6.71</td><td>7.61</td><td>4.49</td><td>1.96</td><td>2.07</td><td>4.68</td><td> 1.34</td><td>2.31</td><td>2.75</td><td>2.06</td></tr>\n",
              "\t<tr><td>2022-08-23 20:00:00</td><td>6.71</td><td>4.72</td><td>9.30</td><td>3.23</td><td>1.54</td><td>3.81</td><td> 2.20</td><td>2.30</td><td>3.57</td><td>2.14</td></tr>\n",
              "\t<tr><td>2022-08-24 08:00:00</td><td>6.71</td><td>4.80</td><td>6.53</td><td>1.07</td><td>1.46</td><td>4.08</td><td> 2.70</td><td>3.01</td><td>2.52</td><td>2.23</td></tr>\n",
              "\t<tr><td>2022-08-24 14:00:00</td><td>6.71</td><td>8.14</td><td>2.67</td><td>0.81</td><td>1.98</td><td>4.49</td><td> 0.24</td><td>2.67</td><td>2.87</td><td>1.72</td></tr>\n",
              "\t<tr><td>2022-08-24 20:00:00</td><td>6.71</td><td>6.33</td><td>7.48</td><td>1.79</td><td>1.76</td><td>3.86</td><td> 0.65</td><td>2.65</td><td>2.69</td><td>2.43</td></tr>\n",
              "\t<tr><td>2022-08-25 08:00:00</td><td>6.71</td><td>4.55</td><td>7.62</td><td>5.56</td><td>1.83</td><td>4.05</td><td> 1.05</td><td>2.64</td><td>1.53</td><td>3.70</td></tr>\n",
              "\t<tr><td>2022-08-25 14:00:00</td><td>6.71</td><td>8.60</td><td>3.77</td><td>7.61</td><td>2.18</td><td>5.03</td><td> 1.30</td><td>2.30</td><td>2.42</td><td>3.26</td></tr>\n",
              "\t<tr><td>2022-08-25 20:00:00</td><td>6.71</td><td>5.78</td><td>8.57</td><td>5.56</td><td>2.35</td><td>4.34</td><td> 2.04</td><td>2.29</td><td>3.13</td><td>4.27</td></tr>\n",
              "\t<tr><td>2022-08-26 08:00:00</td><td>6.71</td><td>5.24</td><td>9.03</td><td>1.99</td><td>1.56</td><td>4.83</td><td> 1.59</td><td>3.01</td><td>1.68</td><td>1.75</td></tr>\n",
              "\t<tr><td>2022-08-26 14:00:00</td><td>6.71</td><td>8.92</td><td>5.18</td><td>1.13</td><td>2.09</td><td>5.28</td><td>-0.17</td><td>2.70</td><td>2.29</td><td>2.05</td></tr>\n",
              "\t<tr><td>2022-08-26 20:00:00</td><td>6.71</td><td>5.52</td><td>9.99</td><td>4.74</td><td>2.11</td><td>3.68</td><td> 0.28</td><td>2.68</td><td>3.33</td><td>2.01</td></tr>\n",
              "</tbody>\n",
              "</table>\n"
            ],
            "text/markdown": "\nA data.frame: 60 × 11\n\n| dias &lt;dttm&gt; | predict &lt;dbl&gt; | predict.1 &lt;dbl&gt; | predict.2 &lt;dbl&gt; | predict.3 &lt;dbl&gt; | predict.4 &lt;dbl&gt; | predict.5 &lt;dbl&gt; | predict.6 &lt;dbl&gt; | predict.7 &lt;dbl&gt; | predict.8 &lt;dbl&gt; | predict.9 &lt;dbl&gt; |\n|---|---|---|---|---|---|---|---|---|---|---|\n| 2022-08-01 08:00:00 | 0.00 | 0.00 | 0.00 | 0.00 | 0.00 | 0.00 |  0.00 | 0.00 | 0.00 | 0.00 |\n| 2022-08-01 14:00:00 | 0.00 | 0.00 | 0.00 | 0.00 | 0.00 | 0.00 |  0.00 | 0.00 | 0.00 | 0.00 |\n| 2022-08-01 20:00:00 | 0.00 | 0.00 | 0.00 | 0.00 | 0.00 | 0.00 |  0.00 | 0.00 | 0.00 | 0.00 |\n| 2022-08-02 08:00:00 | 0.00 | 0.00 | 0.00 | 0.00 | 0.00 | 0.00 |  0.00 | 0.00 | 0.00 | 0.00 |\n| 2022-08-02 14:00:00 | 0.00 | 0.00 | 0.00 | 0.00 | 0.00 | 0.00 |  0.00 | 0.00 | 0.00 | 0.00 |\n| 2022-08-02 20:00:00 | 0.00 | 0.00 | 0.00 | 0.00 | 0.00 | 0.00 |  0.00 | 0.00 | 0.00 | 0.00 |\n| 2022-08-03 08:00:00 | 0.00 | 0.00 | 0.00 | 0.00 | 0.00 | 0.00 |  0.00 | 0.00 | 0.00 | 0.00 |\n| 2022-08-03 14:00:00 | 0.00 | 0.00 | 0.00 | 0.00 | 0.00 | 0.00 |  0.00 | 0.00 | 0.00 | 0.00 |\n| 2022-08-03 20:00:00 | 0.00 | 0.00 | 0.00 | 0.00 | 0.00 | 0.00 |  0.00 | 0.00 | 0.00 | 0.00 |\n| 2022-08-04 08:00:00 | 0.00 | 0.00 | 0.00 | 0.00 | 0.00 | 0.00 |  0.00 | 0.00 | 0.00 | 0.00 |\n| 2022-08-04 14:00:00 | 0.00 | 0.00 | 0.00 | 0.00 | 0.00 | 0.00 |  0.00 | 0.00 | 0.00 | 0.00 |\n| 2022-08-04 20:00:00 | 0.00 | 0.00 | 0.00 | 0.00 | 0.00 | 0.00 |  0.00 | 0.00 | 0.00 | 0.00 |\n| 2022-08-05 08:00:00 | 0.00 | 0.00 | 0.00 | 0.00 | 0.00 | 0.00 |  0.00 | 0.00 | 0.00 | 0.00 |\n| 2022-08-05 14:00:00 | 0.00 | 0.00 | 0.00 | 0.00 | 0.00 | 0.00 |  0.00 | 0.00 | 0.00 | 0.00 |\n| 2022-08-05 20:00:00 | 0.00 | 0.00 | 0.00 | 0.00 | 0.00 | 0.00 |  0.00 | 0.00 | 0.00 | 0.00 |\n| 2022-08-08 08:00:00 | 0.00 | 0.00 | 0.00 | 0.00 | 0.00 | 0.00 |  0.00 | 0.00 | 0.00 | 0.00 |\n| 2022-08-08 14:00:00 | 0.00 | 0.00 | 0.00 | 0.00 | 0.00 | 0.00 |  0.00 | 0.00 | 0.00 | 0.00 |\n| 2022-08-08 20:00:00 | 0.00 | 0.00 | 0.00 | 0.00 | 0.00 | 0.00 |  0.00 | 0.00 | 0.00 | 0.00 |\n| 2022-08-09 08:00:00 | 0.00 | 0.00 | 0.00 | 0.00 | 0.00 | 0.00 |  0.00 | 0.00 | 0.00 | 0.00 |\n| 2022-08-09 14:00:00 | 0.00 | 0.00 | 0.00 | 0.00 | 0.00 | 0.00 |  0.00 | 0.00 | 0.00 | 0.00 |\n| 2022-08-09 20:00:00 | 0.00 | 0.00 | 0.00 | 0.00 | 0.00 | 0.00 |  0.00 | 0.00 | 0.00 | 0.00 |\n| 2022-08-10 08:00:00 | 0.00 | 0.00 | 0.00 | 0.00 | 0.00 | 0.00 |  0.00 | 0.00 | 0.00 | 0.00 |\n| 2022-08-10 14:00:00 | 0.00 | 0.00 | 0.00 | 0.00 | 0.00 | 0.00 |  0.00 | 0.00 | 0.00 | 0.00 |\n| 2022-08-10 20:00:00 | 0.00 | 0.00 | 0.00 | 0.00 | 0.00 | 0.00 |  0.00 | 0.00 | 0.00 | 0.00 |\n| 2022-08-11 08:00:00 | 0.00 | 0.00 | 0.00 | 0.00 | 0.00 | 0.00 |  0.00 | 0.00 | 0.00 | 0.00 |\n| 2022-08-11 14:00:00 | 0.00 | 0.00 | 0.00 | 0.00 | 0.00 | 0.00 |  0.00 | 0.00 | 0.00 | 0.00 |\n| 2022-08-11 20:00:00 | 0.00 | 0.00 | 0.00 | 0.00 | 0.00 | 0.00 |  0.00 | 0.00 | 0.00 | 0.00 |\n| 2022-08-12 08:00:00 | 0.00 | 0.00 | 0.00 | 0.00 | 0.00 | 0.00 |  0.00 | 0.00 | 0.00 | 0.00 |\n| 2022-08-12 14:00:00 | 0.00 | 0.00 | 0.00 | 0.00 | 0.00 | 0.00 |  0.00 | 0.00 | 0.00 | 0.00 |\n| 2022-08-12 20:00:00 | 0.00 | 0.00 | 0.00 | 0.00 | 0.00 | 0.00 |  0.00 | 0.00 | 0.00 | 0.00 |\n| 2022-08-15 08:00:00 | 0.00 | 0.00 | 0.00 | 0.00 | 0.00 | 0.00 |  0.00 | 0.00 | 0.00 | 0.00 |\n| 2022-08-15 14:00:00 | 0.00 | 0.00 | 0.00 | 0.00 | 0.00 | 0.00 |  0.00 | 0.00 | 0.00 | 0.00 |\n| 2022-08-15 20:00:00 | 0.00 | 0.00 | 0.00 | 0.00 | 0.00 | 0.00 |  0.00 | 0.00 | 0.00 | 0.00 |\n| 2022-08-16 08:00:00 | 0.00 | 0.00 | 0.00 | 0.00 | 0.00 | 0.00 |  0.00 | 0.00 | 0.00 | 0.00 |\n| 2022-08-16 14:00:00 | 0.00 | 0.00 | 0.00 | 0.00 | 0.00 | 0.00 |  0.00 | 0.00 | 0.00 | 0.00 |\n| 2022-08-16 20:00:00 | 0.00 | 0.00 | 0.00 | 0.00 | 0.00 | 0.00 |  0.00 | 0.00 | 0.00 | 0.00 |\n| 2022-08-17 08:00:00 | 0.00 | 0.00 | 0.00 | 0.00 | 0.00 | 0.00 |  0.00 | 0.00 | 0.00 | 0.00 |\n| 2022-08-17 14:00:00 | 0.00 | 0.00 | 0.00 | 0.00 | 0.00 | 0.00 |  0.00 | 0.00 | 0.00 | 0.00 |\n| 2022-08-17 20:00:00 | 0.00 | 0.00 | 0.00 | 0.00 | 0.00 | 0.00 |  0.00 | 0.00 | 0.00 | 0.00 |\n| 2022-08-18 08:00:00 | 0.00 | 0.00 | 0.00 | 0.00 | 0.00 | 0.00 |  0.00 | 0.00 | 0.00 | 0.00 |\n| 2022-08-18 14:00:00 | 0.00 | 0.00 | 0.00 | 0.00 | 0.00 | 0.00 |  0.00 | 0.00 | 0.00 | 0.00 |\n| 2022-08-18 20:00:00 | 0.00 | 0.00 | 0.00 | 0.00 | 0.00 | 0.00 |  0.00 | 0.00 | 0.00 | 0.00 |\n| 2022-08-19 08:00:00 | 0.00 | 0.00 | 0.00 | 0.00 | 0.00 | 0.00 |  0.00 | 0.00 | 0.00 | 0.00 |\n| 2022-08-19 14:00:00 | 0.00 | 0.00 | 0.00 | 0.00 | 0.00 | 0.00 |  0.00 | 0.00 | 0.00 | 0.00 |\n| 2022-08-19 20:00:00 | 0.00 | 0.00 | 0.00 | 0.00 | 0.00 | 0.00 |  0.00 | 0.00 | 0.00 | 0.00 |\n| 2022-08-22 08:00:00 | 6.71 | 4.00 | 6.73 | 1.00 | 1.00 | 4.43 |  0.70 | 2.64 | 2.46 | 7.00 |\n| 2022-08-22 14:00:00 | 6.71 | 7.82 | 2.88 | 0.85 | 1.30 | 4.21 |  1.04 | 2.33 | 2.98 | 5.87 |\n| 2022-08-22 20:00:00 | 6.71 | 6.11 | 7.68 | 1.71 | 1.31 | 3.77 |  1.86 | 2.32 | 2.78 | 5.06 |\n| 2022-08-23 08:00:00 | 6.71 | 3.24 | 8.35 | 2.52 | 1.77 | 4.04 |  1.44 | 2.64 | 2.02 | 3.67 |\n| 2022-08-23 14:00:00 | 6.71 | 7.61 | 4.49 | 1.96 | 2.07 | 4.68 |  1.34 | 2.31 | 2.75 | 2.06 |\n| 2022-08-23 20:00:00 | 6.71 | 4.72 | 9.30 | 3.23 | 1.54 | 3.81 |  2.20 | 2.30 | 3.57 | 2.14 |\n| 2022-08-24 08:00:00 | 6.71 | 4.80 | 6.53 | 1.07 | 1.46 | 4.08 |  2.70 | 3.01 | 2.52 | 2.23 |\n| 2022-08-24 14:00:00 | 6.71 | 8.14 | 2.67 | 0.81 | 1.98 | 4.49 |  0.24 | 2.67 | 2.87 | 1.72 |\n| 2022-08-24 20:00:00 | 6.71 | 6.33 | 7.48 | 1.79 | 1.76 | 3.86 |  0.65 | 2.65 | 2.69 | 2.43 |\n| 2022-08-25 08:00:00 | 6.71 | 4.55 | 7.62 | 5.56 | 1.83 | 4.05 |  1.05 | 2.64 | 1.53 | 3.70 |\n| 2022-08-25 14:00:00 | 6.71 | 8.60 | 3.77 | 7.61 | 2.18 | 5.03 |  1.30 | 2.30 | 2.42 | 3.26 |\n| 2022-08-25 20:00:00 | 6.71 | 5.78 | 8.57 | 5.56 | 2.35 | 4.34 |  2.04 | 2.29 | 3.13 | 4.27 |\n| 2022-08-26 08:00:00 | 6.71 | 5.24 | 9.03 | 1.99 | 1.56 | 4.83 |  1.59 | 3.01 | 1.68 | 1.75 |\n| 2022-08-26 14:00:00 | 6.71 | 8.92 | 5.18 | 1.13 | 2.09 | 5.28 | -0.17 | 2.70 | 2.29 | 2.05 |\n| 2022-08-26 20:00:00 | 6.71 | 5.52 | 9.99 | 4.74 | 2.11 | 3.68 |  0.28 | 2.68 | 3.33 | 2.01 |\n\n",
            "text/latex": "A data.frame: 60 × 11\n\\begin{tabular}{lllllllllll}\n dias & predict & predict.1 & predict.2 & predict.3 & predict.4 & predict.5 & predict.6 & predict.7 & predict.8 & predict.9\\\\\n <dttm> & <dbl> & <dbl> & <dbl> & <dbl> & <dbl> & <dbl> & <dbl> & <dbl> & <dbl> & <dbl>\\\\\n\\hline\n\t 2022-08-01 08:00:00 & 0.00 & 0.00 & 0.00 & 0.00 & 0.00 & 0.00 &  0.00 & 0.00 & 0.00 & 0.00\\\\\n\t 2022-08-01 14:00:00 & 0.00 & 0.00 & 0.00 & 0.00 & 0.00 & 0.00 &  0.00 & 0.00 & 0.00 & 0.00\\\\\n\t 2022-08-01 20:00:00 & 0.00 & 0.00 & 0.00 & 0.00 & 0.00 & 0.00 &  0.00 & 0.00 & 0.00 & 0.00\\\\\n\t 2022-08-02 08:00:00 & 0.00 & 0.00 & 0.00 & 0.00 & 0.00 & 0.00 &  0.00 & 0.00 & 0.00 & 0.00\\\\\n\t 2022-08-02 14:00:00 & 0.00 & 0.00 & 0.00 & 0.00 & 0.00 & 0.00 &  0.00 & 0.00 & 0.00 & 0.00\\\\\n\t 2022-08-02 20:00:00 & 0.00 & 0.00 & 0.00 & 0.00 & 0.00 & 0.00 &  0.00 & 0.00 & 0.00 & 0.00\\\\\n\t 2022-08-03 08:00:00 & 0.00 & 0.00 & 0.00 & 0.00 & 0.00 & 0.00 &  0.00 & 0.00 & 0.00 & 0.00\\\\\n\t 2022-08-03 14:00:00 & 0.00 & 0.00 & 0.00 & 0.00 & 0.00 & 0.00 &  0.00 & 0.00 & 0.00 & 0.00\\\\\n\t 2022-08-03 20:00:00 & 0.00 & 0.00 & 0.00 & 0.00 & 0.00 & 0.00 &  0.00 & 0.00 & 0.00 & 0.00\\\\\n\t 2022-08-04 08:00:00 & 0.00 & 0.00 & 0.00 & 0.00 & 0.00 & 0.00 &  0.00 & 0.00 & 0.00 & 0.00\\\\\n\t 2022-08-04 14:00:00 & 0.00 & 0.00 & 0.00 & 0.00 & 0.00 & 0.00 &  0.00 & 0.00 & 0.00 & 0.00\\\\\n\t 2022-08-04 20:00:00 & 0.00 & 0.00 & 0.00 & 0.00 & 0.00 & 0.00 &  0.00 & 0.00 & 0.00 & 0.00\\\\\n\t 2022-08-05 08:00:00 & 0.00 & 0.00 & 0.00 & 0.00 & 0.00 & 0.00 &  0.00 & 0.00 & 0.00 & 0.00\\\\\n\t 2022-08-05 14:00:00 & 0.00 & 0.00 & 0.00 & 0.00 & 0.00 & 0.00 &  0.00 & 0.00 & 0.00 & 0.00\\\\\n\t 2022-08-05 20:00:00 & 0.00 & 0.00 & 0.00 & 0.00 & 0.00 & 0.00 &  0.00 & 0.00 & 0.00 & 0.00\\\\\n\t 2022-08-08 08:00:00 & 0.00 & 0.00 & 0.00 & 0.00 & 0.00 & 0.00 &  0.00 & 0.00 & 0.00 & 0.00\\\\\n\t 2022-08-08 14:00:00 & 0.00 & 0.00 & 0.00 & 0.00 & 0.00 & 0.00 &  0.00 & 0.00 & 0.00 & 0.00\\\\\n\t 2022-08-08 20:00:00 & 0.00 & 0.00 & 0.00 & 0.00 & 0.00 & 0.00 &  0.00 & 0.00 & 0.00 & 0.00\\\\\n\t 2022-08-09 08:00:00 & 0.00 & 0.00 & 0.00 & 0.00 & 0.00 & 0.00 &  0.00 & 0.00 & 0.00 & 0.00\\\\\n\t 2022-08-09 14:00:00 & 0.00 & 0.00 & 0.00 & 0.00 & 0.00 & 0.00 &  0.00 & 0.00 & 0.00 & 0.00\\\\\n\t 2022-08-09 20:00:00 & 0.00 & 0.00 & 0.00 & 0.00 & 0.00 & 0.00 &  0.00 & 0.00 & 0.00 & 0.00\\\\\n\t 2022-08-10 08:00:00 & 0.00 & 0.00 & 0.00 & 0.00 & 0.00 & 0.00 &  0.00 & 0.00 & 0.00 & 0.00\\\\\n\t 2022-08-10 14:00:00 & 0.00 & 0.00 & 0.00 & 0.00 & 0.00 & 0.00 &  0.00 & 0.00 & 0.00 & 0.00\\\\\n\t 2022-08-10 20:00:00 & 0.00 & 0.00 & 0.00 & 0.00 & 0.00 & 0.00 &  0.00 & 0.00 & 0.00 & 0.00\\\\\n\t 2022-08-11 08:00:00 & 0.00 & 0.00 & 0.00 & 0.00 & 0.00 & 0.00 &  0.00 & 0.00 & 0.00 & 0.00\\\\\n\t 2022-08-11 14:00:00 & 0.00 & 0.00 & 0.00 & 0.00 & 0.00 & 0.00 &  0.00 & 0.00 & 0.00 & 0.00\\\\\n\t 2022-08-11 20:00:00 & 0.00 & 0.00 & 0.00 & 0.00 & 0.00 & 0.00 &  0.00 & 0.00 & 0.00 & 0.00\\\\\n\t 2022-08-12 08:00:00 & 0.00 & 0.00 & 0.00 & 0.00 & 0.00 & 0.00 &  0.00 & 0.00 & 0.00 & 0.00\\\\\n\t 2022-08-12 14:00:00 & 0.00 & 0.00 & 0.00 & 0.00 & 0.00 & 0.00 &  0.00 & 0.00 & 0.00 & 0.00\\\\\n\t 2022-08-12 20:00:00 & 0.00 & 0.00 & 0.00 & 0.00 & 0.00 & 0.00 &  0.00 & 0.00 & 0.00 & 0.00\\\\\n\t 2022-08-15 08:00:00 & 0.00 & 0.00 & 0.00 & 0.00 & 0.00 & 0.00 &  0.00 & 0.00 & 0.00 & 0.00\\\\\n\t 2022-08-15 14:00:00 & 0.00 & 0.00 & 0.00 & 0.00 & 0.00 & 0.00 &  0.00 & 0.00 & 0.00 & 0.00\\\\\n\t 2022-08-15 20:00:00 & 0.00 & 0.00 & 0.00 & 0.00 & 0.00 & 0.00 &  0.00 & 0.00 & 0.00 & 0.00\\\\\n\t 2022-08-16 08:00:00 & 0.00 & 0.00 & 0.00 & 0.00 & 0.00 & 0.00 &  0.00 & 0.00 & 0.00 & 0.00\\\\\n\t 2022-08-16 14:00:00 & 0.00 & 0.00 & 0.00 & 0.00 & 0.00 & 0.00 &  0.00 & 0.00 & 0.00 & 0.00\\\\\n\t 2022-08-16 20:00:00 & 0.00 & 0.00 & 0.00 & 0.00 & 0.00 & 0.00 &  0.00 & 0.00 & 0.00 & 0.00\\\\\n\t 2022-08-17 08:00:00 & 0.00 & 0.00 & 0.00 & 0.00 & 0.00 & 0.00 &  0.00 & 0.00 & 0.00 & 0.00\\\\\n\t 2022-08-17 14:00:00 & 0.00 & 0.00 & 0.00 & 0.00 & 0.00 & 0.00 &  0.00 & 0.00 & 0.00 & 0.00\\\\\n\t 2022-08-17 20:00:00 & 0.00 & 0.00 & 0.00 & 0.00 & 0.00 & 0.00 &  0.00 & 0.00 & 0.00 & 0.00\\\\\n\t 2022-08-18 08:00:00 & 0.00 & 0.00 & 0.00 & 0.00 & 0.00 & 0.00 &  0.00 & 0.00 & 0.00 & 0.00\\\\\n\t 2022-08-18 14:00:00 & 0.00 & 0.00 & 0.00 & 0.00 & 0.00 & 0.00 &  0.00 & 0.00 & 0.00 & 0.00\\\\\n\t 2022-08-18 20:00:00 & 0.00 & 0.00 & 0.00 & 0.00 & 0.00 & 0.00 &  0.00 & 0.00 & 0.00 & 0.00\\\\\n\t 2022-08-19 08:00:00 & 0.00 & 0.00 & 0.00 & 0.00 & 0.00 & 0.00 &  0.00 & 0.00 & 0.00 & 0.00\\\\\n\t 2022-08-19 14:00:00 & 0.00 & 0.00 & 0.00 & 0.00 & 0.00 & 0.00 &  0.00 & 0.00 & 0.00 & 0.00\\\\\n\t 2022-08-19 20:00:00 & 0.00 & 0.00 & 0.00 & 0.00 & 0.00 & 0.00 &  0.00 & 0.00 & 0.00 & 0.00\\\\\n\t 2022-08-22 08:00:00 & 6.71 & 4.00 & 6.73 & 1.00 & 1.00 & 4.43 &  0.70 & 2.64 & 2.46 & 7.00\\\\\n\t 2022-08-22 14:00:00 & 6.71 & 7.82 & 2.88 & 0.85 & 1.30 & 4.21 &  1.04 & 2.33 & 2.98 & 5.87\\\\\n\t 2022-08-22 20:00:00 & 6.71 & 6.11 & 7.68 & 1.71 & 1.31 & 3.77 &  1.86 & 2.32 & 2.78 & 5.06\\\\\n\t 2022-08-23 08:00:00 & 6.71 & 3.24 & 8.35 & 2.52 & 1.77 & 4.04 &  1.44 & 2.64 & 2.02 & 3.67\\\\\n\t 2022-08-23 14:00:00 & 6.71 & 7.61 & 4.49 & 1.96 & 2.07 & 4.68 &  1.34 & 2.31 & 2.75 & 2.06\\\\\n\t 2022-08-23 20:00:00 & 6.71 & 4.72 & 9.30 & 3.23 & 1.54 & 3.81 &  2.20 & 2.30 & 3.57 & 2.14\\\\\n\t 2022-08-24 08:00:00 & 6.71 & 4.80 & 6.53 & 1.07 & 1.46 & 4.08 &  2.70 & 3.01 & 2.52 & 2.23\\\\\n\t 2022-08-24 14:00:00 & 6.71 & 8.14 & 2.67 & 0.81 & 1.98 & 4.49 &  0.24 & 2.67 & 2.87 & 1.72\\\\\n\t 2022-08-24 20:00:00 & 6.71 & 6.33 & 7.48 & 1.79 & 1.76 & 3.86 &  0.65 & 2.65 & 2.69 & 2.43\\\\\n\t 2022-08-25 08:00:00 & 6.71 & 4.55 & 7.62 & 5.56 & 1.83 & 4.05 &  1.05 & 2.64 & 1.53 & 3.70\\\\\n\t 2022-08-25 14:00:00 & 6.71 & 8.60 & 3.77 & 7.61 & 2.18 & 5.03 &  1.30 & 2.30 & 2.42 & 3.26\\\\\n\t 2022-08-25 20:00:00 & 6.71 & 5.78 & 8.57 & 5.56 & 2.35 & 4.34 &  2.04 & 2.29 & 3.13 & 4.27\\\\\n\t 2022-08-26 08:00:00 & 6.71 & 5.24 & 9.03 & 1.99 & 1.56 & 4.83 &  1.59 & 3.01 & 1.68 & 1.75\\\\\n\t 2022-08-26 14:00:00 & 6.71 & 8.92 & 5.18 & 1.13 & 2.09 & 5.28 & -0.17 & 2.70 & 2.29 & 2.05\\\\\n\t 2022-08-26 20:00:00 & 6.71 & 5.52 & 9.99 & 4.74 & 2.11 & 3.68 &  0.28 & 2.68 & 3.33 & 2.01\\\\\n\\end{tabular}\n",
            "text/plain": [
              "   dias                predict predict.1 predict.2 predict.3 predict.4\n",
              "1  2022-08-01 08:00:00 0.00    0.00      0.00      0.00      0.00     \n",
              "2  2022-08-01 14:00:00 0.00    0.00      0.00      0.00      0.00     \n",
              "3  2022-08-01 20:00:00 0.00    0.00      0.00      0.00      0.00     \n",
              "4  2022-08-02 08:00:00 0.00    0.00      0.00      0.00      0.00     \n",
              "5  2022-08-02 14:00:00 0.00    0.00      0.00      0.00      0.00     \n",
              "6  2022-08-02 20:00:00 0.00    0.00      0.00      0.00      0.00     \n",
              "7  2022-08-03 08:00:00 0.00    0.00      0.00      0.00      0.00     \n",
              "8  2022-08-03 14:00:00 0.00    0.00      0.00      0.00      0.00     \n",
              "9  2022-08-03 20:00:00 0.00    0.00      0.00      0.00      0.00     \n",
              "10 2022-08-04 08:00:00 0.00    0.00      0.00      0.00      0.00     \n",
              "11 2022-08-04 14:00:00 0.00    0.00      0.00      0.00      0.00     \n",
              "12 2022-08-04 20:00:00 0.00    0.00      0.00      0.00      0.00     \n",
              "13 2022-08-05 08:00:00 0.00    0.00      0.00      0.00      0.00     \n",
              "14 2022-08-05 14:00:00 0.00    0.00      0.00      0.00      0.00     \n",
              "15 2022-08-05 20:00:00 0.00    0.00      0.00      0.00      0.00     \n",
              "16 2022-08-08 08:00:00 0.00    0.00      0.00      0.00      0.00     \n",
              "17 2022-08-08 14:00:00 0.00    0.00      0.00      0.00      0.00     \n",
              "18 2022-08-08 20:00:00 0.00    0.00      0.00      0.00      0.00     \n",
              "19 2022-08-09 08:00:00 0.00    0.00      0.00      0.00      0.00     \n",
              "20 2022-08-09 14:00:00 0.00    0.00      0.00      0.00      0.00     \n",
              "21 2022-08-09 20:00:00 0.00    0.00      0.00      0.00      0.00     \n",
              "22 2022-08-10 08:00:00 0.00    0.00      0.00      0.00      0.00     \n",
              "23 2022-08-10 14:00:00 0.00    0.00      0.00      0.00      0.00     \n",
              "24 2022-08-10 20:00:00 0.00    0.00      0.00      0.00      0.00     \n",
              "25 2022-08-11 08:00:00 0.00    0.00      0.00      0.00      0.00     \n",
              "26 2022-08-11 14:00:00 0.00    0.00      0.00      0.00      0.00     \n",
              "27 2022-08-11 20:00:00 0.00    0.00      0.00      0.00      0.00     \n",
              "28 2022-08-12 08:00:00 0.00    0.00      0.00      0.00      0.00     \n",
              "29 2022-08-12 14:00:00 0.00    0.00      0.00      0.00      0.00     \n",
              "30 2022-08-12 20:00:00 0.00    0.00      0.00      0.00      0.00     \n",
              "31 2022-08-15 08:00:00 0.00    0.00      0.00      0.00      0.00     \n",
              "32 2022-08-15 14:00:00 0.00    0.00      0.00      0.00      0.00     \n",
              "33 2022-08-15 20:00:00 0.00    0.00      0.00      0.00      0.00     \n",
              "34 2022-08-16 08:00:00 0.00    0.00      0.00      0.00      0.00     \n",
              "35 2022-08-16 14:00:00 0.00    0.00      0.00      0.00      0.00     \n",
              "36 2022-08-16 20:00:00 0.00    0.00      0.00      0.00      0.00     \n",
              "37 2022-08-17 08:00:00 0.00    0.00      0.00      0.00      0.00     \n",
              "38 2022-08-17 14:00:00 0.00    0.00      0.00      0.00      0.00     \n",
              "39 2022-08-17 20:00:00 0.00    0.00      0.00      0.00      0.00     \n",
              "40 2022-08-18 08:00:00 0.00    0.00      0.00      0.00      0.00     \n",
              "41 2022-08-18 14:00:00 0.00    0.00      0.00      0.00      0.00     \n",
              "42 2022-08-18 20:00:00 0.00    0.00      0.00      0.00      0.00     \n",
              "43 2022-08-19 08:00:00 0.00    0.00      0.00      0.00      0.00     \n",
              "44 2022-08-19 14:00:00 0.00    0.00      0.00      0.00      0.00     \n",
              "45 2022-08-19 20:00:00 0.00    0.00      0.00      0.00      0.00     \n",
              "46 2022-08-22 08:00:00 6.71    4.00      6.73      1.00      1.00     \n",
              "47 2022-08-22 14:00:00 6.71    7.82      2.88      0.85      1.30     \n",
              "48 2022-08-22 20:00:00 6.71    6.11      7.68      1.71      1.31     \n",
              "49 2022-08-23 08:00:00 6.71    3.24      8.35      2.52      1.77     \n",
              "50 2022-08-23 14:00:00 6.71    7.61      4.49      1.96      2.07     \n",
              "51 2022-08-23 20:00:00 6.71    4.72      9.30      3.23      1.54     \n",
              "52 2022-08-24 08:00:00 6.71    4.80      6.53      1.07      1.46     \n",
              "53 2022-08-24 14:00:00 6.71    8.14      2.67      0.81      1.98     \n",
              "54 2022-08-24 20:00:00 6.71    6.33      7.48      1.79      1.76     \n",
              "55 2022-08-25 08:00:00 6.71    4.55      7.62      5.56      1.83     \n",
              "56 2022-08-25 14:00:00 6.71    8.60      3.77      7.61      2.18     \n",
              "57 2022-08-25 20:00:00 6.71    5.78      8.57      5.56      2.35     \n",
              "58 2022-08-26 08:00:00 6.71    5.24      9.03      1.99      1.56     \n",
              "59 2022-08-26 14:00:00 6.71    8.92      5.18      1.13      2.09     \n",
              "60 2022-08-26 20:00:00 6.71    5.52      9.99      4.74      2.11     \n",
              "   predict.5 predict.6 predict.7 predict.8 predict.9\n",
              "1  0.00       0.00     0.00      0.00      0.00     \n",
              "2  0.00       0.00     0.00      0.00      0.00     \n",
              "3  0.00       0.00     0.00      0.00      0.00     \n",
              "4  0.00       0.00     0.00      0.00      0.00     \n",
              "5  0.00       0.00     0.00      0.00      0.00     \n",
              "6  0.00       0.00     0.00      0.00      0.00     \n",
              "7  0.00       0.00     0.00      0.00      0.00     \n",
              "8  0.00       0.00     0.00      0.00      0.00     \n",
              "9  0.00       0.00     0.00      0.00      0.00     \n",
              "10 0.00       0.00     0.00      0.00      0.00     \n",
              "11 0.00       0.00     0.00      0.00      0.00     \n",
              "12 0.00       0.00     0.00      0.00      0.00     \n",
              "13 0.00       0.00     0.00      0.00      0.00     \n",
              "14 0.00       0.00     0.00      0.00      0.00     \n",
              "15 0.00       0.00     0.00      0.00      0.00     \n",
              "16 0.00       0.00     0.00      0.00      0.00     \n",
              "17 0.00       0.00     0.00      0.00      0.00     \n",
              "18 0.00       0.00     0.00      0.00      0.00     \n",
              "19 0.00       0.00     0.00      0.00      0.00     \n",
              "20 0.00       0.00     0.00      0.00      0.00     \n",
              "21 0.00       0.00     0.00      0.00      0.00     \n",
              "22 0.00       0.00     0.00      0.00      0.00     \n",
              "23 0.00       0.00     0.00      0.00      0.00     \n",
              "24 0.00       0.00     0.00      0.00      0.00     \n",
              "25 0.00       0.00     0.00      0.00      0.00     \n",
              "26 0.00       0.00     0.00      0.00      0.00     \n",
              "27 0.00       0.00     0.00      0.00      0.00     \n",
              "28 0.00       0.00     0.00      0.00      0.00     \n",
              "29 0.00       0.00     0.00      0.00      0.00     \n",
              "30 0.00       0.00     0.00      0.00      0.00     \n",
              "31 0.00       0.00     0.00      0.00      0.00     \n",
              "32 0.00       0.00     0.00      0.00      0.00     \n",
              "33 0.00       0.00     0.00      0.00      0.00     \n",
              "34 0.00       0.00     0.00      0.00      0.00     \n",
              "35 0.00       0.00     0.00      0.00      0.00     \n",
              "36 0.00       0.00     0.00      0.00      0.00     \n",
              "37 0.00       0.00     0.00      0.00      0.00     \n",
              "38 0.00       0.00     0.00      0.00      0.00     \n",
              "39 0.00       0.00     0.00      0.00      0.00     \n",
              "40 0.00       0.00     0.00      0.00      0.00     \n",
              "41 0.00       0.00     0.00      0.00      0.00     \n",
              "42 0.00       0.00     0.00      0.00      0.00     \n",
              "43 0.00       0.00     0.00      0.00      0.00     \n",
              "44 0.00       0.00     0.00      0.00      0.00     \n",
              "45 0.00       0.00     0.00      0.00      0.00     \n",
              "46 4.43       0.70     2.64      2.46      7.00     \n",
              "47 4.21       1.04     2.33      2.98      5.87     \n",
              "48 3.77       1.86     2.32      2.78      5.06     \n",
              "49 4.04       1.44     2.64      2.02      3.67     \n",
              "50 4.68       1.34     2.31      2.75      2.06     \n",
              "51 3.81       2.20     2.30      3.57      2.14     \n",
              "52 4.08       2.70     3.01      2.52      2.23     \n",
              "53 4.49       0.24     2.67      2.87      1.72     \n",
              "54 3.86       0.65     2.65      2.69      2.43     \n",
              "55 4.05       1.05     2.64      1.53      3.70     \n",
              "56 5.03       1.30     2.30      2.42      3.26     \n",
              "57 4.34       2.04     2.29      3.13      4.27     \n",
              "58 4.83       1.59     3.01      1.68      1.75     \n",
              "59 5.28      -0.17     2.70      2.29      2.05     \n",
              "60 3.68       0.28     2.68      3.33      2.01     "
            ]
          },
          "metadata": {}
        }
      ]
    },
    {
      "cell_type": "code",
      "source": [
        "data_train_RN<-data.frame(mes[1],predic_bike_rn_est1,predic_bike_rn_est2,predic_bike_rn_est3,predic_bike_rn_est4,predic_bike_rn_est5,predic_bike_rn_est6,predic_bike_rn_est7,predic_bike_rn_est8,predic_bike_rn_est9,predic_bike_rn_est10)\n",
        "data_train_RN"
      ],
      "metadata": {
        "colab": {
          "base_uri": "https://localhost:8080/",
          "height": 1000
        },
        "id": "N0zR7A2tNwOn",
        "outputId": "e50ac672-1458-423e-9e87-ecad6ca6b9a1"
      },
      "execution_count": null,
      "outputs": [
        {
          "output_type": "display_data",
          "data": {
            "text/html": [
              "<table class=\"dataframe\">\n",
              "<caption>A data.frame: 60 × 11</caption>\n",
              "<thead>\n",
              "\t<tr><th scope=col>dias</th><th scope=col>predict</th><th scope=col>predict.1</th><th scope=col>predict.2</th><th scope=col>predict.3</th><th scope=col>predict.4</th><th scope=col>predict.5</th><th scope=col>predict.6</th><th scope=col>predict.7</th><th scope=col>predict.8</th><th scope=col>predict.9</th></tr>\n",
              "\t<tr><th scope=col>&lt;dttm&gt;</th><th scope=col>&lt;dbl&gt;</th><th scope=col>&lt;dbl&gt;</th><th scope=col>&lt;dbl&gt;</th><th scope=col>&lt;dbl&gt;</th><th scope=col>&lt;dbl&gt;</th><th scope=col>&lt;dbl&gt;</th><th scope=col>&lt;dbl&gt;</th><th scope=col>&lt;dbl&gt;</th><th scope=col>&lt;dbl&gt;</th><th scope=col>&lt;dbl&gt;</th></tr>\n",
              "</thead>\n",
              "<tbody>\n",
              "\t<tr><td>2022-08-01 08:00:00</td><td>0.00</td><td>0.00</td><td> 0.00</td><td>0.00</td><td>0.00</td><td>0.00</td><td>0.00</td><td>0.00</td><td>0.00</td><td>0.00</td></tr>\n",
              "\t<tr><td>2022-08-01 14:00:00</td><td>0.00</td><td>0.00</td><td> 0.00</td><td>0.00</td><td>0.00</td><td>0.00</td><td>0.00</td><td>0.00</td><td>0.00</td><td>0.00</td></tr>\n",
              "\t<tr><td>2022-08-01 20:00:00</td><td>0.00</td><td>0.00</td><td> 0.00</td><td>0.00</td><td>0.00</td><td>0.00</td><td>0.00</td><td>0.00</td><td>0.00</td><td>0.00</td></tr>\n",
              "\t<tr><td>2022-08-02 08:00:00</td><td>0.00</td><td>0.00</td><td> 0.00</td><td>0.00</td><td>0.00</td><td>0.00</td><td>0.00</td><td>0.00</td><td>0.00</td><td>0.00</td></tr>\n",
              "\t<tr><td>2022-08-02 14:00:00</td><td>0.00</td><td>0.00</td><td> 0.00</td><td>0.00</td><td>0.00</td><td>0.00</td><td>0.00</td><td>0.00</td><td>0.00</td><td>0.00</td></tr>\n",
              "\t<tr><td>2022-08-02 20:00:00</td><td>0.00</td><td>0.00</td><td> 0.00</td><td>0.00</td><td>0.00</td><td>0.00</td><td>0.00</td><td>0.00</td><td>0.00</td><td>0.00</td></tr>\n",
              "\t<tr><td>2022-08-03 08:00:00</td><td>0.00</td><td>0.00</td><td> 0.00</td><td>0.00</td><td>0.00</td><td>0.00</td><td>0.00</td><td>0.00</td><td>0.00</td><td>0.00</td></tr>\n",
              "\t<tr><td>2022-08-03 14:00:00</td><td>0.00</td><td>0.00</td><td> 0.00</td><td>0.00</td><td>0.00</td><td>0.00</td><td>0.00</td><td>0.00</td><td>0.00</td><td>0.00</td></tr>\n",
              "\t<tr><td>2022-08-03 20:00:00</td><td>0.00</td><td>0.00</td><td> 0.00</td><td>0.00</td><td>0.00</td><td>0.00</td><td>0.00</td><td>0.00</td><td>0.00</td><td>0.00</td></tr>\n",
              "\t<tr><td>2022-08-04 08:00:00</td><td>0.00</td><td>0.00</td><td> 0.00</td><td>0.00</td><td>0.00</td><td>0.00</td><td>0.00</td><td>0.00</td><td>0.00</td><td>0.00</td></tr>\n",
              "\t<tr><td>2022-08-04 14:00:00</td><td>0.00</td><td>0.00</td><td> 0.00</td><td>0.00</td><td>0.00</td><td>0.00</td><td>0.00</td><td>0.00</td><td>0.00</td><td>0.00</td></tr>\n",
              "\t<tr><td>2022-08-04 20:00:00</td><td>0.00</td><td>0.00</td><td> 0.00</td><td>0.00</td><td>0.00</td><td>0.00</td><td>0.00</td><td>0.00</td><td>0.00</td><td>0.00</td></tr>\n",
              "\t<tr><td>2022-08-05 08:00:00</td><td>0.00</td><td>0.00</td><td> 0.00</td><td>0.00</td><td>0.00</td><td>0.00</td><td>0.00</td><td>0.00</td><td>0.00</td><td>0.00</td></tr>\n",
              "\t<tr><td>2022-08-05 14:00:00</td><td>0.00</td><td>0.00</td><td> 0.00</td><td>0.00</td><td>0.00</td><td>0.00</td><td>0.00</td><td>0.00</td><td>0.00</td><td>0.00</td></tr>\n",
              "\t<tr><td>2022-08-05 20:00:00</td><td>0.00</td><td>0.00</td><td> 0.00</td><td>0.00</td><td>0.00</td><td>0.00</td><td>0.00</td><td>0.00</td><td>0.00</td><td>0.00</td></tr>\n",
              "\t<tr><td>2022-08-08 08:00:00</td><td>0.00</td><td>0.00</td><td> 0.00</td><td>0.00</td><td>0.00</td><td>0.00</td><td>0.00</td><td>0.00</td><td>0.00</td><td>0.00</td></tr>\n",
              "\t<tr><td>2022-08-08 14:00:00</td><td>0.00</td><td>0.00</td><td> 0.00</td><td>0.00</td><td>0.00</td><td>0.00</td><td>0.00</td><td>0.00</td><td>0.00</td><td>0.00</td></tr>\n",
              "\t<tr><td>2022-08-08 20:00:00</td><td>0.00</td><td>0.00</td><td> 0.00</td><td>0.00</td><td>0.00</td><td>0.00</td><td>0.00</td><td>0.00</td><td>0.00</td><td>0.00</td></tr>\n",
              "\t<tr><td>2022-08-09 08:00:00</td><td>0.00</td><td>0.00</td><td> 0.00</td><td>0.00</td><td>0.00</td><td>0.00</td><td>0.00</td><td>0.00</td><td>0.00</td><td>0.00</td></tr>\n",
              "\t<tr><td>2022-08-09 14:00:00</td><td>0.00</td><td>0.00</td><td> 0.00</td><td>0.00</td><td>0.00</td><td>0.00</td><td>0.00</td><td>0.00</td><td>0.00</td><td>0.00</td></tr>\n",
              "\t<tr><td>2022-08-09 20:00:00</td><td>0.00</td><td>0.00</td><td> 0.00</td><td>0.00</td><td>0.00</td><td>0.00</td><td>0.00</td><td>0.00</td><td>0.00</td><td>0.00</td></tr>\n",
              "\t<tr><td>2022-08-10 08:00:00</td><td>0.00</td><td>0.00</td><td> 0.00</td><td>0.00</td><td>0.00</td><td>0.00</td><td>0.00</td><td>0.00</td><td>0.00</td><td>0.00</td></tr>\n",
              "\t<tr><td>2022-08-10 14:00:00</td><td>0.00</td><td>0.00</td><td> 0.00</td><td>0.00</td><td>0.00</td><td>0.00</td><td>0.00</td><td>0.00</td><td>0.00</td><td>0.00</td></tr>\n",
              "\t<tr><td>2022-08-10 20:00:00</td><td>0.00</td><td>0.00</td><td> 0.00</td><td>0.00</td><td>0.00</td><td>0.00</td><td>0.00</td><td>0.00</td><td>0.00</td><td>0.00</td></tr>\n",
              "\t<tr><td>2022-08-11 08:00:00</td><td>0.00</td><td>0.00</td><td> 0.00</td><td>0.00</td><td>0.00</td><td>0.00</td><td>0.00</td><td>0.00</td><td>0.00</td><td>0.00</td></tr>\n",
              "\t<tr><td>2022-08-11 14:00:00</td><td>0.00</td><td>0.00</td><td> 0.00</td><td>0.00</td><td>0.00</td><td>0.00</td><td>0.00</td><td>0.00</td><td>0.00</td><td>0.00</td></tr>\n",
              "\t<tr><td>2022-08-11 20:00:00</td><td>0.00</td><td>0.00</td><td> 0.00</td><td>0.00</td><td>0.00</td><td>0.00</td><td>0.00</td><td>0.00</td><td>0.00</td><td>0.00</td></tr>\n",
              "\t<tr><td>2022-08-12 08:00:00</td><td>0.00</td><td>0.00</td><td> 0.00</td><td>0.00</td><td>0.00</td><td>0.00</td><td>0.00</td><td>0.00</td><td>0.00</td><td>0.00</td></tr>\n",
              "\t<tr><td>2022-08-12 14:00:00</td><td>0.00</td><td>0.00</td><td> 0.00</td><td>0.00</td><td>0.00</td><td>0.00</td><td>0.00</td><td>0.00</td><td>0.00</td><td>0.00</td></tr>\n",
              "\t<tr><td>2022-08-12 20:00:00</td><td>0.00</td><td>0.00</td><td> 0.00</td><td>0.00</td><td>0.00</td><td>0.00</td><td>0.00</td><td>0.00</td><td>0.00</td><td>0.00</td></tr>\n",
              "\t<tr><td>2022-08-15 08:00:00</td><td>0.00</td><td>0.00</td><td> 0.00</td><td>0.00</td><td>0.00</td><td>0.00</td><td>0.00</td><td>0.00</td><td>0.00</td><td>0.00</td></tr>\n",
              "\t<tr><td>2022-08-15 14:00:00</td><td>0.00</td><td>0.00</td><td> 0.00</td><td>0.00</td><td>0.00</td><td>0.00</td><td>0.00</td><td>0.00</td><td>0.00</td><td>0.00</td></tr>\n",
              "\t<tr><td>2022-08-15 20:00:00</td><td>0.00</td><td>0.00</td><td> 0.00</td><td>0.00</td><td>0.00</td><td>0.00</td><td>0.00</td><td>0.00</td><td>0.00</td><td>0.00</td></tr>\n",
              "\t<tr><td>2022-08-16 08:00:00</td><td>0.00</td><td>0.00</td><td> 0.00</td><td>0.00</td><td>0.00</td><td>0.00</td><td>0.00</td><td>0.00</td><td>0.00</td><td>0.00</td></tr>\n",
              "\t<tr><td>2022-08-16 14:00:00</td><td>0.00</td><td>0.00</td><td> 0.00</td><td>0.00</td><td>0.00</td><td>0.00</td><td>0.00</td><td>0.00</td><td>0.00</td><td>0.00</td></tr>\n",
              "\t<tr><td>2022-08-16 20:00:00</td><td>0.00</td><td>0.00</td><td> 0.00</td><td>0.00</td><td>0.00</td><td>0.00</td><td>0.00</td><td>0.00</td><td>0.00</td><td>0.00</td></tr>\n",
              "\t<tr><td>2022-08-17 08:00:00</td><td>0.00</td><td>0.00</td><td> 0.00</td><td>0.00</td><td>0.00</td><td>0.00</td><td>0.00</td><td>0.00</td><td>0.00</td><td>0.00</td></tr>\n",
              "\t<tr><td>2022-08-17 14:00:00</td><td>0.00</td><td>0.00</td><td> 0.00</td><td>0.00</td><td>0.00</td><td>0.00</td><td>0.00</td><td>0.00</td><td>0.00</td><td>0.00</td></tr>\n",
              "\t<tr><td>2022-08-17 20:00:00</td><td>0.00</td><td>0.00</td><td> 0.00</td><td>0.00</td><td>0.00</td><td>0.00</td><td>0.00</td><td>0.00</td><td>0.00</td><td>0.00</td></tr>\n",
              "\t<tr><td>2022-08-18 08:00:00</td><td>0.00</td><td>0.00</td><td> 0.00</td><td>0.00</td><td>0.00</td><td>0.00</td><td>0.00</td><td>0.00</td><td>0.00</td><td>0.00</td></tr>\n",
              "\t<tr><td>2022-08-18 14:00:00</td><td>0.00</td><td>0.00</td><td> 0.00</td><td>0.00</td><td>0.00</td><td>0.00</td><td>0.00</td><td>0.00</td><td>0.00</td><td>0.00</td></tr>\n",
              "\t<tr><td>2022-08-18 20:00:00</td><td>0.00</td><td>0.00</td><td> 0.00</td><td>0.00</td><td>0.00</td><td>0.00</td><td>0.00</td><td>0.00</td><td>0.00</td><td>0.00</td></tr>\n",
              "\t<tr><td>2022-08-19 08:00:00</td><td>0.00</td><td>0.00</td><td> 0.00</td><td>0.00</td><td>0.00</td><td>0.00</td><td>0.00</td><td>0.00</td><td>0.00</td><td>0.00</td></tr>\n",
              "\t<tr><td>2022-08-19 14:00:00</td><td>0.00</td><td>0.00</td><td> 0.00</td><td>0.00</td><td>0.00</td><td>0.00</td><td>0.00</td><td>0.00</td><td>0.00</td><td>0.00</td></tr>\n",
              "\t<tr><td>2022-08-19 20:00:00</td><td>0.00</td><td>0.00</td><td> 0.00</td><td>0.00</td><td>0.00</td><td>0.00</td><td>0.00</td><td>0.00</td><td>0.00</td><td>0.00</td></tr>\n",
              "\t<tr><td>2022-08-22 08:00:00</td><td>5.90</td><td>5.96</td><td> 6.01</td><td>3.77</td><td>0.63</td><td>4.31</td><td>1.25</td><td>2.74</td><td>2.25</td><td>6.42</td></tr>\n",
              "\t<tr><td>2022-08-22 14:00:00</td><td>5.95</td><td>7.16</td><td> 3.03</td><td>7.81</td><td>1.60</td><td>3.81</td><td>1.95</td><td>1.98</td><td>4.94</td><td>5.26</td></tr>\n",
              "\t<tr><td>2022-08-22 20:00:00</td><td>5.74</td><td>5.63</td><td> 5.40</td><td>4.67</td><td>1.93</td><td>3.94</td><td>1.63</td><td>1.62</td><td>2.48</td><td>4.91</td></tr>\n",
              "\t<tr><td>2022-08-23 08:00:00</td><td>5.31</td><td>6.60</td><td> 7.75</td><td>5.43</td><td>0.59</td><td>4.37</td><td>1.76</td><td>2.71</td><td>2.21</td><td>5.19</td></tr>\n",
              "\t<tr><td>2022-08-23 14:00:00</td><td>5.34</td><td>7.97</td><td> 2.95</td><td>9.55</td><td>1.49</td><td>3.98</td><td>2.45</td><td>1.95</td><td>5.19</td><td>4.35</td></tr>\n",
              "\t<tr><td>2022-08-23 20:00:00</td><td>5.32</td><td>6.25</td><td> 8.46</td><td>6.40</td><td>1.72</td><td>4.13</td><td>1.29</td><td>1.55</td><td>2.54</td><td>3.90</td></tr>\n",
              "\t<tr><td>2022-08-24 08:00:00</td><td>4.74</td><td>6.08</td><td> 6.07</td><td>5.00</td><td>0.72</td><td>4.24</td><td>3.16</td><td>2.71</td><td>3.34</td><td>4.56</td></tr>\n",
              "\t<tr><td>2022-08-24 14:00:00</td><td>4.79</td><td>7.53</td><td> 2.92</td><td>9.08</td><td>1.51</td><td>3.81</td><td>2.68</td><td>1.98</td><td>5.51</td><td>3.83</td></tr>\n",
              "\t<tr><td>2022-08-24 20:00:00</td><td>4.81</td><td>5.78</td><td> 6.71</td><td>5.59</td><td>1.67</td><td>3.93</td><td>1.79</td><td>1.56</td><td>3.18</td><td>3.53</td></tr>\n",
              "\t<tr><td>2022-08-25 08:00:00</td><td>3.82</td><td>6.18</td><td> 6.27</td><td>3.17</td><td>0.38</td><td>4.67</td><td>1.26</td><td>2.57</td><td>1.11</td><td>4.57</td></tr>\n",
              "\t<tr><td>2022-08-25 14:00:00</td><td>3.85</td><td>8.08</td><td> 2.47</td><td>7.17</td><td>1.22</td><td>4.29</td><td>1.99</td><td>1.80</td><td>3.83</td><td>4.06</td></tr>\n",
              "\t<tr><td>2022-08-25 20:00:00</td><td>3.95</td><td>6.35</td><td> 8.15</td><td>3.64</td><td>1.34</td><td>4.37</td><td>0.82</td><td>1.43</td><td>2.06</td><td>3.69</td></tr>\n",
              "\t<tr><td>2022-08-26 08:00:00</td><td>3.43</td><td>4.76</td><td> 8.81</td><td>3.31</td><td>0.24</td><td>4.79</td><td>1.36</td><td>2.64</td><td>1.39</td><td>3.69</td></tr>\n",
              "\t<tr><td>2022-08-26 14:00:00</td><td>3.39</td><td>6.74</td><td> 2.69</td><td>7.07</td><td>0.92</td><td>4.48</td><td>1.33</td><td>1.90</td><td>3.49</td><td>3.39</td></tr>\n",
              "\t<tr><td>2022-08-26 20:00:00</td><td>3.48</td><td>4.99</td><td>10.89</td><td>3.56</td><td>1.14</td><td>4.39</td><td>0.71</td><td>1.48</td><td>2.97</td><td>3.09</td></tr>\n",
              "</tbody>\n",
              "</table>\n"
            ],
            "text/markdown": "\nA data.frame: 60 × 11\n\n| dias &lt;dttm&gt; | predict &lt;dbl&gt; | predict.1 &lt;dbl&gt; | predict.2 &lt;dbl&gt; | predict.3 &lt;dbl&gt; | predict.4 &lt;dbl&gt; | predict.5 &lt;dbl&gt; | predict.6 &lt;dbl&gt; | predict.7 &lt;dbl&gt; | predict.8 &lt;dbl&gt; | predict.9 &lt;dbl&gt; |\n|---|---|---|---|---|---|---|---|---|---|---|\n| 2022-08-01 08:00:00 | 0.00 | 0.00 |  0.00 | 0.00 | 0.00 | 0.00 | 0.00 | 0.00 | 0.00 | 0.00 |\n| 2022-08-01 14:00:00 | 0.00 | 0.00 |  0.00 | 0.00 | 0.00 | 0.00 | 0.00 | 0.00 | 0.00 | 0.00 |\n| 2022-08-01 20:00:00 | 0.00 | 0.00 |  0.00 | 0.00 | 0.00 | 0.00 | 0.00 | 0.00 | 0.00 | 0.00 |\n| 2022-08-02 08:00:00 | 0.00 | 0.00 |  0.00 | 0.00 | 0.00 | 0.00 | 0.00 | 0.00 | 0.00 | 0.00 |\n| 2022-08-02 14:00:00 | 0.00 | 0.00 |  0.00 | 0.00 | 0.00 | 0.00 | 0.00 | 0.00 | 0.00 | 0.00 |\n| 2022-08-02 20:00:00 | 0.00 | 0.00 |  0.00 | 0.00 | 0.00 | 0.00 | 0.00 | 0.00 | 0.00 | 0.00 |\n| 2022-08-03 08:00:00 | 0.00 | 0.00 |  0.00 | 0.00 | 0.00 | 0.00 | 0.00 | 0.00 | 0.00 | 0.00 |\n| 2022-08-03 14:00:00 | 0.00 | 0.00 |  0.00 | 0.00 | 0.00 | 0.00 | 0.00 | 0.00 | 0.00 | 0.00 |\n| 2022-08-03 20:00:00 | 0.00 | 0.00 |  0.00 | 0.00 | 0.00 | 0.00 | 0.00 | 0.00 | 0.00 | 0.00 |\n| 2022-08-04 08:00:00 | 0.00 | 0.00 |  0.00 | 0.00 | 0.00 | 0.00 | 0.00 | 0.00 | 0.00 | 0.00 |\n| 2022-08-04 14:00:00 | 0.00 | 0.00 |  0.00 | 0.00 | 0.00 | 0.00 | 0.00 | 0.00 | 0.00 | 0.00 |\n| 2022-08-04 20:00:00 | 0.00 | 0.00 |  0.00 | 0.00 | 0.00 | 0.00 | 0.00 | 0.00 | 0.00 | 0.00 |\n| 2022-08-05 08:00:00 | 0.00 | 0.00 |  0.00 | 0.00 | 0.00 | 0.00 | 0.00 | 0.00 | 0.00 | 0.00 |\n| 2022-08-05 14:00:00 | 0.00 | 0.00 |  0.00 | 0.00 | 0.00 | 0.00 | 0.00 | 0.00 | 0.00 | 0.00 |\n| 2022-08-05 20:00:00 | 0.00 | 0.00 |  0.00 | 0.00 | 0.00 | 0.00 | 0.00 | 0.00 | 0.00 | 0.00 |\n| 2022-08-08 08:00:00 | 0.00 | 0.00 |  0.00 | 0.00 | 0.00 | 0.00 | 0.00 | 0.00 | 0.00 | 0.00 |\n| 2022-08-08 14:00:00 | 0.00 | 0.00 |  0.00 | 0.00 | 0.00 | 0.00 | 0.00 | 0.00 | 0.00 | 0.00 |\n| 2022-08-08 20:00:00 | 0.00 | 0.00 |  0.00 | 0.00 | 0.00 | 0.00 | 0.00 | 0.00 | 0.00 | 0.00 |\n| 2022-08-09 08:00:00 | 0.00 | 0.00 |  0.00 | 0.00 | 0.00 | 0.00 | 0.00 | 0.00 | 0.00 | 0.00 |\n| 2022-08-09 14:00:00 | 0.00 | 0.00 |  0.00 | 0.00 | 0.00 | 0.00 | 0.00 | 0.00 | 0.00 | 0.00 |\n| 2022-08-09 20:00:00 | 0.00 | 0.00 |  0.00 | 0.00 | 0.00 | 0.00 | 0.00 | 0.00 | 0.00 | 0.00 |\n| 2022-08-10 08:00:00 | 0.00 | 0.00 |  0.00 | 0.00 | 0.00 | 0.00 | 0.00 | 0.00 | 0.00 | 0.00 |\n| 2022-08-10 14:00:00 | 0.00 | 0.00 |  0.00 | 0.00 | 0.00 | 0.00 | 0.00 | 0.00 | 0.00 | 0.00 |\n| 2022-08-10 20:00:00 | 0.00 | 0.00 |  0.00 | 0.00 | 0.00 | 0.00 | 0.00 | 0.00 | 0.00 | 0.00 |\n| 2022-08-11 08:00:00 | 0.00 | 0.00 |  0.00 | 0.00 | 0.00 | 0.00 | 0.00 | 0.00 | 0.00 | 0.00 |\n| 2022-08-11 14:00:00 | 0.00 | 0.00 |  0.00 | 0.00 | 0.00 | 0.00 | 0.00 | 0.00 | 0.00 | 0.00 |\n| 2022-08-11 20:00:00 | 0.00 | 0.00 |  0.00 | 0.00 | 0.00 | 0.00 | 0.00 | 0.00 | 0.00 | 0.00 |\n| 2022-08-12 08:00:00 | 0.00 | 0.00 |  0.00 | 0.00 | 0.00 | 0.00 | 0.00 | 0.00 | 0.00 | 0.00 |\n| 2022-08-12 14:00:00 | 0.00 | 0.00 |  0.00 | 0.00 | 0.00 | 0.00 | 0.00 | 0.00 | 0.00 | 0.00 |\n| 2022-08-12 20:00:00 | 0.00 | 0.00 |  0.00 | 0.00 | 0.00 | 0.00 | 0.00 | 0.00 | 0.00 | 0.00 |\n| 2022-08-15 08:00:00 | 0.00 | 0.00 |  0.00 | 0.00 | 0.00 | 0.00 | 0.00 | 0.00 | 0.00 | 0.00 |\n| 2022-08-15 14:00:00 | 0.00 | 0.00 |  0.00 | 0.00 | 0.00 | 0.00 | 0.00 | 0.00 | 0.00 | 0.00 |\n| 2022-08-15 20:00:00 | 0.00 | 0.00 |  0.00 | 0.00 | 0.00 | 0.00 | 0.00 | 0.00 | 0.00 | 0.00 |\n| 2022-08-16 08:00:00 | 0.00 | 0.00 |  0.00 | 0.00 | 0.00 | 0.00 | 0.00 | 0.00 | 0.00 | 0.00 |\n| 2022-08-16 14:00:00 | 0.00 | 0.00 |  0.00 | 0.00 | 0.00 | 0.00 | 0.00 | 0.00 | 0.00 | 0.00 |\n| 2022-08-16 20:00:00 | 0.00 | 0.00 |  0.00 | 0.00 | 0.00 | 0.00 | 0.00 | 0.00 | 0.00 | 0.00 |\n| 2022-08-17 08:00:00 | 0.00 | 0.00 |  0.00 | 0.00 | 0.00 | 0.00 | 0.00 | 0.00 | 0.00 | 0.00 |\n| 2022-08-17 14:00:00 | 0.00 | 0.00 |  0.00 | 0.00 | 0.00 | 0.00 | 0.00 | 0.00 | 0.00 | 0.00 |\n| 2022-08-17 20:00:00 | 0.00 | 0.00 |  0.00 | 0.00 | 0.00 | 0.00 | 0.00 | 0.00 | 0.00 | 0.00 |\n| 2022-08-18 08:00:00 | 0.00 | 0.00 |  0.00 | 0.00 | 0.00 | 0.00 | 0.00 | 0.00 | 0.00 | 0.00 |\n| 2022-08-18 14:00:00 | 0.00 | 0.00 |  0.00 | 0.00 | 0.00 | 0.00 | 0.00 | 0.00 | 0.00 | 0.00 |\n| 2022-08-18 20:00:00 | 0.00 | 0.00 |  0.00 | 0.00 | 0.00 | 0.00 | 0.00 | 0.00 | 0.00 | 0.00 |\n| 2022-08-19 08:00:00 | 0.00 | 0.00 |  0.00 | 0.00 | 0.00 | 0.00 | 0.00 | 0.00 | 0.00 | 0.00 |\n| 2022-08-19 14:00:00 | 0.00 | 0.00 |  0.00 | 0.00 | 0.00 | 0.00 | 0.00 | 0.00 | 0.00 | 0.00 |\n| 2022-08-19 20:00:00 | 0.00 | 0.00 |  0.00 | 0.00 | 0.00 | 0.00 | 0.00 | 0.00 | 0.00 | 0.00 |\n| 2022-08-22 08:00:00 | 5.90 | 5.96 |  6.01 | 3.77 | 0.63 | 4.31 | 1.25 | 2.74 | 2.25 | 6.42 |\n| 2022-08-22 14:00:00 | 5.95 | 7.16 |  3.03 | 7.81 | 1.60 | 3.81 | 1.95 | 1.98 | 4.94 | 5.26 |\n| 2022-08-22 20:00:00 | 5.74 | 5.63 |  5.40 | 4.67 | 1.93 | 3.94 | 1.63 | 1.62 | 2.48 | 4.91 |\n| 2022-08-23 08:00:00 | 5.31 | 6.60 |  7.75 | 5.43 | 0.59 | 4.37 | 1.76 | 2.71 | 2.21 | 5.19 |\n| 2022-08-23 14:00:00 | 5.34 | 7.97 |  2.95 | 9.55 | 1.49 | 3.98 | 2.45 | 1.95 | 5.19 | 4.35 |\n| 2022-08-23 20:00:00 | 5.32 | 6.25 |  8.46 | 6.40 | 1.72 | 4.13 | 1.29 | 1.55 | 2.54 | 3.90 |\n| 2022-08-24 08:00:00 | 4.74 | 6.08 |  6.07 | 5.00 | 0.72 | 4.24 | 3.16 | 2.71 | 3.34 | 4.56 |\n| 2022-08-24 14:00:00 | 4.79 | 7.53 |  2.92 | 9.08 | 1.51 | 3.81 | 2.68 | 1.98 | 5.51 | 3.83 |\n| 2022-08-24 20:00:00 | 4.81 | 5.78 |  6.71 | 5.59 | 1.67 | 3.93 | 1.79 | 1.56 | 3.18 | 3.53 |\n| 2022-08-25 08:00:00 | 3.82 | 6.18 |  6.27 | 3.17 | 0.38 | 4.67 | 1.26 | 2.57 | 1.11 | 4.57 |\n| 2022-08-25 14:00:00 | 3.85 | 8.08 |  2.47 | 7.17 | 1.22 | 4.29 | 1.99 | 1.80 | 3.83 | 4.06 |\n| 2022-08-25 20:00:00 | 3.95 | 6.35 |  8.15 | 3.64 | 1.34 | 4.37 | 0.82 | 1.43 | 2.06 | 3.69 |\n| 2022-08-26 08:00:00 | 3.43 | 4.76 |  8.81 | 3.31 | 0.24 | 4.79 | 1.36 | 2.64 | 1.39 | 3.69 |\n| 2022-08-26 14:00:00 | 3.39 | 6.74 |  2.69 | 7.07 | 0.92 | 4.48 | 1.33 | 1.90 | 3.49 | 3.39 |\n| 2022-08-26 20:00:00 | 3.48 | 4.99 | 10.89 | 3.56 | 1.14 | 4.39 | 0.71 | 1.48 | 2.97 | 3.09 |\n\n",
            "text/latex": "A data.frame: 60 × 11\n\\begin{tabular}{lllllllllll}\n dias & predict & predict.1 & predict.2 & predict.3 & predict.4 & predict.5 & predict.6 & predict.7 & predict.8 & predict.9\\\\\n <dttm> & <dbl> & <dbl> & <dbl> & <dbl> & <dbl> & <dbl> & <dbl> & <dbl> & <dbl> & <dbl>\\\\\n\\hline\n\t 2022-08-01 08:00:00 & 0.00 & 0.00 &  0.00 & 0.00 & 0.00 & 0.00 & 0.00 & 0.00 & 0.00 & 0.00\\\\\n\t 2022-08-01 14:00:00 & 0.00 & 0.00 &  0.00 & 0.00 & 0.00 & 0.00 & 0.00 & 0.00 & 0.00 & 0.00\\\\\n\t 2022-08-01 20:00:00 & 0.00 & 0.00 &  0.00 & 0.00 & 0.00 & 0.00 & 0.00 & 0.00 & 0.00 & 0.00\\\\\n\t 2022-08-02 08:00:00 & 0.00 & 0.00 &  0.00 & 0.00 & 0.00 & 0.00 & 0.00 & 0.00 & 0.00 & 0.00\\\\\n\t 2022-08-02 14:00:00 & 0.00 & 0.00 &  0.00 & 0.00 & 0.00 & 0.00 & 0.00 & 0.00 & 0.00 & 0.00\\\\\n\t 2022-08-02 20:00:00 & 0.00 & 0.00 &  0.00 & 0.00 & 0.00 & 0.00 & 0.00 & 0.00 & 0.00 & 0.00\\\\\n\t 2022-08-03 08:00:00 & 0.00 & 0.00 &  0.00 & 0.00 & 0.00 & 0.00 & 0.00 & 0.00 & 0.00 & 0.00\\\\\n\t 2022-08-03 14:00:00 & 0.00 & 0.00 &  0.00 & 0.00 & 0.00 & 0.00 & 0.00 & 0.00 & 0.00 & 0.00\\\\\n\t 2022-08-03 20:00:00 & 0.00 & 0.00 &  0.00 & 0.00 & 0.00 & 0.00 & 0.00 & 0.00 & 0.00 & 0.00\\\\\n\t 2022-08-04 08:00:00 & 0.00 & 0.00 &  0.00 & 0.00 & 0.00 & 0.00 & 0.00 & 0.00 & 0.00 & 0.00\\\\\n\t 2022-08-04 14:00:00 & 0.00 & 0.00 &  0.00 & 0.00 & 0.00 & 0.00 & 0.00 & 0.00 & 0.00 & 0.00\\\\\n\t 2022-08-04 20:00:00 & 0.00 & 0.00 &  0.00 & 0.00 & 0.00 & 0.00 & 0.00 & 0.00 & 0.00 & 0.00\\\\\n\t 2022-08-05 08:00:00 & 0.00 & 0.00 &  0.00 & 0.00 & 0.00 & 0.00 & 0.00 & 0.00 & 0.00 & 0.00\\\\\n\t 2022-08-05 14:00:00 & 0.00 & 0.00 &  0.00 & 0.00 & 0.00 & 0.00 & 0.00 & 0.00 & 0.00 & 0.00\\\\\n\t 2022-08-05 20:00:00 & 0.00 & 0.00 &  0.00 & 0.00 & 0.00 & 0.00 & 0.00 & 0.00 & 0.00 & 0.00\\\\\n\t 2022-08-08 08:00:00 & 0.00 & 0.00 &  0.00 & 0.00 & 0.00 & 0.00 & 0.00 & 0.00 & 0.00 & 0.00\\\\\n\t 2022-08-08 14:00:00 & 0.00 & 0.00 &  0.00 & 0.00 & 0.00 & 0.00 & 0.00 & 0.00 & 0.00 & 0.00\\\\\n\t 2022-08-08 20:00:00 & 0.00 & 0.00 &  0.00 & 0.00 & 0.00 & 0.00 & 0.00 & 0.00 & 0.00 & 0.00\\\\\n\t 2022-08-09 08:00:00 & 0.00 & 0.00 &  0.00 & 0.00 & 0.00 & 0.00 & 0.00 & 0.00 & 0.00 & 0.00\\\\\n\t 2022-08-09 14:00:00 & 0.00 & 0.00 &  0.00 & 0.00 & 0.00 & 0.00 & 0.00 & 0.00 & 0.00 & 0.00\\\\\n\t 2022-08-09 20:00:00 & 0.00 & 0.00 &  0.00 & 0.00 & 0.00 & 0.00 & 0.00 & 0.00 & 0.00 & 0.00\\\\\n\t 2022-08-10 08:00:00 & 0.00 & 0.00 &  0.00 & 0.00 & 0.00 & 0.00 & 0.00 & 0.00 & 0.00 & 0.00\\\\\n\t 2022-08-10 14:00:00 & 0.00 & 0.00 &  0.00 & 0.00 & 0.00 & 0.00 & 0.00 & 0.00 & 0.00 & 0.00\\\\\n\t 2022-08-10 20:00:00 & 0.00 & 0.00 &  0.00 & 0.00 & 0.00 & 0.00 & 0.00 & 0.00 & 0.00 & 0.00\\\\\n\t 2022-08-11 08:00:00 & 0.00 & 0.00 &  0.00 & 0.00 & 0.00 & 0.00 & 0.00 & 0.00 & 0.00 & 0.00\\\\\n\t 2022-08-11 14:00:00 & 0.00 & 0.00 &  0.00 & 0.00 & 0.00 & 0.00 & 0.00 & 0.00 & 0.00 & 0.00\\\\\n\t 2022-08-11 20:00:00 & 0.00 & 0.00 &  0.00 & 0.00 & 0.00 & 0.00 & 0.00 & 0.00 & 0.00 & 0.00\\\\\n\t 2022-08-12 08:00:00 & 0.00 & 0.00 &  0.00 & 0.00 & 0.00 & 0.00 & 0.00 & 0.00 & 0.00 & 0.00\\\\\n\t 2022-08-12 14:00:00 & 0.00 & 0.00 &  0.00 & 0.00 & 0.00 & 0.00 & 0.00 & 0.00 & 0.00 & 0.00\\\\\n\t 2022-08-12 20:00:00 & 0.00 & 0.00 &  0.00 & 0.00 & 0.00 & 0.00 & 0.00 & 0.00 & 0.00 & 0.00\\\\\n\t 2022-08-15 08:00:00 & 0.00 & 0.00 &  0.00 & 0.00 & 0.00 & 0.00 & 0.00 & 0.00 & 0.00 & 0.00\\\\\n\t 2022-08-15 14:00:00 & 0.00 & 0.00 &  0.00 & 0.00 & 0.00 & 0.00 & 0.00 & 0.00 & 0.00 & 0.00\\\\\n\t 2022-08-15 20:00:00 & 0.00 & 0.00 &  0.00 & 0.00 & 0.00 & 0.00 & 0.00 & 0.00 & 0.00 & 0.00\\\\\n\t 2022-08-16 08:00:00 & 0.00 & 0.00 &  0.00 & 0.00 & 0.00 & 0.00 & 0.00 & 0.00 & 0.00 & 0.00\\\\\n\t 2022-08-16 14:00:00 & 0.00 & 0.00 &  0.00 & 0.00 & 0.00 & 0.00 & 0.00 & 0.00 & 0.00 & 0.00\\\\\n\t 2022-08-16 20:00:00 & 0.00 & 0.00 &  0.00 & 0.00 & 0.00 & 0.00 & 0.00 & 0.00 & 0.00 & 0.00\\\\\n\t 2022-08-17 08:00:00 & 0.00 & 0.00 &  0.00 & 0.00 & 0.00 & 0.00 & 0.00 & 0.00 & 0.00 & 0.00\\\\\n\t 2022-08-17 14:00:00 & 0.00 & 0.00 &  0.00 & 0.00 & 0.00 & 0.00 & 0.00 & 0.00 & 0.00 & 0.00\\\\\n\t 2022-08-17 20:00:00 & 0.00 & 0.00 &  0.00 & 0.00 & 0.00 & 0.00 & 0.00 & 0.00 & 0.00 & 0.00\\\\\n\t 2022-08-18 08:00:00 & 0.00 & 0.00 &  0.00 & 0.00 & 0.00 & 0.00 & 0.00 & 0.00 & 0.00 & 0.00\\\\\n\t 2022-08-18 14:00:00 & 0.00 & 0.00 &  0.00 & 0.00 & 0.00 & 0.00 & 0.00 & 0.00 & 0.00 & 0.00\\\\\n\t 2022-08-18 20:00:00 & 0.00 & 0.00 &  0.00 & 0.00 & 0.00 & 0.00 & 0.00 & 0.00 & 0.00 & 0.00\\\\\n\t 2022-08-19 08:00:00 & 0.00 & 0.00 &  0.00 & 0.00 & 0.00 & 0.00 & 0.00 & 0.00 & 0.00 & 0.00\\\\\n\t 2022-08-19 14:00:00 & 0.00 & 0.00 &  0.00 & 0.00 & 0.00 & 0.00 & 0.00 & 0.00 & 0.00 & 0.00\\\\\n\t 2022-08-19 20:00:00 & 0.00 & 0.00 &  0.00 & 0.00 & 0.00 & 0.00 & 0.00 & 0.00 & 0.00 & 0.00\\\\\n\t 2022-08-22 08:00:00 & 5.90 & 5.96 &  6.01 & 3.77 & 0.63 & 4.31 & 1.25 & 2.74 & 2.25 & 6.42\\\\\n\t 2022-08-22 14:00:00 & 5.95 & 7.16 &  3.03 & 7.81 & 1.60 & 3.81 & 1.95 & 1.98 & 4.94 & 5.26\\\\\n\t 2022-08-22 20:00:00 & 5.74 & 5.63 &  5.40 & 4.67 & 1.93 & 3.94 & 1.63 & 1.62 & 2.48 & 4.91\\\\\n\t 2022-08-23 08:00:00 & 5.31 & 6.60 &  7.75 & 5.43 & 0.59 & 4.37 & 1.76 & 2.71 & 2.21 & 5.19\\\\\n\t 2022-08-23 14:00:00 & 5.34 & 7.97 &  2.95 & 9.55 & 1.49 & 3.98 & 2.45 & 1.95 & 5.19 & 4.35\\\\\n\t 2022-08-23 20:00:00 & 5.32 & 6.25 &  8.46 & 6.40 & 1.72 & 4.13 & 1.29 & 1.55 & 2.54 & 3.90\\\\\n\t 2022-08-24 08:00:00 & 4.74 & 6.08 &  6.07 & 5.00 & 0.72 & 4.24 & 3.16 & 2.71 & 3.34 & 4.56\\\\\n\t 2022-08-24 14:00:00 & 4.79 & 7.53 &  2.92 & 9.08 & 1.51 & 3.81 & 2.68 & 1.98 & 5.51 & 3.83\\\\\n\t 2022-08-24 20:00:00 & 4.81 & 5.78 &  6.71 & 5.59 & 1.67 & 3.93 & 1.79 & 1.56 & 3.18 & 3.53\\\\\n\t 2022-08-25 08:00:00 & 3.82 & 6.18 &  6.27 & 3.17 & 0.38 & 4.67 & 1.26 & 2.57 & 1.11 & 4.57\\\\\n\t 2022-08-25 14:00:00 & 3.85 & 8.08 &  2.47 & 7.17 & 1.22 & 4.29 & 1.99 & 1.80 & 3.83 & 4.06\\\\\n\t 2022-08-25 20:00:00 & 3.95 & 6.35 &  8.15 & 3.64 & 1.34 & 4.37 & 0.82 & 1.43 & 2.06 & 3.69\\\\\n\t 2022-08-26 08:00:00 & 3.43 & 4.76 &  8.81 & 3.31 & 0.24 & 4.79 & 1.36 & 2.64 & 1.39 & 3.69\\\\\n\t 2022-08-26 14:00:00 & 3.39 & 6.74 &  2.69 & 7.07 & 0.92 & 4.48 & 1.33 & 1.90 & 3.49 & 3.39\\\\\n\t 2022-08-26 20:00:00 & 3.48 & 4.99 & 10.89 & 3.56 & 1.14 & 4.39 & 0.71 & 1.48 & 2.97 & 3.09\\\\\n\\end{tabular}\n",
            "text/plain": [
              "   dias                predict predict.1 predict.2 predict.3 predict.4\n",
              "1  2022-08-01 08:00:00 0.00    0.00       0.00     0.00      0.00     \n",
              "2  2022-08-01 14:00:00 0.00    0.00       0.00     0.00      0.00     \n",
              "3  2022-08-01 20:00:00 0.00    0.00       0.00     0.00      0.00     \n",
              "4  2022-08-02 08:00:00 0.00    0.00       0.00     0.00      0.00     \n",
              "5  2022-08-02 14:00:00 0.00    0.00       0.00     0.00      0.00     \n",
              "6  2022-08-02 20:00:00 0.00    0.00       0.00     0.00      0.00     \n",
              "7  2022-08-03 08:00:00 0.00    0.00       0.00     0.00      0.00     \n",
              "8  2022-08-03 14:00:00 0.00    0.00       0.00     0.00      0.00     \n",
              "9  2022-08-03 20:00:00 0.00    0.00       0.00     0.00      0.00     \n",
              "10 2022-08-04 08:00:00 0.00    0.00       0.00     0.00      0.00     \n",
              "11 2022-08-04 14:00:00 0.00    0.00       0.00     0.00      0.00     \n",
              "12 2022-08-04 20:00:00 0.00    0.00       0.00     0.00      0.00     \n",
              "13 2022-08-05 08:00:00 0.00    0.00       0.00     0.00      0.00     \n",
              "14 2022-08-05 14:00:00 0.00    0.00       0.00     0.00      0.00     \n",
              "15 2022-08-05 20:00:00 0.00    0.00       0.00     0.00      0.00     \n",
              "16 2022-08-08 08:00:00 0.00    0.00       0.00     0.00      0.00     \n",
              "17 2022-08-08 14:00:00 0.00    0.00       0.00     0.00      0.00     \n",
              "18 2022-08-08 20:00:00 0.00    0.00       0.00     0.00      0.00     \n",
              "19 2022-08-09 08:00:00 0.00    0.00       0.00     0.00      0.00     \n",
              "20 2022-08-09 14:00:00 0.00    0.00       0.00     0.00      0.00     \n",
              "21 2022-08-09 20:00:00 0.00    0.00       0.00     0.00      0.00     \n",
              "22 2022-08-10 08:00:00 0.00    0.00       0.00     0.00      0.00     \n",
              "23 2022-08-10 14:00:00 0.00    0.00       0.00     0.00      0.00     \n",
              "24 2022-08-10 20:00:00 0.00    0.00       0.00     0.00      0.00     \n",
              "25 2022-08-11 08:00:00 0.00    0.00       0.00     0.00      0.00     \n",
              "26 2022-08-11 14:00:00 0.00    0.00       0.00     0.00      0.00     \n",
              "27 2022-08-11 20:00:00 0.00    0.00       0.00     0.00      0.00     \n",
              "28 2022-08-12 08:00:00 0.00    0.00       0.00     0.00      0.00     \n",
              "29 2022-08-12 14:00:00 0.00    0.00       0.00     0.00      0.00     \n",
              "30 2022-08-12 20:00:00 0.00    0.00       0.00     0.00      0.00     \n",
              "31 2022-08-15 08:00:00 0.00    0.00       0.00     0.00      0.00     \n",
              "32 2022-08-15 14:00:00 0.00    0.00       0.00     0.00      0.00     \n",
              "33 2022-08-15 20:00:00 0.00    0.00       0.00     0.00      0.00     \n",
              "34 2022-08-16 08:00:00 0.00    0.00       0.00     0.00      0.00     \n",
              "35 2022-08-16 14:00:00 0.00    0.00       0.00     0.00      0.00     \n",
              "36 2022-08-16 20:00:00 0.00    0.00       0.00     0.00      0.00     \n",
              "37 2022-08-17 08:00:00 0.00    0.00       0.00     0.00      0.00     \n",
              "38 2022-08-17 14:00:00 0.00    0.00       0.00     0.00      0.00     \n",
              "39 2022-08-17 20:00:00 0.00    0.00       0.00     0.00      0.00     \n",
              "40 2022-08-18 08:00:00 0.00    0.00       0.00     0.00      0.00     \n",
              "41 2022-08-18 14:00:00 0.00    0.00       0.00     0.00      0.00     \n",
              "42 2022-08-18 20:00:00 0.00    0.00       0.00     0.00      0.00     \n",
              "43 2022-08-19 08:00:00 0.00    0.00       0.00     0.00      0.00     \n",
              "44 2022-08-19 14:00:00 0.00    0.00       0.00     0.00      0.00     \n",
              "45 2022-08-19 20:00:00 0.00    0.00       0.00     0.00      0.00     \n",
              "46 2022-08-22 08:00:00 5.90    5.96       6.01     3.77      0.63     \n",
              "47 2022-08-22 14:00:00 5.95    7.16       3.03     7.81      1.60     \n",
              "48 2022-08-22 20:00:00 5.74    5.63       5.40     4.67      1.93     \n",
              "49 2022-08-23 08:00:00 5.31    6.60       7.75     5.43      0.59     \n",
              "50 2022-08-23 14:00:00 5.34    7.97       2.95     9.55      1.49     \n",
              "51 2022-08-23 20:00:00 5.32    6.25       8.46     6.40      1.72     \n",
              "52 2022-08-24 08:00:00 4.74    6.08       6.07     5.00      0.72     \n",
              "53 2022-08-24 14:00:00 4.79    7.53       2.92     9.08      1.51     \n",
              "54 2022-08-24 20:00:00 4.81    5.78       6.71     5.59      1.67     \n",
              "55 2022-08-25 08:00:00 3.82    6.18       6.27     3.17      0.38     \n",
              "56 2022-08-25 14:00:00 3.85    8.08       2.47     7.17      1.22     \n",
              "57 2022-08-25 20:00:00 3.95    6.35       8.15     3.64      1.34     \n",
              "58 2022-08-26 08:00:00 3.43    4.76       8.81     3.31      0.24     \n",
              "59 2022-08-26 14:00:00 3.39    6.74       2.69     7.07      0.92     \n",
              "60 2022-08-26 20:00:00 3.48    4.99      10.89     3.56      1.14     \n",
              "   predict.5 predict.6 predict.7 predict.8 predict.9\n",
              "1  0.00      0.00      0.00      0.00      0.00     \n",
              "2  0.00      0.00      0.00      0.00      0.00     \n",
              "3  0.00      0.00      0.00      0.00      0.00     \n",
              "4  0.00      0.00      0.00      0.00      0.00     \n",
              "5  0.00      0.00      0.00      0.00      0.00     \n",
              "6  0.00      0.00      0.00      0.00      0.00     \n",
              "7  0.00      0.00      0.00      0.00      0.00     \n",
              "8  0.00      0.00      0.00      0.00      0.00     \n",
              "9  0.00      0.00      0.00      0.00      0.00     \n",
              "10 0.00      0.00      0.00      0.00      0.00     \n",
              "11 0.00      0.00      0.00      0.00      0.00     \n",
              "12 0.00      0.00      0.00      0.00      0.00     \n",
              "13 0.00      0.00      0.00      0.00      0.00     \n",
              "14 0.00      0.00      0.00      0.00      0.00     \n",
              "15 0.00      0.00      0.00      0.00      0.00     \n",
              "16 0.00      0.00      0.00      0.00      0.00     \n",
              "17 0.00      0.00      0.00      0.00      0.00     \n",
              "18 0.00      0.00      0.00      0.00      0.00     \n",
              "19 0.00      0.00      0.00      0.00      0.00     \n",
              "20 0.00      0.00      0.00      0.00      0.00     \n",
              "21 0.00      0.00      0.00      0.00      0.00     \n",
              "22 0.00      0.00      0.00      0.00      0.00     \n",
              "23 0.00      0.00      0.00      0.00      0.00     \n",
              "24 0.00      0.00      0.00      0.00      0.00     \n",
              "25 0.00      0.00      0.00      0.00      0.00     \n",
              "26 0.00      0.00      0.00      0.00      0.00     \n",
              "27 0.00      0.00      0.00      0.00      0.00     \n",
              "28 0.00      0.00      0.00      0.00      0.00     \n",
              "29 0.00      0.00      0.00      0.00      0.00     \n",
              "30 0.00      0.00      0.00      0.00      0.00     \n",
              "31 0.00      0.00      0.00      0.00      0.00     \n",
              "32 0.00      0.00      0.00      0.00      0.00     \n",
              "33 0.00      0.00      0.00      0.00      0.00     \n",
              "34 0.00      0.00      0.00      0.00      0.00     \n",
              "35 0.00      0.00      0.00      0.00      0.00     \n",
              "36 0.00      0.00      0.00      0.00      0.00     \n",
              "37 0.00      0.00      0.00      0.00      0.00     \n",
              "38 0.00      0.00      0.00      0.00      0.00     \n",
              "39 0.00      0.00      0.00      0.00      0.00     \n",
              "40 0.00      0.00      0.00      0.00      0.00     \n",
              "41 0.00      0.00      0.00      0.00      0.00     \n",
              "42 0.00      0.00      0.00      0.00      0.00     \n",
              "43 0.00      0.00      0.00      0.00      0.00     \n",
              "44 0.00      0.00      0.00      0.00      0.00     \n",
              "45 0.00      0.00      0.00      0.00      0.00     \n",
              "46 4.31      1.25      2.74      2.25      6.42     \n",
              "47 3.81      1.95      1.98      4.94      5.26     \n",
              "48 3.94      1.63      1.62      2.48      4.91     \n",
              "49 4.37      1.76      2.71      2.21      5.19     \n",
              "50 3.98      2.45      1.95      5.19      4.35     \n",
              "51 4.13      1.29      1.55      2.54      3.90     \n",
              "52 4.24      3.16      2.71      3.34      4.56     \n",
              "53 3.81      2.68      1.98      5.51      3.83     \n",
              "54 3.93      1.79      1.56      3.18      3.53     \n",
              "55 4.67      1.26      2.57      1.11      4.57     \n",
              "56 4.29      1.99      1.80      3.83      4.06     \n",
              "57 4.37      0.82      1.43      2.06      3.69     \n",
              "58 4.79      1.36      2.64      1.39      3.69     \n",
              "59 4.48      1.33      1.90      3.49      3.39     \n",
              "60 4.39      0.71      1.48      2.97      3.09     "
            ]
          },
          "metadata": {}
        }
      ]
    },
    {
      "cell_type": "markdown",
      "source": [
        "Exporte a Excel"
      ],
      "metadata": {
        "id": "rR1ECSjg4aec"
      }
    },
    {
      "cell_type": "code",
      "source": [
        "install.packages(\"xlsx\")\n",
        "library(xlsx)\n",
        "write.xlsx(data_train_GBM,\"data_train_GBM.xlsx\")\n",
        "write.xlsx(data_train_RN,\"data_train_RN.xlsx\")"
      ],
      "metadata": {
        "colab": {
          "base_uri": "https://localhost:8080/"
        },
        "id": "B-U5uT944dYu",
        "outputId": "67a75cf0-7274-452f-c2d1-abd7bbaa9926"
      },
      "execution_count": null,
      "outputs": [
        {
          "output_type": "stream",
          "name": "stderr",
          "text": [
            "Installing package into ‘/usr/local/lib/R/site-library’\n",
            "(as ‘lib’ is unspecified)\n",
            "\n"
          ]
        }
      ]
    }
  ]
}